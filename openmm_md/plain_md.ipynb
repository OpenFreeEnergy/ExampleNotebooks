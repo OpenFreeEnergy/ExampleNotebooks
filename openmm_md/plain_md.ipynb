{
 "cells": [
  {
   "cell_type": "markdown",
   "id": "088a1bc4-e5f3-47ac-8ebf-1a904fa82f80",
   "metadata": {
    "editable": true,
    "nbsphinx": "hidden",
    "slideshow": {
     "slide_type": ""
    },
    "tags": []
   },
   "source": [
    "# Running a Molecular Dynamics (MD) simulation of a protein-ligand complex"
   ]
  },
  {
   "cell_type": "markdown",
   "id": "7266db2c-37e5-419a-9015-929ea1635d98",
   "metadata": {},
   "source": [
    "In this notebook we run an MD simulation of benzene bound to T4-lysozyme L99A."
   ]
  },
  {
   "cell_type": "markdown",
   "id": "00d9ca69-1b38-4cf8-9c93-1fc4c08dae15",
   "metadata": {
    "editable": true,
    "nbsphinx": "hidden",
    "slideshow": {
     "slide_type": ""
    },
    "tags": []
   },
   "source": [
    "## On the MD protocol"
   ]
  },
  {
   "cell_type": "markdown",
   "id": "8bc61b88-0c8d-4b89-b704-8ac4ade19c6c",
   "metadata": {
    "editable": true,
    "raw_mimetype": "",
    "slideshow": {
     "slide_type": ""
    },
    "tags": []
   },
   "source": [
    " The plain MD protocol allows the user to run an MD simulation either in solvent or vacuum of e.g. a small molecule, a protein, or a protein-ligand complex."
   ]
  },
  {
   "cell_type": "markdown",
   "id": "0eb8203a-650f-4703-b032-dbafb605061b",
   "metadata": {},
   "source": [
    "## 1. Defining the ChemicalSystem"
   ]
  },
  {
   "cell_type": "markdown",
   "id": "7c477c87-a099-4e4e-9231-fa5edf9f15f4",
   "metadata": {},
   "source": [
    "`ChemicalSystems` are OpenFE containers which define the various components which exist in a system of interest. \n",
    "Here, we will be passing the `SmallMoleculeComponent` for benzene, a `ProteinComponent` generated from a PDB file, and a `SolventComponent` which will contain the necessary information for OpenMM’s Modeller class to add water and 0.15 M NaCl around the solute when creating the OpenMM simulation objects."
   ]
  },
  {
   "cell_type": "code",
   "execution_count": 1,
   "id": "20fc8142-c618-4d50-b903-5a04f6a34d5c",
   "metadata": {},
   "outputs": [],
   "source": [
    "import openfe\n",
    "from openfe import ChemicalSystem, ProteinComponent, SmallMoleculeComponent, SolventComponent\n",
    "from openff.units import unit\n",
    "\n",
    "# Define the ligand we are interested in\n",
    "ligand = SmallMoleculeComponent.from_sdf_file('assets/benzene.sdf')\n",
    "\n",
    "# Define the solvent environment and protein structure\n",
    "solvent = SolventComponent(ion_concentration=0.15 * unit.molar)\n",
    "protein = ProteinComponent.from_pdb_file('assets/t4_lysozyme.pdb', name='t4-lysozyme')\n",
    "\n",
    "# create the ChemicalSystem\n",
    "system = ChemicalSystem({'ligand': ligand, 'protein': protein, 'solvent': solvent}, name=f\"{ligand.name}_{protein.name}\")"
   ]
  },
  {
   "cell_type": "markdown",
   "id": "e936355a-8184-4c7c-8f21-019d60845037",
   "metadata": {},
   "source": [
    "## 2. Defining the MD simulation settings"
   ]
  },
  {
   "cell_type": "markdown",
   "id": "bf282c12-b9c2-42c5-895d-e17a2eaf99af",
   "metadata": {},
   "source": [
    "There are various different parameters which can be set to determine how the MD simulation will take place. To allow for maximum user flexibility, these are defined as a series of settings objects which control the following:\n",
    "\n",
    "1. `simulation_settings`: Parameters controlling the simulation plan, including the number of minimization steps, the length of the NVT and NPT equilibration, and the length of the production MD run.\n",
    "3. `output_settings`: Parameters controlling the output from the MD simulations, including file names to save the system after minimization, NVT and NPT equilibration, and production run. Special output indices can be defined if not the entire system with all atoms should be saved (e.g. `not water`). A trajectory write interval determines the frequency of writing frames to the output trajectory.\n",
    "4. `forcefield_settings`: Settings that define the forcefield for the components, including the general forcefields, the small molecule forcefield, the nonbonded method, and the nonbonded cutoff.\n",
    "5. `engine_settings`: Parameters determining how the OpenMM engine will execute the simulation. This controls the compute platform which will be used to carry out the simulation.\n",
    "6. `integrator_settings`: Parameters controlling the LangevinSplittingDynamicsMove integrator used for simulation, as well as the barostat frequency.\n",
    "7. `partial_charge_settings`: Settings that define which method is used for assigning partial charges.\n",
    "8. `protocol_repeats`: Defines how often to run the MD protocol.\n",
    "9. `solvation_settings`: Parameters to control the solvent model and the solvent padding.\n",
    "10. `thermo_settings`: Parameters to control e.g. the temperature and the pressure of the system.\n",
    "\n",
    "The easiest way to access and change settings is by first importing the default settings, printing them and then changing the settings according to the user's needs."
   ]
  },
  {
   "cell_type": "code",
   "execution_count": 2,
   "id": "b27e54cc-fd6a-4afc-ab22-4dde0561938c",
   "metadata": {},
   "outputs": [
    {
     "name": "stdout",
     "output_type": "stream",
     "text": [
      "{'engine_settings': {'compute_platform': 'CPU'},\n",
      " 'forcefield_settings': {'constraints': 'hbonds',\n",
      "                         'forcefields': ['amber/ff14SB.xml',\n",
      "                                         'amber/tip3p_standard.xml',\n",
      "                                         'amber/tip3p_HFE_multivalent.xml',\n",
      "                                         'amber/phosaa10.xml'],\n",
      "                         'hydrogen_mass': 3.0,\n",
      "                         'nonbonded_cutoff': <Quantity(1.0, 'nanometer')>,\n",
      "                         'nonbonded_method': 'PME',\n",
      "                         'rigid_water': True,\n",
      "                         'small_molecule_forcefield': 'openff-2.0.0'},\n",
      " 'integrator_settings': {'barostat_frequency': <Quantity(25, 'timestep')>,\n",
      "                         'constraint_tolerance': 1e-06,\n",
      "                         'langevin_collision_rate': <Quantity(1.0, '1 / picosecond')>,\n",
      "                         'n_restart_attempts': 20,\n",
      "                         'reassign_velocities': False,\n",
      "                         'remove_com': False,\n",
      "                         'timestep': <Quantity(4, 'femtosecond')>},\n",
      " 'output_settings': {'checkpoint_interval': <Quantity(1, 'picosecond')>,\n",
      "                     'checkpoint_storage_filename': 'checkpoint.chk',\n",
      "                     'equil_npt_structure': 'equil_npt.pdb',\n",
      "                     'equil_nvt_structure': 'equil_nvt.pdb',\n",
      "                     'forcefield_cache': 'db.json',\n",
      "                     'log_output': 'simulation.log',\n",
      "                     'minimized_structure': 'minimized.pdb',\n",
      "                     'output_indices': 'not water',\n",
      "                     'preminimized_structure': 'system.pdb',\n",
      "                     'production_trajectory_filename': 'simulation.xtc',\n",
      "                     'trajectory_write_interval': <Quantity(20, 'picosecond')>},\n",
      " 'partial_charge_settings': {'nagl_model': None,\n",
      "                             'number_of_conformers': None,\n",
      "                             'off_toolkit_backend': 'ambertools',\n",
      "                             'partial_charge_method': 'am1bcc'},\n",
      " 'protocol_repeats': 1,\n",
      " 'simulation_settings': {'equilibration_length': <Quantity(0.01, 'nanosecond')>,\n",
      "                         'equilibration_length_nvt': <Quantity(0.01, 'nanosecond')>,\n",
      "                         'minimization_steps': 5000,\n",
      "                         'production_length': <Quantity(0.01, 'nanosecond')>},\n",
      " 'solvation_settings': {'solvent_model': 'tip3p',\n",
      "                        'solvent_padding': <Quantity(1.2, 'nanometer')>},\n",
      " 'thermo_settings': {'ph': None,\n",
      "                     'pressure': <Quantity(0.986923267, 'standard_atmosphere')>,\n",
      "                     'redox_potential': None,\n",
      "                     'temperature': <Quantity(298.15, 'kelvin')>}}\n"
     ]
    }
   ],
   "source": [
    "from openfe.protocols.openmm_md.plain_md_methods import PlainMDProtocol\n",
    "from openff.units import unit\n",
    "from pprint import pprint\n",
    "\n",
    "settings = PlainMDProtocol.default_settings()\n",
    "settings.simulation_settings.equilibration_length_nvt = 0.01 * unit.nanosecond\n",
    "settings.simulation_settings.equilibration_length = 0.01 * unit.nanosecond\n",
    "settings.simulation_settings.production_length = 0.01 * unit.nanosecond\n",
    "settings.engine_settings.compute_platform = 'CPU'\n",
    "pprint(settings.dict())"
   ]
  },
  {
   "cell_type": "markdown",
   "id": "c0f9416e-4623-4468-8e05-155c737599e6",
   "metadata": {},
   "source": [
    "## 3.  Creating a `Protocol`\n",
    "\n",
    "The actual simulation is performed by a `Protocol`. \n",
    "\n",
    "With the `Settings` inspected and adjusted, we can provide these to the `Protocol`. We'll use an OpenMM-based `PlainMDProtocol`."
   ]
  },
  {
   "cell_type": "code",
   "execution_count": 3,
   "id": "3b0f5a26-b23b-4ab2-9f1e-293d98ed5bcd",
   "metadata": {},
   "outputs": [],
   "source": [
    "# Creating the Protocol\n",
    "from openfe.protocols.openmm_md.plain_md_methods import PlainMDProtocol\n",
    "protocol = PlainMDProtocol(settings=settings)"
   ]
  },
  {
   "cell_type": "markdown",
   "id": "64eaff78-9d15-47c9-8c20-d9ba15449488",
   "metadata": {},
   "source": [
    "## 4. Creating the `Transformation`\n",
    "Once we have the `ChemicalSystem`s, and the `Protocol`, we can create the `Transformation`. "
   ]
  },
  {
   "cell_type": "code",
   "execution_count": 4,
   "id": "987cceda-1253-417b-8cca-bc750ac0aa1e",
   "metadata": {},
   "outputs": [],
   "source": [
    "transformation = openfe.Transformation(\n",
    "            stateA=system,\n",
    "            stateB=system,\n",
    "            mapping=None,\n",
    "            protocol=protocol,  # use protocol created above\n",
    "            name=f\"{system.name}\"\n",
    "        )"
   ]
  },
  {
   "cell_type": "markdown",
   "id": "0c6d8278-ddda-4778-902a-18fef9196a07",
   "metadata": {},
   "source": [
    "## 5. Running the MD simulation"
   ]
  },
  {
   "cell_type": "markdown",
   "id": "1f61de94-0e10-4353-9fa0-d04bad7117dc",
   "metadata": {},
   "source": [
    "**(a) Using the CLI**"
   ]
  },
  {
   "cell_type": "markdown",
   "id": "e762a3d5-7de5-4b46-aa34-b4b31feb05d6",
   "metadata": {},
   "source": [
    "We'll write out the transformation to disk, so that it can be run using the `openfe quickrun` command:"
   ]
  },
  {
   "cell_type": "code",
   "execution_count": 5,
   "id": "7689c7ba-39a2-49ea-b82b-e3b198354c5b",
   "metadata": {},
   "outputs": [],
   "source": [
    "import pathlib\n",
    "# first we create the directory\n",
    "transformation_dir = pathlib.Path(\"md_input\")\n",
    "transformation_dir.mkdir(exist_ok=True)\n",
    "\n",
    "# then we write out the transformation\n",
    "transformation.dump(transformation_dir / f\"{transformation.name}.json\")"
   ]
  },
  {
   "cell_type": "markdown",
   "id": "3fbac123-f73e-450c-82e9-15f0dd4bc7da",
   "metadata": {},
   "source": [
    "You can run the MD simulation from the CLI by using the `openfe quickrun` command. It\n",
    "takes a transformation JSON as input, and the flags `-o` to give the final\n",
    "output JSON file and `-d` for the directory where simulation results should be\n",
    "stored. For example,\n",
    "\n",
    "```bash\n",
    "openfe quickrun path/to/transformation.json -o results.json -d working-directory\n",
    "```\n",
    "\n",
    "where `path/to/transformation.json` is the path to one of the files created above (`md_input/benzene_t4-lysozyme.json`).\n",
    "\n",
    "**(b) Using the Python API**\n",
    "\n",
    "Alternatively, the MD simulation can be run by executing the `ProtocolDAG`. The `ProtocolDAG` is created using the `protocol.create()` method and requires as input the `ChemicalSystem`. \n",
    "\n",
    "Note: we use the ``shared_basedir`` and ``scratch_basedir`` argument of ``execute_DAG`` in order to set the directory where the simulation files are written to."
   ]
  },
  {
   "cell_type": "code",
   "execution_count": 8,
   "id": "544d037d-3a53-4390-91b8-3104c00694f0",
   "metadata": {},
   "outputs": [
    {
     "name": "stderr",
     "output_type": "stream",
     "text": [
      "/Users/hannahbaumann/openfe/openfe/protocols/openmm_rfe/_rfe_utils/compute.py:56: UserWarning: Non-GPU platform selected: CPU, this may significantly impact simulation performance\n",
      "  warnings.warn(wmsg)\n",
      "WARNING:root:Non-GPU platform selected: CPU, this may significantly impact simulation performance\n"
     ]
    }
   ],
   "source": [
    "import gufe\n",
    "import pathlib\n",
    "\n",
    "# Creating the Protocol\n",
    "protocol = PlainMDProtocol(settings=settings)\n",
    "# Creating the Protocol DAG\n",
    "dag = protocol.create(stateA=system, stateB=system, mapping=None)\n",
    "workdir = pathlib.Path('./')\n",
    "# Running the MD simulations\n",
    "dagres = gufe.protocols.execute_DAG(\n",
    "    dag,\n",
    "    shared_basedir=workdir,\n",
    "    scratch_basedir=workdir,\n",
    "    keep_shared=True, # set this to True to save the outputs\n",
    "    n_retries=3\n",
    ")"
   ]
  }
 ],
 "metadata": {
  "kernelspec": {
   "display_name": "Python 3 (ipykernel)",
   "language": "python",
   "name": "python3"
  },
  "language_info": {
   "codemirror_mode": {
    "name": "ipython",
    "version": 3
   },
   "file_extension": ".py",
   "mimetype": "text/x-python",
   "name": "python",
   "nbconvert_exporter": "python",
   "pygments_lexer": "ipython3",
   "version": "3.10.13"
  },
  "widgets": {
   "application/vnd.jupyter.widget-state+json": {
    "state": {},
    "version_major": 2,
    "version_minor": 0
   }
  }
 },
 "nbformat": 4,
 "nbformat_minor": 5
}
