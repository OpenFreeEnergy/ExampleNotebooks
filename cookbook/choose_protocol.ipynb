{
 "cells": [
  {
   "cell_type": "raw",
   "id": "0765a7c9",
   "metadata": {},
   "source": [
    ".. _cookbook_choose_config_protocol:"
   ]
  },
  {
   "cell_type": "markdown",
   "id": "8efbded0-0b69-4392-b8df-7afbd817d733",
   "metadata": {
    "slideshow": {
     "slide_type": ""
    },
    "tags": []
   },
   "source": [
    "# Choose and Configure a Protocol"
   ]
  },
  {
   "cell_type": "markdown",
   "id": "66156fbb-30e8-4d19-b1b0-1e488042ad22",
   "metadata": {},
   "source": [
    "A `Protocol` describes the simulation and sampling strategy for a free energy campaign. It is specified with subclasses of the `Protocol` class, and their associated `ProtocolSettings` subclasses."
   ]
  },
  {
   "cell_type": "markdown",
   "id": "bbe95b7c-5396-4e0d-b1d3-21910ef2fb07",
   "metadata": {},
   "source": [
    "## Setup"
   ]
  },
  {
   "cell_type": "code",
   "execution_count": 1,
   "id": "38b41f0a-d2a3-4231-bf08-1504d3824978",
   "metadata": {
    "slideshow": {
     "slide_type": ""
    },
    "tags": []
   },
   "outputs": [],
   "source": [
    "from openff.units import unit"
   ]
  },
  {
   "cell_type": "markdown",
   "id": "893b1b18-3682-435f-a08f-e08c0f2f8cef",
   "metadata": {
    "slideshow": {
     "slide_type": ""
    },
    "tags": []
   },
   "source": [
    "## Choose a `Protocol`"
   ]
  },
  {
   "cell_type": "markdown",
   "id": "dd66b0da-7366-44d5-b02a-ba2a67581b55",
   "metadata": {
    "slideshow": {
     "slide_type": ""
    },
    "tags": []
   },
   "source": [
    "Your choice of `Protocol` determines how free energy sampling is performed. At present, the only protocol available is `RelativeHybridTopologyProtocol`:\n",
    "\n",
    "| Name         | [RelativeHybridTopologyProtocol]         |\n",
    "|:-------------|:-----------------------------------------|\n",
    "| Module       | `openfe.protocols.openmm_rfe`            |\n",
    "| Settings     | [RelativeHybridTopologyProtocolSettings] |  \n",
    "| MD Engine    | [OpenMM]                                 |\n",
    "\n",
    "[RelativeHybridTopologyProtocol]: https://docs.openfree.energy/en/stable/reference/api/generated/openfe.protocols.openmm_rfe.RelativeHybridTopologyProtocol.html\n",
    "[RelativeHybridTopologyProtocolSettings]: https://docs.openfree.energy/en/stable/reference/api/openmm_rfe.html#openfe.protocols.openmm_rfe.RelativeHybridTopologyProtocolSettings\n",
    "[OpenMM]: https://openmm.org"
   ]
  },
  {
   "cell_type": "code",
   "execution_count": 2,
   "id": "b0757f5f-e38f-43ac-b43f-ee2bbea95f0d",
   "metadata": {
    "slideshow": {
     "slide_type": ""
    },
    "tags": []
   },
   "outputs": [],
   "source": [
    "from openfe.protocols.openmm_rfe import (\n",
    "    RelativeHybridTopologyProtocol,\n",
    "    RelativeHybridTopologyProtocolSettings,\n",
    ")\n",
    "from openfe.protocols.openmm_rfe import equil_rfe_settings"
   ]
  },
  {
   "cell_type": "markdown",
   "id": "f9502961-84ce-4983-9c4f-9e07eb619d1f",
   "metadata": {
    "slideshow": {
     "slide_type": ""
    },
    "tags": []
   },
   "source": [
    "## Configure Protocol Settings"
   ]
  },
  {
   "cell_type": "markdown",
   "id": "39517e1a-0e03-414e-8475-59bfb96f3203",
   "metadata": {},
   "source": [
    "### From the Defaults"
   ]
  },
  {
   "cell_type": "markdown",
   "id": "03fa0695-7066-494a-9e9d-6f7d7f3953d5",
   "metadata": {
    "slideshow": {
     "slide_type": ""
    },
    "tags": []
   },
   "source": [
    "The user-configurable settings of a `Protocol` are stored in a separate object that inherits from `ProtocolSettings`. The default settings object for a protocol can be retrieved with the `Protocol.default_settings` class method:"
   ]
  },
  {
   "cell_type": "code",
   "execution_count": 3,
   "id": "96c32ead-a8d0-4283-950b-5d27c74ebf16",
   "metadata": {
    "slideshow": {
     "slide_type": ""
    },
    "tags": []
   },
   "outputs": [],
   "source": [
    "settings = RelativeHybridTopologyProtocol.default_settings()"
   ]
  },
  {
   "cell_type": "markdown",
   "id": "b85b39a6-effd-423e-b8a5-b86bc2e7ee77",
   "metadata": {
    "slideshow": {
     "slide_type": ""
    },
    "tags": []
   },
   "source": [
    "The settings object is a Pydantic data class, and so can be edited and inspected in the usual ways. For example, the default settings can be printed clearly as a dictionary:"
   ]
  },
  {
   "cell_type": "code",
   "execution_count": 4,
   "id": "8d5a6281-50f9-4062-8fa4-375ce2df1bd6",
   "metadata": {
    "slideshow": {
     "slide_type": ""
    },
    "tags": []
   },
   "outputs": [
    {
     "data": {
      "text/plain": [
       "{'forcefield_settings': {'constraints': 'hbonds',\n",
       "  'rigid_water': True,\n",
       "  'remove_com': False,\n",
       "  'hydrogen_mass': 3.0,\n",
       "  'forcefields': ['amber/ff14SB.xml',\n",
       "   'amber/tip3p_standard.xml',\n",
       "   'amber/tip3p_HFE_multivalent.xml',\n",
       "   'amber/phosaa10.xml'],\n",
       "  'small_molecule_forcefield': 'openff-2.0.0'},\n",
       " 'thermo_settings': {'temperature': 298.15 <Unit('kelvin')>,\n",
       "  'pressure': 0.9869232667160129 <Unit('standard_atmosphere')>,\n",
       "  'ph': None,\n",
       "  'redox_potential': None},\n",
       " 'system_settings': {'nonbonded_method': 'PME',\n",
       "  'nonbonded_cutoff': 1.0 <Unit('nanometer')>},\n",
       " 'solvation_settings': {'solvent_model': 'tip3p',\n",
       "  'solvent_padding': 1.2 <Unit('nanometer')>},\n",
       " 'alchemical_settings': {'lambda_functions': 'default',\n",
       "  'lambda_windows': 11,\n",
       "  'unsampled_endstates': False,\n",
       "  'use_dispersion_correction': False,\n",
       "  'softcore_LJ_v2': True,\n",
       "  'softcore_alpha': 0.85,\n",
       "  'interpolate_old_and_new_14s': False,\n",
       "  'flatten_torsions': False},\n",
       " 'alchemical_sampler_settings': {'online_analysis_interval': 250,\n",
       "  'n_repeats': 3,\n",
       "  'sampler_method': 'repex',\n",
       "  'online_analysis_target_error': 0.0 <Unit('boltzmann_constant * kelvin')>,\n",
       "  'online_analysis_minimum_iterations': 500,\n",
       "  'flatness_criteria': 'logZ-flatness',\n",
       "  'gamma0': 1.0,\n",
       "  'n_replicas': 11},\n",
       " 'engine_settings': {'compute_platform': None},\n",
       " 'integrator_settings': {'timestep': 4 <Unit('femtosecond')>,\n",
       "  'collision_rate': 1.0 <Unit('1 / picosecond')>,\n",
       "  'n_steps': 250 <Unit('timestep')>,\n",
       "  'reassign_velocities': False,\n",
       "  'n_restart_attempts': 20,\n",
       "  'constraint_tolerance': 1e-06,\n",
       "  'barostat_frequency': 25 <Unit('timestep')>},\n",
       " 'simulation_settings': {'equilibration_length': 1.0 <Unit('nanosecond')>,\n",
       "  'production_length': 5.0 <Unit('nanosecond')>,\n",
       "  'forcefield_cache': 'db.json',\n",
       "  'minimization_steps': 5000,\n",
       "  'output_filename': 'simulation.nc',\n",
       "  'output_structure': 'hybrid_system.pdb',\n",
       "  'output_indices': 'not water',\n",
       "  'checkpoint_interval': 250 <Unit('timestep')>,\n",
       "  'checkpoint_storage': 'checkpoint.nc'}}"
      ]
     },
     "execution_count": 4,
     "metadata": {},
     "output_type": "execute_result"
    }
   ],
   "source": [
    "settings.dict()"
   ]
  },
  {
   "cell_type": "markdown",
   "id": "b39aec57-d263-473e-a314-ce2e4519bef9",
   "metadata": {
    "slideshow": {
     "slide_type": ""
    },
    "tags": []
   },
   "source": [
    "The production simulations could be lengthened from 5 ns to 10 ns:"
   ]
  },
  {
   "cell_type": "code",
   "execution_count": 5,
   "id": "2de6c6a9-bceb-4c9c-ae5a-3d88a72c801a",
   "metadata": {
    "slideshow": {
     "slide_type": ""
    },
    "tags": []
   },
   "outputs": [],
   "source": [
    "settings.simulation_settings.production_length = 10.0 * unit.nanosecond"
   ]
  },
  {
   "cell_type": "markdown",
   "id": "49cf72a9-5230-4232-8a04-001aa725a9b8",
   "metadata": {},
   "source": [
    "### From Scratch"
   ]
  },
  {
   "cell_type": "markdown",
   "id": "606b0be8-6d76-4a5f-b9b0-9b54967ca988",
   "metadata": {
    "slideshow": {
     "slide_type": ""
    },
    "tags": []
   },
   "source": [
    "Alternatively, settings can be specified by hand when creating the settings object:"
   ]
  },
  {
   "cell_type": "code",
   "execution_count": 6,
   "id": "844e6fa5-f363-47fa-881d-00328faa601c",
   "metadata": {
    "slideshow": {
     "slide_type": ""
    },
    "tags": []
   },
   "outputs": [],
   "source": [
    "settings = RelativeHybridTopologyProtocolSettings(\n",
    "    forcefield_settings=equil_rfe_settings.OpenMMSystemGeneratorFFSettings(\n",
    "        constraints='hbonds',              # 'hbonds': Use constraints for bonds involving hydrogen\n",
    "        rigid_water=True,                  # True: Use constraints for bonds in water\n",
    "        remove_com=False,                  # False: Do not remove center of mass motion\n",
    "        hydrogen_mass=3.0,                 # Perform hydrogen mass repartitioning\n",
    "        forcefields=[                      # OpenMM force fields to use for solvents and proteins\n",
    "            'amber/ff14SB.xml',\n",
    "            'amber/tip3p_standard.xml',\n",
    "            'amber/tip3p_HFE_multivalent.xml',\n",
    "            'amber/phosaa10.xml'\n",
    "        ],\n",
    "        \n",
    "        # Small molecule force field to use with OpenMM template generator:\n",
    "        small_molecule_forcefield='openff-2.0.0',\n",
    "    ),\n",
    "    thermo_settings=equil_rfe_settings.ThermoSettings(\n",
    "        temperature=298.15 * unit.kelvin,  # Set thermostat temperature\n",
    "        pressure=1 * unit.bar,             # Set barostat pressure\n",
    "        ph=None,                           # None: Do not keep pH constant\n",
    "        redox_potential=None               # None: Do not keep redox potential constant\n",
    "    ),\n",
    "    system_settings=equil_rfe_settings.SystemSettings(\n",
    "        nonbonded_method='PME',            # Particle Mesh Ewald for long range electrostatics\n",
    "        nonbonded_cutoff=1.0 * unit.nm,    # Cut off Lennard-Jones interactions beyond 1 nm\n",
    "    ),\n",
    "    solvation_settings=equil_rfe_settings.SolvationSettings(\n",
    "        solvent_model='tip3p',             # Solvent model to generate starting coords\n",
    "        solvent_padding=1.2 * unit.nm,     # Total distance between periodic image starting coords\n",
    "    ),\n",
    "    alchemical_settings=equil_rfe_settings.AlchemicalSettings(\n",
    "        lambda_functions='default',        # Interpolation functions for force field parameters\n",
    "        lambda_windows=11,                 # Split the transformation over n lambda windows\n",
    "        unsampled_endstates=False,         # False: Use only the explicit lambda windows λ∈[0,-1]\n",
    "        use_dispersion_correction=False,   # False: Use LJ dispersion correction only at endpoints\n",
    "        softcore_LJ_v2=True,               # True: Use LJ potential from Gapsys et al. (JCTC 2012)\n",
    "        softcore_alpha=0.85,               # Set soft-core Lennard-Jones potential parameter α\n",
    "        interpolate_old_and_new_14s=False, # False: Keep all exceptions (1,4 or otherwise) at all λ\n",
    "        flatten_torsions=False,            # False: Keep all torsions at all lambda windows\n",
    "    ),\n",
    "    alchemical_sampler_settings=equil_rfe_settings.AlchemicalSamplerSettings(\n",
    "        n_repeats=3,                       # Run n independent repeats of each transformation\n",
    "        \n",
    "        # H-REX Sampling settings\n",
    "        sampler_method='repex',            # Sample lambda with Hamiltonian Replica Exchange\n",
    "        n_replicas=11,                     # Number of HREX replicas with sampler_method='repex'\n",
    "        \n",
    "        # # SAMS sampling settings\n",
    "        # sampler_method='sams',             # Sample lambda with Self Adjusted Mixture Sampling\n",
    "        # flatness_criteria='logZ-flatness', # Criteria for asymptotically optimal sampling\n",
    "        # gamma0=1.0,                        # Initial adaptation rate w/ sampler_method='SAMS'\n",
    "\n",
    "        # Compute & write out free energies every n MCMC attempts:\n",
    "        online_analysis_interval=250,\n",
    "        \n",
    "        # Compute & write out free energies only after the first n MCMC attempts:\n",
    "        online_analysis_minimum_iterations=500,\n",
    "        \n",
    "        # Don't stop sampling early, no matter how low the estimated error gets:\n",
    "        online_analysis_target_error=0.0 * unit.boltzmann_constant * unit.kelvin\n",
    "        # # Stop sampling when estimated error is small enough:\n",
    "        # online_analysis_target_error=0.2 * unit.boltzmann_constant * unit.kelvin,\n",
    "\n",
    "    ),\n",
    "    engine_settings=equil_rfe_settings.OpenMMEngineSettings(\n",
    "        compute_platform=None,              # Let OpenMM choose the best platform for your hardware\n",
    "    ),\n",
    "    integrator_settings=equil_rfe_settings.IntegratorSettings(\n",
    "        timestep=4 * unit.femtosecond,         # Integration timestep\n",
    "        collision_rate=1.0 / unit.picosecond,  # Langevin integration collision rate γ\n",
    "        n_steps=250 * unit.timestep,           # Attempt an MCMC move every n integration steps\n",
    "        reassign_velocities=False,             # False: Velocities are not lost through MCMC moves\n",
    "        n_restart_attempts=20,                 # Restart simulations the first n times they blow up\n",
    "        constraint_tolerance=1e-06,            # Tolerance for holonomic constraints\n",
    "        barostat_frequency=25 * unit.timestep, # Attempt MC volume scaling every n integration steps\n",
    "    ),\n",
    "    simulation_settings=equil_rfe_settings.SimulationSettings(\n",
    "        minimization_steps=5000,                    # Minimize potential energy for n steps\n",
    "        equilibration_length=1.0 * unit.nanosecond, # Simulation time to equilibrate for\n",
    "        production_length=5.0 * unit.nanosecond,    # Simulation time to collect data for\n",
    "        output_filename='simulation.nc',            # Filename to save trajectory\n",
    "        output_structure='hybrid_system.pdb',       # Filename to save starting coordinates\n",
    "        checkpoint_storage='checkpoint.nc',         # Filename for simulation checkpoints\n",
    "        forcefield_cache='db.json',                 # Cache for small molecule residue templates\n",
    "        output_indices='not water',                 # Do not save water positions\n",
    "        checkpoint_interval=250 * unit.timestep,    # Save a checkpoint every n integration steps\n",
    "    ),\n",
    ")"
   ]
  },
  {
   "cell_type": "code",
   "execution_count": 7,
   "id": "b499d852-4d7e-47c5-9342-31017baed37c",
   "metadata": {
    "nbsphinx": "hidden",
    "slideshow": {
     "slide_type": ""
    },
    "tags": []
   },
   "outputs": [],
   "source": [
    "# Double check that the above settings match the defaults - delete this cell if you configure things yourself!\n",
    "assert settings == RelativeHybridTopologyProtocol.default_settings()"
   ]
  },
  {
   "cell_type": "markdown",
   "id": "99a37707-7658-4ccd-844e-a9a4cbe058aa",
   "metadata": {},
   "source": [
    "## Construct the `Protocol`"
   ]
  },
  {
   "cell_type": "markdown",
   "id": "c9b77e53-67cc-4fc1-9386-e73cd005eb9b",
   "metadata": {},
   "source": [
    "However you produce the `ProtocolSettings` object, the final `Protocol` can be constructed from the settings object:"
   ]
  },
  {
   "cell_type": "code",
   "execution_count": 8,
   "id": "32b9b58a-d7ea-4071-9046-53e6990a1faa",
   "metadata": {
    "slideshow": {
     "slide_type": ""
    },
    "tags": []
   },
   "outputs": [],
   "source": [
    "protocol = RelativeHybridTopologyProtocol(settings)"
   ]
  },
  {
   "cell_type": "markdown",
   "id": "cb02efa6-0949-4745-8bf7-b16580299ac3",
   "metadata": {},
   "source": [
    "Unlike `ProtocolSettings`, a `Protocol` instance is immutable. The only way to safely change the settings of a `Protocol` is to recreate it from the modified `ProtocolSettings` object."
   ]
  }
 ],
 "metadata": {
  "kernelspec": {
   "display_name": "Python 3 (ipykernel)",
   "language": "python",
   "name": "python3"
  },
  "language_info": {
   "codemirror_mode": {
    "name": "ipython",
    "version": 3
   },
   "file_extension": ".py",
   "mimetype": "text/x-python",
   "name": "python",
   "nbconvert_exporter": "python",
   "pygments_lexer": "ipython3",
   "version": "3.11.6"
  },
  "widgets": {
   "application/vnd.jupyter.widget-state+json": {
    "state": {},
    "version_major": 2,
    "version_minor": 0
   }
  }
 },
 "nbformat": 4,
 "nbformat_minor": 5
}
