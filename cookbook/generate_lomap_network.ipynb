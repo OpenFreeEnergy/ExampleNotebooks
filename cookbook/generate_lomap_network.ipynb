{
 "cells": [
  {
   "cell_type": "raw",
   "id": "a41f6896",
   "metadata": {},
   "source": [
    ".. _cookbook_ligandnetwork_lomap:"
   ]
  },
  {
   "cell_type": "markdown",
   "id": "035c0099-6892-4ed2-b0d6-80b1c247c1e7",
   "metadata": {},
   "source": [
    "# Planning a Ligand Network with Lomap"
   ]
  },
  {
   "cell_type": "markdown",
   "id": "5da95fa6-c9a7-48a2-9d8e-e35b3b6818f6",
   "metadata": {},
   "source": [
    "A [Ligand Network] is a graph of transformations between small molecules, typically such that every small molecule can reach every other small molecule via a series of transformations. This eventually forms the graph of the free energy campaign. A `LigandNetwork` can be generated from a collection of `SmallMoleculeComponent` instances by optimising over possible networks according to some criteria; in OpenFE, this involves combining a network generating strategy with a scoring function for individual mappings.\n",
    "In this cookbook we are generating a network using the network generator provided in [LOMAP].\n",
    "\n",
    "[Ligand Network]: https://docs.openfree.energy/en/stable/reference/api/generated/openfe.setup.LigandNetwork.html\n",
    "[LOMAP]: https://github.com/OpenFreeEnergy/Lomap/tree/main"
   ]
  },
  {
   "cell_type": "markdown",
   "id": "27106bff-dbcf-49ee-b119-2c0f15305618",
   "metadata": {},
   "source": [
    "## Setup"
   ]
  },
  {
   "cell_type": "code",
   "execution_count": 1,
   "id": "f8f4ce1e-98e9-4c9b-98d3-aea1d21e0c12",
   "metadata": {},
   "outputs": [],
   "source": [
    "%matplotlib inline\n",
    "\n",
    "from rdkit import Chem\n",
    "from openmm import unit\n",
    "\n",
    "import openfe"
   ]
  },
  {
   "cell_type": "markdown",
   "id": "7f1a272a-ffe7-4397-a8a6-c590d3a210bc",
   "metadata": {},
   "source": [
    "This cookbook assumes you've already loaded a collection of `SmallMoleculeComponent` objects into an iterable called `ligands`. For more information, see [Loading Small Molecules]:\n",
    "\n",
    "[Loading Small Molecules]: https://docs.openfree.energy/en/stable/cookbook/loading_molecules.html#loading-small-molecules"
   ]
  },
  {
   "cell_type": "code",
   "execution_count": 2,
   "id": "80072b52-ded4-4b38-a5c2-72b87d483f53",
   "metadata": {},
   "outputs": [],
   "source": [
    "ligands = [\n",
    "    openfe.SmallMoleculeComponent(mol) \n",
    "    for mol in Chem.SDMolSupplier(\n",
    "        \"assets/somebenzenes.sdf\", \n",
    "        removeHs=False,\n",
    "    )\n",
    "]"
   ]
  },
  {
   "cell_type": "markdown",
   "id": "7096ed4e-1f5a-4df1-8566-e73fe8b81c00",
   "metadata": {},
   "source": [
    "## Choose an atom mapper"
   ]
  },
  {
   "cell_type": "markdown",
   "id": "020cf05c-7bcc-4b10-9ba5-f4ded80d2d66",
   "metadata": {},
   "source": [
    "An atom mapper produces mappings between two given ligands. Atom mapper classes inherit from [LigandAtomMapper]. Each atom mapper suggests one or more mappings, which can be scored seperately. As a result, multiple atom mappers can be used to generate additional mappings for network planning.\n",
    "\n",
    "[LigandAtomMapper]: https://docs.openfree.energy/en/stable/reference/api/generated/openfe.setup.atom_mapping.LigandAtomMapper.html"
   ]
  },
  {
   "cell_type": "code",
   "execution_count": 3,
   "id": "5019c471-a173-4097-b6c8-b42bfb701e03",
   "metadata": {},
   "outputs": [],
   "source": [
    "mappers = [\n",
    "    openfe.setup.LomapAtomMapper(\n",
    "        time=20, # Time out if MCS algorithm takes 20 seconds\n",
    "        threed=True, # Use atom positions to prune symmetric mappings\n",
    "        max3d=1.0, # Forbid mapping between atoms more than 1.0 Å apart\n",
    "        element_change=True, # Allow mappings that change an atoms element\n",
    "        seed='', # Empty SMARTS string causes MCS search to start from scratch\n",
    "        shift=False, # Keep pre-aligned atom positions for 3D position checks\n",
    "    ),\n",
    "    # openfe.setup.PersesAtomMapper(\n",
    "    #     allow_ring_breaking=True, # Propose mappings that break cyclic systems\n",
    "    #     preserve_chirality=True, # Forbid mappings that change stereochemistry\n",
    "    #     use_positions=True, # Use atom positions rather than MCS to choose mappings\n",
    "    #     coordinate_tolerance=0.25 * unit.angstrom, # Forbid mappings between distant atoms\n",
    "    # ),\n",
    "]"
   ]
  },
  {
   "cell_type": "markdown",
   "id": "3e3dc22c-7e03-46be-b6bc-e88a4e9e01e8",
   "metadata": {},
   "source": [
    "This approach of interchangeable mappers is possible as they all provide a common `.suggest_mappings` method,\n",
    "which in turn creates a common `LigandAtomMapping` object,\n",
    "allowing tooling to mix and match which mapper they use."
   ]
  },
  {
   "cell_type": "code",
   "execution_count": 4,
   "id": "9337f7e1-a25e-43a1-ba1f-cace9b7f5f00",
   "metadata": {},
   "outputs": [
    {
     "data": {
      "text/plain": [
       "\u001b[0;31mSignature:\u001b[0m\n",
       "\u001b[0mmappers\u001b[0m\u001b[0;34m[\u001b[0m\u001b[0;36m0\u001b[0m\u001b[0;34m]\u001b[0m\u001b[0;34m.\u001b[0m\u001b[0msuggest_mappings\u001b[0m\u001b[0;34m(\u001b[0m\u001b[0;34m\u001b[0m\n",
       "\u001b[0;34m\u001b[0m    \u001b[0mcomponentA\u001b[0m\u001b[0;34m:\u001b[0m \u001b[0mgufe\u001b[0m\u001b[0;34m.\u001b[0m\u001b[0mcomponents\u001b[0m\u001b[0;34m.\u001b[0m\u001b[0msmallmoleculecomponent\u001b[0m\u001b[0;34m.\u001b[0m\u001b[0mSmallMoleculeComponent\u001b[0m\u001b[0;34m,\u001b[0m\u001b[0;34m\u001b[0m\n",
       "\u001b[0;34m\u001b[0m    \u001b[0mcomponentB\u001b[0m\u001b[0;34m:\u001b[0m \u001b[0mgufe\u001b[0m\u001b[0;34m.\u001b[0m\u001b[0mcomponents\u001b[0m\u001b[0;34m.\u001b[0m\u001b[0msmallmoleculecomponent\u001b[0m\u001b[0;34m.\u001b[0m\u001b[0mSmallMoleculeComponent\u001b[0m\u001b[0;34m,\u001b[0m\u001b[0;34m\u001b[0m\n",
       "\u001b[0;34m\u001b[0m\u001b[0;34m)\u001b[0m \u001b[0;34m->\u001b[0m \u001b[0mIterable\u001b[0m\u001b[0;34m[\u001b[0m\u001b[0mgufe\u001b[0m\u001b[0;34m.\u001b[0m\u001b[0mmapping\u001b[0m\u001b[0;34m.\u001b[0m\u001b[0mligandatommapping\u001b[0m\u001b[0;34m.\u001b[0m\u001b[0mLigandAtomMapping\u001b[0m\u001b[0;34m]\u001b[0m\u001b[0;34m\u001b[0m\u001b[0;34m\u001b[0m\u001b[0m\n",
       "\u001b[0;31mDocstring:\u001b[0m\n",
       "Generate one or more mappings between two small molecules\n",
       "\n",
       "Parameters\n",
       "----------\n",
       "componentA, componentB: gufe.SmallMoleculeComponent\n",
       "\n",
       "Returns\n",
       "-------\n",
       "mapping : Iterable[LigandAtomMapping]\n",
       "  potential mappings\n",
       "\u001b[0;31mFile:\u001b[0m      ~/miniconda3/envs/openfe_dev/lib/python3.11/site-packages/lomap/gufe_bindings/mapper.py\n",
       "\u001b[0;31mType:\u001b[0m      method"
      ]
     },
     "metadata": {},
     "output_type": "display_data"
    }
   ],
   "source": [
    "?mappers[0].suggest_mappings"
   ]
  },
  {
   "cell_type": "markdown",
   "id": "409a3866-a5ac-4295-b91f-3101dd646dc9",
   "metadata": {},
   "source": [
    "## Choose a scoring function"
   ]
  },
  {
   "cell_type": "markdown",
   "id": "5998c002-4d39-42c0-b37f-bd0357f27fe6",
   "metadata": {},
   "source": [
    "Many ligand network planners require some way to score each possible network so that the optimal network can be identified. OpenFE scores networks by the quality of the mappings between ligands - transformations that are expected to converge quickly without introducing artifacts are scored highly, and more drastic or risky alchemy is penalised. A scoring function is a function that takes an atom mapping and returns a float between 0.0 and 1.0, with higher numbers representing better maps."
   ]
  },
  {
   "cell_type": "code",
   "execution_count": 5,
   "id": "3bbf3f5b-9e29-467f-aff8-07e8dad7fd4c",
   "metadata": {},
   "outputs": [],
   "source": [
    "# The product of other LOMAP scorers\n",
    "scorer = openfe.lomap_scorers.default_lomap_score \n",
    "\n",
    "# # The default PERSES scoring function\n",
    "# scorer = openfe.perses_scorers.default_perses_score \n",
    "\n",
    "# # Or define your own scoring function\n",
    "# scorer = lambda m: (\n",
    "#     openfe.lomap_scorers.default_lomap_score(m) \n",
    "#     * openfe.perses_scorers.default_perses_scorer(m)\n",
    "# )"
   ]
  },
  {
   "cell_type": "markdown",
   "id": "c8c40d49-9657-4691-b6b3-d3c133e215d2",
   "metadata": {},
   "source": [
    "## Plan the network"
   ]
  },
  {
   "cell_type": "markdown",
   "id": "10232f7b-7aac-4773-8c39-15f672a654b5",
   "metadata": {},
   "source": [
    "Finally, pass the ligands, mapper and scorer to a planner to generate the LOMAP network. A planner takes these three arguments (and perhaps some more) and returns a `LigandNetwork`. The LOMAP network provides edge redundancy for troubleshooting:"
   ]
  },
  {
   "cell_type": "code",
   "execution_count": 6,
   "id": "9492e2e7-33df-449e-9bd1-847ff52d2029",
   "metadata": {},
   "outputs": [
    {
     "name": "stderr",
     "output_type": "stream",
     "text": [
      "INFO:\tTrying to remove edge 4-5 with similarity 0.670320\n",
      "INFO:\tChecking edge deletion on distance-to-actives 0 vs 0\n",
      "INFO:\tRemoved edge 4-5\n",
      "INFO:\tTrying to remove edge 3-4 with similarity 0.670320\n",
      "INFO:\tChecking edge deletion on distance-to-actives 0 vs 0\n",
      "INFO:\tRemoved edge 3-4\n",
      "INFO:\tTrying to remove edge 3-5 with similarity 0.704688\n",
      "INFO:\tChecking edge deletion on distance-to-actives 0 vs 0\n",
      "INFO:\tRemoved edge 3-5\n",
      "INFO:\tTrying to remove edge 3-6 with similarity 0.704688\n",
      "INFO:\tChecking edge deletion on distance-to-actives 0 vs 0\n",
      "INFO:\tRemoved edge 3-6\n",
      "INFO:\tTrying to remove edge 4-6 with similarity 0.704688\n",
      "INFO:\tChecking edge deletion on distance-to-actives 0 vs 0\n",
      "INFO:\tRemoved edge 4-6\n",
      "INFO:\tTrying to remove edge 2-3 with similarity 0.740818\n",
      "INFO:\tChecking edge deletion on distance-to-actives 0 vs 0\n",
      "INFO:\tRemoved edge 2-3\n",
      "INFO:\tTrying to remove edge 2-5 with similarity 0.740818\n",
      "INFO:\tChecking edge deletion on distance-to-actives 0 vs 0\n",
      "INFO:\tRemoved edge 2-5\n",
      "INFO:\tTrying to remove edge 2-6 with similarity 0.740818\n",
      "INFO:\tChecking edge deletion on distance-to-actives 0 vs 0\n",
      "INFO:\tRemoved edge 2-6\n",
      "INFO:\tTrying to remove edge 1-3 with similarity 0.778801\n",
      "INFO:\tRejecting edge deletion on cycle covering\n",
      "INFO:\tTrying to remove edge 1-5 with similarity 0.778801\n",
      "INFO:\tChecking edge deletion on distance-to-actives 0 vs 0\n",
      "INFO:\tRemoved edge 1-5\n",
      "INFO:\tTrying to remove edge 1-6 with similarity 0.778801\n",
      "INFO:\tChecking edge deletion on distance-to-actives 0 vs 0\n",
      "INFO:\tRemoved edge 1-6\n",
      "INFO:\tTrying to remove edge 0-3 with similarity 0.818731\n",
      "INFO:\tRejecting edge deletion on cycle covering\n",
      "INFO:\tTrying to remove edge 0-4 with similarity 0.818731\n",
      "INFO:\tChecking edge deletion on distance-to-actives 0 vs 0\n",
      "INFO:\tRemoved edge 0-4\n",
      "INFO:\tTrying to remove edge 0-5 with similarity 0.818731\n",
      "INFO:\tRejecting edge deletion on cycle covering\n",
      "INFO:\tTrying to remove edge 0-6 with similarity 0.818731\n",
      "INFO:\tRejecting edge deletion on cycle covering\n",
      "INFO:\tTrying to remove edge 1-4 with similarity 0.860708\n",
      "INFO:\tRejecting edge deletion on cycle covering\n",
      "INFO:\tTrying to remove edge 0-1 with similarity 0.904837\n",
      "INFO:\tChecking edge deletion on distance-to-actives 0 vs 0\n",
      "INFO:\tRemoved edge 0-1\n",
      "INFO:\tTrying to remove edge 0-2 with similarity 0.904837\n",
      "INFO:\tRejecting edge deletion on cycle covering\n",
      "INFO:\tTrying to remove edge 2-4 with similarity 0.904837\n",
      "INFO:\tRejecting edge deletion on cycle covering\n",
      "INFO:\tTrying to remove edge 1-2 with similarity 0.951229\n",
      "INFO:\tChecking edge deletion on distance-to-actives 0 vs 0\n",
      "INFO:\tRemoved edge 1-2\n",
      "INFO:\tTrying to remove edge 5-6 with similarity 0.951229\n",
      "INFO:\tRejecting edge deletion on cycle covering\n"
     ]
    }
   ],
   "source": [
    "# Choose the LOMAP network that adds some closed ligand cycles\n",
    "ligand_network = openfe.ligand_network_planning.generate_lomap_network(\n",
    "    molecules=ligands,\n",
    "    mappers=mappers,\n",
    "    scorer=scorer,\n",
    ")"
   ]
  },
  {
   "cell_type": "markdown",
   "id": "6c2f585e-d609-440a-9498-2affc2badc5c",
   "metadata": {},
   "source": [
    "## Visualize"
   ]
  },
  {
   "cell_type": "markdown",
   "id": "59727251-0644-4768-9d68-50edc37f501d",
   "metadata": {},
   "source": [
    "For more ways to visualize a `LigandNetwork`, see [Visualizing Ligand Networks].\n",
    "\n",
    "[Visualizing Ligand Networks]: https://docs.openfree.energy/en/stable/cookbook/ligandnetwork_vis.html"
   ]
  },
  {
   "cell_type": "code",
   "execution_count": 7,
   "id": "92e0b934-8494-41f4-a0ad-0d0b01b3a8f9",
   "metadata": {},
   "outputs": [
    {
     "data": {
      "image/png": "[encoded data removed]",
      "text/plain": [
       "<Figure size 800x800 with 1 Axes>"
      ]
     },
     "execution_count": 7,
     "metadata": {},
     "output_type": "execute_result"
    }
   ],
   "source": [
    "from openfe.utils.atommapping_network_plotting import plot_atommapping_network\n",
    "\n",
    "plot_atommapping_network(ligand_network)"
   ]
  },
  {
   "cell_type": "markdown",
   "id": "1e5d7b45-8cd2-45f2-a38b-ede71d8c35f2",
   "metadata": {},
   "source": [
    "## What next\n",
    "\n",
    "With a ligand network defined, a next logical step would be to choose and customise a free energy estimation method (in OpenFE parlance, a `Protocol`).  This is applied to edges of the network to estimate the free energy differences of traversing this network."
   ]
  },
  {
   "cell_type": "code",
   "execution_count": null,
   "id": "a17eb44d-8b91-49a0-a00c-76cdfbf90ca8",
   "metadata": {},
   "outputs": [],
   "source": []
  }
 ],
 "metadata": {
  "kernelspec": {
   "display_name": "Python 3 (ipykernel)",
   "language": "python",
   "name": "python3"
  },
  "language_info": {
   "codemirror_mode": {
    "name": "ipython",
    "version": 3
   },
   "file_extension": ".py",
   "mimetype": "text/x-python",
   "name": "python",
   "nbconvert_exporter": "python",
   "pygments_lexer": "ipython3",
   "version": "3.11.6"
  },
  "widgets": {
   "application/vnd.jupyter.widget-state+json": {
    "state": {},
    "version_major": 2,
    "version_minor": 0
   }
  }
 },
 "nbformat": 4,
 "nbformat_minor": 5
}
