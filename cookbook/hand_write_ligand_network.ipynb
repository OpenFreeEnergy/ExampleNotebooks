{
 "cells": [
  {
   "cell_type": "raw",
   "id": "554bc9f7",
   "metadata": {},
   "source": [
    ".. _cookbook_ligandnetworks_by_hand:"
   ]
  },
  {
   "cell_type": "markdown",
   "id": "bf739d70-3249-42b3-a352-8a41f8f8c667",
   "metadata": {},
   "source": [
    "# Ligand Networks by Hand"
   ]
  },
  {
   "cell_type": "markdown",
   "id": "f9ad85a0-a3b2-4e95-9784-0a88ba790683",
   "metadata": {},
   "source": [
    "OpenFE provides utilities for ingesting networks from ordinary Python datastructures like `list[tuple[str, str]]` and `list[tuple[int, int]]`. Each string or integer respectively names or indexes a ligand, and tuples represent edges in the network. This allows specific networks to be written by hand, supports use cases where the desired edges are known, and may be helpful for loading networks from other tools."
   ]
  },
  {
   "cell_type": "markdown",
   "id": "de32be93-e8d7-40dd-a043-4920a6e9c3ef",
   "metadata": {},
   "source": [
    "## Setup"
   ]
  },
  {
   "cell_type": "code",
   "execution_count": 1,
   "id": "91423c48-1649-4fae-9f0c-bd6224d83009",
   "metadata": {},
   "outputs": [],
   "source": [
    "%matplotlib inline\n",
    "\n",
    "from rdkit import Chem\n",
    "\n",
    "import openfe\n",
    "from openfe.setup import ligand_network_planning"
   ]
  },
  {
   "cell_type": "markdown",
   "id": "39e64f74-337e-4a88-b253-ab051820d5e3",
   "metadata": {},
   "source": [
    "This cookbook assumes you've already loaded a collection of `SmallMoleculeComponent` objects into an iterable called `ligands`. For more information, see [Loading Small Molecules]:\n",
    "\n",
    "[Loading Small Molecules]: https://docs.openfree.energy/en/stable/cookbook/loading_molecules.html#loading-small-molecules"
   ]
  },
  {
   "cell_type": "code",
   "execution_count": 2,
   "id": "2ef27845-2a17-45fc-ac54-20e75055a7a2",
   "metadata": {},
   "outputs": [],
   "source": [
    "ligands = [\n",
    "    openfe.SmallMoleculeComponent(mol) \n",
    "    for mol in Chem.SDMolSupplier(\n",
    "        \"assets/somebenzenes.sdf\", \n",
    "        removeHs=False,\n",
    "    )\n",
    "]"
   ]
  },
  {
   "cell_type": "markdown",
   "id": "12cac638-06bd-456e-b82f-a88e016211fa",
   "metadata": {},
   "source": [
    "## Select an atom mapper"
   ]
  },
  {
   "cell_type": "markdown",
   "id": "31872d6f-028f-4974-9724-2f4654a7b914",
   "metadata": {},
   "source": [
    "As we will only specify the topology of the network, OpenFE must generate atom mappings for us. For this, it needs an atom mapper; for more information, see [Choose an Atom Mapper]:\n",
    "\n",
    "[Choose an Atom Mapper]: https://docs.openfree.energy/en/stable/cookbook/generate_ligand_network.html#Choose-an-atom-mapper"
   ]
  },
  {
   "cell_type": "code",
   "execution_count": 3,
   "id": "d2de6fcb-9a9b-44c4-8ad3-f98ec3de5638",
   "metadata": {},
   "outputs": [],
   "source": [
    "mapper = openfe.setup.LomapAtomMapper(\n",
    "    threed=True, # Use atom positions to prune symmetric mappings\n",
    "    max3d=1.0, # Forbid mapping between atoms more than 1.0 Å apart\n",
    "    element_change=False, # Forbid mappings that change an atoms element\n",
    ")"
   ]
  },
  {
   "cell_type": "markdown",
   "id": "d5ede560-0108-479d-9bc0-20d53fbd81af",
   "metadata": {},
   "source": [
    "## Define the network"
   ]
  },
  {
   "cell_type": "markdown",
   "id": "36879503-f8ef-4743-9acd-b07910492613",
   "metadata": {},
   "source": [
    "We can inspect the ligands to identify what we're working with:"
   ]
  },
  {
   "cell_type": "code",
   "execution_count": 4,
   "id": "b9372340-327f-4451-9399-21fd01afc967",
   "metadata": {},
   "outputs": [
    {
     "name": "stdout",
     "output_type": "stream",
     "text": [
      "(0, SmallMoleculeComponent(name=benzene))\n",
      "(1, SmallMoleculeComponent(name=toluene))\n",
      "(2, SmallMoleculeComponent(name=phenol))\n",
      "(3, SmallMoleculeComponent(name=benzonitrile))\n",
      "(4, SmallMoleculeComponent(name=anisole))\n",
      "(5, SmallMoleculeComponent(name=benzaldehyde))\n",
      "(6, SmallMoleculeComponent(name=styrene))\n"
     ]
    }
   ],
   "source": [
    "print(*enumerate(ligands), sep=\"\\n\")"
   ]
  },
  {
   "cell_type": "markdown",
   "id": "300c7ebf-63e5-46f3-a53c-398dd75c0adb",
   "metadata": {},
   "source": [
    "Then, define the network topology by specifying transformations between ligands, either by name or index:"
   ]
  },
  {
   "cell_type": "code",
   "execution_count": 5,
   "id": "aedd67c5-db74-48c1-afe4-bacfec0b2ca3",
   "metadata": {},
   "outputs": [],
   "source": [
    "topology_by_names = [\n",
    "    (\"styrene\", \"toluene\"),\n",
    "    (\"benzonitrile\", \"toluene\"),\n",
    "    (\"toluene\", \"benzene\"),\n",
    "    (\"benzene\", \"phenol\"),\n",
    "    (\"phenol\", \"anisole\"),\n",
    "    (\"phenol\", \"benzaldehyde\"),\n",
    "]\n",
    "\n",
    "# topology_by_indices = [\n",
    "#     (6, 1),\n",
    "#     (3, 1),\n",
    "#     (1, 0),\n",
    "#     (0, 2),\n",
    "#     (2, 4),\n",
    "#     (2, 5),\n",
    "# ]"
   ]
  },
  {
   "cell_type": "markdown",
   "id": "3691c205-ce7d-4bc8-8b92-41f535b87249",
   "metadata": {},
   "source": [
    "## Create the network"
   ]
  },
  {
   "cell_type": "markdown",
   "id": "9049e97f-0fdb-4196-808a-8c2fdd8e3576",
   "metadata": {},
   "source": [
    "Now create the `LigandNetwork` object from the specified edges:"
   ]
  },
  {
   "cell_type": "code",
   "execution_count": 6,
   "id": "9c3e1d23-3333-4b2c-b687-561f63b3267e",
   "metadata": {},
   "outputs": [],
   "source": [
    "ligand_network = ligand_network_planning.generate_network_from_names(\n",
    "    ligands=ligands,\n",
    "    mapper=mapper,\n",
    "    names=topology_by_names,\n",
    ")\n",
    "\n",
    "# ligand_network = ligand_network_planning.generate_network_from_indices(\n",
    "#     ligands=ligands,\n",
    "#     mapper=mapper,\n",
    "#     indices=topology_by_indices,\n",
    "# )"
   ]
  },
  {
   "cell_type": "markdown",
   "id": "a972611d-9784-4716-a2f3-fbe85cee9e94",
   "metadata": {},
   "source": [
    "## Visualise the network"
   ]
  },
  {
   "cell_type": "markdown",
   "id": "43b339d9-e18a-4dab-9a44-395adbb25624",
   "metadata": {},
   "source": [
    "For more ways to visualize a `LigandNetwork`, see [Visualizing Ligand Networks].\n",
    "\n",
    "[Visualizing Ligand Networks]: https://docs.openfree.energy/en/stable/cookbook/ligandnetwork_vis.html"
   ]
  },
  {
   "cell_type": "code",
   "execution_count": 7,
   "id": "c7d84328-f3b6-4330-a078-03ddccf60718",
   "metadata": {},
   "outputs": [
    {
     "data": {
      "image/png": "[encoded data removed]",
      "text/plain": [
       "<Figure size 800x800 with 1 Axes>"
      ]
     },
     "execution_count": 7,
     "metadata": {},
     "output_type": "execute_result"
    }
   ],
   "source": [
    "from openfe.utils.atommapping_network_plotting import plot_atommapping_network\n",
    "\n",
    "plot_atommapping_network(ligand_network)"
   ]
  }
 ],
 "metadata": {
  "kernelspec": {
   "display_name": "Python 3 (ipykernel)",
   "language": "python",
   "name": "python3"
  },
  "language_info": {
   "codemirror_mode": {
    "name": "ipython",
    "version": 3
   },
   "file_extension": ".py",
   "mimetype": "text/x-python",
   "name": "python",
   "nbconvert_exporter": "python",
   "pygments_lexer": "ipython3",
   "version": "3.11.6"
  },
  "widgets": {
   "application/vnd.jupyter.widget-state+json": {
    "state": {},
    "version_major": 2,
    "version_minor": 0
   }
  }
 },
 "nbformat": 4,
 "nbformat_minor": 5
}
