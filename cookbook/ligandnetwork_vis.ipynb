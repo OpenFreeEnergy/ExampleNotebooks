{
 "cells": [
  {
   "cell_type": "markdown",
   "id": "a2f0ee60-1060-4ca9-b0ff-529348dbc0e6",
   "metadata": {},
   "source": [
    "# Visualizing Ligand Networks"
   ]
  },
  {
   "cell_type": "markdown",
   "id": "1a979dae-5b75-4246-adfc-76a29b51822d",
   "metadata": {},
   "source": [
    "When constructing a ligand network, it is very helpful to visualize it, both to quickly check that it makes sense and to allow rapid iteration of settings."
   ]
  },
  {
   "cell_type": "markdown",
   "id": "d4fe6c50-3971-4b9d-bc2f-71b5deb58fd4",
   "metadata": {},
   "source": [
    "## Setup"
   ]
  },
  {
   "cell_type": "code",
   "execution_count": 1,
   "id": "aa30a8bc-bdf0-4382-98bd-2f33e703eb2d",
   "metadata": {},
   "outputs": [],
   "source": [
    "%matplotlib inline\n",
    "\n",
    "import rdkit.Chem\n",
    "\n",
    "import openfe"
   ]
  },
  {
   "cell_type": "markdown",
   "id": "0d405db9-1ab5-43e1-aa51-89b5bdb283d7",
   "metadata": {},
   "source": [
    "This cookbook assumes you've already loaded a `LigandNetwork`. For more information, see [Generate a Ligand Network Automatically]:\n",
    "\n",
    "[Generate a Ligand Network Automatically]: https://docs.openfree.energy/en/stable/cookbook/generate_ligand_network.html"
   ]
  },
  {
   "cell_type": "code",
   "execution_count": 2,
   "id": "594364f7-00ab-4497-bf5e-74cb497802e7",
   "metadata": {},
   "outputs": [],
   "source": [
    "ligand_network = openfe.ligand_network_planning.generate_minimal_spanning_network(\n",
    "    ligands=[\n",
    "        openfe.SmallMoleculeComponent(mol) \n",
    "        for mol in rdkit.Chem.SDMolSupplier(\n",
    "            \"assets/somebenzenes.sdf\", \n",
    "            removeHs=False,\n",
    "        )\n",
    "    ],\n",
    "    mappers=[openfe.setup.LomapAtomMapper()],\n",
    "    scorer=openfe.lomap_scorers.default_lomap_score,\n",
    ")"
   ]
  },
  {
   "cell_type": "markdown",
   "id": "61b5687d-52f2-49aa-a71c-dd038bfa0ae1",
   "metadata": {},
   "source": [
    "## Visualize Network Topology"
   ]
  },
  {
   "cell_type": "markdown",
   "id": "d106bd37-b21b-4c13-8937-21a2286d2fe1",
   "metadata": {},
   "source": [
    "The topology of the network describes how the ligands are transformed into each other. The network itself forms a graph that can be visualized with the `plot_atommapping_network` function:"
   ]
  },
  {
   "cell_type": "code",
   "execution_count": 3,
   "id": "96de1e7a-baad-4c28-9668-72670d1d6882",
   "metadata": {},
   "outputs": [
    {
     "data": {
      "image/png": "[encoded data removed]",
      "text/plain": [
       "<Figure size 800x800 with 1 Axes>"
      ]
     },
     "execution_count": 3,
     "metadata": {},
     "output_type": "execute_result"
    }
   ],
   "source": [
    "from openfe.utils.atommapping_network_plotting import plot_atommapping_network\n",
    "\n",
    "plot_atommapping_network(ligand_network)"
   ]
  },
  {
   "cell_type": "markdown",
   "id": "62f9222a-ea8a-4243-9399-bb0009425b9e",
   "metadata": {},
   "source": [
    "## Visualizing Edges"
   ]
  },
  {
   "cell_type": "markdown",
   "id": "0a351597-f88c-4879-90c9-bed39c6c049e",
   "metadata": {},
   "source": [
    "The edges of the network each represent a single transformation. They include not only the identities of the two molecules being mutated between, but also the complete mapping between atoms in those molecules. An edge can be visualized with the `view_mapping_3d` function: "
   ]
  },
  {
   "cell_type": "code",
   "execution_count": 4,
   "id": "ac76190d-25fb-4c74-8213-4e0adb41b8f6",
   "metadata": {},
   "outputs": [
    {
     "data": {
      "application/3dmoljs_load.v0": "<div id=\"3dmolviewer_1694565119198287\"  style=\"position: relative; width: 600px; height: 600px\">\n        <p id=\"3dmolwarning_1694565119198287\" style=\"background-color:#ffcccc;color:black\">You appear to be running in JupyterLab (or JavaScript failed to load for some other reason).  You need to install the 3dmol extension: <br>\n        <tt>jupyter labextension install jupyterlab_3dmol</tt></p>\n        </div>\n<script>\n\nvar loadScriptAsync = function(uri){\n  return new Promise((resolve, reject) => {\n    //this is to ignore the existence of requirejs amd\n    var savedexports, savedmodule;\n    if (typeof exports !== 'undefined') savedexports = exports;\n    else exports = {}\n    if (typeof module !== 'undefined') savedmodule = module;\n    else module = {}\n\n    var tag = document.createElement('script');\n    tag.src = uri;\n    tag.async = true;\n    tag.onload = () => {\n        exports = savedexports;\n        module = savedmodule;\n        resolve();\n    };\n  var firstScriptTag = document.getElementsByTagName('script')[0];\n  firstScriptTag.parentNode.insertBefore(tag, firstScriptTag);\n});\n};\n\nif(typeof $3Dmolpromise === 'undefined') {\n$3Dmolpromise = null;\n  $3Dmolpromise = loadScriptAsync('https://cdnjs.cloudflare.com/ajax/libs/3Dmol/2.0.1/3Dmol-min.js');\n}\n\nvar viewer_1694565119198287 = null;\nvar warn = document.getElementById(\"3dmolwarning_1694565119198287\");\nif(warn) {\n    warn.parentNode.removeChild(warn);\n}\n$3Dmolpromise.then(function() {\nviewer_1694565119198287 = $3Dmol.createViewer(document.getElementById(\"3dmolviewer_1694565119198287\"),{backgroundColor:\"white\"});\nviewer_1694565119198287.zoomTo();\n\tviewer_1694565119198287.addModel(\"benzene\\n     RDKit          3D\\n\\n 12 12  0  0  0  0  0  0  0  0999 V2000\\n   18.4780    5.3270    4.7790 C   0  0  0  0  0  0  0  0  0  0  0  0\\n   18.8950    5.0740    3.4990 C   0  0  0  0  0  0  0  0  0  0  0  0\\n   19.8400    5.8600    2.9020 C   0  0  0  0  0  0  0  0  0  0  0  0\\n   20.3370    6.9210    3.5690 C   0  0  0  0  0  0  0  0  0  0  0  0\\n   19.9200    7.1960    4.8560 C   0  0  0  0  0  0  0  0  0  0  0  0\\n   18.9980    6.3790    5.4690 C   0  0  0  0  0  0  0  0  0  0  0  0\\n   17.7298    4.6859    5.2451 H   0  0  0  0  0  0  0  0  0  0  0  0\\n   18.4676    4.2351    2.9497 H   0  0  0  0  0  0  0  0  0  0  0  0\\n   20.1890    5.6311    1.8951 H   0  0  0  0  0  0  0  0  0  0  0  0\\n   21.0730    7.5660    3.0889 H   0  0  0  0  0  0  0  0  0  0  0  0\\n   20.3209    8.0598    5.3863 H   0  0  0  0  0  0  0  0  0  0  0  0\\n   18.6874    6.5720    6.4958 H   0  0  0  0  0  0  0  0  0  0  0  0\\n  1  2  2  0\\n  1  6  1  0\\n  1  7  1  0\\n  2  3  1  0\\n  2  8  1  0\\n  3  4  2  0\\n  3  9  1  0\\n  4  5  1  0\\n  4 10  1  0\\n  5  6  2  0\\n  5 11  1  0\\n  6 12  1  0\\nM  END\\n\",\"molA\");\n\tviewer_1694565119198287.addModel(\"toluene\\n     RDKit          3D\\n\\n 15 15  0  0  0  0  0  0  0  0999 V2000\\n   36.4072    8.7434    5.1220 H   0  0  0  0  0  0  0  0  0  0  0  0\\n   35.6966    8.1433    6.6393 H   0  0  0  0  0  0  0  0  0  0  0  0\\n   35.4864    8.4164    5.6052 C   0  0  0  0  0  0  0  0  0  0  0  0\\n   34.7579    9.2269    5.5838 H   0  0  0  0  0  0  0  0  0  0  0  0\\n   33.4780    5.3270    4.7790 C   0  0  0  0  0  0  0  0  0  0  0  0\\n   33.8950    5.0740    3.4990 C   0  0  0  0  0  0  0  0  0  0  0  0\\n   34.8400    5.8600    2.9020 C   0  0  0  0  0  0  0  0  0  0  0  0\\n   35.3370    6.9210    3.5690 C   0  0  0  0  0  0  0  0  0  0  0  0\\n   34.9200    7.1960    4.8560 C   0  0  0  0  0  0  0  0  0  0  0  0\\n   33.9980    6.3790    5.4690 C   0  0  0  0  0  0  0  0  0  0  0  0\\n   32.7298    4.6859    5.2451 H   0  0  0  0  0  0  0  0  0  0  0  0\\n   33.4676    4.2351    2.9497 H   0  0  0  0  0  0  0  0  0  0  0  0\\n   35.1890    5.6311    1.8951 H   0  0  0  0  0  0  0  0  0  0  0  0\\n   36.0730    7.5660    3.0889 H   0  0  0  0  0  0  0  0  0  0  0  0\\n   33.6874    6.5720    6.4958 H   0  0  0  0  0  0  0  0  0  0  0  0\\n  1  3  1  0\\n  2  3  1  0\\n  3  4  1  0\\n  5  6  2  0\\n  5 10  1  0\\n  5 11  1  0\\n  6  7  1  0\\n  6 12  1  0\\n  7  8  2  0\\n  7 13  1  0\\n  8  9  1  0\\n  8 14  1  0\\n  3  9  1  0\\n  9 10  2  0\\n 10 15  1  0\\nM  END\\n\",\"molB\");\n\tviewer_1694565119198287.addSphere({\"center\": {\"x\": 18.478, \"y\": 5.327, \"z\": 4.779}, \"radius\": 0.6, \"color\": \"#ff0000\", \"alpha\": 0.8});\n\tviewer_1694565119198287.addSphere({\"center\": {\"x\": 33.478, \"y\": 5.327, \"z\": 4.779}, \"radius\": 0.6, \"color\": \"#ff0000\", \"alpha\": 0.8});\n\tviewer_1694565119198287.addSphere({\"center\": {\"x\": 18.895, \"y\": 5.074, \"z\": 3.499}, \"radius\": 0.6, \"color\": \"#ff8900\", \"alpha\": 0.8});\n\tviewer_1694565119198287.addSphere({\"center\": {\"x\": 33.894999999999996, \"y\": 5.074, \"z\": 3.499}, \"radius\": 0.6, \"color\": \"#ff8900\", \"alpha\": 0.8});\n\tviewer_1694565119198287.addSphere({\"center\": {\"x\": 19.84, \"y\": 5.86, \"z\": 2.902}, \"radius\": 0.6, \"color\": \"#ecff00\", \"alpha\": 0.8});\n\tviewer_1694565119198287.addSphere({\"center\": {\"x\": 34.84, \"y\": 5.86, \"z\": 2.902}, \"radius\": 0.6, \"color\": \"#ecff00\", \"alpha\": 0.8});\n\tviewer_1694565119198287.addSphere({\"center\": {\"x\": 20.337, \"y\": 6.921, \"z\": 3.569}, \"radius\": 0.6, \"color\": \"#63ff00\", \"alpha\": 0.8});\n\tviewer_1694565119198287.addSphere({\"center\": {\"x\": 35.337, \"y\": 6.921, \"z\": 3.569}, \"radius\": 0.6, \"color\": \"#63ff00\", \"alpha\": 0.8});\n\tviewer_1694565119198287.addSphere({\"center\": {\"x\": 19.92, \"y\": 7.196, \"z\": 4.856}, \"radius\": 0.6, \"color\": \"#00ff26\", \"alpha\": 0.8});\n\tviewer_1694565119198287.addSphere({\"center\": {\"x\": 34.92, \"y\": 7.196, \"z\": 4.856}, \"radius\": 0.6, \"color\": \"#00ff26\", \"alpha\": 0.8});\n\tviewer_1694565119198287.addSphere({\"center\": {\"x\": 18.998, \"y\": 6.379, \"z\": 5.469}, \"radius\": 0.6, \"color\": \"#00ffaf\", \"alpha\": 0.8});\n\tviewer_1694565119198287.addSphere({\"center\": {\"x\": 33.998000000000005, \"y\": 6.379, \"z\": 5.469}, \"radius\": 0.6, \"color\": \"#00ffaf\", \"alpha\": 0.8});\n\tviewer_1694565119198287.addSphere({\"center\": {\"x\": 17.7298, \"y\": 4.6859, \"z\": 5.2451}, \"radius\": 0.6, \"color\": \"#00c6ff\", \"alpha\": 0.8});\n\tviewer_1694565119198287.addSphere({\"center\": {\"x\": 32.7298, \"y\": 4.6859, \"z\": 5.2451}, \"radius\": 0.6, \"color\": \"#00c6ff\", \"alpha\": 0.8});\n\tviewer_1694565119198287.addSphere({\"center\": {\"x\": 18.4676, \"y\": 4.2351, \"z\": 2.9497}, \"radius\": 0.6, \"color\": \"#003eff\", \"alpha\": 0.8});\n\tviewer_1694565119198287.addSphere({\"center\": {\"x\": 33.467600000000004, \"y\": 4.2351, \"z\": 2.9497}, \"radius\": 0.6, \"color\": \"#003eff\", \"alpha\": 0.8});\n\tviewer_1694565119198287.addSphere({\"center\": {\"x\": 20.189, \"y\": 5.6311, \"z\": 1.8951}, \"radius\": 0.6, \"color\": \"#4b00ff\", \"alpha\": 0.8});\n\tviewer_1694565119198287.addSphere({\"center\": {\"x\": 35.189, \"y\": 5.6311, \"z\": 1.8951}, \"radius\": 0.6, \"color\": \"#4b00ff\", \"alpha\": 0.8});\n\tviewer_1694565119198287.addSphere({\"center\": {\"x\": 21.073, \"y\": 7.566, \"z\": 3.0889}, \"radius\": 0.6, \"color\": \"#d400ff\", \"alpha\": 0.8});\n\tviewer_1694565119198287.addSphere({\"center\": {\"x\": 36.073, \"y\": 7.566, \"z\": 3.0889}, \"radius\": 0.6, \"color\": \"#d400ff\", \"alpha\": 0.8});\n\tviewer_1694565119198287.addSphere({\"center\": {\"x\": 20.3209, \"y\": 8.0598, \"z\": 5.3863}, \"radius\": 0.6, \"color\": \"#ff00a1\", \"alpha\": 0.8});\n\tviewer_1694565119198287.addSphere({\"center\": {\"x\": 35.4864, \"y\": 8.4164, \"z\": 5.6052}, \"radius\": 0.6, \"color\": \"#ff00a1\", \"alpha\": 0.8});\n\tviewer_1694565119198287.addSphere({\"center\": {\"x\": 18.6874, \"y\": 6.572, \"z\": 6.4958}, \"radius\": 0.6, \"color\": \"#ff0018\", \"alpha\": 0.8});\n\tviewer_1694565119198287.addSphere({\"center\": {\"x\": 33.6874, \"y\": 6.572, \"z\": 6.4958}, \"radius\": 0.6, \"color\": \"#ff0018\", \"alpha\": 0.8});\n\tviewer_1694565119198287.addModel(\"benzene\\n     RDKit          3D\\n\\n 12 12  0  0  0  0  0  0  0  0999 V2000\\n   25.9780    5.3270    4.7790 C   0  0  0  0  0  0  0  0  0  0  0  0\\n   26.3950    5.0740    3.4990 C   0  0  0  0  0  0  0  0  0  0  0  0\\n   27.3400    5.8600    2.9020 C   0  0  0  0  0  0  0  0  0  0  0  0\\n   27.8370    6.9210    3.5690 C   0  0  0  0  0  0  0  0  0  0  0  0\\n   27.4200    7.1960    4.8560 C   0  0  0  0  0  0  0  0  0  0  0  0\\n   26.4980    6.3790    5.4690 C   0  0  0  0  0  0  0  0  0  0  0  0\\n   25.2298    4.6859    5.2451 H   0  0  0  0  0  0  0  0  0  0  0  0\\n   25.9676    4.2351    2.9497 H   0  0  0  0  0  0  0  0  0  0  0  0\\n   27.6890    5.6311    1.8951 H   0  0  0  0  0  0  0  0  0  0  0  0\\n   28.5730    7.5660    3.0889 H   0  0  0  0  0  0  0  0  0  0  0  0\\n   27.8209    8.0598    5.3863 H   0  0  0  0  0  0  0  0  0  0  0  0\\n   26.1874    6.5720    6.4958 H   0  0  0  0  0  0  0  0  0  0  0  0\\n  1  2  2  0\\n  1  6  1  0\\n  1  7  1  0\\n  2  3  1  0\\n  2  8  1  0\\n  3  4  2  0\\n  3  9  1  0\\n  4  5  1  0\\n  4 10  1  0\\n  5  6  2  0\\n  5 11  1  0\\n  6 12  1  0\\nM  END\\n\",\"molA_overlay\");\n\tviewer_1694565119198287.addModel(\"toluene\\n     RDKit          3D\\n\\n 15 15  0  0  0  0  0  0  0  0999 V2000\\n   28.9072    8.7434    5.1220 H   0  0  0  0  0  0  0  0  0  0  0  0\\n   28.1966    8.1433    6.6393 H   0  0  0  0  0  0  0  0  0  0  0  0\\n   27.9864    8.4164    5.6052 C   0  0  0  0  0  0  0  0  0  0  0  0\\n   27.2579    9.2269    5.5838 H   0  0  0  0  0  0  0  0  0  0  0  0\\n   25.9780    5.3270    4.7790 C   0  0  0  0  0  0  0  0  0  0  0  0\\n   26.3950    5.0740    3.4990 C   0  0  0  0  0  0  0  0  0  0  0  0\\n   27.3400    5.8600    2.9020 C   0  0  0  0  0  0  0  0  0  0  0  0\\n   27.8370    6.9210    3.5690 C   0  0  0  0  0  0  0  0  0  0  0  0\\n   27.4200    7.1960    4.8560 C   0  0  0  0  0  0  0  0  0  0  0  0\\n   26.4980    6.3790    5.4690 C   0  0  0  0  0  0  0  0  0  0  0  0\\n   25.2298    4.6859    5.2451 H   0  0  0  0  0  0  0  0  0  0  0  0\\n   25.9676    4.2351    2.9497 H   0  0  0  0  0  0  0  0  0  0  0  0\\n   27.6890    5.6311    1.8951 H   0  0  0  0  0  0  0  0  0  0  0  0\\n   28.5730    7.5660    3.0889 H   0  0  0  0  0  0  0  0  0  0  0  0\\n   26.1874    6.5720    6.4958 H   0  0  0  0  0  0  0  0  0  0  0  0\\n  1  3  1  0\\n  2  3  1  0\\n  3  4  1  0\\n  5  6  2  0\\n  5 10  1  0\\n  5 11  1  0\\n  6  7  1  0\\n  6 12  1  0\\n  7  8  2  0\\n  7 13  1  0\\n  8  9  1  0\\n  8 14  1  0\\n  3  9  1  0\\n  9 10  2  0\\n 10 15  1  0\\nM  END\\n\",\"molB_overlay\");\n\tviewer_1694565119198287.setStyle({\"stick\": {}});\n\tviewer_1694565119198287.zoomTo();\nviewer_1694565119198287.render();\n});\n</script>",
      "text/html": [
       "<div id=\"3dmolviewer_1694565119198287\"  style=\"position: relative; width: 600px; height: 600px\">\n",
       "        <p id=\"3dmolwarning_1694565119198287\" style=\"background-color:#ffcccc;color:black\">You appear to be running in JupyterLab (or JavaScript failed to load for some other reason).  You need to install the 3dmol extension: <br>\n",
       "        <tt>jupyter labextension install jupyterlab_3dmol</tt></p>\n",
       "        </div>\n",
       "<script>\n",
       "\n",
       "var loadScriptAsync = function(uri){\n",
       "  return new Promise((resolve, reject) => {\n",
       "    //this is to ignore the existence of requirejs amd\n",
       "    var savedexports, savedmodule;\n",
       "    if (typeof exports !== 'undefined') savedexports = exports;\n",
       "    else exports = {}\n",
       "    if (typeof module !== 'undefined') savedmodule = module;\n",
       "    else module = {}\n",
       "\n",
       "    var tag = document.createElement('script');\n",
       "    tag.src = uri;\n",
       "    tag.async = true;\n",
       "    tag.onload = () => {\n",
       "        exports = savedexports;\n",
       "        module = savedmodule;\n",
       "        resolve();\n",
       "    };\n",
       "  var firstScriptTag = document.getElementsByTagName('script')[0];\n",
       "  firstScriptTag.parentNode.insertBefore(tag, firstScriptTag);\n",
       "});\n",
       "};\n",
       "\n",
       "if(typeof $3Dmolpromise === 'undefined') {\n",
       "$3Dmolpromise = null;\n",
       "  $3Dmolpromise = loadScriptAsync('https://cdnjs.cloudflare.com/ajax/libs/3Dmol/2.0.1/3Dmol-min.js');\n",
       "}\n",
       "\n",
       "var viewer_1694565119198287 = null;\n",
       "var warn = document.getElementById(\"3dmolwarning_1694565119198287\");\n",
       "if(warn) {\n",
       "    warn.parentNode.removeChild(warn);\n",
       "}\n",
       "$3Dmolpromise.then(function() {\n",
       "viewer_1694565119198287 = $3Dmol.createViewer(document.getElementById(\"3dmolviewer_1694565119198287\"),{backgroundColor:\"white\"});\n",
       "viewer_1694565119198287.zoomTo();\n",
       "\tviewer_1694565119198287.addModel(\"benzene\\n     RDKit          3D\\n\\n 12 12  0  0  0  0  0  0  0  0999 V2000\\n   18.4780    5.3270    4.7790 C   0  0  0  0  0  0  0  0  0  0  0  0\\n   18.8950    5.0740    3.4990 C   0  0  0  0  0  0  0  0  0  0  0  0\\n   19.8400    5.8600    2.9020 C   0  0  0  0  0  0  0  0  0  0  0  0\\n   20.3370    6.9210    3.5690 C   0  0  0  0  0  0  0  0  0  0  0  0\\n   19.9200    7.1960    4.8560 C   0  0  0  0  0  0  0  0  0  0  0  0\\n   18.9980    6.3790    5.4690 C   0  0  0  0  0  0  0  0  0  0  0  0\\n   17.7298    4.6859    5.2451 H   0  0  0  0  0  0  0  0  0  0  0  0\\n   18.4676    4.2351    2.9497 H   0  0  0  0  0  0  0  0  0  0  0  0\\n   20.1890    5.6311    1.8951 H   0  0  0  0  0  0  0  0  0  0  0  0\\n   21.0730    7.5660    3.0889 H   0  0  0  0  0  0  0  0  0  0  0  0\\n   20.3209    8.0598    5.3863 H   0  0  0  0  0  0  0  0  0  0  0  0\\n   18.6874    6.5720    6.4958 H   0  0  0  0  0  0  0  0  0  0  0  0\\n  1  2  2  0\\n  1  6  1  0\\n  1  7  1  0\\n  2  3  1  0\\n  2  8  1  0\\n  3  4  2  0\\n  3  9  1  0\\n  4  5  1  0\\n  4 10  1  0\\n  5  6  2  0\\n  5 11  1  0\\n  6 12  1  0\\nM  END\\n\",\"molA\");\n",
       "\tviewer_1694565119198287.addModel(\"toluene\\n     RDKit          3D\\n\\n 15 15  0  0  0  0  0  0  0  0999 V2000\\n   36.4072    8.7434    5.1220 H   0  0  0  0  0  0  0  0  0  0  0  0\\n   35.6966    8.1433    6.6393 H   0  0  0  0  0  0  0  0  0  0  0  0\\n   35.4864    8.4164    5.6052 C   0  0  0  0  0  0  0  0  0  0  0  0\\n   34.7579    9.2269    5.5838 H   0  0  0  0  0  0  0  0  0  0  0  0\\n   33.4780    5.3270    4.7790 C   0  0  0  0  0  0  0  0  0  0  0  0\\n   33.8950    5.0740    3.4990 C   0  0  0  0  0  0  0  0  0  0  0  0\\n   34.8400    5.8600    2.9020 C   0  0  0  0  0  0  0  0  0  0  0  0\\n   35.3370    6.9210    3.5690 C   0  0  0  0  0  0  0  0  0  0  0  0\\n   34.9200    7.1960    4.8560 C   0  0  0  0  0  0  0  0  0  0  0  0\\n   33.9980    6.3790    5.4690 C   0  0  0  0  0  0  0  0  0  0  0  0\\n   32.7298    4.6859    5.2451 H   0  0  0  0  0  0  0  0  0  0  0  0\\n   33.4676    4.2351    2.9497 H   0  0  0  0  0  0  0  0  0  0  0  0\\n   35.1890    5.6311    1.8951 H   0  0  0  0  0  0  0  0  0  0  0  0\\n   36.0730    7.5660    3.0889 H   0  0  0  0  0  0  0  0  0  0  0  0\\n   33.6874    6.5720    6.4958 H   0  0  0  0  0  0  0  0  0  0  0  0\\n  1  3  1  0\\n  2  3  1  0\\n  3  4  1  0\\n  5  6  2  0\\n  5 10  1  0\\n  5 11  1  0\\n  6  7  1  0\\n  6 12  1  0\\n  7  8  2  0\\n  7 13  1  0\\n  8  9  1  0\\n  8 14  1  0\\n  3  9  1  0\\n  9 10  2  0\\n 10 15  1  0\\nM  END\\n\",\"molB\");\n",
       "\tviewer_1694565119198287.addSphere({\"center\": {\"x\": 18.478, \"y\": 5.327, \"z\": 4.779}, \"radius\": 0.6, \"color\": \"#ff0000\", \"alpha\": 0.8});\n",
       "\tviewer_1694565119198287.addSphere({\"center\": {\"x\": 33.478, \"y\": 5.327, \"z\": 4.779}, \"radius\": 0.6, \"color\": \"#ff0000\", \"alpha\": 0.8});\n",
       "\tviewer_1694565119198287.addSphere({\"center\": {\"x\": 18.895, \"y\": 5.074, \"z\": 3.499}, \"radius\": 0.6, \"color\": \"#ff8900\", \"alpha\": 0.8});\n",
       "\tviewer_1694565119198287.addSphere({\"center\": {\"x\": 33.894999999999996, \"y\": 5.074, \"z\": 3.499}, \"radius\": 0.6, \"color\": \"#ff8900\", \"alpha\": 0.8});\n",
       "\tviewer_1694565119198287.addSphere({\"center\": {\"x\": 19.84, \"y\": 5.86, \"z\": 2.902}, \"radius\": 0.6, \"color\": \"#ecff00\", \"alpha\": 0.8});\n",
       "\tviewer_1694565119198287.addSphere({\"center\": {\"x\": 34.84, \"y\": 5.86, \"z\": 2.902}, \"radius\": 0.6, \"color\": \"#ecff00\", \"alpha\": 0.8});\n",
       "\tviewer_1694565119198287.addSphere({\"center\": {\"x\": 20.337, \"y\": 6.921, \"z\": 3.569}, \"radius\": 0.6, \"color\": \"#63ff00\", \"alpha\": 0.8});\n",
       "\tviewer_1694565119198287.addSphere({\"center\": {\"x\": 35.337, \"y\": 6.921, \"z\": 3.569}, \"radius\": 0.6, \"color\": \"#63ff00\", \"alpha\": 0.8});\n",
       "\tviewer_1694565119198287.addSphere({\"center\": {\"x\": 19.92, \"y\": 7.196, \"z\": 4.856}, \"radius\": 0.6, \"color\": \"#00ff26\", \"alpha\": 0.8});\n",
       "\tviewer_1694565119198287.addSphere({\"center\": {\"x\": 34.92, \"y\": 7.196, \"z\": 4.856}, \"radius\": 0.6, \"color\": \"#00ff26\", \"alpha\": 0.8});\n",
       "\tviewer_1694565119198287.addSphere({\"center\": {\"x\": 18.998, \"y\": 6.379, \"z\": 5.469}, \"radius\": 0.6, \"color\": \"#00ffaf\", \"alpha\": 0.8});\n",
       "\tviewer_1694565119198287.addSphere({\"center\": {\"x\": 33.998000000000005, \"y\": 6.379, \"z\": 5.469}, \"radius\": 0.6, \"color\": \"#00ffaf\", \"alpha\": 0.8});\n",
       "\tviewer_1694565119198287.addSphere({\"center\": {\"x\": 17.7298, \"y\": 4.6859, \"z\": 5.2451}, \"radius\": 0.6, \"color\": \"#00c6ff\", \"alpha\": 0.8});\n",
       "\tviewer_1694565119198287.addSphere({\"center\": {\"x\": 32.7298, \"y\": 4.6859, \"z\": 5.2451}, \"radius\": 0.6, \"color\": \"#00c6ff\", \"alpha\": 0.8});\n",
       "\tviewer_1694565119198287.addSphere({\"center\": {\"x\": 18.4676, \"y\": 4.2351, \"z\": 2.9497}, \"radius\": 0.6, \"color\": \"#003eff\", \"alpha\": 0.8});\n",
       "\tviewer_1694565119198287.addSphere({\"center\": {\"x\": 33.467600000000004, \"y\": 4.2351, \"z\": 2.9497}, \"radius\": 0.6, \"color\": \"#003eff\", \"alpha\": 0.8});\n",
       "\tviewer_1694565119198287.addSphere({\"center\": {\"x\": 20.189, \"y\": 5.6311, \"z\": 1.8951}, \"radius\": 0.6, \"color\": \"#4b00ff\", \"alpha\": 0.8});\n",
       "\tviewer_1694565119198287.addSphere({\"center\": {\"x\": 35.189, \"y\": 5.6311, \"z\": 1.8951}, \"radius\": 0.6, \"color\": \"#4b00ff\", \"alpha\": 0.8});\n",
       "\tviewer_1694565119198287.addSphere({\"center\": {\"x\": 21.073, \"y\": 7.566, \"z\": 3.0889}, \"radius\": 0.6, \"color\": \"#d400ff\", \"alpha\": 0.8});\n",
       "\tviewer_1694565119198287.addSphere({\"center\": {\"x\": 36.073, \"y\": 7.566, \"z\": 3.0889}, \"radius\": 0.6, \"color\": \"#d400ff\", \"alpha\": 0.8});\n",
       "\tviewer_1694565119198287.addSphere({\"center\": {\"x\": 20.3209, \"y\": 8.0598, \"z\": 5.3863}, \"radius\": 0.6, \"color\": \"#ff00a1\", \"alpha\": 0.8});\n",
       "\tviewer_1694565119198287.addSphere({\"center\": {\"x\": 35.4864, \"y\": 8.4164, \"z\": 5.6052}, \"radius\": 0.6, \"color\": \"#ff00a1\", \"alpha\": 0.8});\n",
       "\tviewer_1694565119198287.addSphere({\"center\": {\"x\": 18.6874, \"y\": 6.572, \"z\": 6.4958}, \"radius\": 0.6, \"color\": \"#ff0018\", \"alpha\": 0.8});\n",
       "\tviewer_1694565119198287.addSphere({\"center\": {\"x\": 33.6874, \"y\": 6.572, \"z\": 6.4958}, \"radius\": 0.6, \"color\": \"#ff0018\", \"alpha\": 0.8});\n",
       "\tviewer_1694565119198287.addModel(\"benzene\\n     RDKit          3D\\n\\n 12 12  0  0  0  0  0  0  0  0999 V2000\\n   25.9780    5.3270    4.7790 C   0  0  0  0  0  0  0  0  0  0  0  0\\n   26.3950    5.0740    3.4990 C   0  0  0  0  0  0  0  0  0  0  0  0\\n   27.3400    5.8600    2.9020 C   0  0  0  0  0  0  0  0  0  0  0  0\\n   27.8370    6.9210    3.5690 C   0  0  0  0  0  0  0  0  0  0  0  0\\n   27.4200    7.1960    4.8560 C   0  0  0  0  0  0  0  0  0  0  0  0\\n   26.4980    6.3790    5.4690 C   0  0  0  0  0  0  0  0  0  0  0  0\\n   25.2298    4.6859    5.2451 H   0  0  0  0  0  0  0  0  0  0  0  0\\n   25.9676    4.2351    2.9497 H   0  0  0  0  0  0  0  0  0  0  0  0\\n   27.6890    5.6311    1.8951 H   0  0  0  0  0  0  0  0  0  0  0  0\\n   28.5730    7.5660    3.0889 H   0  0  0  0  0  0  0  0  0  0  0  0\\n   27.8209    8.0598    5.3863 H   0  0  0  0  0  0  0  0  0  0  0  0\\n   26.1874    6.5720    6.4958 H   0  0  0  0  0  0  0  0  0  0  0  0\\n  1  2  2  0\\n  1  6  1  0\\n  1  7  1  0\\n  2  3  1  0\\n  2  8  1  0\\n  3  4  2  0\\n  3  9  1  0\\n  4  5  1  0\\n  4 10  1  0\\n  5  6  2  0\\n  5 11  1  0\\n  6 12  1  0\\nM  END\\n\",\"molA_overlay\");\n",
       "\tviewer_1694565119198287.addModel(\"toluene\\n     RDKit          3D\\n\\n 15 15  0  0  0  0  0  0  0  0999 V2000\\n   28.9072    8.7434    5.1220 H   0  0  0  0  0  0  0  0  0  0  0  0\\n   28.1966    8.1433    6.6393 H   0  0  0  0  0  0  0  0  0  0  0  0\\n   27.9864    8.4164    5.6052 C   0  0  0  0  0  0  0  0  0  0  0  0\\n   27.2579    9.2269    5.5838 H   0  0  0  0  0  0  0  0  0  0  0  0\\n   25.9780    5.3270    4.7790 C   0  0  0  0  0  0  0  0  0  0  0  0\\n   26.3950    5.0740    3.4990 C   0  0  0  0  0  0  0  0  0  0  0  0\\n   27.3400    5.8600    2.9020 C   0  0  0  0  0  0  0  0  0  0  0  0\\n   27.8370    6.9210    3.5690 C   0  0  0  0  0  0  0  0  0  0  0  0\\n   27.4200    7.1960    4.8560 C   0  0  0  0  0  0  0  0  0  0  0  0\\n   26.4980    6.3790    5.4690 C   0  0  0  0  0  0  0  0  0  0  0  0\\n   25.2298    4.6859    5.2451 H   0  0  0  0  0  0  0  0  0  0  0  0\\n   25.9676    4.2351    2.9497 H   0  0  0  0  0  0  0  0  0  0  0  0\\n   27.6890    5.6311    1.8951 H   0  0  0  0  0  0  0  0  0  0  0  0\\n   28.5730    7.5660    3.0889 H   0  0  0  0  0  0  0  0  0  0  0  0\\n   26.1874    6.5720    6.4958 H   0  0  0  0  0  0  0  0  0  0  0  0\\n  1  3  1  0\\n  2  3  1  0\\n  3  4  1  0\\n  5  6  2  0\\n  5 10  1  0\\n  5 11  1  0\\n  6  7  1  0\\n  6 12  1  0\\n  7  8  2  0\\n  7 13  1  0\\n  8  9  1  0\\n  8 14  1  0\\n  3  9  1  0\\n  9 10  2  0\\n 10 15  1  0\\nM  END\\n\",\"molB_overlay\");\n",
       "\tviewer_1694565119198287.setStyle({\"stick\": {}});\n",
       "\tviewer_1694565119198287.zoomTo();\n",
       "viewer_1694565119198287.render();\n",
       "});\n",
       "</script>"
      ]
     },
     "metadata": {},
     "output_type": "display_data"
    },
    {
     "data": {
      "text/plain": [
       "<py3Dmol.view at 0x7fa41efd8290>"
      ]
     },
     "execution_count": 4,
     "metadata": {},
     "output_type": "execute_result"
    }
   ],
   "source": [
    "from openfe.utils.visualization_3D import view_mapping_3d\n",
    "\n",
    "benzene_to_toluene = [\n",
    "    edge for edge in ligand_network.edges \n",
    "    if {edge.componentA.name, edge.componentB.name} == {\"benzene\", \"toluene\"}\n",
    "][0]\n",
    "\n",
    "view_mapping_3d(benzene_to_toluene)"
   ]
  },
  {
   "cell_type": "markdown",
   "id": "45153033-5add-4821-9b5c-06a9d4ecd6c6",
   "metadata": {},
   "source": [
    "In the middle, both molecules are overlaid to demonstrate their 3D alignment. Each molecule is also depicted on its own on either side, with colored spheres indicating atoms that are mutated into each other. For instance, one of the benzene's hydrogen atoms is highlighted in the same color as the toluene's methyl carbon, indicating that this hydrogen mutates into the methyl carbon. Atoms without spheres vanish over the transformation, rather than being mutated into another atom."
   ]
  },
  {
   "cell_type": "markdown",
   "id": "23467374-eef1-4a6d-9926-c740bf200d02",
   "metadata": {
    "editable": true,
    "nbsphinx": "hidden",
    "slideshow": {
     "slide_type": ""
    },
    "tags": []
   },
   "source": [
    "The IPyWidgets `interact` function can be used to easily inspect each edge:"
   ]
  },
  {
   "cell_type": "code",
   "execution_count": 5,
   "id": "c3f1ba03-d797-4243-ba6f-50d445c87b76",
   "metadata": {
    "editable": true,
    "nbsphinx": "hidden",
    "slideshow": {
     "slide_type": ""
    },
    "tags": []
   },
   "outputs": [
    {
     "data": {
      "application/vnd.jupyter.widget-view+json": {
       "model_id": "a8424842467c4d0bb612cf4049b1e223",
       "version_major": 2,
       "version_minor": 0
      },
      "text/plain": [
       "interactive(children=(Dropdown(description='mapping', options=(('phenol -> anisole', LigandAtomMapping(compone…"
      ]
     },
     "metadata": {},
     "output_type": "display_data"
    },
    {
     "data": {
      "text/plain": [
       "<function __main__.<lambda>(**kwargs)>"
      ]
     },
     "execution_count": 5,
     "metadata": {},
     "output_type": "execute_result"
    }
   ],
   "source": [
    "from openfe.utils.visualization_3D import view_mapping_3d\n",
    "from ipywidgets import interact\n",
    "\n",
    "interact(\n",
    "    lambda **kwargs: view_mapping_3d(**kwargs),\n",
    "    mapping=[\n",
    "        (f\"{edge.componentA.name} -> {edge.componentB.name}\", edge)\n",
    "        for edge in ligand_network.edges\n",
    "    ],\n",
    "    spheres=True, \n",
    "    show_atomIDs=True,\n",
    ")"
   ]
  },
  {
   "cell_type": "markdown",
   "id": "0f12e51e-f9a9-44e1-a90f-80dea5989ab6",
   "metadata": {},
   "source": [
    "## Visualizing Nodes"
   ]
  },
  {
   "cell_type": "markdown",
   "id": "673b85c6-b1d8-46a7-8efc-237f22003010",
   "metadata": {},
   "source": [
    "Sometimes it is helpful to visualize all the ligands together, for instance to inspect their alignment. This can be done with the `view_components_3d` function."
   ]
  },
  {
   "cell_type": "code",
   "execution_count": 6,
   "id": "7beba61c-4500-411d-a947-6beec171accf",
   "metadata": {},
   "outputs": [
    {
     "data": {
      "application/3dmoljs_load.v0": "<div id=\"3dmolviewer_1694502415836756\"  style=\"position: relative; width: 600px; height: 600px\">\n        <p id=\"3dmolwarning_1694502415836756\" style=\"background-color:#ffcccc;color:black\">You appear to be running in JupyterLab (or JavaScript failed to load for some other reason).  You need to install the 3dmol extension: <br>\n        <tt>jupyter labextension install jupyterlab_3dmol</tt></p>\n        </div>\n<script>\n\nvar loadScriptAsync = function(uri){\n  return new Promise((resolve, reject) => {\n    //this is to ignore the existence of requirejs amd\n    var savedexports, savedmodule;\n    if (typeof exports !== 'undefined') savedexports = exports;\n    else exports = {}\n    if (typeof module !== 'undefined') savedmodule = module;\n    else module = {}\n\n    var tag = document.createElement('script');\n    tag.src = uri;\n    tag.async = true;\n    tag.onload = () => {\n        exports = savedexports;\n        module = savedmodule;\n        resolve();\n    };\n  var firstScriptTag = document.getElementsByTagName('script')[0];\n  firstScriptTag.parentNode.insertBefore(tag, firstScriptTag);\n});\n};\n\nif(typeof $3Dmolpromise === 'undefined') {\n$3Dmolpromise = null;\n  $3Dmolpromise = loadScriptAsync('https://cdnjs.cloudflare.com/ajax/libs/3Dmol/2.0.1/3Dmol-min.js');\n}\n\nvar viewer_1694502415836756 = null;\nvar warn = document.getElementById(\"3dmolwarning_1694502415836756\");\nif(warn) {\n    warn.parentNode.removeChild(warn);\n}\n$3Dmolpromise.then(function() {\nviewer_1694502415836756 = $3Dmol.createViewer(document.getElementById(\"3dmolviewer_1694502415836756\"),{backgroundColor:\"white\"});\nviewer_1694502415836756.zoomTo();\n\tviewer_1694502415836756.addModel(\"anisole\\n     RDKit          3D\\n\\n 16 16  0  0  0  0  0  0  0  0999 V2000\\n   29.2873    8.8784    4.9226 C   0  0  0  0  0  0  0  0  0  0  0  0\\n   29.5502    9.7990    5.4437 H   0  0  0  0  0  0  0  0  0  0  0  0\\n   28.0548    8.3459    5.4720 O   0  0  0  0  0  0  0  0  0  0  0  0\\n   30.0866    8.1484    5.0502 H   0  0  0  0  0  0  0  0  0  0  0  0\\n   29.1525    9.0868    3.8612 H   0  0  0  0  0  0  0  0  0  0  0  0\\n   25.9780    5.3270    4.7790 C   0  0  0  0  0  0  0  0  0  0  0  0\\n   26.3950    5.0740    3.4990 C   0  0  0  0  0  0  0  0  0  0  0  0\\n   27.3400    5.8600    2.9020 C   0  0  0  0  0  0  0  0  0  0  0  0\\n   27.8370    6.9210    3.5690 C   0  0  0  0  0  0  0  0  0  0  0  0\\n   27.4200    7.1960    4.8560 C   0  0  0  0  0  0  0  0  0  0  0  0\\n   26.4980    6.3790    5.4690 C   0  0  0  0  0  0  0  0  0  0  0  0\\n   25.2298    4.6859    5.2451 H   0  0  0  0  0  0  0  0  0  0  0  0\\n   25.9676    4.2351    2.9497 H   0  0  0  0  0  0  0  0  0  0  0  0\\n   27.6890    5.6311    1.8951 H   0  0  0  0  0  0  0  0  0  0  0  0\\n   28.5730    7.5660    3.0889 H   0  0  0  0  0  0  0  0  0  0  0  0\\n   26.1874    6.5720    6.4958 H   0  0  0  0  0  0  0  0  0  0  0  0\\n  1  2  1  0\\n  1  4  1  0\\n  1  5  1  0\\n  1  3  1  0\\n  6  7  2  0\\n  6 11  1  0\\n  6 12  1  0\\n  7  8  1  0\\n  7 13  1  0\\n  8  9  2  0\\n  8 14  1  0\\n  9 10  1  0\\n  9 15  1  0\\n  3 10  1  0\\n 10 11  2  0\\n 11 16  1  0\\nM  END\\n\");\n\tviewer_1694502415836756.addModel(\"benzaldehyde\\n     RDKit          3D\\n\\n 14 14  0  0  0  0  0  0  0  0999 V2000\\n   29.2079    8.8492    4.9632 O   0  0  0  0  0  0  0  0  0  0  0  0\\n   27.5482    8.8691    6.4597 H   0  0  0  0  0  0  0  0  0  0  0  0\\n   27.9981    8.4043    5.5824 C   0  0  0  0  0  0  0  0  0  0  0  0\\n   25.9780    5.3270    4.7790 C   0  0  0  0  0  0  0  0  0  0  0  0\\n   26.3950    5.0740    3.4990 C   0  0  0  0  0  0  0  0  0  0  0  0\\n   27.3400    5.8600    2.9020 C   0  0  0  0  0  0  0  0  0  0  0  0\\n   27.8370    6.9210    3.5690 C   0  0  0  0  0  0  0  0  0  0  0  0\\n   27.4200    7.1960    4.8560 C   0  0  0  0  0  0  0  0  0  0  0  0\\n   26.4980    6.3790    5.4690 C   0  0  0  0  0  0  0  0  0  0  0  0\\n   25.2298    4.6859    5.2451 H   0  0  0  0  0  0  0  0  0  0  0  0\\n   25.9676    4.2351    2.9497 H   0  0  0  0  0  0  0  0  0  0  0  0\\n   27.6890    5.6311    1.8951 H   0  0  0  0  0  0  0  0  0  0  0  0\\n   28.5730    7.5660    3.0889 H   0  0  0  0  0  0  0  0  0  0  0  0\\n   26.1874    6.5720    6.4958 H   0  0  0  0  0  0  0  0  0  0  0  0\\n  1  3  2  0\\n  2  3  1  0\\n  4  5  2  0\\n  4  9  1  0\\n  4 10  1  0\\n  5  6  1  0\\n  5 11  1  0\\n  6  7  2  0\\n  6 12  1  0\\n  7  8  1  0\\n  7 13  1  0\\n  3  8  1  0\\n  8  9  2  0\\n  9 14  1  0\\nM  END\\n\");\n\tviewer_1694502415836756.addModel(\"phenol\\n     RDKit          3D\\n\\n 13 13  0  0  0  0  0  0  0  0999 V2000\\n   25.9780    5.3270    4.7790 C   0  0  0  0  0  0  0  0  0  0  0  0\\n   26.3950    5.0740    3.4990 C   0  0  0  0  0  0  0  0  0  0  0  0\\n   27.3400    5.8600    2.9020 C   0  0  0  0  0  0  0  0  0  0  0  0\\n   27.8370    6.9210    3.5690 C   0  0  0  0  0  0  0  0  0  0  0  0\\n   27.4200    7.1960    4.8560 C   0  0  0  0  0  0  0  0  0  0  0  0\\n   26.4980    6.3790    5.4690 C   0  0  0  0  0  0  0  0  0  0  0  0\\n   25.2298    4.6859    5.2451 H   0  0  0  0  0  0  0  0  0  0  0  0\\n   25.9676    4.2351    2.9497 H   0  0  0  0  0  0  0  0  0  0  0  0\\n   27.6890    5.6311    1.8951 H   0  0  0  0  0  0  0  0  0  0  0  0\\n   28.5730    7.5660    3.0889 H   0  0  0  0  0  0  0  0  0  0  0  0\\n   28.1311    8.0887    6.4624 H   0  0  0  0  0  0  0  0  0  0  0  0\\n   26.1874    6.5720    6.4958 H   0  0  0  0  0  0  0  0  0  0  0  0\\n   27.9460    8.3293    5.5517 O   0  0  0  0  0  0  0  0  0  0  0  0\\n  1  2  2  0\\n  1  6  1  0\\n  1  7  1  0\\n  2  3  1  0\\n  2  8  1  0\\n  3  4  2  0\\n  3  9  1  0\\n  4  5  1  0\\n  4 10  1  0\\n  5  6  2  0\\n  5 13  1  0\\n  6 12  1  0\\n 11 13  1  0\\nM  END\\n\");\n\tviewer_1694502415836756.addModel(\"styrene\\n     RDKit          3D\\n\\n 16 16  0  0  0  0  0  0  0  0999 V2000\\n   29.2873    8.8784    4.9226 C   0  0  0  0  0  0  0  0  0  0  0  0\\n   29.6609    8.3486    4.0463 H   0  0  0  0  0  0  0  0  0  0  0  0\\n   29.8344    9.7353    5.3157 H   0  0  0  0  0  0  0  0  0  0  0  0\\n   27.5365    8.8812    6.4825 H   0  0  0  0  0  0  0  0  0  0  0  0\\n   27.9864    8.4164    5.6052 C   0  0  0  0  0  0  0  0  0  0  0  0\\n   25.9780    5.3270    4.7790 C   0  0  0  0  0  0  0  0  0  0  0  0\\n   26.3950    5.0740    3.4990 C   0  0  0  0  0  0  0  0  0  0  0  0\\n   27.3400    5.8600    2.9020 C   0  0  0  0  0  0  0  0  0  0  0  0\\n   27.8370    6.9210    3.5690 C   0  0  0  0  0  0  0  0  0  0  0  0\\n   27.4200    7.1960    4.8560 C   0  0  0  0  0  0  0  0  0  0  0  0\\n   26.4980    6.3790    5.4690 C   0  0  0  0  0  0  0  0  0  0  0  0\\n   25.2298    4.6859    5.2451 H   0  0  0  0  0  0  0  0  0  0  0  0\\n   25.9676    4.2351    2.9497 H   0  0  0  0  0  0  0  0  0  0  0  0\\n   27.6890    5.6311    1.8951 H   0  0  0  0  0  0  0  0  0  0  0  0\\n   28.5730    7.5660    3.0889 H   0  0  0  0  0  0  0  0  0  0  0  0\\n   26.1874    6.5720    6.4958 H   0  0  0  0  0  0  0  0  0  0  0  0\\n  1  2  1  0\\n  1  3  1  0\\n  1  5  2  0\\n  4  5  1  0\\n  6  7  2  0\\n  6 11  1  0\\n  6 12  1  0\\n  7  8  1  0\\n  7 13  1  0\\n  8  9  2  0\\n  8 14  1  0\\n  9 10  1  0\\n  9 15  1  0\\n  5 10  1  0\\n 10 11  2  0\\n 11 16  1  0\\nM  END\\n\");\n\tviewer_1694502415836756.addModel(\"benzene\\n     RDKit          3D\\n\\n 12 12  0  0  0  0  0  0  0  0999 V2000\\n   25.9780    5.3270    4.7790 C   0  0  0  0  0  0  0  0  0  0  0  0\\n   26.3950    5.0740    3.4990 C   0  0  0  0  0  0  0  0  0  0  0  0\\n   27.3400    5.8600    2.9020 C   0  0  0  0  0  0  0  0  0  0  0  0\\n   27.8370    6.9210    3.5690 C   0  0  0  0  0  0  0  0  0  0  0  0\\n   27.4200    7.1960    4.8560 C   0  0  0  0  0  0  0  0  0  0  0  0\\n   26.4980    6.3790    5.4690 C   0  0  0  0  0  0  0  0  0  0  0  0\\n   25.2298    4.6859    5.2451 H   0  0  0  0  0  0  0  0  0  0  0  0\\n   25.9676    4.2351    2.9497 H   0  0  0  0  0  0  0  0  0  0  0  0\\n   27.6890    5.6311    1.8951 H   0  0  0  0  0  0  0  0  0  0  0  0\\n   28.5730    7.5660    3.0889 H   0  0  0  0  0  0  0  0  0  0  0  0\\n   27.8209    8.0598    5.3863 H   0  0  0  0  0  0  0  0  0  0  0  0\\n   26.1874    6.5720    6.4958 H   0  0  0  0  0  0  0  0  0  0  0  0\\n  1  2  2  0\\n  1  6  1  0\\n  1  7  1  0\\n  2  3  1  0\\n  2  8  1  0\\n  3  4  2  0\\n  3  9  1  0\\n  4  5  1  0\\n  4 10  1  0\\n  5  6  2  0\\n  5 11  1  0\\n  6 12  1  0\\nM  END\\n\");\n\tviewer_1694502415836756.addModel(\"benzonitrile\\n     RDKit          3D\\n\\n 13 13  0  0  0  0  0  0  0  0999 V2000\\n   28.5559    9.5700    6.2831 N   0  0  0  0  0  0  0  0  0  0  0  0\\n   27.9981    8.4043    5.5824 C   0  0  0  0  0  0  0  0  0  0  0  0\\n   25.9780    5.3270    4.7790 C   0  0  0  0  0  0  0  0  0  0  0  0\\n   26.3950    5.0740    3.4990 C   0  0  0  0  0  0  0  0  0  0  0  0\\n   27.3400    5.8600    2.9020 C   0  0  0  0  0  0  0  0  0  0  0  0\\n   27.8370    6.9210    3.5690 C   0  0  0  0  0  0  0  0  0  0  0  0\\n   27.4200    7.1960    4.8560 C   0  0  0  0  0  0  0  0  0  0  0  0\\n   26.4980    6.3790    5.4690 C   0  0  0  0  0  0  0  0  0  0  0  0\\n   25.2298    4.6859    5.2451 H   0  0  0  0  0  0  0  0  0  0  0  0\\n   25.9676    4.2351    2.9497 H   0  0  0  0  0  0  0  0  0  0  0  0\\n   27.6890    5.6311    1.8951 H   0  0  0  0  0  0  0  0  0  0  0  0\\n   28.5730    7.5660    3.0889 H   0  0  0  0  0  0  0  0  0  0  0  0\\n   26.1874    6.5720    6.4958 H   0  0  0  0  0  0  0  0  0  0  0  0\\n  1  2  3  0\\n  3  4  2  0\\n  3  8  1  0\\n  3  9  1  0\\n  4  5  1  0\\n  4 10  1  0\\n  5  6  2  0\\n  5 11  1  0\\n  6  7  1  0\\n  6 12  1  0\\n  2  7  1  0\\n  7  8  2  0\\n  8 13  1  0\\nM  END\\n\");\n\tviewer_1694502415836756.addModel(\"toluene\\n     RDKit          3D\\n\\n 15 15  0  0  0  0  0  0  0  0999 V2000\\n   28.9072    8.7434    5.1220 H   0  0  0  0  0  0  0  0  0  0  0  0\\n   28.1966    8.1433    6.6393 H   0  0  0  0  0  0  0  0  0  0  0  0\\n   27.9864    8.4164    5.6052 C   0  0  0  0  0  0  0  0  0  0  0  0\\n   27.2579    9.2269    5.5838 H   0  0  0  0  0  0  0  0  0  0  0  0\\n   25.9780    5.3270    4.7790 C   0  0  0  0  0  0  0  0  0  0  0  0\\n   26.3950    5.0740    3.4990 C   0  0  0  0  0  0  0  0  0  0  0  0\\n   27.3400    5.8600    2.9020 C   0  0  0  0  0  0  0  0  0  0  0  0\\n   27.8370    6.9210    3.5690 C   0  0  0  0  0  0  0  0  0  0  0  0\\n   27.4200    7.1960    4.8560 C   0  0  0  0  0  0  0  0  0  0  0  0\\n   26.4980    6.3790    5.4690 C   0  0  0  0  0  0  0  0  0  0  0  0\\n   25.2298    4.6859    5.2451 H   0  0  0  0  0  0  0  0  0  0  0  0\\n   25.9676    4.2351    2.9497 H   0  0  0  0  0  0  0  0  0  0  0  0\\n   27.6890    5.6311    1.8951 H   0  0  0  0  0  0  0  0  0  0  0  0\\n   28.5730    7.5660    3.0889 H   0  0  0  0  0  0  0  0  0  0  0  0\\n   26.1874    6.5720    6.4958 H   0  0  0  0  0  0  0  0  0  0  0  0\\n  1  3  1  0\\n  2  3  1  0\\n  3  4  1  0\\n  5  6  2  0\\n  5 10  1  0\\n  5 11  1  0\\n  6  7  1  0\\n  6 12  1  0\\n  7  8  2  0\\n  7 13  1  0\\n  8  9  1  0\\n  8 14  1  0\\n  3  9  1  0\\n  9 10  2  0\\n 10 15  1  0\\nM  END\\n\");\n\tviewer_1694502415836756.setStyle({\"stick\": {}});\n\tviewer_1694502415836756.zoomTo();\nviewer_1694502415836756.render();\n});\n</script>",
      "text/html": [
       "<div id=\"3dmolviewer_1694502415836756\"  style=\"position: relative; width: 600px; height: 600px\">\n",
       "        <p id=\"3dmolwarning_1694502415836756\" style=\"background-color:#ffcccc;color:black\">You appear to be running in JupyterLab (or JavaScript failed to load for some other reason).  You need to install the 3dmol extension: <br>\n",
       "        <tt>jupyter labextension install jupyterlab_3dmol</tt></p>\n",
       "        </div>\n",
       "<script>\n",
       "\n",
       "var loadScriptAsync = function(uri){\n",
       "  return new Promise((resolve, reject) => {\n",
       "    //this is to ignore the existence of requirejs amd\n",
       "    var savedexports, savedmodule;\n",
       "    if (typeof exports !== 'undefined') savedexports = exports;\n",
       "    else exports = {}\n",
       "    if (typeof module !== 'undefined') savedmodule = module;\n",
       "    else module = {}\n",
       "\n",
       "    var tag = document.createElement('script');\n",
       "    tag.src = uri;\n",
       "    tag.async = true;\n",
       "    tag.onload = () => {\n",
       "        exports = savedexports;\n",
       "        module = savedmodule;\n",
       "        resolve();\n",
       "    };\n",
       "  var firstScriptTag = document.getElementsByTagName('script')[0];\n",
       "  firstScriptTag.parentNode.insertBefore(tag, firstScriptTag);\n",
       "});\n",
       "};\n",
       "\n",
       "if(typeof $3Dmolpromise === 'undefined') {\n",
       "$3Dmolpromise = null;\n",
       "  $3Dmolpromise = loadScriptAsync('https://cdnjs.cloudflare.com/ajax/libs/3Dmol/2.0.1/3Dmol-min.js');\n",
       "}\n",
       "\n",
       "var viewer_1694502415836756 = null;\n",
       "var warn = document.getElementById(\"3dmolwarning_1694502415836756\");\n",
       "if(warn) {\n",
       "    warn.parentNode.removeChild(warn);\n",
       "}\n",
       "$3Dmolpromise.then(function() {\n",
       "viewer_1694502415836756 = $3Dmol.createViewer(document.getElementById(\"3dmolviewer_1694502415836756\"),{backgroundColor:\"white\"});\n",
       "viewer_1694502415836756.zoomTo();\n",
       "\tviewer_1694502415836756.addModel(\"anisole\\n     RDKit          3D\\n\\n 16 16  0  0  0  0  0  0  0  0999 V2000\\n   29.2873    8.8784    4.9226 C   0  0  0  0  0  0  0  0  0  0  0  0\\n   29.5502    9.7990    5.4437 H   0  0  0  0  0  0  0  0  0  0  0  0\\n   28.0548    8.3459    5.4720 O   0  0  0  0  0  0  0  0  0  0  0  0\\n   30.0866    8.1484    5.0502 H   0  0  0  0  0  0  0  0  0  0  0  0\\n   29.1525    9.0868    3.8612 H   0  0  0  0  0  0  0  0  0  0  0  0\\n   25.9780    5.3270    4.7790 C   0  0  0  0  0  0  0  0  0  0  0  0\\n   26.3950    5.0740    3.4990 C   0  0  0  0  0  0  0  0  0  0  0  0\\n   27.3400    5.8600    2.9020 C   0  0  0  0  0  0  0  0  0  0  0  0\\n   27.8370    6.9210    3.5690 C   0  0  0  0  0  0  0  0  0  0  0  0\\n   27.4200    7.1960    4.8560 C   0  0  0  0  0  0  0  0  0  0  0  0\\n   26.4980    6.3790    5.4690 C   0  0  0  0  0  0  0  0  0  0  0  0\\n   25.2298    4.6859    5.2451 H   0  0  0  0  0  0  0  0  0  0  0  0\\n   25.9676    4.2351    2.9497 H   0  0  0  0  0  0  0  0  0  0  0  0\\n   27.6890    5.6311    1.8951 H   0  0  0  0  0  0  0  0  0  0  0  0\\n   28.5730    7.5660    3.0889 H   0  0  0  0  0  0  0  0  0  0  0  0\\n   26.1874    6.5720    6.4958 H   0  0  0  0  0  0  0  0  0  0  0  0\\n  1  2  1  0\\n  1  4  1  0\\n  1  5  1  0\\n  1  3  1  0\\n  6  7  2  0\\n  6 11  1  0\\n  6 12  1  0\\n  7  8  1  0\\n  7 13  1  0\\n  8  9  2  0\\n  8 14  1  0\\n  9 10  1  0\\n  9 15  1  0\\n  3 10  1  0\\n 10 11  2  0\\n 11 16  1  0\\nM  END\\n\");\n",
       "\tviewer_1694502415836756.addModel(\"benzaldehyde\\n     RDKit          3D\\n\\n 14 14  0  0  0  0  0  0  0  0999 V2000\\n   29.2079    8.8492    4.9632 O   0  0  0  0  0  0  0  0  0  0  0  0\\n   27.5482    8.8691    6.4597 H   0  0  0  0  0  0  0  0  0  0  0  0\\n   27.9981    8.4043    5.5824 C   0  0  0  0  0  0  0  0  0  0  0  0\\n   25.9780    5.3270    4.7790 C   0  0  0  0  0  0  0  0  0  0  0  0\\n   26.3950    5.0740    3.4990 C   0  0  0  0  0  0  0  0  0  0  0  0\\n   27.3400    5.8600    2.9020 C   0  0  0  0  0  0  0  0  0  0  0  0\\n   27.8370    6.9210    3.5690 C   0  0  0  0  0  0  0  0  0  0  0  0\\n   27.4200    7.1960    4.8560 C   0  0  0  0  0  0  0  0  0  0  0  0\\n   26.4980    6.3790    5.4690 C   0  0  0  0  0  0  0  0  0  0  0  0\\n   25.2298    4.6859    5.2451 H   0  0  0  0  0  0  0  0  0  0  0  0\\n   25.9676    4.2351    2.9497 H   0  0  0  0  0  0  0  0  0  0  0  0\\n   27.6890    5.6311    1.8951 H   0  0  0  0  0  0  0  0  0  0  0  0\\n   28.5730    7.5660    3.0889 H   0  0  0  0  0  0  0  0  0  0  0  0\\n   26.1874    6.5720    6.4958 H   0  0  0  0  0  0  0  0  0  0  0  0\\n  1  3  2  0\\n  2  3  1  0\\n  4  5  2  0\\n  4  9  1  0\\n  4 10  1  0\\n  5  6  1  0\\n  5 11  1  0\\n  6  7  2  0\\n  6 12  1  0\\n  7  8  1  0\\n  7 13  1  0\\n  3  8  1  0\\n  8  9  2  0\\n  9 14  1  0\\nM  END\\n\");\n",
       "\tviewer_1694502415836756.addModel(\"phenol\\n     RDKit          3D\\n\\n 13 13  0  0  0  0  0  0  0  0999 V2000\\n   25.9780    5.3270    4.7790 C   0  0  0  0  0  0  0  0  0  0  0  0\\n   26.3950    5.0740    3.4990 C   0  0  0  0  0  0  0  0  0  0  0  0\\n   27.3400    5.8600    2.9020 C   0  0  0  0  0  0  0  0  0  0  0  0\\n   27.8370    6.9210    3.5690 C   0  0  0  0  0  0  0  0  0  0  0  0\\n   27.4200    7.1960    4.8560 C   0  0  0  0  0  0  0  0  0  0  0  0\\n   26.4980    6.3790    5.4690 C   0  0  0  0  0  0  0  0  0  0  0  0\\n   25.2298    4.6859    5.2451 H   0  0  0  0  0  0  0  0  0  0  0  0\\n   25.9676    4.2351    2.9497 H   0  0  0  0  0  0  0  0  0  0  0  0\\n   27.6890    5.6311    1.8951 H   0  0  0  0  0  0  0  0  0  0  0  0\\n   28.5730    7.5660    3.0889 H   0  0  0  0  0  0  0  0  0  0  0  0\\n   28.1311    8.0887    6.4624 H   0  0  0  0  0  0  0  0  0  0  0  0\\n   26.1874    6.5720    6.4958 H   0  0  0  0  0  0  0  0  0  0  0  0\\n   27.9460    8.3293    5.5517 O   0  0  0  0  0  0  0  0  0  0  0  0\\n  1  2  2  0\\n  1  6  1  0\\n  1  7  1  0\\n  2  3  1  0\\n  2  8  1  0\\n  3  4  2  0\\n  3  9  1  0\\n  4  5  1  0\\n  4 10  1  0\\n  5  6  2  0\\n  5 13  1  0\\n  6 12  1  0\\n 11 13  1  0\\nM  END\\n\");\n",
       "\tviewer_1694502415836756.addModel(\"styrene\\n     RDKit          3D\\n\\n 16 16  0  0  0  0  0  0  0  0999 V2000\\n   29.2873    8.8784    4.9226 C   0  0  0  0  0  0  0  0  0  0  0  0\\n   29.6609    8.3486    4.0463 H   0  0  0  0  0  0  0  0  0  0  0  0\\n   29.8344    9.7353    5.3157 H   0  0  0  0  0  0  0  0  0  0  0  0\\n   27.5365    8.8812    6.4825 H   0  0  0  0  0  0  0  0  0  0  0  0\\n   27.9864    8.4164    5.6052 C   0  0  0  0  0  0  0  0  0  0  0  0\\n   25.9780    5.3270    4.7790 C   0  0  0  0  0  0  0  0  0  0  0  0\\n   26.3950    5.0740    3.4990 C   0  0  0  0  0  0  0  0  0  0  0  0\\n   27.3400    5.8600    2.9020 C   0  0  0  0  0  0  0  0  0  0  0  0\\n   27.8370    6.9210    3.5690 C   0  0  0  0  0  0  0  0  0  0  0  0\\n   27.4200    7.1960    4.8560 C   0  0  0  0  0  0  0  0  0  0  0  0\\n   26.4980    6.3790    5.4690 C   0  0  0  0  0  0  0  0  0  0  0  0\\n   25.2298    4.6859    5.2451 H   0  0  0  0  0  0  0  0  0  0  0  0\\n   25.9676    4.2351    2.9497 H   0  0  0  0  0  0  0  0  0  0  0  0\\n   27.6890    5.6311    1.8951 H   0  0  0  0  0  0  0  0  0  0  0  0\\n   28.5730    7.5660    3.0889 H   0  0  0  0  0  0  0  0  0  0  0  0\\n   26.1874    6.5720    6.4958 H   0  0  0  0  0  0  0  0  0  0  0  0\\n  1  2  1  0\\n  1  3  1  0\\n  1  5  2  0\\n  4  5  1  0\\n  6  7  2  0\\n  6 11  1  0\\n  6 12  1  0\\n  7  8  1  0\\n  7 13  1  0\\n  8  9  2  0\\n  8 14  1  0\\n  9 10  1  0\\n  9 15  1  0\\n  5 10  1  0\\n 10 11  2  0\\n 11 16  1  0\\nM  END\\n\");\n",
       "\tviewer_1694502415836756.addModel(\"benzene\\n     RDKit          3D\\n\\n 12 12  0  0  0  0  0  0  0  0999 V2000\\n   25.9780    5.3270    4.7790 C   0  0  0  0  0  0  0  0  0  0  0  0\\n   26.3950    5.0740    3.4990 C   0  0  0  0  0  0  0  0  0  0  0  0\\n   27.3400    5.8600    2.9020 C   0  0  0  0  0  0  0  0  0  0  0  0\\n   27.8370    6.9210    3.5690 C   0  0  0  0  0  0  0  0  0  0  0  0\\n   27.4200    7.1960    4.8560 C   0  0  0  0  0  0  0  0  0  0  0  0\\n   26.4980    6.3790    5.4690 C   0  0  0  0  0  0  0  0  0  0  0  0\\n   25.2298    4.6859    5.2451 H   0  0  0  0  0  0  0  0  0  0  0  0\\n   25.9676    4.2351    2.9497 H   0  0  0  0  0  0  0  0  0  0  0  0\\n   27.6890    5.6311    1.8951 H   0  0  0  0  0  0  0  0  0  0  0  0\\n   28.5730    7.5660    3.0889 H   0  0  0  0  0  0  0  0  0  0  0  0\\n   27.8209    8.0598    5.3863 H   0  0  0  0  0  0  0  0  0  0  0  0\\n   26.1874    6.5720    6.4958 H   0  0  0  0  0  0  0  0  0  0  0  0\\n  1  2  2  0\\n  1  6  1  0\\n  1  7  1  0\\n  2  3  1  0\\n  2  8  1  0\\n  3  4  2  0\\n  3  9  1  0\\n  4  5  1  0\\n  4 10  1  0\\n  5  6  2  0\\n  5 11  1  0\\n  6 12  1  0\\nM  END\\n\");\n",
       "\tviewer_1694502415836756.addModel(\"benzonitrile\\n     RDKit          3D\\n\\n 13 13  0  0  0  0  0  0  0  0999 V2000\\n   28.5559    9.5700    6.2831 N   0  0  0  0  0  0  0  0  0  0  0  0\\n   27.9981    8.4043    5.5824 C   0  0  0  0  0  0  0  0  0  0  0  0\\n   25.9780    5.3270    4.7790 C   0  0  0  0  0  0  0  0  0  0  0  0\\n   26.3950    5.0740    3.4990 C   0  0  0  0  0  0  0  0  0  0  0  0\\n   27.3400    5.8600    2.9020 C   0  0  0  0  0  0  0  0  0  0  0  0\\n   27.8370    6.9210    3.5690 C   0  0  0  0  0  0  0  0  0  0  0  0\\n   27.4200    7.1960    4.8560 C   0  0  0  0  0  0  0  0  0  0  0  0\\n   26.4980    6.3790    5.4690 C   0  0  0  0  0  0  0  0  0  0  0  0\\n   25.2298    4.6859    5.2451 H   0  0  0  0  0  0  0  0  0  0  0  0\\n   25.9676    4.2351    2.9497 H   0  0  0  0  0  0  0  0  0  0  0  0\\n   27.6890    5.6311    1.8951 H   0  0  0  0  0  0  0  0  0  0  0  0\\n   28.5730    7.5660    3.0889 H   0  0  0  0  0  0  0  0  0  0  0  0\\n   26.1874    6.5720    6.4958 H   0  0  0  0  0  0  0  0  0  0  0  0\\n  1  2  3  0\\n  3  4  2  0\\n  3  8  1  0\\n  3  9  1  0\\n  4  5  1  0\\n  4 10  1  0\\n  5  6  2  0\\n  5 11  1  0\\n  6  7  1  0\\n  6 12  1  0\\n  2  7  1  0\\n  7  8  2  0\\n  8 13  1  0\\nM  END\\n\");\n",
       "\tviewer_1694502415836756.addModel(\"toluene\\n     RDKit          3D\\n\\n 15 15  0  0  0  0  0  0  0  0999 V2000\\n   28.9072    8.7434    5.1220 H   0  0  0  0  0  0  0  0  0  0  0  0\\n   28.1966    8.1433    6.6393 H   0  0  0  0  0  0  0  0  0  0  0  0\\n   27.9864    8.4164    5.6052 C   0  0  0  0  0  0  0  0  0  0  0  0\\n   27.2579    9.2269    5.5838 H   0  0  0  0  0  0  0  0  0  0  0  0\\n   25.9780    5.3270    4.7790 C   0  0  0  0  0  0  0  0  0  0  0  0\\n   26.3950    5.0740    3.4990 C   0  0  0  0  0  0  0  0  0  0  0  0\\n   27.3400    5.8600    2.9020 C   0  0  0  0  0  0  0  0  0  0  0  0\\n   27.8370    6.9210    3.5690 C   0  0  0  0  0  0  0  0  0  0  0  0\\n   27.4200    7.1960    4.8560 C   0  0  0  0  0  0  0  0  0  0  0  0\\n   26.4980    6.3790    5.4690 C   0  0  0  0  0  0  0  0  0  0  0  0\\n   25.2298    4.6859    5.2451 H   0  0  0  0  0  0  0  0  0  0  0  0\\n   25.9676    4.2351    2.9497 H   0  0  0  0  0  0  0  0  0  0  0  0\\n   27.6890    5.6311    1.8951 H   0  0  0  0  0  0  0  0  0  0  0  0\\n   28.5730    7.5660    3.0889 H   0  0  0  0  0  0  0  0  0  0  0  0\\n   26.1874    6.5720    6.4958 H   0  0  0  0  0  0  0  0  0  0  0  0\\n  1  3  1  0\\n  2  3  1  0\\n  3  4  1  0\\n  5  6  2  0\\n  5 10  1  0\\n  5 11  1  0\\n  6  7  1  0\\n  6 12  1  0\\n  7  8  2  0\\n  7 13  1  0\\n  8  9  1  0\\n  8 14  1  0\\n  3  9  1  0\\n  9 10  2  0\\n 10 15  1  0\\nM  END\\n\");\n",
       "\tviewer_1694502415836756.setStyle({\"stick\": {}});\n",
       "\tviewer_1694502415836756.zoomTo();\n",
       "viewer_1694502415836756.render();\n",
       "});\n",
       "</script>"
      ]
     },
     "metadata": {},
     "output_type": "display_data"
    },
    {
     "data": {
      "text/plain": [
       "<py3Dmol.view at 0x7fe677139350>"
      ]
     },
     "execution_count": 6,
     "metadata": {},
     "output_type": "execute_result"
    }
   ],
   "source": [
    "from openfe.utils.visualization_3D import view_components_3d\n",
    "\n",
    "view_components_3d(ligand_network.nodes)"
   ]
  }
 ],
 "metadata": {
  "kernelspec": {
   "display_name": "Python 3 (ipykernel)",
   "language": "python",
   "name": "python3"
  },
  "language_info": {
   "codemirror_mode": {
    "name": "ipython",
    "version": 3
   },
   "file_extension": ".py",
   "mimetype": "text/x-python",
   "name": "python",
   "nbconvert_exporter": "python",
   "pygments_lexer": "ipython3",
   "version": "3.11.5"
  },
  "widgets": {
   "application/vnd.jupyter.widget-state+json": {
    "state": {
     "030bf082cdab4145a8b1199345791af6": {
      "model_module": "@jupyter-widgets/controls",
      "model_module_version": "2.0.0",
      "model_name": "HTMLStyleModel",
      "state": {
       "description_width": "",
       "font_size": null,
       "text_color": null
      }
     },
     "06c73333651c4cf7b690b9b0709d3f38": {
      "model_module": "@jupyter-widgets/controls",
      "model_module_version": "2.0.0",
      "model_name": "HTMLModel",
      "state": {
       "layout": "IPY_MODEL_856dbb230dbb4f049b402e99e5228929",
       "style": "IPY_MODEL_35b0c0ec05ea4b719a8f9d09eb0364d6",
       "value": "100%"
      }
     },
     "07ee7e912f20455188ff67b6b2412f4c": {
      "model_module": "@jupyter-widgets/controls",
      "model_module_version": "2.0.0",
      "model_name": "DropdownModel",
      "state": {
       "_options_labels": [
        "phenol -> anisole",
        "benzene -> benzaldehyde",
        "benzaldehyde -> styrene",
        "benzene -> benzonitrile",
        "toluene -> phenol",
        "benzene -> toluene"
       ],
       "description": "mapping",
       "index": 4,
       "layout": "IPY_MODEL_486c699d8c8a46128eeb38c7e578f4d5",
       "style": "IPY_MODEL_7357c1ea073f43a0a559d7eca1df193f"
      }
     },
     "0c4b67fcafae41f4bf6f983511c34a8a": {
      "model_module": "@jupyter-widgets/base",
      "model_module_version": "2.0.0",
      "model_name": "LayoutModel",
      "state": {}
     },
     "1e3cc679a21f44bfa3464131f72639c9": {
      "model_module": "@jupyter-widgets/controls",
      "model_module_version": "2.0.0",
      "model_name": "CheckboxStyleModel",
      "state": {
       "description_width": ""
      }
     },
     "21fdc9f67177422d8b5ff57e8d5e3478": {
      "model_module": "@jupyter-widgets/base",
      "model_module_version": "2.0.0",
      "model_name": "LayoutModel",
      "state": {}
     },
     "30ef10499b954ea38f12bbfbd3d2f590": {
      "model_module": "@jupyter-widgets/base",
      "model_module_version": "2.0.0",
      "model_name": "LayoutModel",
      "state": {}
     },
     "3551291254e2462e869130e5534a74f0": {
      "model_module": "@jupyter-widgets/controls",
      "model_module_version": "2.0.0",
      "model_name": "CheckboxModel",
      "state": {
       "description": "spheres",
       "disabled": false,
       "layout": "IPY_MODEL_4263be6790204d13b4d4a7d6d6c2f7b2",
       "style": "IPY_MODEL_1e3cc679a21f44bfa3464131f72639c9",
       "value": true
      }
     },
     "35b0c0ec05ea4b719a8f9d09eb0364d6": {
      "model_module": "@jupyter-widgets/controls",
      "model_module_version": "2.0.0",
      "model_name": "HTMLStyleModel",
      "state": {
       "description_width": "",
       "font_size": null,
       "text_color": null
      }
     },
     "3b063ba74327473e9b3ffbe92e06287d": {
      "model_module": "@jupyter-widgets/base",
      "model_module_version": "2.0.0",
      "model_name": "LayoutModel",
      "state": {}
     },
     "4263be6790204d13b4d4a7d6d6c2f7b2": {
      "model_module": "@jupyter-widgets/base",
      "model_module_version": "2.0.0",
      "model_name": "LayoutModel",
      "state": {}
     },
     "45df2e8808ed4248a09af8c6b22a549a": {
      "model_module": "@jupyter-widgets/output",
      "model_module_version": "1.0.0",
      "model_name": "OutputModel",
      "state": {
       "layout": "IPY_MODEL_f117690e80e84404982a41ce43ae641c",
       "outputs": [
        {
         "data": {
          "application/3dmoljs_load.v0": "<div id=\"3dmolviewer_16945653309818397\"  style=\"position: relative; width: 600px; height: 600px\">\n        <p id=\"3dmolwarning_16945653309818397\" style=\"background-color:#ffcccc;color:black\">You appear to be running in JupyterLab (or JavaScript failed to load for some other reason).  You need to install the 3dmol extension: <br>\n        <tt>jupyter labextension install jupyterlab_3dmol</tt></p>\n        </div>\n<script>\n\nvar loadScriptAsync = function(uri){\n  return new Promise((resolve, reject) => {\n    //this is to ignore the existence of requirejs amd\n    var savedexports, savedmodule;\n    if (typeof exports !== 'undefined') savedexports = exports;\n    else exports = {}\n    if (typeof module !== 'undefined') savedmodule = module;\n    else module = {}\n\n    var tag = document.createElement('script');\n    tag.src = uri;\n    tag.async = true;\n    tag.onload = () => {\n        exports = savedexports;\n        module = savedmodule;\n        resolve();\n    };\n  var firstScriptTag = document.getElementsByTagName('script')[0];\n  firstScriptTag.parentNode.insertBefore(tag, firstScriptTag);\n});\n};\n\nif(typeof $3Dmolpromise === 'undefined') {\n$3Dmolpromise = null;\n  $3Dmolpromise = loadScriptAsync('https://cdnjs.cloudflare.com/ajax/libs/3Dmol/2.0.1/3Dmol-min.js');\n}\n\nvar viewer_16945653309818397 = null;\nvar warn = document.getElementById(\"3dmolwarning_16945653309818397\");\nif(warn) {\n    warn.parentNode.removeChild(warn);\n}\n$3Dmolpromise.then(function() {\nviewer_16945653309818397 = $3Dmol.createViewer(document.getElementById(\"3dmolviewer_16945653309818397\"),{backgroundColor:\"white\"});\nviewer_16945653309818397.zoomTo();\n\tviewer_16945653309818397.addModel(\"toluene\\n     RDKit          3D\\n\\n 15 15  0  0  0  0  0  0  0  0999 V2000\\n   21.4072    8.7434    5.1220 H   0  0  0  0  0  0  0  0  0  0  0  0\\n   20.6966    8.1433    6.6393 H   0  0  0  0  0  0  0  0  0  0  0  0\\n   20.4864    8.4164    5.6052 C   0  0  0  0  0  0  0  0  0  0  0  0\\n   19.7579    9.2269    5.5838 H   0  0  0  0  0  0  0  0  0  0  0  0\\n   18.4780    5.3270    4.7790 C   0  0  0  0  0  0  0  0  0  0  0  0\\n   18.8950    5.0740    3.4990 C   0  0  0  0  0  0  0  0  0  0  0  0\\n   19.8400    5.8600    2.9020 C   0  0  0  0  0  0  0  0  0  0  0  0\\n   20.3370    6.9210    3.5690 C   0  0  0  0  0  0  0  0  0  0  0  0\\n   19.9200    7.1960    4.8560 C   0  0  0  0  0  0  0  0  0  0  0  0\\n   18.9980    6.3790    5.4690 C   0  0  0  0  0  0  0  0  0  0  0  0\\n   17.7298    4.6859    5.2451 H   0  0  0  0  0  0  0  0  0  0  0  0\\n   18.4676    4.2351    2.9497 H   0  0  0  0  0  0  0  0  0  0  0  0\\n   20.1890    5.6311    1.8951 H   0  0  0  0  0  0  0  0  0  0  0  0\\n   21.0730    7.5660    3.0889 H   0  0  0  0  0  0  0  0  0  0  0  0\\n   18.6874    6.5720    6.4958 H   0  0  0  0  0  0  0  0  0  0  0  0\\n  1  3  1  0\\n  2  3  1  0\\n  3  4  1  0\\n  5  6  2  0\\n  5 10  1  0\\n  5 11  1  0\\n  6  7  1  0\\n  6 12  1  0\\n  7  8  2  0\\n  7 13  1  0\\n  8  9  1  0\\n  8 14  1  0\\n  3  9  1  0\\n  9 10  2  0\\n 10 15  1  0\\nM  END\\n\",\"molA\");\n\tviewer_16945653309818397.addModel(\"phenol\\n     RDKit          3D\\n\\n 13 13  0  0  0  0  0  0  0  0999 V2000\\n   33.4780    5.3270    4.7790 C   0  0  0  0  0  0  0  0  0  0  0  0\\n   33.8950    5.0740    3.4990 C   0  0  0  0  0  0  0  0  0  0  0  0\\n   34.8400    5.8600    2.9020 C   0  0  0  0  0  0  0  0  0  0  0  0\\n   35.3370    6.9210    3.5690 C   0  0  0  0  0  0  0  0  0  0  0  0\\n   34.9200    7.1960    4.8560 C   0  0  0  0  0  0  0  0  0  0  0  0\\n   33.9980    6.3790    5.4690 C   0  0  0  0  0  0  0  0  0  0  0  0\\n   32.7298    4.6859    5.2451 H   0  0  0  0  0  0  0  0  0  0  0  0\\n   33.4676    4.2351    2.9497 H   0  0  0  0  0  0  0  0  0  0  0  0\\n   35.1890    5.6311    1.8951 H   0  0  0  0  0  0  0  0  0  0  0  0\\n   36.0730    7.5660    3.0889 H   0  0  0  0  0  0  0  0  0  0  0  0\\n   35.6311    8.0887    6.4624 H   0  0  0  0  0  0  0  0  0  0  0  0\\n   33.6874    6.5720    6.4958 H   0  0  0  0  0  0  0  0  0  0  0  0\\n   35.4460    8.3293    5.5517 O   0  0  0  0  0  0  0  0  0  0  0  0\\n  1  2  2  0\\n  1  6  1  0\\n  1  7  1  0\\n  2  3  1  0\\n  2  8  1  0\\n  3  4  2  0\\n  3  9  1  0\\n  4  5  1  0\\n  4 10  1  0\\n  5  6  2  0\\n  5 13  1  0\\n  6 12  1  0\\n 11 13  1  0\\nM  END\\n\",\"molB\");\n\tviewer_16945653309818397.addSphere({\"center\": {\"x\": 20.6966, \"y\": 8.1433, \"z\": 6.6393}, \"radius\": 0.6, \"color\": \"#ff0000\", \"alpha\": 0.8});\n\tviewer_16945653309818397.addSphere({\"center\": {\"x\": 35.6311, \"y\": 8.0887, \"z\": 6.4624}, \"radius\": 0.6, \"color\": \"#ff0000\", \"alpha\": 0.8});\n\tviewer_16945653309818397.addSphere({\"center\": {\"x\": 20.4864, \"y\": 8.4164, \"z\": 5.6052}, \"radius\": 0.6, \"color\": \"#ff7e00\", \"alpha\": 0.8});\n\tviewer_16945653309818397.addSphere({\"center\": {\"x\": 35.446, \"y\": 8.3293, \"z\": 5.5517}, \"radius\": 0.6, \"color\": \"#ff7e00\", \"alpha\": 0.8});\n\tviewer_16945653309818397.addSphere({\"center\": {\"x\": 18.478, \"y\": 5.327, \"z\": 4.779}, \"radius\": 0.6, \"color\": \"#fbf700\", \"alpha\": 0.8});\n\tviewer_16945653309818397.addSphere({\"center\": {\"x\": 33.478, \"y\": 5.327, \"z\": 4.779}, \"radius\": 0.6, \"color\": \"#fbf700\", \"alpha\": 0.8});\n\tviewer_16945653309818397.addSphere({\"center\": {\"x\": 18.895, \"y\": 5.074, \"z\": 3.499}, \"radius\": 0.6, \"color\": \"#85ff00\", \"alpha\": 0.8});\n\tviewer_16945653309818397.addSphere({\"center\": {\"x\": 33.894999999999996, \"y\": 5.074, \"z\": 3.499}, \"radius\": 0.6, \"color\": \"#85ff00\", \"alpha\": 0.8});\n\tviewer_16945653309818397.addSphere({\"center\": {\"x\": 19.84, \"y\": 5.86, \"z\": 2.902}, \"radius\": 0.6, \"color\": \"#08ff00\", \"alpha\": 0.8});\n\tviewer_16945653309818397.addSphere({\"center\": {\"x\": 34.84, \"y\": 5.86, \"z\": 2.902}, \"radius\": 0.6, \"color\": \"#08ff00\", \"alpha\": 0.8});\n\tviewer_16945653309818397.addSphere({\"center\": {\"x\": 20.337, \"y\": 6.921, \"z\": 3.569}, \"radius\": 0.6, \"color\": \"#00ff76\", \"alpha\": 0.8});\n\tviewer_16945653309818397.addSphere({\"center\": {\"x\": 35.337, \"y\": 6.921, \"z\": 3.569}, \"radius\": 0.6, \"color\": \"#00ff76\", \"alpha\": 0.8});\n\tviewer_16945653309818397.addSphere({\"center\": {\"x\": 19.92, \"y\": 7.196, \"z\": 4.856}, \"radius\": 0.6, \"color\": \"#00fff3\", \"alpha\": 0.8});\n\tviewer_16945653309818397.addSphere({\"center\": {\"x\": 34.92, \"y\": 7.196, \"z\": 4.856}, \"radius\": 0.6, \"color\": \"#00fff3\", \"alpha\": 0.8});\n\tviewer_16945653309818397.addSphere({\"center\": {\"x\": 18.998, \"y\": 6.379, \"z\": 5.469}, \"radius\": 0.6, \"color\": \"#008dff\", \"alpha\": 0.8});\n\tviewer_16945653309818397.addSphere({\"center\": {\"x\": 33.998000000000005, \"y\": 6.379, \"z\": 5.469}, \"radius\": 0.6, \"color\": \"#008dff\", \"alpha\": 0.8});\n\tviewer_16945653309818397.addSphere({\"center\": {\"x\": 17.7298, \"y\": 4.6859, \"z\": 5.2451}, \"radius\": 0.6, \"color\": \"#0010ff\", \"alpha\": 0.8});\n\tviewer_16945653309818397.addSphere({\"center\": {\"x\": 32.7298, \"y\": 4.6859, \"z\": 5.2451}, \"radius\": 0.6, \"color\": \"#0010ff\", \"alpha\": 0.8});\n\tviewer_16945653309818397.addSphere({\"center\": {\"x\": 18.4676, \"y\": 4.2351, \"z\": 2.9497}, \"radius\": 0.6, \"color\": \"#6e00ff\", \"alpha\": 0.8});\n\tviewer_16945653309818397.addSphere({\"center\": {\"x\": 33.467600000000004, \"y\": 4.2351, \"z\": 2.9497}, \"radius\": 0.6, \"color\": \"#6e00ff\", \"alpha\": 0.8});\n\tviewer_16945653309818397.addSphere({\"center\": {\"x\": 20.189, \"y\": 5.6311, \"z\": 1.8951}, \"radius\": 0.6, \"color\": \"#eb00ff\", \"alpha\": 0.8});\n\tviewer_16945653309818397.addSphere({\"center\": {\"x\": 35.189, \"y\": 5.6311, \"z\": 1.8951}, \"radius\": 0.6, \"color\": \"#eb00ff\", \"alpha\": 0.8});\n\tviewer_16945653309818397.addSphere({\"center\": {\"x\": 21.073, \"y\": 7.566, \"z\": 3.0889}, \"radius\": 0.6, \"color\": \"#ff0095\", \"alpha\": 0.8});\n\tviewer_16945653309818397.addSphere({\"center\": {\"x\": 36.073, \"y\": 7.566, \"z\": 3.0889}, \"radius\": 0.6, \"color\": \"#ff0095\", \"alpha\": 0.8});\n\tviewer_16945653309818397.addSphere({\"center\": {\"x\": 18.6874, \"y\": 6.572, \"z\": 6.4958}, \"radius\": 0.6, \"color\": \"#ff0018\", \"alpha\": 0.8});\n\tviewer_16945653309818397.addSphere({\"center\": {\"x\": 33.6874, \"y\": 6.572, \"z\": 6.4958}, \"radius\": 0.6, \"color\": \"#ff0018\", \"alpha\": 0.8});\n\tviewer_16945653309818397.addPropertyLabels(\"index\",{\"not\": {\"resn\": [\"molA_overlay\", \"molA_overlay\"]}},{\"fontColor\": \"black\", \"font\": \"sans-serif\", \"fontSize\": \"10\", \"showBackground\": \"false\", \"alignment\": \"center\"});\n\tviewer_16945653309818397.addModel(\"toluene\\n     RDKit          3D\\n\\n 15 15  0  0  0  0  0  0  0  0999 V2000\\n   28.9072    8.7434    5.1220 H   0  0  0  0  0  0  0  0  0  0  0  0\\n   28.1966    8.1433    6.6393 H   0  0  0  0  0  0  0  0  0  0  0  0\\n   27.9864    8.4164    5.6052 C   0  0  0  0  0  0  0  0  0  0  0  0\\n   27.2579    9.2269    5.5838 H   0  0  0  0  0  0  0  0  0  0  0  0\\n   25.9780    5.3270    4.7790 C   0  0  0  0  0  0  0  0  0  0  0  0\\n   26.3950    5.0740    3.4990 C   0  0  0  0  0  0  0  0  0  0  0  0\\n   27.3400    5.8600    2.9020 C   0  0  0  0  0  0  0  0  0  0  0  0\\n   27.8370    6.9210    3.5690 C   0  0  0  0  0  0  0  0  0  0  0  0\\n   27.4200    7.1960    4.8560 C   0  0  0  0  0  0  0  0  0  0  0  0\\n   26.4980    6.3790    5.4690 C   0  0  0  0  0  0  0  0  0  0  0  0\\n   25.2298    4.6859    5.2451 H   0  0  0  0  0  0  0  0  0  0  0  0\\n   25.9676    4.2351    2.9497 H   0  0  0  0  0  0  0  0  0  0  0  0\\n   27.6890    5.6311    1.8951 H   0  0  0  0  0  0  0  0  0  0  0  0\\n   28.5730    7.5660    3.0889 H   0  0  0  0  0  0  0  0  0  0  0  0\\n   26.1874    6.5720    6.4958 H   0  0  0  0  0  0  0  0  0  0  0  0\\n  1  3  1  0\\n  2  3  1  0\\n  3  4  1  0\\n  5  6  2  0\\n  5 10  1  0\\n  5 11  1  0\\n  6  7  1  0\\n  6 12  1  0\\n  7  8  2  0\\n  7 13  1  0\\n  8  9  1  0\\n  8 14  1  0\\n  3  9  1  0\\n  9 10  2  0\\n 10 15  1  0\\nM  END\\n\",\"molA_overlay\");\n\tviewer_16945653309818397.addModel(\"phenol\\n     RDKit          3D\\n\\n 13 13  0  0  0  0  0  0  0  0999 V2000\\n   25.9780    5.3270    4.7790 C   0  0  0  0  0  0  0  0  0  0  0  0\\n   26.3950    5.0740    3.4990 C   0  0  0  0  0  0  0  0  0  0  0  0\\n   27.3400    5.8600    2.9020 C   0  0  0  0  0  0  0  0  0  0  0  0\\n   27.8370    6.9210    3.5690 C   0  0  0  0  0  0  0  0  0  0  0  0\\n   27.4200    7.1960    4.8560 C   0  0  0  0  0  0  0  0  0  0  0  0\\n   26.4980    6.3790    5.4690 C   0  0  0  0  0  0  0  0  0  0  0  0\\n   25.2298    4.6859    5.2451 H   0  0  0  0  0  0  0  0  0  0  0  0\\n   25.9676    4.2351    2.9497 H   0  0  0  0  0  0  0  0  0  0  0  0\\n   27.6890    5.6311    1.8951 H   0  0  0  0  0  0  0  0  0  0  0  0\\n   28.5730    7.5660    3.0889 H   0  0  0  0  0  0  0  0  0  0  0  0\\n   28.1311    8.0887    6.4624 H   0  0  0  0  0  0  0  0  0  0  0  0\\n   26.1874    6.5720    6.4958 H   0  0  0  0  0  0  0  0  0  0  0  0\\n   27.9460    8.3293    5.5517 O   0  0  0  0  0  0  0  0  0  0  0  0\\n  1  2  2  0\\n  1  6  1  0\\n  1  7  1  0\\n  2  3  1  0\\n  2  8  1  0\\n  3  4  2  0\\n  3  9  1  0\\n  4  5  1  0\\n  4 10  1  0\\n  5  6  2  0\\n  5 13  1  0\\n  6 12  1  0\\n 11 13  1  0\\nM  END\\n\",\"molB_overlay\");\n\tviewer_16945653309818397.setStyle({\"stick\": {}});\n\tviewer_16945653309818397.zoomTo();\nviewer_16945653309818397.render();\n});\n</script>",
          "text/html": "<div id=\"3dmolviewer_16945653309818397\"  style=\"position: relative; width: 600px; height: 600px\">\n        <p id=\"3dmolwarning_16945653309818397\" style=\"background-color:#ffcccc;color:black\">You appear to be running in JupyterLab (or JavaScript failed to load for some other reason).  You need to install the 3dmol extension: <br>\n        <tt>jupyter labextension install jupyterlab_3dmol</tt></p>\n        </div>\n<script>\n\nvar loadScriptAsync = function(uri){\n  return new Promise((resolve, reject) => {\n    //this is to ignore the existence of requirejs amd\n    var savedexports, savedmodule;\n    if (typeof exports !== 'undefined') savedexports = exports;\n    else exports = {}\n    if (typeof module !== 'undefined') savedmodule = module;\n    else module = {}\n\n    var tag = document.createElement('script');\n    tag.src = uri;\n    tag.async = true;\n    tag.onload = () => {\n        exports = savedexports;\n        module = savedmodule;\n        resolve();\n    };\n  var firstScriptTag = document.getElementsByTagName('script')[0];\n  firstScriptTag.parentNode.insertBefore(tag, firstScriptTag);\n});\n};\n\nif(typeof $3Dmolpromise === 'undefined') {\n$3Dmolpromise = null;\n  $3Dmolpromise = loadScriptAsync('https://cdnjs.cloudflare.com/ajax/libs/3Dmol/2.0.1/3Dmol-min.js');\n}\n\nvar viewer_16945653309818397 = null;\nvar warn = document.getElementById(\"3dmolwarning_16945653309818397\");\nif(warn) {\n    warn.parentNode.removeChild(warn);\n}\n$3Dmolpromise.then(function() {\nviewer_16945653309818397 = $3Dmol.createViewer(document.getElementById(\"3dmolviewer_16945653309818397\"),{backgroundColor:\"white\"});\nviewer_16945653309818397.zoomTo();\n\tviewer_16945653309818397.addModel(\"toluene\\n     RDKit          3D\\n\\n 15 15  0  0  0  0  0  0  0  0999 V2000\\n   21.4072    8.7434    5.1220 H   0  0  0  0  0  0  0  0  0  0  0  0\\n   20.6966    8.1433    6.6393 H   0  0  0  0  0  0  0  0  0  0  0  0\\n   20.4864    8.4164    5.6052 C   0  0  0  0  0  0  0  0  0  0  0  0\\n   19.7579    9.2269    5.5838 H   0  0  0  0  0  0  0  0  0  0  0  0\\n   18.4780    5.3270    4.7790 C   0  0  0  0  0  0  0  0  0  0  0  0\\n   18.8950    5.0740    3.4990 C   0  0  0  0  0  0  0  0  0  0  0  0\\n   19.8400    5.8600    2.9020 C   0  0  0  0  0  0  0  0  0  0  0  0\\n   20.3370    6.9210    3.5690 C   0  0  0  0  0  0  0  0  0  0  0  0\\n   19.9200    7.1960    4.8560 C   0  0  0  0  0  0  0  0  0  0  0  0\\n   18.9980    6.3790    5.4690 C   0  0  0  0  0  0  0  0  0  0  0  0\\n   17.7298    4.6859    5.2451 H   0  0  0  0  0  0  0  0  0  0  0  0\\n   18.4676    4.2351    2.9497 H   0  0  0  0  0  0  0  0  0  0  0  0\\n   20.1890    5.6311    1.8951 H   0  0  0  0  0  0  0  0  0  0  0  0\\n   21.0730    7.5660    3.0889 H   0  0  0  0  0  0  0  0  0  0  0  0\\n   18.6874    6.5720    6.4958 H   0  0  0  0  0  0  0  0  0  0  0  0\\n  1  3  1  0\\n  2  3  1  0\\n  3  4  1  0\\n  5  6  2  0\\n  5 10  1  0\\n  5 11  1  0\\n  6  7  1  0\\n  6 12  1  0\\n  7  8  2  0\\n  7 13  1  0\\n  8  9  1  0\\n  8 14  1  0\\n  3  9  1  0\\n  9 10  2  0\\n 10 15  1  0\\nM  END\\n\",\"molA\");\n\tviewer_16945653309818397.addModel(\"phenol\\n     RDKit          3D\\n\\n 13 13  0  0  0  0  0  0  0  0999 V2000\\n   33.4780    5.3270    4.7790 C   0  0  0  0  0  0  0  0  0  0  0  0\\n   33.8950    5.0740    3.4990 C   0  0  0  0  0  0  0  0  0  0  0  0\\n   34.8400    5.8600    2.9020 C   0  0  0  0  0  0  0  0  0  0  0  0\\n   35.3370    6.9210    3.5690 C   0  0  0  0  0  0  0  0  0  0  0  0\\n   34.9200    7.1960    4.8560 C   0  0  0  0  0  0  0  0  0  0  0  0\\n   33.9980    6.3790    5.4690 C   0  0  0  0  0  0  0  0  0  0  0  0\\n   32.7298    4.6859    5.2451 H   0  0  0  0  0  0  0  0  0  0  0  0\\n   33.4676    4.2351    2.9497 H   0  0  0  0  0  0  0  0  0  0  0  0\\n   35.1890    5.6311    1.8951 H   0  0  0  0  0  0  0  0  0  0  0  0\\n   36.0730    7.5660    3.0889 H   0  0  0  0  0  0  0  0  0  0  0  0\\n   35.6311    8.0887    6.4624 H   0  0  0  0  0  0  0  0  0  0  0  0\\n   33.6874    6.5720    6.4958 H   0  0  0  0  0  0  0  0  0  0  0  0\\n   35.4460    8.3293    5.5517 O   0  0  0  0  0  0  0  0  0  0  0  0\\n  1  2  2  0\\n  1  6  1  0\\n  1  7  1  0\\n  2  3  1  0\\n  2  8  1  0\\n  3  4  2  0\\n  3  9  1  0\\n  4  5  1  0\\n  4 10  1  0\\n  5  6  2  0\\n  5 13  1  0\\n  6 12  1  0\\n 11 13  1  0\\nM  END\\n\",\"molB\");\n\tviewer_16945653309818397.addSphere({\"center\": {\"x\": 20.6966, \"y\": 8.1433, \"z\": 6.6393}, \"radius\": 0.6, \"color\": \"#ff0000\", \"alpha\": 0.8});\n\tviewer_16945653309818397.addSphere({\"center\": {\"x\": 35.6311, \"y\": 8.0887, \"z\": 6.4624}, \"radius\": 0.6, \"color\": \"#ff0000\", \"alpha\": 0.8});\n\tviewer_16945653309818397.addSphere({\"center\": {\"x\": 20.4864, \"y\": 8.4164, \"z\": 5.6052}, \"radius\": 0.6, \"color\": \"#ff7e00\", \"alpha\": 0.8});\n\tviewer_16945653309818397.addSphere({\"center\": {\"x\": 35.446, \"y\": 8.3293, \"z\": 5.5517}, \"radius\": 0.6, \"color\": \"#ff7e00\", \"alpha\": 0.8});\n\tviewer_16945653309818397.addSphere({\"center\": {\"x\": 18.478, \"y\": 5.327, \"z\": 4.779}, \"radius\": 0.6, \"color\": \"#fbf700\", \"alpha\": 0.8});\n\tviewer_16945653309818397.addSphere({\"center\": {\"x\": 33.478, \"y\": 5.327, \"z\": 4.779}, \"radius\": 0.6, \"color\": \"#fbf700\", \"alpha\": 0.8});\n\tviewer_16945653309818397.addSphere({\"center\": {\"x\": 18.895, \"y\": 5.074, \"z\": 3.499}, \"radius\": 0.6, \"color\": \"#85ff00\", \"alpha\": 0.8});\n\tviewer_16945653309818397.addSphere({\"center\": {\"x\": 33.894999999999996, \"y\": 5.074, \"z\": 3.499}, \"radius\": 0.6, \"color\": \"#85ff00\", \"alpha\": 0.8});\n\tviewer_16945653309818397.addSphere({\"center\": {\"x\": 19.84, \"y\": 5.86, \"z\": 2.902}, \"radius\": 0.6, \"color\": \"#08ff00\", \"alpha\": 0.8});\n\tviewer_16945653309818397.addSphere({\"center\": {\"x\": 34.84, \"y\": 5.86, \"z\": 2.902}, \"radius\": 0.6, \"color\": \"#08ff00\", \"alpha\": 0.8});\n\tviewer_16945653309818397.addSphere({\"center\": {\"x\": 20.337, \"y\": 6.921, \"z\": 3.569}, \"radius\": 0.6, \"color\": \"#00ff76\", \"alpha\": 0.8});\n\tviewer_16945653309818397.addSphere({\"center\": {\"x\": 35.337, \"y\": 6.921, \"z\": 3.569}, \"radius\": 0.6, \"color\": \"#00ff76\", \"alpha\": 0.8});\n\tviewer_16945653309818397.addSphere({\"center\": {\"x\": 19.92, \"y\": 7.196, \"z\": 4.856}, \"radius\": 0.6, \"color\": \"#00fff3\", \"alpha\": 0.8});\n\tviewer_16945653309818397.addSphere({\"center\": {\"x\": 34.92, \"y\": 7.196, \"z\": 4.856}, \"radius\": 0.6, \"color\": \"#00fff3\", \"alpha\": 0.8});\n\tviewer_16945653309818397.addSphere({\"center\": {\"x\": 18.998, \"y\": 6.379, \"z\": 5.469}, \"radius\": 0.6, \"color\": \"#008dff\", \"alpha\": 0.8});\n\tviewer_16945653309818397.addSphere({\"center\": {\"x\": 33.998000000000005, \"y\": 6.379, \"z\": 5.469}, \"radius\": 0.6, \"color\": \"#008dff\", \"alpha\": 0.8});\n\tviewer_16945653309818397.addSphere({\"center\": {\"x\": 17.7298, \"y\": 4.6859, \"z\": 5.2451}, \"radius\": 0.6, \"color\": \"#0010ff\", \"alpha\": 0.8});\n\tviewer_16945653309818397.addSphere({\"center\": {\"x\": 32.7298, \"y\": 4.6859, \"z\": 5.2451}, \"radius\": 0.6, \"color\": \"#0010ff\", \"alpha\": 0.8});\n\tviewer_16945653309818397.addSphere({\"center\": {\"x\": 18.4676, \"y\": 4.2351, \"z\": 2.9497}, \"radius\": 0.6, \"color\": \"#6e00ff\", \"alpha\": 0.8});\n\tviewer_16945653309818397.addSphere({\"center\": {\"x\": 33.467600000000004, \"y\": 4.2351, \"z\": 2.9497}, \"radius\": 0.6, \"color\": \"#6e00ff\", \"alpha\": 0.8});\n\tviewer_16945653309818397.addSphere({\"center\": {\"x\": 20.189, \"y\": 5.6311, \"z\": 1.8951}, \"radius\": 0.6, \"color\": \"#eb00ff\", \"alpha\": 0.8});\n\tviewer_16945653309818397.addSphere({\"center\": {\"x\": 35.189, \"y\": 5.6311, \"z\": 1.8951}, \"radius\": 0.6, \"color\": \"#eb00ff\", \"alpha\": 0.8});\n\tviewer_16945653309818397.addSphere({\"center\": {\"x\": 21.073, \"y\": 7.566, \"z\": 3.0889}, \"radius\": 0.6, \"color\": \"#ff0095\", \"alpha\": 0.8});\n\tviewer_16945653309818397.addSphere({\"center\": {\"x\": 36.073, \"y\": 7.566, \"z\": 3.0889}, \"radius\": 0.6, \"color\": \"#ff0095\", \"alpha\": 0.8});\n\tviewer_16945653309818397.addSphere({\"center\": {\"x\": 18.6874, \"y\": 6.572, \"z\": 6.4958}, \"radius\": 0.6, \"color\": \"#ff0018\", \"alpha\": 0.8});\n\tviewer_16945653309818397.addSphere({\"center\": {\"x\": 33.6874, \"y\": 6.572, \"z\": 6.4958}, \"radius\": 0.6, \"color\": \"#ff0018\", \"alpha\": 0.8});\n\tviewer_16945653309818397.addPropertyLabels(\"index\",{\"not\": {\"resn\": [\"molA_overlay\", \"molA_overlay\"]}},{\"fontColor\": \"black\", \"font\": \"sans-serif\", \"fontSize\": \"10\", \"showBackground\": \"false\", \"alignment\": \"center\"});\n\tviewer_16945653309818397.addModel(\"toluene\\n     RDKit          3D\\n\\n 15 15  0  0  0  0  0  0  0  0999 V2000\\n   28.9072    8.7434    5.1220 H   0  0  0  0  0  0  0  0  0  0  0  0\\n   28.1966    8.1433    6.6393 H   0  0  0  0  0  0  0  0  0  0  0  0\\n   27.9864    8.4164    5.6052 C   0  0  0  0  0  0  0  0  0  0  0  0\\n   27.2579    9.2269    5.5838 H   0  0  0  0  0  0  0  0  0  0  0  0\\n   25.9780    5.3270    4.7790 C   0  0  0  0  0  0  0  0  0  0  0  0\\n   26.3950    5.0740    3.4990 C   0  0  0  0  0  0  0  0  0  0  0  0\\n   27.3400    5.8600    2.9020 C   0  0  0  0  0  0  0  0  0  0  0  0\\n   27.8370    6.9210    3.5690 C   0  0  0  0  0  0  0  0  0  0  0  0\\n   27.4200    7.1960    4.8560 C   0  0  0  0  0  0  0  0  0  0  0  0\\n   26.4980    6.3790    5.4690 C   0  0  0  0  0  0  0  0  0  0  0  0\\n   25.2298    4.6859    5.2451 H   0  0  0  0  0  0  0  0  0  0  0  0\\n   25.9676    4.2351    2.9497 H   0  0  0  0  0  0  0  0  0  0  0  0\\n   27.6890    5.6311    1.8951 H   0  0  0  0  0  0  0  0  0  0  0  0\\n   28.5730    7.5660    3.0889 H   0  0  0  0  0  0  0  0  0  0  0  0\\n   26.1874    6.5720    6.4958 H   0  0  0  0  0  0  0  0  0  0  0  0\\n  1  3  1  0\\n  2  3  1  0\\n  3  4  1  0\\n  5  6  2  0\\n  5 10  1  0\\n  5 11  1  0\\n  6  7  1  0\\n  6 12  1  0\\n  7  8  2  0\\n  7 13  1  0\\n  8  9  1  0\\n  8 14  1  0\\n  3  9  1  0\\n  9 10  2  0\\n 10 15  1  0\\nM  END\\n\",\"molA_overlay\");\n\tviewer_16945653309818397.addModel(\"phenol\\n     RDKit          3D\\n\\n 13 13  0  0  0  0  0  0  0  0999 V2000\\n   25.9780    5.3270    4.7790 C   0  0  0  0  0  0  0  0  0  0  0  0\\n   26.3950    5.0740    3.4990 C   0  0  0  0  0  0  0  0  0  0  0  0\\n   27.3400    5.8600    2.9020 C   0  0  0  0  0  0  0  0  0  0  0  0\\n   27.8370    6.9210    3.5690 C   0  0  0  0  0  0  0  0  0  0  0  0\\n   27.4200    7.1960    4.8560 C   0  0  0  0  0  0  0  0  0  0  0  0\\n   26.4980    6.3790    5.4690 C   0  0  0  0  0  0  0  0  0  0  0  0\\n   25.2298    4.6859    5.2451 H   0  0  0  0  0  0  0  0  0  0  0  0\\n   25.9676    4.2351    2.9497 H   0  0  0  0  0  0  0  0  0  0  0  0\\n   27.6890    5.6311    1.8951 H   0  0  0  0  0  0  0  0  0  0  0  0\\n   28.5730    7.5660    3.0889 H   0  0  0  0  0  0  0  0  0  0  0  0\\n   28.1311    8.0887    6.4624 H   0  0  0  0  0  0  0  0  0  0  0  0\\n   26.1874    6.5720    6.4958 H   0  0  0  0  0  0  0  0  0  0  0  0\\n   27.9460    8.3293    5.5517 O   0  0  0  0  0  0  0  0  0  0  0  0\\n  1  2  2  0\\n  1  6  1  0\\n  1  7  1  0\\n  2  3  1  0\\n  2  8  1  0\\n  3  4  2  0\\n  3  9  1  0\\n  4  5  1  0\\n  4 10  1  0\\n  5  6  2  0\\n  5 13  1  0\\n  6 12  1  0\\n 11 13  1  0\\nM  END\\n\",\"molB_overlay\");\n\tviewer_16945653309818397.setStyle({\"stick\": {}});\n\tviewer_16945653309818397.zoomTo();\nviewer_16945653309818397.render();\n});\n</script>"
         },
         "metadata": {},
         "output_type": "display_data"
        },
        {
         "data": {
          "text/plain": "<py3Dmol.view at 0x7fa41ee5a610>"
         },
         "metadata": {},
         "output_type": "display_data"
        }
       ]
      }
     },
     "486c699d8c8a46128eeb38c7e578f4d5": {
      "model_module": "@jupyter-widgets/base",
      "model_module_version": "2.0.0",
      "model_name": "LayoutModel",
      "state": {}
     },
     "7357c1ea073f43a0a559d7eca1df193f": {
      "model_module": "@jupyter-widgets/controls",
      "model_module_version": "2.0.0",
      "model_name": "DescriptionStyleModel",
      "state": {
       "description_width": ""
      }
     },
     "82694720ac64470182c4498c681d77c4": {
      "model_module": "@jupyter-widgets/controls",
      "model_module_version": "2.0.0",
      "model_name": "ProgressStyleModel",
      "state": {
       "description_width": ""
      }
     },
     "835521e347fe462d8fe221e2b2a4a172": {
      "model_module": "@jupyter-widgets/controls",
      "model_module_version": "2.0.0",
      "model_name": "CheckboxModel",
      "state": {
       "description": "show_atomIDs",
       "disabled": false,
       "layout": "IPY_MODEL_21fdc9f67177422d8b5ff57e8d5e3478",
       "style": "IPY_MODEL_ded70a4ee4674354bcfd190953116471",
       "value": true
      }
     },
     "856dbb230dbb4f049b402e99e5228929": {
      "model_module": "@jupyter-widgets/base",
      "model_module_version": "2.0.0",
      "model_name": "LayoutModel",
      "state": {}
     },
     "9c47f2d09262428ab0a0f1fa8ebb34ce": {
      "model_module": "@jupyter-widgets/base",
      "model_module_version": "2.0.0",
      "model_name": "LayoutModel",
      "state": {}
     },
     "a8424842467c4d0bb612cf4049b1e223": {
      "model_module": "@jupyter-widgets/controls",
      "model_module_version": "2.0.0",
      "model_name": "VBoxModel",
      "state": {
       "_dom_classes": [
        "widget-interact"
       ],
       "children": [
        "IPY_MODEL_07ee7e912f20455188ff67b6b2412f4c",
        "IPY_MODEL_3551291254e2462e869130e5534a74f0",
        "IPY_MODEL_835521e347fe462d8fe221e2b2a4a172",
        "IPY_MODEL_45df2e8808ed4248a09af8c6b22a549a"
       ],
       "layout": "IPY_MODEL_3b063ba74327473e9b3ffbe92e06287d"
      }
     },
     "ce9be92b0f3c4b5995c1b2f28923302b": {
      "model_module": "@jupyter-widgets/controls",
      "model_module_version": "2.0.0",
      "model_name": "FloatProgressModel",
      "state": {
       "bar_style": "success",
       "layout": "IPY_MODEL_0c4b67fcafae41f4bf6f983511c34a8a",
       "max": 21,
       "style": "IPY_MODEL_82694720ac64470182c4498c681d77c4",
       "value": 21
      }
     },
     "d8c6b249f9f7479b8d400fcd06fb01ae": {
      "model_module": "@jupyter-widgets/controls",
      "model_module_version": "2.0.0",
      "model_name": "HTMLModel",
      "state": {
       "layout": "IPY_MODEL_30ef10499b954ea38f12bbfbd3d2f590",
       "style": "IPY_MODEL_030bf082cdab4145a8b1199345791af6",
       "value": " 21/21 [00:00&lt;00:00, 89.15it/s]"
      }
     },
     "ded70a4ee4674354bcfd190953116471": {
      "model_module": "@jupyter-widgets/controls",
      "model_module_version": "2.0.0",
      "model_name": "CheckboxStyleModel",
      "state": {
       "description_width": ""
      }
     },
     "f117690e80e84404982a41ce43ae641c": {
      "model_module": "@jupyter-widgets/base",
      "model_module_version": "2.0.0",
      "model_name": "LayoutModel",
      "state": {}
     },
     "f39e7a98f3c44f89ad345efbc87f4232": {
      "model_module": "@jupyter-widgets/controls",
      "model_module_version": "2.0.0",
      "model_name": "HBoxModel",
      "state": {
       "children": [
        "IPY_MODEL_06c73333651c4cf7b690b9b0709d3f38",
        "IPY_MODEL_ce9be92b0f3c4b5995c1b2f28923302b",
        "IPY_MODEL_d8c6b249f9f7479b8d400fcd06fb01ae"
       ],
       "layout": "IPY_MODEL_9c47f2d09262428ab0a0f1fa8ebb34ce"
      }
     }
    },
    "version_major": 2,
    "version_minor": 0
   }
  }
 },
 "nbformat": 4,
 "nbformat_minor": 5
}
