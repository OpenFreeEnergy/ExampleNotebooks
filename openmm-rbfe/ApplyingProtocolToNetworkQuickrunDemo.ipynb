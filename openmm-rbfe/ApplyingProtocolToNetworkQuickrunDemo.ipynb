{
 "cells": [
  {
   "cell_type": "markdown",
   "id": "72c3daf6",
   "metadata": {},
   "source": [
    "# Serialising and running Transformations with OpenFE\n",
    "\n",
    "This notebook will demonstrate:\n",
    "- how a free energy Network can be planned for performing a relative binding calculation\n",
    "- how to apply a alchemical Protocol across a fre energy Network\n",
    "- how to serialise (save) and deserialise (load) Transformations objects\n",
    "- how to use the command line interface quickrun utility\n",
    "\n",
    "<div class=\"alert alert-block alert-warning\">\n",
    "    <b>Warning</b>\n",
    "    \n",
    "* The methods in this notebook are still considered pre-release and are designed for testing and feedback.\n",
    "* Do not use these for production work yet, they are subject to change.\n",
    "</div>"
   ]
  },
  {
   "cell_type": "code",
   "execution_count": 1,
   "id": "09980f3d",
   "metadata": {},
   "outputs": [
    {
     "name": "stderr",
     "output_type": "stream",
     "text": [
      "WARNING:root:Warning: importing 'simtk.openmm' is deprecated.  Import 'openmm' instead.\n"
     ]
    },
    {
     "name": "stdout",
     "output_type": "stream",
     "text": [
      "gufe v0.6\n",
      "openfe v0.6.0\n"
     ]
    }
   ],
   "source": [
    "import gufe\n",
    "import openfe\n",
    "from rdkit import Chem\n",
    "from openff.units import unit\n",
    "\n",
    "# notebook written for gufe v0.4 and openfe v0.4\n",
    "print(f\"gufe {gufe.__version__}\")\n",
    "print(f\"openfe {openfe.__version__}\")"
   ]
  },
  {
   "cell_type": "markdown",
   "id": "e97260cb",
   "metadata": {},
   "source": [
    "## 1) Planning a free energy Network\n",
    "\n",
    "First we must load our ligands; the files are read from disk using RDKit, and these RDKit molecules are then wrapped in an openfe `SmallMoleculeComponent` wrapper.  Once molecules are placed into the `SmallMoleculeComponent` wrapper they cannot be modified any further."
   ]
  },
  {
   "cell_type": "code",
   "execution_count": 2,
   "id": "e8e756d6",
   "metadata": {},
   "outputs": [],
   "source": [
    "def load_ligands(sdf_file) -> list[openfe.SmallMoleculeComponent]:\n",
    "    # load the ligands from multi molecule SDF file\n",
    "    # we just need to load using RDKit\n",
    "    sdf_supp = Chem.SDMolSupplier(sdf_file, removeHs=False)\n",
    "    # and pass the rdkit Mols into openfe\n",
    "    return [openfe.SmallMoleculeComponent(m) for m in sdf_supp]\n",
    "\n",
    "ligands = load_ligands('inputs/ligands.sdf')"
   ]
  },
  {
   "cell_type": "markdown",
   "id": "2ba6fcf8",
   "metadata": {},
   "source": [
    "For this example we'll construct a simple radial (star) map of the ligands, using the benzene molecule as our reference ligand.\n",
    "\n",
    "This can be done using the `openfe.setup.ligand_network_planning.generate_radial_network` function.  We will use the `LomapAtomMapper` and forbid elemental changes in our mappings."
   ]
  },
  {
   "cell_type": "code",
   "execution_count": 3,
   "id": "cc417fee",
   "metadata": {},
   "outputs": [
    {
     "name": "stdout",
     "output_type": "stream",
     "text": [
      "We have created \"<openfe.setup.ligand_network.LigandNetwork object at 0x7f00f985f0a0>\" with 7 nodes and 6 edges\n"
     ]
    }
   ],
   "source": [
    "# our ligands in the SDF files had titles present,\n",
    "# these were loaded into RDKit as the \"_Name\" prop,\n",
    "# and subsequently populated the `.name` field,\n",
    "# we can use them to quickly identify the benzene ligand\n",
    "central = [l for l in ligands if l.name == 'benzene'][0]\n",
    "outer = [l for l in ligands if l.name != 'benzene']\n",
    "\n",
    "network = openfe.setup.ligand_network_planning.generate_radial_network(\n",
    "    ligands=outer,\n",
    "    central_ligand=central,\n",
    "    # we can supply one or more Mappers\n",
    "    mappers=[openfe.setup.LomapAtomMapper(element_change=False)]\n",
    ")\n",
    "\n",
    "print(f'We have created \"{network}\" with {len(network.nodes)} nodes and {len(network.edges)} edges')"
   ]
  },
  {
   "cell_type": "markdown",
   "id": "bd7450e6",
   "metadata": {},
   "source": [
    "<div class=\"alert alert-block alert-success\">\n",
    "    <b>Reminder:</b>\n",
    "    \n",
    "- The documentation for all functions is available in the notebook via the \"?\" operator\n",
    "</div>"
   ]
  },
  {
   "cell_type": "code",
   "execution_count": 4,
   "id": "677bb491",
   "metadata": {},
   "outputs": [],
   "source": [
    "?openfe.setup.ligand_network_planning.generate_radial_network"
   ]
  },
  {
   "cell_type": "markdown",
   "id": "ce860903",
   "metadata": {},
   "source": [
    "Each node in the network is one of our ligands, while each edge is a `LigandAtomMapping` object"
   ]
  },
  {
   "cell_type": "code",
   "execution_count": 5,
   "id": "02e34796",
   "metadata": {},
   "outputs": [
    {
     "data": {
      "image/png": "[encoded data removed]",
      "text/plain": [
       "<IPython.core.display.Image object>"
      ]
     },
     "metadata": {},
     "output_type": "display_data"
    }
   ],
   "source": [
    "edges = list(network.edges)\n",
    "\n",
    "edges[0]"
   ]
  },
  {
   "cell_type": "markdown",
   "id": "4cd9e92f",
   "metadata": {},
   "source": [
    "## 2) Define a Protocol and apply to a Network\n",
    "\n",
    "Next we will define a free energy protocol (method) and apply this to all edges in our free energy network\n",
    "The `openfe.protocols` submodule contains many prepared workflows for estimating ,\n",
    "here we import an RBFE method which uses the OpenMM MD engine.\n",
    "\n",
    "<div class=\"alert alert-block alert-success\">\n",
    "    <b>Note:</b>\n",
    "    \n",
    "The `openfe` package will contain a set of workflows,\n",
    "and other academic groups are currently in the process of writing their own workflows.\n",
    "Importantly, each of these will present a common interface (API),\n",
    "allowing them to be used without requiring detailed knowledge.\n",
    "</div>"
   ]
  },
  {
   "cell_type": "code",
   "execution_count": 6,
   "id": "ae63b38a",
   "metadata": {},
   "outputs": [],
   "source": [
    "from openfe.protocols.openmm_rbfe import RelativeLigandProtocol"
   ]
  },
  {
   "cell_type": "markdown",
   "id": "29488061",
   "metadata": {},
   "source": [
    "Firstly each Protocol will provide a default set of parameters to start with via the `.default_settings()` method.\n",
    "These `Settings` objects behave like a Python dictionary, and can be modified to tweak the parameters as required."
   ]
  },
  {
   "cell_type": "code",
   "execution_count": 7,
   "id": "021cd198",
   "metadata": {},
   "outputs": [],
   "source": [
    "settings = RelativeLigandProtocol.default_settings()"
   ]
  },
  {
   "cell_type": "markdown",
   "id": "65be27e1",
   "metadata": {},
   "source": [
    "Each Protocol then takes these settings as their only creation argument.\n",
    "After this point the settings are fixed, so it is important to inspect and set these ahead of time."
   ]
  },
  {
   "cell_type": "code",
   "execution_count": 8,
   "id": "0ef125b8",
   "metadata": {},
   "outputs": [],
   "source": [
    "# create the Protocol we'll apply to our network\n",
    "prot = RelativeLigandProtocol(settings)"
   ]
  },
  {
   "cell_type": "markdown",
   "id": "69e09dd3",
   "metadata": {},
   "source": [
    "The Network we planned only featured ligands, so we'll have to load the protein model.\n",
    "The protein loading is using the `.from_pdb_file` method, which uses a version of the OpenMM protein loading code, modified in preparation of the next generation of OpenFF biopolymer forcefields.\n",
    "The solvent environment is also defined,\n",
    "this does not solvate anything at this stage but instead provides an abstract definition of the solvent, providing the necessary information about how the system will be solvated."
   ]
  },
  {
   "cell_type": "code",
   "execution_count": 9,
   "id": "241348f5",
   "metadata": {},
   "outputs": [],
   "source": [
    "# load our protein model\n",
    "protein = openfe.ProteinComponent.from_pdb_file('./inputs/181L_mod_capped_protonated.pdb')\n",
    "\n",
    "# define the solvent state\n",
    "solvent = openfe.SolventComponent(\n",
    "    positive_ion='Na', negative_ion='Cl',\n",
    "    neutralize=True, ion_concentration=0.15 * unit.molar\n",
    ")"
   ]
  },
  {
   "cell_type": "markdown",
   "id": "979ee60a",
   "metadata": {},
   "source": [
    "With all the components needed to create the systems of interest defined, we can loop over all edges of the free energy Network and define the legs of the alchemical cycle we wish to perform.  These are defined as a `Transformation` object, which holds the chemical composition on either end as a `ChemicalSystem` and the `Protocol` we use to move between them."
   ]
  },
  {
   "cell_type": "code",
   "execution_count": 10,
   "id": "d97e6000",
   "metadata": {},
   "outputs": [
    {
     "name": "stdout",
     "output_type": "stream",
     "text": [
      "From 6 edges we have defined 12 Transformations\n"
     ]
    }
   ],
   "source": [
    "transformations = []\n",
    "\n",
    "for edge in network.edges:\n",
    "    # grab the two ligands in this edge of the Network\n",
    "    ligA, ligB = edge.componentA, edge.componentB\n",
    "    \n",
    "    # define the complete ChemicalSystem for the A and B states\n",
    "    # these are identical except for the ligand component,\n",
    "    # representing the alchemical shift we wish to simulate\n",
    "    stateA_complex = openfe.ChemicalSystem(\n",
    "        components={'solvent': solvent,\n",
    "                    'ligand': ligA,\n",
    "                    'protein': protein},\n",
    "    )\n",
    "    stateB_complex = openfe.ChemicalSystem(\n",
    "        components={'solvent': solvent,\n",
    "                    'ligand': ligB,\n",
    "                    'protein': protein},\n",
    "    \n",
    "    )\n",
    "    # similarly define the solvent leg\n",
    "    stateA_solvent = openfe.ChemicalSystem(\n",
    "        components={'solvent': solvent, 'ligand': ligA}\n",
    "    )\n",
    "    stateB_solvent = openfe.ChemicalSystem(\n",
    "        components={'solvent': solvent, 'ligand': ligB}\n",
    "    )\n",
    "    \n",
    "    complex_trans = openfe.Transformation(\n",
    "        stateA=stateA_complex,\n",
    "        stateB=stateB_complex,\n",
    "        mapping={'ligand': edge},\n",
    "        protocol=prot,\n",
    "    )\n",
    "    solvent_trans = openfe.Transformation(\n",
    "        stateA=stateA_solvent,\n",
    "        stateB=stateB_solvent,\n",
    "        mapping={'ligand': edge},\n",
    "        protocol=prot,\n",
    "    )\n",
    "    \n",
    "    transformations.append(complex_trans)\n",
    "    transformations.append(solvent_trans)\n",
    "\n",
    "print(f\"From {len(network.edges)} edges we have defined {len(transformations)} Transformations\")"
   ]
  },
  {
   "cell_type": "markdown",
   "id": "09acea93",
   "metadata": {},
   "source": [
    "## 3) Save, load and execute your Transformation elsewhere\n",
    "\n",
    "With the chemistry and method defined for many edges, we are now ready to perform the calculations.\n",
    "Inevitably, we will want to farm out these jobs to different resources.\n",
    "To do this we will need to store the data on disk,\n",
    "transmit it elsewhere, then run the stored Transformation.\n",
    "\n",
    "A simple way to save a `Transformation` to disk is to use the `.dump()` method.\n",
    "\n",
    "\n",
    "<div class=\"alert alert-block alert-warning\">\n",
    "    <b>Note</b>\n",
    "    \n",
    "* This section is provided as a basic way of trying out the OpenFE tools.  A more comprehensive method for executing many jobs is in the works.\n",
    "* Storing entire campaigns of work this way is inefficient, a more comprehensive and robust method for archiving data is being developed.\n",
    "</div>"
   ]
  },
  {
   "cell_type": "code",
   "execution_count": 11,
   "id": "f328af99",
   "metadata": {},
   "outputs": [],
   "source": [
    "# pick an arbitrary Transformation to demonstrate with\n",
    "trans = transformations[0]\n",
    "\n",
    "trans.dump('out.json')"
   ]
  },
  {
   "cell_type": "markdown",
   "id": "b4faf42c",
   "metadata": {},
   "source": [
    "We can see that this has created a file in our local directory.\n",
    "For users of Gromacs, this json is similar to a compiled `.tpr` file, storing a prepared simulation which is ready to be executed.\n",
    "If necessary, this file can be copied across to the compute resource to perform the simulation.\n",
    "\n",
    "<div class=\"alert alert-block alert-success\">\n",
    "<b>Note:</b>\n",
    "    \n",
    "This json file is a complete description of the chemical models, protocol and settings we previously defined.\n",
    "    It is therefore a source of provenance for the computational work we will perform.\n",
    "</div>"
   ]
  },
  {
   "cell_type": "code",
   "execution_count": 12,
   "id": "6fc00526",
   "metadata": {},
   "outputs": [
    {
     "name": "stdout",
     "output_type": "stream",
     "text": [
      "-rw-rw-r-- 1 richard richard 839K Feb 16 12:24 out.json\r\n"
     ]
    }
   ],
   "source": [
    "!ls -ltrh out.json"
   ]
  },
  {
   "cell_type": "markdown",
   "id": "e2f46e1f",
   "metadata": {},
   "source": [
    "\n",
    "This file can be loaded again using the `.load()` method of a `Transformation`.  This will create an identical object:"
   ]
  },
  {
   "cell_type": "code",
   "execution_count": 13,
   "id": "c81c569d",
   "metadata": {},
   "outputs": [
    {
     "data": {
      "text/plain": [
       "True"
      ]
     },
     "execution_count": 13,
     "metadata": {},
     "output_type": "execute_result"
    }
   ],
   "source": [
    "t2 = openfe.Transformation.load('out.json')\n",
    "\n",
    "trans == t2"
   ]
  },
  {
   "cell_type": "markdown",
   "id": "fca3123c",
   "metadata": {},
   "source": [
    "To execute the saved transformation,\n",
    "a convenience utility is provided as part of the openfe command line interface tool called \"`quickrun`\".\n",
    "\n",
    "To run a saved json transformation would be:\n",
    "*  `openfe quickrun out.json`\n",
    "\n",
    "<div class=\"alert alert-block alert-success\">\n",
    "<b>Reminder:</b>\n",
    "    \n",
    "Cells in a Jupyter notebook starting with `!` are executed using the shell terminal, not Python.\n",
    "</div>"
   ]
  },
  {
   "cell_type": "code",
   "execution_count": 14,
   "id": "9ef9fd11",
   "metadata": {
    "scrolled": true
   },
   "outputs": [
    {
     "name": "stdout",
     "output_type": "stream",
     "text": [
      "Usage: openfe quickrun [OPTIONS] TRANSFORMATION\r\n",
      "\r\n",
      "  Run the transformation (edge) in the given JSON file in serial.\r\n",
      "\r\n",
      "  To save a transformation as JSON, create the transformation and then save it\r\n",
      "  with transformation.dump(filename).\r\n",
      "\r\n",
      "Options:\r\n",
      "  -d DIRECTORY  directory to store files in (defaults to temporary directory)\r\n",
      "  -o FILE       output file (JSON format) for the final results\r\n",
      "  -h, --help    Show this message and exit.\r\n"
     ]
    }
   ],
   "source": [
    "!openfe quickrun --help"
   ]
  }
 ],
 "metadata": {
  "kernelspec": {
   "display_name": "Python 3 (ipykernel)",
   "language": "python",
   "name": "python3"
  },
  "language_info": {
   "codemirror_mode": {
    "name": "ipython",
    "version": 3
   },
   "file_extension": ".py",
   "mimetype": "text/x-python",
   "name": "python",
   "nbconvert_exporter": "python",
   "pygments_lexer": "ipython3",
   "version": "3.9.12"
  }
 },
 "nbformat": 4,
 "nbformat_minor": 5
}
