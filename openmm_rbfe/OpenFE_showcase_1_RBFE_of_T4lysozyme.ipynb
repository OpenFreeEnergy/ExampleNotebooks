{
 "cells": [
  {
   "cell_type": "markdown",
   "id": "3bae4c80d0f2",
   "metadata": {
    "id": "3bae4c80d0f2"
   },
   "source": [
    "# OpenFE Showcase: Relative Binding Free Energy of T4 Lysozyme\n"
   ]
  },
  {
   "cell_type": "markdown",
   "id": "AUgaKFN7eCt5",
   "metadata": {
    "id": "AUgaKFN7eCt5",
    "nbsphinx": "hidden"
   },
   "source": [
    "## 0. Setup for Google Colab\n",
    "\n",
    "If you are running this example in Google Colab, run the following cells to setup the environment. If you are running this notebook locally, skip down to `1. Overview`"
   ]
  },
  {
   "cell_type": "code",
   "execution_count": null,
   "id": "-jX9udRGehD3",
   "metadata": {
    "colab": {
     "base_uri": "https://localhost:8080/"
    },
    "id": "-jX9udRGehD3",
    "nbsphinx": "hidden",
    "outputId": "78a0d40d-a6d2-4a93-a041-406a8cb551b9",
    "tags": []
   },
   "outputs": [],
   "source": [
    "# NBVAL_SKIP\n",
    "# Only run this cell if on google colab\n",
    "import os\n",
    "if \"COLAB_RELEASE_TAG\" in os.environ:\n",
    "    # fix for colab's torchvision causing issues\n",
    "    !rm -r /usr/local/lib/python3.12/dist-packages/torchvision\n",
    "    \n",
    "    !pip install -q condacolab\n",
    "    import condacolab\n",
    "    condacolab.install_from_url(\"https://github.com/OpenFreeEnergy/openfe/releases/download/v1.7.0/OpenFEforge-1.7.0-Linux-x86_64.sh\")"
   ]
  },
  {
   "cell_type": "code",
   "execution_count": null,
   "id": "dlCARZ2_fAI4",
   "metadata": {
    "colab": {
     "base_uri": "https://localhost:8080/"
    },
    "id": "dlCARZ2_fAI4",
    "nbsphinx": "hidden",
    "outputId": "d528f4dc-5105-4288-ea08-9b2e75d442ff",
    "tags": []
   },
   "outputs": [],
   "source": [
    "# NBVAL_SKIP\n",
    "# Only run this cell if on google colab\n",
    "import os\n",
    "if \"COLAB_RELEASE_TAG\" in os.environ:\n",
    "    import condacolab\n",
    "    import locale\n",
    "    locale.getpreferredencoding = lambda: \"UTF-8\"\n",
    "    !mkdir inputs && cd inputs && openfe fetch rbfe-tutorial\n",
    "    # quick fix for https://github.com/conda-incubator/condacolab/issues/75\n",
    "    # if deprecation warnings persist, rerun this cell\n",
    "    import warnings\n",
    "    warnings.filterwarnings(action=\"ignore\", message=r\"datetime.datetime.utcnow\") \n",
    "    for _ in range(3):\n",
    "      # Sometimes we have to re-run the check\n",
    "      try:\n",
    "        condacolab.check()\n",
    "      except:\n",
    "        pass\n",
    "      else:\n",
    "        break"
   ]
  },
  {
   "cell_type": "markdown",
   "id": "9af7f4fd-b169-45f8-833e-c709f6dfb538",
   "metadata": {},
   "source": [
    "## 1. Overview\n",
    "\n",
    "In this example we show how to set up a network of transformations using\n",
    "the OpenFE toolkit for small chemical modifications of ligands binding to tyrosine kinase 2 (TYK2).\n",
    "\n",
    "This notebook demonstrates the current capabilities of the OpenFE toolkit. Here\n",
    "we specifically look at how relative binding free energy calculations can be\n",
    "carried out using the OpenMM MD engine in combination with the OpenFE toolset.\n",
    "This notebook will be continually updated as OpenFE introduces new features.\n",
    "\n",
    "For convenience, a prepared (capped and protonated) PDB structure of the\n",
    "TYK2 protein is provided under `inputs/tyk2_protein.pdb`."
   ]
  },
  {
   "cell_type": "markdown",
   "id": "3e95018e-a115-40dc-84a6-4bcd20600272",
   "metadata": {},
   "source": [
    "<img src=\"attachment:da4bf032-9a72-4e2d-9e6d-58e1ac5face9.png\" width=\"300\">"
   ]
  },
  {
   "cell_type": "markdown",
   "id": "e9a7f137",
   "metadata": {
    "id": "e9a7f137"
   },
   "source": [
    "### Alchemical transformations of TYK2 ligands\n",
    "\n",
    "Here we explore how OpenFE can be used\n",
    "to build a simple star map network for planned alchemical substitutions of the TYK2 ligands.\n",
    "\n",
    "Ten pre-aligned compounds are available under\n",
    "`inputs/tyk2_ligands.sdf`. These are shown in the cell below."
   ]
  },
  {
   "cell_type": "code",
   "execution_count": null,
   "id": "3d89a17c",
   "metadata": {
    "colab": {
     "base_uri": "https://localhost:8080/",
     "height": 617
    },
    "id": "3d89a17c",
    "outputId": "9a28b006-f506-4fcd-c0cb-759bdd775f35"
   },
   "outputs": [],
   "source": [
    "from rdkit import Chem\n",
    "from rdkit.Chem import AllChem\n",
    "from rdkit.Chem import Draw\n",
    "\n",
    "# Extract the contents of the sdf file and visualise it\n",
    "ligands_rdmol = [mol for mol in\n",
    "                 Chem.SDMolSupplier('inputs/tyk2_ligands.sdf', removeHs=False)]\n",
    "\n",
    "for ligand in ligands_rdmol:\n",
    "    AllChem.Compute2DCoords(ligand)\n",
    "\n",
    "Chem.Draw.MolsToGridImage(ligands_rdmol)"
   ]
  },
  {
   "cell_type": "markdown",
   "id": "7bde6b8e",
   "metadata": {
    "id": "7bde6b8e"
   },
   "source": [
    "Ultimately we will limit the RBFEs done in this notebook to the transformation\n",
    "of `lig_ejm_31` to `lig_ejm_47`. "
   ]
  },
  {
   "cell_type": "markdown",
   "id": "0870f84e",
   "metadata": {
    "id": "0870f84e"
   },
   "source": [
    "### The plan\n",
    "\n",
    "Here is what we will achieve in this notebook and what software toolchains are\n",
    "used along the way.\n",
    "\n",
    "| **Actions**                    | **Software**                                                |\n",
    "|:------------------------------:|:-----------------------------------------------------------:|\n",
    "| Create OpenFE Molecules        | OpenFE tk, RDKit                                            |\n",
    "| Create Radial Network          | OpenFE tk, Lomap, Networkx                                  |\n",
    "| Visualise Network              | OpenFE tk, NetworkX, RDKit, Matplotlib                      |\n",
    "| Create ligand topologies       | OpenFE tk interface - OpenFF tk                             |\n",
    "| Create hybrid OpenMM topology  | OpenFE tk interface - OpenMMTools (eventually - ex Perses)  |\n",
    "| Create Lambda Protocol         | OpenFE tk interface - OpenMMTools (eventually - ex Perses)  |\n",
    "| Setup and run RBFE calculation | OpenFE tk interface - OpenMM + OpenMMTools                  |\n",
    "| Analysis RBFE calculation      | OpenFE tk interface - PyMBAR + OpenMMTools                  |\n",
    "\n",
    "\n",
    "A complete overview of the setup and simulation process starting from initial SDF and PDB files can be found [in this diagram](./assets/RBFE_workflow.drawio.pdf)."
   ]
  },
  {
   "cell_type": "markdown",
   "id": "14ade1f0",
   "metadata": {
    "id": "14ade1f0"
   },
   "source": [
    "## 2. Creating a transformation network"
   ]
  },
  {
   "cell_type": "markdown",
   "id": "f734578f",
   "metadata": {
    "id": "f734578f"
   },
   "source": [
    "### Creating OpenFE SmallMoleculeComponents\n",
    "\n",
    "In order to keep track of the various inputs being passed through the OpenFE\n",
    "toolkit, OpenFE implements a set of Components which define the proteins,\n",
    "small molecules and solvent components which a system may contain. Here we\n",
    "use the [SmallMoleculeComponent](https://github.com/OpenFreeEnergy/gufe/blob/main/gufe/smallmoleculecomponent.py)\n",
    "which takes in either [RDKit molecules](https://www.rdkit.org/docs/source/rdkit.Chem.rdmolfiles.html)\n",
    "or [OpenFF molecules](https://open-forcefield-toolkit.readthedocs.io/en/0.9.2/api/generated/openff.toolkit.topology.Molecule.html).\n",
    "\n",
    "In the backend, OpenFE treats the RDKit molecules as the central representation\n",
    "of the ligands, and uses the OpenFF toolkit to convert between objects from\n",
    "various toolchains (for example OpenEye's OEMol).\n",
    "\n",
    "Here we demonstrate how to load the ligands from `inputs/tyk2_ligands.sdf` into a\n",
    "list of OpenFE SmallMoleculeComponents for further processing."
   ]
  },
  {
   "cell_type": "code",
   "execution_count": null,
   "id": "4096ce97",
   "metadata": {
    "id": "4096ce97"
   },
   "outputs": [],
   "source": [
    "import locale\n",
    "locale.getpreferredencoding = lambda _: 'UTF-8'  # hack for google colab, not needed for local execution\n",
    "from openfe import SmallMoleculeComponent\n",
    "\n",
    "# Create and SDF supplier\n",
    "# Extract the contents of the sdf file and visualise it\n",
    "ligands_sdf = Chem.SDMolSupplier('inputs/tyk2_ligands.sdf', removeHs=False)\n",
    "\n",
    "# Now pass these to form a list of Molecules\n",
    "ligand_mols = [SmallMoleculeComponent(sdf) for sdf in ligands_sdf]"
   ]
  },
  {
   "cell_type": "markdown",
   "id": "3a8d5433",
   "metadata": {
    "id": "3a8d5433"
   },
   "source": [
    "OpenFE SmallMoleculeComponents have some useful built in attributes and methods.\n",
    "\n",
    "For example the molecule's name (as defined by the SDF file) can be accessed"
   ]
  },
  {
   "cell_type": "code",
   "execution_count": null,
   "id": "faacbebb",
   "metadata": {
    "colab": {
     "base_uri": "https://localhost:8080/"
    },
    "id": "faacbebb",
    "outputId": "bc0ad1d9-72ad-49d0-e322-61b2a87d5301"
   },
   "outputs": [],
   "source": [
    "print(\"name: \", ligand_mols[0].name)"
   ]
  },
  {
   "cell_type": "code",
   "execution_count": null,
   "id": "d0fa4698",
   "metadata": {
    "colab": {
     "base_uri": "https://localhost:8080/"
    },
    "id": "d0fa4698",
    "outputId": "e4dd51f0-7a48-48b9-e722-26af397079fb"
   },
   "outputs": [],
   "source": [
    "ligand_mols[0].to_dict()"
   ]
  },
  {
   "cell_type": "markdown",
   "id": "b24a3ffa",
   "metadata": {
    "id": "b24a3ffa"
   },
   "source": [
    "As previously stated SmallMoleculeComponents also use the OpenFF backend to allow conversion between different object types. For example it's possible to obtain an openff Molecule:"
   ]
  },
  {
   "cell_type": "code",
   "execution_count": null,
   "id": "29b7c68a",
   "metadata": {
    "colab": {
     "base_uri": "https://localhost:8080/"
    },
    "id": "29b7c68a",
    "outputId": "39e7a77a-d2b8-49d2-8f70-fd8118845a99"
   },
   "outputs": [],
   "source": [
    "type(ligand_mols[0].to_openff())"
   ]
  },
  {
   "cell_type": "markdown",
   "id": "de4592a7",
   "metadata": {
    "id": "de4592a7"
   },
   "source": [
    "### Creating a network\n",
    "\n",
    "From these SmallMoleculeComponents we can quickly create a star map network which centers\n",
    "around the first ligand in our sdf file using\n",
    "`openfe.setup.ligand_network_planning.generate_radial_network`.\n",
    "\n",
    "Here we use Lomap (via the OpenFE interface LomapAtomMapper) to define the atom mappings between the various ligands and the central ligand. Whilst\n",
    "we use the defaults here, please note that the various supported arguments of\n",
    "Lomap can be passed to LomapAtomMapper.\n",
    "\n",
    "Note: LomapAtomMapper is one of three currently implemented Mappers in OpenFE, the other two being the KartografAtomMapper and the rjmc mapper from Perses. Long term, users will be able to pass serveral mappers and atom mapping scoring methods on network generation."
   ]
  },
  {
   "cell_type": "code",
   "execution_count": null,
   "id": "5b89da93",
   "metadata": {
    "id": "5b89da93"
   },
   "outputs": [],
   "source": [
    "# Create network from the two molecules\n",
    "from openfe.setup.ligand_network_planning import generate_radial_network\n",
    "from openfe.setup import LomapAtomMapper\n",
    "\n",
    "network = generate_radial_network(ligands=ligand_mols[1:],\n",
    "                                  central_ligand=ligand_mols[0],\n",
    "                                  mappers=[LomapAtomMapper(threed=True, element_change=False),])"
   ]
  },
  {
   "cell_type": "markdown",
   "id": "3098268e",
   "metadata": {
    "id": "3098268e"
   },
   "source": [
    "This network contains a set of 9 edges centered around ligand `lig_ejm_31`\n",
    "which define the various atom mappings between the the transformation pairs.\n"
   ]
  },
  {
   "cell_type": "markdown",
   "id": "c0154dad",
   "metadata": {
    "id": "c0154dad"
   },
   "source": [
    "Edges along the network can be accessed to recover the invidual molecules\n",
    "involved in that given alchemical tranformation, and the atom mapping between\n",
    "the two ligands.\n",
    "\n",
    "**Note: as can be seen in the example below, transformations are defined within OpenFE as going from componentA to componentB**"
   ]
  },
  {
   "cell_type": "code",
   "execution_count": null,
   "id": "ce9c2525",
   "metadata": {
    "colab": {
     "base_uri": "https://localhost:8080/"
    },
    "id": "ce9c2525",
    "outputId": "191c98a6-d97e-4de0-9537-ccddf41b1e4c"
   },
   "outputs": [],
   "source": [
    "transform_edges = [edge for edge in network.edges]\n",
    "print(\"molecule A smiles: \", transform_edges[0].componentA.smiles)\n",
    "print(\"molecule B smiles: \", transform_edges[0].componentB.smiles)\n",
    "print(\"map between molecule A and B: \", transform_edges[0].componentA_to_componentB)"
   ]
  },
  {
   "cell_type": "markdown",
   "id": "ee0b19b7",
   "metadata": {
    "id": "ee0b19b7"
   },
   "source": [
    "We can also visualise the atom mappings by invoking the individual OpenFE\n",
    "AtomMapping objects directly.\n",
    "\n",
    "Unique atoms between each mapping are shown in red, and atoms which are mapped\n",
    "but undergo element changes are shown in blue. Bonds which either involve atoms that are unique or undergo element changes are highlighted in red."
   ]
  },
  {
   "cell_type": "code",
   "execution_count": null,
   "id": "0c0aee78",
   "metadata": {
    "colab": {
     "base_uri": "https://localhost:8080/",
     "height": 317
    },
    "id": "0c0aee78",
    "outputId": "6e2f6497-8d17-4054-e319-4886b3383533"
   },
   "outputs": [],
   "source": [
    "# Looking at the mapping of an edge\n",
    "edge = [edge for edge in network.edges if edge.componentB.name == \"lig_ejm_47\"][0]\n",
    "edge"
   ]
  },
  {
   "cell_type": "code",
   "execution_count": null,
   "id": "66dd7d32",
   "metadata": {
    "colab": {
     "base_uri": "https://localhost:8080/",
     "height": 317
    },
    "id": "66dd7d32",
    "outputId": "13a421f2-ce17-49c6-aac0-e3c157d59a91"
   },
   "outputs": [],
   "source": [
    "from IPython.display import Image\n",
    "\n",
    "# mappings can also be saved to file if required\n",
    "edge = [edge for edge in network.edges if edge.componentB.name == \"lig_ejm_47\"][0]\n",
    "edge.draw_to_file('tyk2_edge.png')\n",
    "\n",
    "# load it back for visualisation\n",
    "Image(\"tyk2_edge.png\")"
   ]
  },
  {
   "cell_type": "code",
   "execution_count": null,
   "id": "d443714e",
   "metadata": {
    "colab": {
     "base_uri": "https://localhost:8080/",
     "height": 317
    },
    "id": "9f92262f",
    "outputId": "d8dc47c7-c487-4f78-9e19-c388ef6a7c51"
   },
   "outputs": [],
   "source": [
    "# Display all the atom mappings\n",
    "edges = [edge for edge in network.edges]\n",
    "for edge in edges:\n",
    "    display(edge)"
   ]
  },
  {
   "cell_type": "markdown",
   "id": "8e119e3e",
   "metadata": {
    "id": "8e119e3e"
   },
   "source": [
    "### Storing the network\n",
    "\n",
    "Created networks can easily be converted to (and also loaded from) as a GraphML representation.\n",
    "\n",
    "This can allow users of OpenFE to store the network to disk for later use."
   ]
  },
  {
   "cell_type": "code",
   "execution_count": null,
   "id": "0be4c1f4",
   "metadata": {
    "id": "0be4c1f4"
   },
   "outputs": [],
   "source": [
    "# Convert to graphml\n",
    "with open(\"network_store.graphml\", \"w\") as writer:\n",
    "    writer.write(network.to_graphml())"
   ]
  },
  {
   "cell_type": "code",
   "execution_count": null,
   "id": "5ebec1d5",
   "metadata": {
    "id": "5ebec1d5"
   },
   "outputs": [],
   "source": [
    "from openfe.setup import LigandNetwork\n",
    "\n",
    "# load a new network from this graphml representation\n",
    "with open('network_store.graphml', 'r') as file:\n",
    "    network_data = file.read()\n",
    "\n",
    "new_network = LigandNetwork.from_graphml(network_data)"
   ]
  },
  {
   "cell_type": "code",
   "execution_count": null,
   "id": "05b277f8",
   "metadata": {
    "colab": {
     "base_uri": "https://localhost:8080/"
    },
    "id": "05b277f8",
    "outputId": "2bd39d43-c089-45a3-bb5f-adea9efe2a02"
   },
   "outputs": [],
   "source": [
    "edges = [edge for edge in new_network.edges]\n",
    "print(f\"edge 0 molecule 1: {edges[0].componentA.name}\")\n",
    "print(f\"edge 0 molecule 2: {edges[0].componentB.name}\")\n",
    "print(f\"edge 0 mapping: {edges[0].componentA_to_componentB}\")"
   ]
  },
  {
   "cell_type": "markdown",
   "id": "ac41ea4d",
   "metadata": {
    "id": "ac41ea4d"
   },
   "source": [
    "### The OpenFE CLI\n",
    "\n",
    "The OpenFE toolkit also has a command line interface which we plan to add several convenience methods to."
   ]
  },
  {
   "cell_type": "code",
   "execution_count": null,
   "id": "eecd0fea",
   "metadata": {
    "colab": {
     "base_uri": "https://localhost:8080/"
    },
    "id": "eecd0fea",
    "outputId": "c64ee46e-aada-49f0-f8e7-05c3aaa48b9d"
   },
   "outputs": [],
   "source": [
    "# Call help on the OpenFE CLI\n",
    "locale.getpreferredencoding = lambda: 'UTF-8'  # hack for google colab, not needed for local execution\n",
    "!openfe --help"
   ]
  },
  {
   "cell_type": "code",
   "execution_count": null,
   "id": "363f9691",
   "metadata": {
    "colab": {
     "base_uri": "https://localhost:8080/"
    },
    "id": "363f9691",
    "outputId": "b20a66f8-c14f-490e-d761-3b5c01677c13"
   },
   "outputs": [],
   "source": [
    "# Get an atom mapping using the CLI\n",
    "\n",
    "!openfe atommapping --mapper LomapAtomMapper --mol inputs/benzene.sdf --mol inputs/styrene.sdf"
   ]
  },
  {
   "cell_type": "code",
   "execution_count": null,
   "id": "3b0dc398",
   "metadata": {
    "colab": {
     "base_uri": "https://localhost:8080/",
     "height": 317
    },
    "id": "3b0dc398",
    "outputId": "cec53cce-2f7a-4e0c-98af-fb31cc57c62d"
   },
   "outputs": [],
   "source": [
    "# We can also directly visualise the mapping\n",
    "!openfe atommapping --mapper LomapAtomMapper --mol inputs/benzene.sdf --mol inputs/styrene.sdf --output test.png\n",
    "\n",
    "Image('test.png')"
   ]
  },
  {
   "cell_type": "markdown",
   "id": "5d609a0a",
   "metadata": {
    "id": "5d609a0a"
   },
   "source": [
    "## 3. Running a Relative Ligand Binding Free Energy Calculation"
   ]
  },
  {
   "cell_type": "markdown",
   "id": "d795f993",
   "metadata": {
    "id": "d795f993"
   },
   "source": [
    "Now that we have a set of atom mappings defined, we know which atoms should\n",
    "undergo alchemical transformations to capture the free energy cost of\n",
    "transforming from one ligand to another.\n",
    "\n",
    "To simulate this transformation we use the equilibrium RBFE protocol\n",
    "implemented in OpenFE. This uses OpenMM to run a Perses-like relative\n",
    "ligand binding free energy calculation using a single topology approach.\n",
    "\n",
    "To achieve this simulation, the following steps need to happen:\n",
    "\n",
    "1. Create OpenMM systems of both end states\n",
    "\n",
    "\n",
    "2. Create a hybrid topology based on these defined endstates\n",
    "\n",
    "\n",
    "3. Set an appropriate Lambda schedule\n",
    "\n",
    "\n",
    "4. Set a MultiState reporter to write out appropriate coordinates and energies\n",
    "\n",
    "\n",
    "5. Create an OpenMM sampler (in this case we will be using a replica exchange sampler)\n",
    "\n",
    "\n",
    "6. Carry out the necessary simulation steps (minimization, equilibration, and production)\n",
    "\n",
    "\n",
    "The `RelativeHybridTopologyProtocol` class in `openfe.protocols.openmm_rfe`\n",
    "implements a means to achieve all the above with minimal intervention.\n",
    "\n",
    "Here we work through its usage for the `lig_ejm_31` -> `lig_ejm_47` binding free energy\n",
    "test case. As this involves both a relative binding free energy in solvent\n",
    "and complex phases, the `RelativeHybridTopologyProtocol` Protocol will\n",
    "be used to build two separate `ProtocolDAG` (directed-acyclic-graph) classes, one for each phase.\n",
    "These `DAG`s (which contain the necessary individual simulations), are then executed to yield\n",
    "the desired free energy results.\n",
    "\n",
    "**Note: the underlying components used for the creation of OpenMM hybrid\n",
    "topologies and samplers is still in flux, originating mostly from Perses.\n",
    "Please consider these to be in beta.**"
   ]
  },
  {
   "cell_type": "markdown",
   "id": "cc80f3fb",
   "metadata": {
    "id": "cc80f3fb"
   },
   "source": [
    "### Defining the ChemicalSystems\n",
    "\n",
    "`ChemicalSystems` are OpenFE containers which define the various components\n",
    "which exist in a system of interest. You can consider these to be the nodes\n",
    "along an alchemical network which are connected by edges which carry out\n",
    "calculations along Alchemical states to get free energies.\n",
    "\n",
    "`ChemicalSystems` take in three different things:\n",
    "\n",
    "1. A dictionary of the chemical components (e.g. `SmallMoleculeComponent`,\n",
    "   `ProteinComponent`, `SolventComponent`) defining the system.\n",
    "\n",
    "\n",
    "2. Box vectors (optional), defining the shape and size of the unit cell of the\n",
    "   system.\n",
    "\n",
    "\n",
    "3. An identifier name (optional), for the `ChemicalSystem`. This is used as part\n",
    "   of the hash identifier of the `ChemicalSystem`, and can help distinguish between\n",
    "   otherwise comparable systems."
   ]
  },
  {
   "cell_type": "markdown",
   "id": "f5506f1a",
   "metadata": {
    "id": "f5506f1a"
   },
   "source": [
    "In the case of a relative ligand binding free energy calculation for `lig_ejm_31` -> `lig_ejm_47`,\n",
    "four `ChemicalSystems` must be defined:\n",
    "\n",
    "1. `lig_ejm_31` in complex with TYK2 in a box of water\n",
    "\n",
    "\n",
    "2. `lig_ejm_47` in complex with TYK2 in a box of water\n",
    "\n",
    "\n",
    "3. `lig_ejm_31` in a box of water\n",
    "\n",
    "\n",
    "4. `lig_ejm_47` in a box of water\n",
    "\n",
    "\n",
    "Here we will be passing the previously defined `SmallMoleculeComponents` for `lig_ejm_31`\n",
    "and `lig_ejm_47`. We will also pass a `ProteinComponent` generated from the PDB file\n",
    "present under `inputs/tyk2_protein.pdb`. Finally, instead of passing\n",
    "in a specific box of water, we will define a `SolventComponent` which will contain\n",
    "the necessary information for OpenMM's `Modeller` class to add water and 0.15 M NaCl\n",
    "around the solute when creating the OpenMM simulation objects."
   ]
  },
  {
   "cell_type": "code",
   "execution_count": null,
   "id": "0b6c9ec3",
   "metadata": {
    "id": "0b6c9ec3"
   },
   "outputs": [],
   "source": [
    "# First let's define the Protein and Solvent Components which we will be using\n",
    "from openfe import SolventComponent, ProteinComponent\n",
    "from openff.units import unit\n",
    "\n",
    "protein = ProteinComponent.from_pdb_file('inputs/tyk2_protein.pdb')\n",
    "\n",
    "# Note: the distance from the solute to add water is not defined here but in the\n",
    "# the relevant RBFE solver method\n",
    "solvent = SolventComponent(positive_ion='Na', negative_ion='Cl',\n",
    "                           neutralize=True, ion_concentration=0.15*unit.molar)"
   ]
  },
  {
   "cell_type": "code",
   "execution_count": null,
   "id": "8c6d6504",
   "metadata": {
    "colab": {
     "base_uri": "https://localhost:8080/",
     "height": 317
    },
    "id": "8c6d6504",
    "outputId": "47026705-938a-4e62-f1af-66e9c50334aa"
   },
   "outputs": [],
   "source": [
    "# Extract the relevant edge for the lig_ejm_31 -> lig_ejm_47 transform in the radial graph\n",
    "ejm_31_to_ejm_47 = [edge for edge in network.edges if edge.componentB.name == \"lig_ejm_47\"][0]\n",
    "\n",
    "ejm_31_to_ejm_47"
   ]
  },
  {
   "cell_type": "code",
   "execution_count": null,
   "id": "23b778d6",
   "metadata": {
    "id": "23b778d6"
   },
   "outputs": [],
   "source": [
    "# Let's create the four ChemicalSystems\n",
    "from openfe import ChemicalSystem\n",
    "\n",
    "ejm_31_complex = ChemicalSystem({'ligand': ejm_31_to_ejm_47.componentA,\n",
    "                                  'solvent': solvent,\n",
    "                                  'protein': protein,})\n",
    "ejm_31_solvent = ChemicalSystem({'ligand': ejm_31_to_ejm_47.componentA,\n",
    "                                  'solvent': solvent,})\n",
    "\n",
    "ejm_47_complex = ChemicalSystem({'ligand': ejm_31_to_ejm_47.componentB,\n",
    "                                 'solvent': solvent,\n",
    "                                 'protein': protein,})\n",
    "ejm_47_solvent = ChemicalSystem({'ligand': ejm_31_to_ejm_47.componentB,\n",
    "                                 'solvent': solvent,})"
   ]
  },
  {
   "cell_type": "markdown",
   "id": "fdfc694f",
   "metadata": {
    "id": "fdfc694f"
   },
   "source": [
    "### Defining the RBFE simulation settings\n",
    "\n",
    "There are various different parameters which can be set to determine\n",
    "how the RBFE simulation will take place. To allow for maximum user flexibility, these are defined as a series of settings objects which control the following::\n",
    "\n",
    "1. `protocol_repeats`: The number of completely independent repeats of the entire sampling process.\n",
    "\n",
    "2. `simulation_settings`: Parameters controling the simulation plan and the alchemical sampler, including the number of minimization steps, lengths of equilibration and production runs, the sampler method (e.g. Hamiltonian replica exchange, `repex`), and the time interval at which to perform an analysis of the free energies.\n",
    "\n",
    "3. `output_settings`: Simulation output control settings, including the frequency to write a checkpoint file, the selection string for which part of the system to write coordinates for, and the paths to the trajectory and output structure storage files.\n",
    "\n",
    "4. `alchemical_settings`: Parameters controlling the creation of the hybrid topology system. This includes various parameters ranging from softcore parameters, through to whether or not to apply an explicit charge correction for systems with net charge changes.\n",
    "\n",
    "5. `engine_settings`: Parameters determining how the OpenMM engine will execute the simulation. This controls the compute platform which will be used to carry out the simulation.\n",
    "\n",
    "6. `integrator_settings`: Parameters controlling the `LangevinSplittingDynamicsMove` integrator used for simulation.\n",
    "\n",
    "7. `lambda_settings`: Lambda protocol settings, including number of lambda windows and lambda functions.\n",
    "\n",
    "8. `forcefield_settings`: Parameters to set up the force field with OpenMM Force Fields, including the general forcefields, the small molecule forcefield, the nonbonded method, and the nonbonded cutoff.\n",
    "\n",
    "9. `thermo_settings`: Settings for thermodynamic parameters, such as the temperature and the pressure of the system.\n",
    "\n",
    "10. `solvation_settings`: Settings for solvating the system, including the solvent model and the solvent padding.\n",
    "\n",
    "11. `partial_charge_settings`: Settings for assigning partial charges to small molecules, including the partial charge method (e.g. `am1bcc`) and the openff toolkit backend (e.g. `ambertools` or `openeye`).\n",
    "\n",
    "\n",
    "By default these settings use the values which are considered appropriate for RBFE calculations, however these are very system dependent and may not always be suitable for every case. A judicious choice of settings is always advised."
   ]
  },
  {
   "cell_type": "markdown",
   "id": "a93d4daf",
   "metadata": {
    "id": "a93d4daf"
   },
   "source": [
    "The `RelativeHybridTopologyProtocol` class can directly populate the above set of default\n",
    "settings through its `default_settings` method."
   ]
  },
  {
   "cell_type": "code",
   "execution_count": null,
   "id": "2da2945b",
   "metadata": {
    "id": "2da2945b"
   },
   "outputs": [],
   "source": [
    "from openfe.protocols.openmm_rfe import RelativeHybridTopologyProtocol\n",
    "from pprint import pprint\n",
    "\n",
    "rbfe_settings = RelativeHybridTopologyProtocol.default_settings()\n",
    "pprint(rbfe_settings.dict())"
   ]
  },
  {
   "cell_type": "code",
   "execution_count": null,
   "id": "85b38150",
   "metadata": {
    "colab": {
     "base_uri": "https://localhost:8080/"
    },
    "id": "85b38150",
    "outputId": "ebda0606-2d74-406c-e430-911c057d05fb"
   },
   "outputs": [],
   "source": [
    "from pprint import pp\n",
    "from openff.units import unit\n",
    "\n",
    "# Parameters can be overriden after creation\n",
    "# In this case, we'll reduce the equilibration length to 0.01 * nanosecond\n",
    "# and the production to 0.05 * nanosecond in order to reduce the costs of\n",
    "# running this notebook (in practice values of 2 and 5 nanoseconds\n",
    "# respectively would be most appropriate)\n",
    "\n",
    "rbfe_settings.simulation_settings.equilibration_length = 10 * unit.picosecond\n",
    "rbfe_settings.simulation_settings.production_length = 50 * unit.picosecond\n",
    "rbfe_settings.engine_settings.gpu_device_index = None  # default is to require CUDA, None allows for falling back to OpenCL or CPU\n",
    "\n",
    "pprint(rbfe_settings.simulation_settings.dict())"
   ]
  },
  {
   "cell_type": "markdown",
   "id": "ab0eaea9",
   "metadata": {
    "id": "ab0eaea9"
   },
   "source": [
    "### Creating the RelativeLigandTransform Protocol\n",
    "\n",
    "With the Settings inspected and adjusted, we can provide these to the Protocol.\n",
    "This Protocol defines the procedure to estimate a free energy difference between two chemical systems,\n",
    "with the details of the two end states yet to be defined."
   ]
  },
  {
   "cell_type": "code",
   "execution_count": null,
   "id": "d1829ab6",
   "metadata": {
    "id": "d1829ab6"
   },
   "outputs": [],
   "source": [
    "# Create RBFE Protocol class\n",
    "rbfe_transform = RelativeHybridTopologyProtocol(\n",
    "    settings=rbfe_settings\n",
    ")"
   ]
  },
  {
   "cell_type": "markdown",
   "id": "ca881bbc-435e-43e0-ad9c-a873c8707371",
   "metadata": {
    "id": "76514e28"
   },
   "source": [
    "### Creating the Protocol DAGs\n",
    "\n",
    "With the **method** we will be applying (the `Protocol`) defined, we can move onto applying to the alchemical transformation of interest.\n",
    "\n",
    "The `Protocol.create()` method requires as input:\n",
    "- the two `ChemicalSystem` objects defining either end of the alchemical transformation\n",
    "- a mapping between the two systems, as a dict\n",
    "\n",
    "This creates a directed-acyclic-graph (DAG) of computational tasks necessary for creating an estimate of the free energy difference between the two chemical systems.\n",
    "\n",
    "As previously detailed, we create two sets of simulations, defining\n",
    "both the complex and solvent transformations."
   ]
  },
  {
   "cell_type": "code",
   "execution_count": null,
   "id": "c1c63d13-d2a0-4eda-b731-9a353020328b",
   "metadata": {},
   "outputs": [],
   "source": [
    "print(ejm_31_to_ejm_47)"
   ]
  },
  {
   "cell_type": "code",
   "execution_count": null,
   "id": "b3237be8",
   "metadata": {
    "id": "b3237be8",
    "tags": []
   },
   "outputs": [],
   "source": [
    "complex_dag = rbfe_transform.create(\n",
    "    stateA=ejm_31_complex, stateB=ejm_47_complex,\n",
    "    mapping=ejm_31_to_ejm_47,\n",
    ")\n",
    "\n",
    "solvent_dag = rbfe_transform.create(\n",
    "    stateA=ejm_31_solvent, stateB=ejm_47_solvent,\n",
    "    mapping=ejm_31_to_ejm_47,\n",
    ")"
   ]
  },
  {
   "cell_type": "markdown",
   "id": "ddf51710",
   "metadata": {
    "id": "ddf51710"
   },
   "source": [
    "The individual pieces of computational work are called `Unit`s.  In this particular Protocol, the Units defined are three independent repeats of the alchemical transformation.\n",
    "\n",
    "For other Protocols, for example non-equilibrium sampling routines, there might be dependencies between the tasks."
   ]
  },
  {
   "cell_type": "code",
   "execution_count": null,
   "id": "dd35cb04",
   "metadata": {
    "colab": {
     "base_uri": "https://localhost:8080/"
    },
    "id": "dd35cb04",
    "outputId": "aa3008b0-6286-46c0-aba2-868bd6422939"
   },
   "outputs": [],
   "source": [
    "list(complex_dag.protocol_units)"
   ]
  },
  {
   "cell_type": "markdown",
   "id": "7f5c142d",
   "metadata": {
    "id": "7f5c142d"
   },
   "source": [
    "### Simulating the RelativeLigandTransforms\n",
    "\n",
    "Individual Units can then be executed by calling the `.execute()` method.\n",
    "\n",
    "In the first instance we do a dry-run (which does everything but\n",
    "starting the simulation) to make sure that the\n",
    "hybrid openmm system can be constructed without any issues.\n",
    "Note: A successful call to `.run()` will return an empty Dictionary."
   ]
  },
  {
   "cell_type": "code",
   "execution_count": null,
   "id": "981cde0c",
   "metadata": {
    "colab": {
     "base_uri": "https://localhost:8080/"
    },
    "id": "981cde0c",
    "outputId": "812389bc-3730-416b-8154-79e0e1fb4346"
   },
   "outputs": [],
   "source": [
    "# complex dry-run\n",
    "complex_unit = list(complex_dag.protocol_units)[0]\n",
    "\n",
    "complex_unit.run(dry=True, verbose=True)"
   ]
  },
  {
   "cell_type": "code",
   "execution_count": null,
   "id": "77accb06",
   "metadata": {
    "colab": {
     "base_uri": "https://localhost:8080/"
    },
    "id": "77accb06",
    "outputId": "e0b977c0-7e72-4a49-d3ea-eb0cdb85ed5d"
   },
   "outputs": [],
   "source": [
    "# solvent dry-run\n",
    "solvent_unit = list(solvent_dag.protocol_units)[0]\n",
    "\n",
    "solvent_unit.run(dry=True, verbose=True)"
   ]
  },
  {
   "cell_type": "markdown",
   "id": "be9629de",
   "metadata": {
    "id": "be9629de"
   },
   "source": [
    "### Executing the simulations.\n",
    "\n",
    "The complex and solvent DAGs each contain many invdividual jobs. For convenience we can execute them sequentially in this notebook using the `gufe.protocols.execute` function.\n",
    "\n",
    "In a more realistic (expansive) situation we would farm off the individual jobs to a HPC cluster or cloud compute service so they could be executed in parallel.\n",
    "\n",
    "**Note: we use the `shared_basedir` and `scratch_basedir` argument of `execute_DAG` in order to set the directory where the simulation files are written to**"
   ]
  },
  {
   "cell_type": "code",
   "execution_count": null,
   "id": "9abc4787",
   "metadata": {
    "id": "9abc4787"
   },
   "outputs": [],
   "source": [
    "from gufe.protocols import execute_DAG\n",
    "import pathlib"
   ]
  },
  {
   "cell_type": "code",
   "execution_count": null,
   "id": "106ec948",
   "metadata": {
    "colab": {
     "base_uri": "https://localhost:8080/"
    },
    "id": "106ec948",
    "outputId": "45b4589f-2553-40d8-e132-d9460fbd9ea3",
    "scrolled": true,
    "tags": [
     "nbval-skip"
    ]
   },
   "outputs": [],
   "source": [
    "# Finally we can run the simulations\n",
    "complex_path = pathlib.Path('./complex')\n",
    "complex_path.mkdir()\n",
    "\n",
    "# First the complex transformation\n",
    "complex_dag_results = execute_DAG(complex_dag, scratch_basedir=complex_path, shared_basedir=complex_path)"
   ]
  },
  {
   "cell_type": "code",
   "execution_count": null,
   "id": "820aaf86",
   "metadata": {
    "colab": {
     "base_uri": "https://localhost:8080/"
    },
    "id": "820aaf86",
    "outputId": "244b6ea9-17b3-4f81-d03b-b424015a40dd",
    "scrolled": true,
    "tags": [
     "nbval-skip"
    ]
   },
   "outputs": [],
   "source": [
    "# Next the solvent state transformation\n",
    "solvent_path = pathlib.Path('./solvent')\n",
    "solvent_path.mkdir()\n",
    "\n",
    "solvent_dag_results = execute_DAG(solvent_dag, scratch_basedir=solvent_path, shared_basedir=solvent_path)"
   ]
  },
  {
   "cell_type": "markdown",
   "id": "e07d1e29",
   "metadata": {
    "id": "e07d1e29"
   },
   "source": [
    "## 4. Analysis"
   ]
  },
  {
   "cell_type": "markdown",
   "id": "2accbbd1",
   "metadata": {
    "id": "2accbbd1"
   },
   "source": [
    "Finally now that we've run our simulations, let's go ahead and gather the free\n",
    "energies for both phases.\n",
    "\n",
    "This can be achieved by passing the results of executing the DAGs calling the `gather()` methods of `RelativeLigandTransform`.\n",
    "This takes a **list** of completed DAG results, catering for when simulations have been extended."
   ]
  },
  {
   "cell_type": "code",
   "execution_count": null,
   "id": "fd1332db",
   "metadata": {
    "colab": {
     "base_uri": "https://localhost:8080/"
    },
    "id": "fd1332db",
    "outputId": "5b7d8379-d10d-4bf7-eb32-527998843e91",
    "tags": [
     "nbval-skip"
    ]
   },
   "outputs": [],
   "source": [
    "# Get the complex and solvent results\n",
    "complex_results = rbfe_transform.gather([complex_dag_results])\n",
    "solvent_results = rbfe_transform.gather([solvent_dag_results])\n",
    "\n",
    "print(f\"Complex dG: {complex_results.get_estimate()}, err {complex_results.get_uncertainty()}\")\n",
    "print(f\"Solvent dG: {solvent_results.get_estimate()}, err {solvent_results.get_uncertainty()}\")"
   ]
  },
  {
   "cell_type": "code",
   "execution_count": null,
   "id": "139640b8-f43e-4825-9e93-50e236a9d383",
   "metadata": {},
   "outputs": [],
   "source": []
  }
 ],
 "metadata": {
  "accelerator": "GPU",
  "colab": {
   "gpuType": "T4",
   "provenance": []
  },
  "kernelspec": {
   "display_name": "Python 3 (ipykernel)",
   "language": "python",
   "name": "python3"
  },
  "language_info": {
   "codemirror_mode": {
    "name": "ipython",
    "version": 3
   },
   "file_extension": ".py",
   "mimetype": "text/x-python",
   "name": "python",
   "nbconvert_exporter": "python",
   "pygments_lexer": "ipython3",
   "version": "3.10.14"
  },
  "nbdime-conflicts": {
   "local_diff": [
    {
     "diff": [
      {
       "diff": [
        {
         "diff": [
          {
           "key": 6,
           "op": "addrange",
           "valuelist": "3"
          },
          {
           "key": 6,
           "length": 1,
           "op": "removerange"
          }
         ],
         "key": 0,
         "op": "patch"
        }
       ],
       "key": "version",
       "op": "patch"
      }
     ],
     "key": "language_info",
     "op": "patch"
    }
   ],
   "remote_diff": [
    {
     "diff": [
      {
       "diff": [
        {
         "key": 0,
         "length": 1,
         "op": "removerange"
        }
       ],
       "key": "version",
       "op": "patch"
      }
     ],
     "key": "language_info",
     "op": "patch"
    }
   ]
  }
 },
 "nbformat": 4,
 "nbformat_minor": 5
}
