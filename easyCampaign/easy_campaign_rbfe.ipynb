{
 "cells": [
  {
   "attachments": {},
   "cell_type": "markdown",
   "metadata": {},
   "source": [
    "# How to use easy campaign from python\n",
    "\n",
    "\n",
    "## RBFE\n",
    "\n",
    "### SETUP"
   ]
  },
  {
   "cell_type": "code",
   "execution_count": 2,
   "metadata": {},
   "outputs": [
    {
     "name": "stderr",
     "output_type": "stream",
     "text": [
      "LICENSE: Could not open license file \"oe_license.txt\" in local directory\n",
      "LICENSE: N.B. OE_LICENSE environment variable is not set\n",
      "LICENSE: N.B. OE_DIR environment variable is not set\n",
      "LICENSE: No product keys!\n",
      "LICENSE: No product keys!\n",
      "LICENSE: No product keys!\n",
      "LICENSE: No product keys!\n"
     ]
    }
   ],
   "source": [
    "# Prepare Setup\n",
    "from openff.units import unit\n",
    "from rdkit import Chem\n",
    "from openfe import SmallMoleculeComponent, ProteinComponent, SolventComponent\n",
    "\n",
    "suppl = Chem.SDMolSupplier(\"molecules/rbfe/p38_old_ligands.sdf\")\n",
    "ligands = [SmallMoleculeComponent.from_rdkit(m) for m in suppl]\n",
    "protein = ProteinComponent.from_pdb_file(\"molecules/rbfe/p38_old_protein.pdb\")\n",
    "solvent = SolventComponent(ion_concentration=0.15*unit.molar)\n",
    "\n",
    "# Prepare setup Planning\n",
    "from openfe import setup\n",
    "from openfe.protocols.openmm_rbfe import RelativeLigandProtocol\n",
    "\n",
    "atom_mapper = setup.LomapAtomMapper()\n",
    "atom_mapping_scorer = setup.lomap_scorers.default_lomap_score\n",
    "ligand_network_planner = setup.MinimalSpanningNetworkPlanner(mappers=[atom_mapper], mapping_scorer=atom_mapping_scorer)\n",
    "\n",
    "rbfe_protocol = RelativeLigandProtocol(settings=RelativeLigandProtocol._default_settings())\n",
    "alchemical_network_planner = setup.RBFEAlchemicalNetworkPlanner(name=\"easy_rbfe_p38\", ligand_network_planner=ligand_network_planner, protocol=rbfe_protocol)"
   ]
  },
  {
   "cell_type": "code",
   "execution_count": 3,
   "metadata": {},
   "outputs": [
    {
     "data": {
      "text/plain": [
       "<AlchemicalNetwork-22eb937814faf0dbb28235012c6be3ba>"
      ]
     },
     "execution_count": 3,
     "metadata": {},
     "output_type": "execute_result"
    }
   ],
   "source": [
    "# Plan Calculations\n",
    "# This might take up to 10 minutes for the example system.\n",
    "\n",
    "alchemical_network = alchemical_network_planner(ligands=ligands, protein=protein, solvent=solvent)\n",
    "alchemical_network"
   ]
  },
  {
   "cell_type": "code",
   "execution_count": 5,
   "metadata": {},
   "outputs": [
    {
     "name": "stdout",
     "output_type": "stream",
     "text": [
      "Transformations to calculate: 66\n",
      "\t easy_rbfe_p38_lig_p38a_2aa_receptor_lig_p38a_2z_receptor\n",
      "\t easy_rbfe_p38_lig_p38a_2c_receptor_lig_p38a_3flz_receptor\n",
      "\t easy_rbfe_p38_lig_p38a_2l_solvent_lig_p38a_3fln_solvent\n",
      "\t easy_rbfe_p38_lig_p38a_2ff_solvent_lig_p38a_3fln_solvent\n",
      "\t easy_rbfe_p38_lig_p38a_2g_receptor_lig_p38a_3flz_receptor\n",
      "\t easy_rbfe_p38_lig_p38a_2n_solvent_lig_p38a_2p_solvent\n",
      "\t easy_rbfe_p38_lig_p38a_2aa_solvent_lig_p38a_3fly_solvent\n",
      "\t easy_rbfe_p38_lig_p38a_2v_receptor_lig_p38a_3fln_receptor\n",
      "\t easy_rbfe_p38_lig_p38a_3flw_receptor_lig_p38a_3fly_receptor\n",
      "\t easy_rbfe_p38_lig_p38a_2e_solvent_lig_p38a_3fln_solvent\n",
      "\t easy_rbfe_p38_lig_p38a_2g_solvent_lig_p38a_3flz_solvent\n",
      "\t easy_rbfe_p38_lig_p38a_2e_receptor_lig_p38a_3fln_receptor\n",
      "\t easy_rbfe_p38_lig_p38a_2n_receptor_lig_p38a_2s_receptor\n",
      "\t easy_rbfe_p38_lig_p38a_2bb_receptor_lig_p38a_3flq_receptor\n",
      "\t easy_rbfe_p38_lig_p38a_2f_solvent_lig_p38a_3flz_solvent\n",
      "\t easy_rbfe_p38_lig_p38a_2bb_solvent_lig_p38a_3flq_solvent\n",
      "\t easy_rbfe_p38_lig_p38a_2t_receptor_lig_p38a_3fln_receptor\n",
      "\t easy_rbfe_p38_lig_p38a_2l_solvent_lig_p38a_2o_solvent\n",
      "\t easy_rbfe_p38_lig_p38a_2r_receptor_lig_p38a_2s_receptor\n",
      "\t easy_rbfe_p38_lig_p38a_3fly_solvent_lig_p38a_3fmh_solvent\n",
      "\t easy_rbfe_p38_lig_p38a_3flq_solvent_lig_p38a_3fly_solvent\n",
      "\t easy_rbfe_p38_lig_p38a_2i_solvent_lig_p38a_2j_solvent\n",
      "\t easy_rbfe_p38_lig_p38a_3fly_receptor_lig_p38a_3fmh_receptor\n",
      "\t easy_rbfe_p38_lig_p38a_2gg_receptor_lig_p38a_3fln_receptor\n",
      "\t easy_rbfe_p38_lig_p38a_2gg_solvent_lig_p38a_3fln_solvent\n",
      "\t easy_rbfe_p38_lig_p38a_2n_receptor_lig_p38a_2p_receptor\n",
      "\t easy_rbfe_p38_lig_p38a_2l_receptor_lig_p38a_2o_receptor\n",
      "\t easy_rbfe_p38_lig_p38a_2v_receptor_lig_p38a_2x_receptor\n",
      "\t easy_rbfe_p38_lig_p38a_2v_solvent_lig_p38a_3fly_solvent\n",
      "\t easy_rbfe_p38_lig_p38a_2k_receptor_lig_p38a_3fln_receptor\n",
      "\t easy_rbfe_p38_lig_p38a_2l_receptor_lig_p38a_2n_receptor\n",
      "\t easy_rbfe_p38_lig_p38a_2aa_solvent_lig_p38a_2z_solvent\n",
      "\t easy_rbfe_p38_lig_p38a_2k_receptor_lig_p38a_2q_receptor\n",
      "\t easy_rbfe_p38_lig_p38a_3flw_solvent_lig_p38a_3fly_solvent\n",
      "\t easy_rbfe_p38_lig_p38a_2y_receptor_lig_p38a_3fly_receptor\n",
      "\t easy_rbfe_p38_lig_p38a_2q_receptor_lig_p38a_2u_receptor\n",
      "\t easy_rbfe_p38_lig_p38a_2h_receptor_lig_p38a_2i_receptor\n",
      "\t easy_rbfe_p38_lig_p38a_2v_solvent_lig_p38a_2x_solvent\n",
      "\t easy_rbfe_p38_lig_p38a_2k_solvent_lig_p38a_2q_solvent\n",
      "\t easy_rbfe_p38_lig_p38a_2v_solvent_lig_p38a_3fln_solvent\n",
      "\t easy_rbfe_p38_lig_p38a_3flq_receptor_lig_p38a_3fly_receptor\n",
      "\t easy_rbfe_p38_lig_p38a_2c_solvent_lig_p38a_3flz_solvent\n",
      "\t easy_rbfe_p38_lig_p38a_2ee_solvent_lig_p38a_3fln_solvent\n",
      "\t easy_rbfe_p38_lig_p38a_2ff_receptor_lig_p38a_3fln_receptor\n",
      "\t easy_rbfe_p38_lig_p38a_2k_receptor_lig_p38a_2m_receptor\n",
      "\t easy_rbfe_p38_lig_p38a_2g_receptor_lig_p38a_2h_receptor\n",
      "\t easy_rbfe_p38_lig_p38a_2k_solvent_lig_p38a_2m_solvent\n",
      "\t easy_rbfe_p38_lig_p38a_2l_receptor_lig_p38a_3fln_receptor\n",
      "\t easy_rbfe_p38_lig_p38a_2r_solvent_lig_p38a_2s_solvent\n",
      "\t easy_rbfe_p38_lig_p38a_2n_solvent_lig_p38a_2s_solvent\n",
      "\t easy_rbfe_p38_lig_p38a_2h_solvent_lig_p38a_2i_solvent\n",
      "\t easy_rbfe_p38_lig_p38a_2l_solvent_lig_p38a_2n_solvent\n",
      "\t easy_rbfe_p38_lig_p38a_2aa_receptor_lig_p38a_3fly_receptor\n",
      "\t easy_rbfe_p38_lig_p38a_2t_solvent_lig_p38a_3fln_solvent\n",
      "\t easy_rbfe_p38_lig_p38a_2i_receptor_lig_p38a_2j_receptor\n",
      "\t easy_rbfe_p38_lig_p38a_2g_solvent_lig_p38a_2h_solvent\n",
      "\t easy_rbfe_p38_lig_p38a_2ee_receptor_lig_p38a_3fln_receptor\n",
      "\t easy_rbfe_p38_lig_p38a_2v_receptor_lig_p38a_3fly_receptor\n",
      "\t easy_rbfe_p38_lig_p38a_2k_solvent_lig_p38a_3fln_solvent\n",
      "\t easy_rbfe_p38_lig_p38a_2q_solvent_lig_p38a_2u_solvent\n",
      "\t easy_rbfe_p38_lig_p38a_2e_solvent_lig_p38a_3flz_solvent\n",
      "\t easy_rbfe_p38_lig_p38a_2e_receptor_lig_p38a_3flz_receptor\n",
      "\t easy_rbfe_p38_lig_p38a_2y_solvent_lig_p38a_3fly_solvent\n",
      "\t easy_rbfe_p38_lig_p38a_2f_receptor_lig_p38a_3flz_receptor\n",
      "\t easy_rbfe_p38_lig_p38a_3fmh_receptor_lig_p38a_3fmk_receptor\n",
      "\t easy_rbfe_p38_lig_p38a_3fmh_solvent_lig_p38a_3fmk_solvent\n"
     ]
    }
   ],
   "source": [
    "print(\"Transformations to calculate:\", len(alchemical_network.edges))\n",
    "for edge in alchemical_network.edges:\n",
    "    print(\"\\t\",edge.name)"
   ]
  },
  {
   "attachments": {},
   "cell_type": "markdown",
   "metadata": {},
   "source": [
    "### Calculations\n",
    "in this stage the planned transfromations are going to be calculated.\n",
    "\n",
    "**WARNING:** These scripts shall serve as examples. for RBFE the calculations are taking very long and you should have HPC environment where you can parallelize the execution. - here in the future our Exorcist Project will help you"
   ]
  },
  {
   "cell_type": "code",
   "execution_count": null,
   "metadata": {},
   "outputs": [],
   "source": [
    "# Output:\n",
    "output_dir = \"output\"   "
   ]
  },
  {
   "cell_type": "code",
   "execution_count": null,
   "metadata": {},
   "outputs": [],
   "source": [
    "from gufe.protocols.protocoldag import execute_DAG\n",
    "\n",
    "transformation_results = []\n",
    "for transformation in alchemical_network.edges:\n",
    "    \n",
    "    print(\"Running the simulations: \", transformation.name)\n",
    "    transformation_task_dag = transformation.create()\n",
    "    transformation_task_result = execute_DAG(transformation_task_dag)\n",
    "    transformation_result = transformation.protocol.gather([transformation_task_result])\n",
    "    transformation_results.append(transformation_result)\n",
    "print(\"Done\")"
   ]
  },
  {
   "attachments": {},
   "cell_type": "markdown",
   "metadata": {},
   "source": [
    "### Gather results:\n",
    "\n",
    "finally we want to gather the results, to see what we calculated."
   ]
  },
  {
   "cell_type": "code",
   "execution_count": null,
   "metadata": {},
   "outputs": [],
   "source": [
    "for transformation_result in transformation_results:\n",
    "    if transformation_result.ok():\n",
    "        estimate = transformation_result.get_estimate()\n",
    "        uncertainty = transformation_result.get_uncertainty()\n",
    "    else:\n",
    "        estimate = uncertainty = None\n",
    "    print(\"Estimate: \", transformation_result.name, estimate, uncertainty)"
   ]
  },
  {
   "cell_type": "code",
   "execution_count": null,
   "metadata": {},
   "outputs": [],
   "source": []
  }
 ],
 "metadata": {
  "kernelspec": {
   "display_name": "openfe",
   "language": "python",
   "name": "python3"
  },
  "language_info": {
   "codemirror_mode": {
    "name": "ipython",
    "version": 3
   },
   "file_extension": ".py",
   "mimetype": "text/x-python",
   "name": "python",
   "nbconvert_exporter": "python",
   "pygments_lexer": "ipython3",
   "version": "3.10.8"
  },
  "orig_nbformat": 4
 },
 "nbformat": 4,
 "nbformat_minor": 2
}
