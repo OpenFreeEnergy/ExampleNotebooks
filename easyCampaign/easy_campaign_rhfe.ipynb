{
 "cells": [
  {
   "attachments": {},
   "cell_type": "markdown",
   "metadata": {},
   "source": [
    "# How to use easy campaign from python\n",
    "\n",
    "\n",
    "## RHFE\n",
    "\n",
    "### SETUP"
   ]
  },
  {
   "cell_type": "code",
   "execution_count": 1,
   "metadata": {},
   "outputs": [
    {
     "name": "stderr",
     "output_type": "stream",
     "text": [
      "LICENSE: Could not open license file \"oe_license.txt\" in local directory\n",
      "LICENSE: N.B. OE_LICENSE environment variable is not set\n",
      "LICENSE: N.B. OE_DIR environment variable is not set\n",
      "LICENSE: No product keys!\n",
      "LICENSE: No product keys!\n",
      "LICENSE: No product keys!\n",
      "LICENSE: No product keys!\n"
     ]
    }
   ],
   "source": [
    "# prepare Setup\n",
    "from openff.units import unit\n",
    "from rdkit import Chem\n",
    "from openfe import SmallMoleculeComponent, SolventComponent\n",
    "\n",
    "suppl = Chem.SDMolSupplier(\"molecules/rhfe/benzenes_RHFE.sdf\")\n",
    "ligands = [SmallMoleculeComponent.from_rdkit(m) for m in suppl]\n",
    "solvent = SolventComponent(ion_concentration=0.15*unit.molar)\n",
    "\n",
    "# Prepare setup Planning\n",
    "from openfe import setup\n",
    "from openfe.protocols.openmm_rbfe import RelativeLigandProtocol\n",
    "\n",
    "atom_mapper = setup.LomapAtomMapper()\n",
    "atom_mapping_scorer = setup.lomap_scorers.default_lomap_score\n",
    "ligand_network_planner = setup.MinimalSpanningNetworkPlanner(mappers=[atom_mapper], mapping_scorer=atom_mapping_scorer)\n",
    "\n",
    "rbfe_protocol = RelativeLigandProtocol(settings=RelativeLigandProtocol._default_settings())\n",
    "alchemical_network_planner = setup.RHFEAlchemicalNetworkPlanner(name=\"easy_rhfe\", ligand_network_planner=ligand_network_planner, protocol=rbfe_protocol)"
   ]
  },
  {
   "cell_type": "markdown",
   "metadata": {},
   "source": [
    "## Plan Calculations"
   ]
  },
  {
   "cell_type": "code",
   "execution_count": 2,
   "metadata": {},
   "outputs": [
    {
     "data": {
      "text/plain": [
       "<AlchemicalNetwork-3b01cda7aabaa5c3de173d532eba88ca>"
      ]
     },
     "execution_count": 2,
     "metadata": {},
     "output_type": "execute_result"
    }
   ],
   "source": [
    "alchemical_network = alchemical_network_planner(ligands=ligands, solvent=solvent)\n",
    "alchemical_network"
   ]
  },
  {
   "cell_type": "code",
   "execution_count": 5,
   "metadata": {},
   "outputs": [
    {
     "ename": "AttributeError",
     "evalue": "'dict' object has no attribute '_edges'",
     "output_type": "error",
     "traceback": [
      "\u001b[0;31m---------------------------------------------------------------------------\u001b[0m",
      "\u001b[0;31mAttributeError\u001b[0m                            Traceback (most recent call last)",
      "Cell \u001b[0;32mIn[5], line 1\u001b[0m\n\u001b[0;32m----> 1\u001b[0m \u001b[39mvars\u001b[39;49m(alchemical_network)\u001b[39m.\u001b[39;49m_edges\n",
      "\u001b[0;31mAttributeError\u001b[0m: 'dict' object has no attribute '_edges'"
     ]
    }
   ],
   "source": [
    "vars(alchemical_network).edges"
   ]
  },
  {
   "cell_type": "code",
   "execution_count": 13,
   "metadata": {},
   "outputs": [
    {
     "name": "stdout",
     "output_type": "stream",
     "text": [
      "Transformations to calculate: 30\n",
      "\t easy_rhfe_lig_3_solvent_lig_14_solvent\n",
      "\t easy_rhfe_lig_7_solvent_lig_13_solvent\n",
      "\t easy_rhfe_lig_7_vacuum_lig_13_vacuum\n",
      "\t easy_rhfe_lig_12_vacuum_lig_15_vacuum\n",
      "\t easy_rhfe_lig_8_solvent_lig_9_solvent\n",
      "\t easy_rhfe_lig_5_vacuum_lig_10_vacuum\n",
      "\t easy_rhfe_lig_13_solvent_lig_15_solvent\n",
      "\t easy_rhfe_lig_2_solvent_lig_3_solvent\n",
      "\t easy_rhfe_lig_10_vacuum_lig_15_vacuum\n",
      "\t easy_rhfe_lig_13_vacuum_lig_14_vacuum\n",
      "\t easy_rhfe_lig_8_vacuum_lig_9_vacuum\n",
      "\t easy_rhfe_lig_1_vacuum_lig_9_vacuum\n",
      "\t easy_rhfe_lig_15_vacuum_lig_16_vacuum\n",
      "\t easy_rhfe_lig_2_vacuum_lig_3_vacuum\n",
      "\t easy_rhfe_lig_6_solvent_lig_9_solvent\n",
      "\t easy_rhfe_lig_6_vacuum_lig_9_vacuum\n",
      "\t easy_rhfe_lig_15_solvent_lig_16_solvent\n",
      "\t easy_rhfe_lig_12_solvent_lig_15_solvent\n",
      "\t easy_rhfe_lig_4_vacuum_lig_7_vacuum\n",
      "\t easy_rhfe_lig_4_solvent_lig_7_solvent\n",
      "\t easy_rhfe_lig_3_vacuum_lig_14_vacuum\n",
      "\t easy_rhfe_lig_5_solvent_lig_10_solvent\n",
      "\t easy_rhfe_lig_11_solvent_lig_13_solvent\n",
      "\t easy_rhfe_lig_1_solvent_lig_9_solvent\n",
      "\t easy_rhfe_lig_11_vacuum_lig_13_vacuum\n",
      "\t easy_rhfe_lig_13_solvent_lig_14_solvent\n",
      "\t easy_rhfe_lig_13_vacuum_lig_15_vacuum\n",
      "\t easy_rhfe_lig_9_vacuum_lig_14_vacuum\n",
      "\t easy_rhfe_lig_9_solvent_lig_14_solvent\n",
      "\t easy_rhfe_lig_10_solvent_lig_15_solvent\n"
     ]
    }
   ],
   "source": [
    "print(\"Transformations to calculate:\", len(alchemical_network.edges))\n",
    "for edge in alchemical_network.edges:\n",
    "    print(\"\\t\",edge.name)"
   ]
  },
  {
   "attachments": {},
   "cell_type": "markdown",
   "metadata": {},
   "source": [
    "### Calculations\n",
    "in this stage the planned transfromations are going to be calculated.\n",
    "\n",
    "**WARNING:** These scripts shall serve as examples. The RHFE calculations can take very long and you should have HPC environment where you can parallelize the execution. - here in the future our Exorcist Project will help you"
   ]
  },
  {
   "cell_type": "code",
   "execution_count": null,
   "metadata": {},
   "outputs": [],
   "source": [
    "# Output:\n",
    "output_dir = \"output\"   "
   ]
  },
  {
   "cell_type": "code",
   "execution_count": null,
   "metadata": {},
   "outputs": [],
   "source": [
    "from gufe.protocols.protocoldag import execute_DAG\n",
    "\n",
    "transformation_results = []\n",
    "for transformation in alchemical_network.edges:\n",
    "    \n",
    "    print(\"Running the simulations: \", transformation.name)\n",
    "    transformation_task_dag = transformation.create()\n",
    "    transformation_task_result = execute_DAG(transformation_task_dag,\n",
    "                            shared_basedir=output_dir,\n",
    "                            scratch_basedir=output_dir,\n",
    "                            keep_shared=True,\n",
    "                            raise_error=False)\n",
    "    transformation_result = transformation.protocol.gather([transformation_task_result])\n",
    "    transformation_results.append(transformation_result)\n",
    "print(\"Done\")"
   ]
  },
  {
   "cell_type": "markdown",
   "metadata": {},
   "source": [
    "## gather results:"
   ]
  },
  {
   "cell_type": "code",
   "execution_count": null,
   "metadata": {},
   "outputs": [],
   "source": [
    "for transformation_result in transformation_results:\n",
    "    if transformation_result.ok():\n",
    "        estimate = transformation_result.get_estimate()\n",
    "        uncertainty = transformation_result.get_uncertainty()\n",
    "    else:\n",
    "        estimate = uncertainty = None\n",
    "    print(\"Estimate: \", transformation_result.name, estimate, uncertainty)"
   ]
  },
  {
   "cell_type": "code",
   "execution_count": null,
   "metadata": {},
   "outputs": [],
   "source": []
  }
 ],
 "metadata": {
  "kernelspec": {
   "display_name": "openfe",
   "language": "python",
   "name": "python3"
  },
  "language_info": {
   "codemirror_mode": {
    "name": "ipython",
    "version": 3
   },
   "file_extension": ".py",
   "mimetype": "text/x-python",
   "name": "python",
   "nbconvert_exporter": "python",
   "pygments_lexer": "ipython3",
   "version": "3.10.8"
  },
  "orig_nbformat": 4
 },
 "nbformat": 4,
 "nbformat_minor": 2
}
