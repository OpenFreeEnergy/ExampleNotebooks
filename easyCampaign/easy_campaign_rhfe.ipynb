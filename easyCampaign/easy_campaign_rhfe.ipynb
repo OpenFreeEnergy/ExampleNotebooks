{
 "cells": [
  {
   "attachments": {},
   "cell_type": "markdown",
   "metadata": {},
   "source": [
    "# How to use easy campaign from python\n",
    "\n",
    "\n",
    "## RHFE\n",
    "\n",
    "### SETUP"
   ]
  },
  {
   "cell_type": "code",
   "execution_count": 1,
   "metadata": {},
   "outputs": [
    {
     "name": "stderr",
     "output_type": "stream",
     "text": [
      "LICENSE: Could not open license file \"oe_license.txt\" in local directory\n",
      "LICENSE: N.B. OE_LICENSE environment variable is not set\n",
      "LICENSE: N.B. OE_DIR environment variable is not set\n",
      "LICENSE: No product keys!\n",
      "LICENSE: No product keys!\n",
      "LICENSE: No product keys!\n",
      "LICENSE: No product keys!\n"
     ]
    }
   ],
   "source": [
    "# prepare Setup\n",
    "from openff.units import unit\n",
    "from rdkit import Chem\n",
    "from openfe import SmallMoleculeComponent, SolventComponent\n",
    "\n",
    "suppl = Chem.SDMolSupplier(\"molecules/rhfe/benzenes_RHFE.sdf\")\n",
    "ligands = [SmallMoleculeComponent.from_rdkit(m) for m in suppl]\n",
    "solvent = SolventComponent(ion_concentration=0.15*unit.molar)\n",
    "\n",
    "# Prepare setup Planning\n",
    "from openfe import setup\n",
    "from openfe.protocols.openmm_rbfe import RelativeLigandProtocol\n",
    "\n",
    "atom_mapper = setup.LomapAtomMapper()\n",
    "atom_mapping_scorer = setup.lomap_scorers.default_lomap_score\n",
    "ligand_network_planner = setup.MinimalSpanningNetworkPlanner(mappers=[atom_mapper], mapping_scorer=atom_mapping_scorer)\n",
    "\n",
    "rbfe_protocol = RelativeLigandProtocol(settings=RelativeLigandProtocol._default_settings())\n",
    "alchemical_network_planner = setup.RHFEAlchemicalNetworkPlanner(name=\"easy_rhfe\", ligand_network_planner=ligand_network_planner, protocol=rbfe_protocol)"
   ]
  },
  {
   "cell_type": "markdown",
   "metadata": {},
   "source": [
    "## Plan Calculations"
   ]
  },
  {
   "cell_type": "code",
   "execution_count": 2,
   "metadata": {},
   "outputs": [
    {
     "data": {
      "text/plain": [
       "<AlchemicalNetwork-3b01cda7aabaa5c3de173d532eba88ca>"
      ]
     },
     "execution_count": 2,
     "metadata": {},
     "output_type": "execute_result"
    }
   ],
   "source": [
    "alchemical_network = alchemical_network_planner(ligands=ligands, solvent=solvent)\n",
    "alchemical_network"
   ]
  },
  {
   "cell_type": "code",
   "execution_count": 5,
   "metadata": {},
   "outputs": [
    {
     "ename": "AttributeError",
     "evalue": "'dict' object has no attribute '_edges'",
     "output_type": "error",
     "traceback": [
      "\u001b[0;31m---------------------------------------------------------------------------\u001b[0m",
      "\u001b[0;31mAttributeError\u001b[0m                            Traceback (most recent call last)",
      "Cell \u001b[0;32mIn[5], line 1\u001b[0m\n\u001b[0;32m----> 1\u001b[0m \u001b[39mvars\u001b[39;49m(alchemical_network)\u001b[39m.\u001b[39;49m_edges\n",
      "\u001b[0;31mAttributeError\u001b[0m: 'dict' object has no attribute '_edges'"
     ]
    }
   ],
   "source": [
    "vars(alchemical_network).edges"
   ]
  },
  {
   "cell_type": "code",
   "execution_count": 13,
   "metadata": {},
   "outputs": [
    {
     "name": "stdout",
     "output_type": "stream",
     "text": [
      "Transformations to calculate: 30\n",
      "\t easy_rhfe_lig_3_solvent_lig_14_solvent\n",
      "\t easy_rhfe_lig_7_solvent_lig_13_solvent\n",
      "\t easy_rhfe_lig_7_vacuum_lig_13_vacuum\n",
      "\t easy_rhfe_lig_12_vacuum_lig_15_vacuum\n",
      "\t easy_rhfe_lig_8_solvent_lig_9_solvent\n",
      "\t easy_rhfe_lig_5_vacuum_lig_10_vacuum\n",
      "\t easy_rhfe_lig_13_solvent_lig_15_solvent\n",
      "\t easy_rhfe_lig_2_solvent_lig_3_solvent\n",
      "\t easy_rhfe_lig_10_vacuum_lig_15_vacuum\n",
      "\t easy_rhfe_lig_13_vacuum_lig_14_vacuum\n",
      "\t easy_rhfe_lig_8_vacuum_lig_9_vacuum\n",
      "\t easy_rhfe_lig_1_vacuum_lig_9_vacuum\n",
      "\t easy_rhfe_lig_15_vacuum_lig_16_vacuum\n",
      "\t easy_rhfe_lig_2_vacuum_lig_3_vacuum\n",
      "\t easy_rhfe_lig_6_solvent_lig_9_solvent\n",
      "\t easy_rhfe_lig_6_vacuum_lig_9_vacuum\n",
      "\t easy_rhfe_lig_15_solvent_lig_16_solvent\n",
      "\t easy_rhfe_lig_12_solvent_lig_15_solvent\n",
      "\t easy_rhfe_lig_4_vacuum_lig_7_vacuum\n",
      "\t easy_rhfe_lig_4_solvent_lig_7_solvent\n",
      "\t easy_rhfe_lig_3_vacuum_lig_14_vacuum\n",
      "\t easy_rhfe_lig_5_solvent_lig_10_solvent\n",
      "\t easy_rhfe_lig_11_solvent_lig_13_solvent\n",
      "\t easy_rhfe_lig_1_solvent_lig_9_solvent\n",
      "\t easy_rhfe_lig_11_vacuum_lig_13_vacuum\n",
      "\t easy_rhfe_lig_13_solvent_lig_14_solvent\n",
      "\t easy_rhfe_lig_13_vacuum_lig_15_vacuum\n",
      "\t easy_rhfe_lig_9_vacuum_lig_14_vacuum\n",
      "\t easy_rhfe_lig_9_solvent_lig_14_solvent\n",
      "\t easy_rhfe_lig_10_solvent_lig_15_solvent\n"
     ]
    }
   ],
   "source": [
    "print(\"Transformations to calculate:\", len(alchemical_network.edges))\n",
    "for edge in alchemical_network.edges:\n",
    "    print(\"\\t\",edge.name)"
   ]
  },
  {
   "attachments": {},
   "cell_type": "markdown",
   "metadata": {},
   "source": [
    "### Calculations\n",
    "in this stage the planned transfromations are going to be calculated.\n",
    "\n",
    "**WARNING:** These scripts shall serve as examples. The RHFE calculations can take very long and you should have HPC environment where you can parallelize the execution. - here in the future our Exorcist Project will help you"
   ]
  },
  {
   "cell_type": "code",
   "execution_count": 14,
   "metadata": {},
   "outputs": [],
   "source": [
    "# Output:\n",
    "output_dir = \"output\"   "
   ]
  },
  {
   "cell_type": "code",
   "execution_count": 18,
   "metadata": {},
   "outputs": [
    {
     "name": "stderr",
     "output_type": "stream",
     "text": [
      "INFO:\tcreating hybrid system\n"
     ]
    },
    {
     "name": "stdout",
     "output_type": "stream",
     "text": [
      "Running the simulations:  easy_rhfe_lig_3_solvent_lig_14_solvent\n"
     ]
    },
    {
     "name": "stderr",
     "output_type": "stream",
     "text": [
      "INFO:\tRequested to generate parameters for residue <Residue 0 (UNK) of chain 0>\n",
      "INFO:\tGenerating a residue template for [H][O][C@@]1([H])[C]([C]([H])([H])[H])=[C]([H])[C]([H])([H])[C@]([H])([C](=[C]([H])[H])[C]([H])([H])[H])[C]1([H])[H] using openff-2.0.0.offxml\n"
     ]
    },
    {
     "ename": "KeyboardInterrupt",
     "evalue": "",
     "output_type": "error",
     "traceback": [
      "\u001b[0;31m---------------------------------------------------------------------------\u001b[0m",
      "\u001b[0;31mKeyboardInterrupt\u001b[0m                         Traceback (most recent call last)",
      "Cell \u001b[0;32mIn[18], line 8\u001b[0m\n\u001b[1;32m      6\u001b[0m \u001b[39mprint\u001b[39m(\u001b[39m\"\u001b[39m\u001b[39mRunning the simulations: \u001b[39m\u001b[39m\"\u001b[39m, transformation\u001b[39m.\u001b[39mname)\n\u001b[1;32m      7\u001b[0m transformation_task_dag \u001b[39m=\u001b[39m transformation\u001b[39m.\u001b[39mcreate()\n\u001b[0;32m----> 8\u001b[0m transformation_task_result \u001b[39m=\u001b[39m execute_DAG(transformation_task_dag,)\n\u001b[1;32m      9\u001b[0m transformation_result \u001b[39m=\u001b[39m transformation\u001b[39m.\u001b[39mprotocol\u001b[39m.\u001b[39mgather([transformation_task_result])\n\u001b[1;32m     10\u001b[0m transformation_results\u001b[39m.\u001b[39mappend(transformation_result)\n",
      "File \u001b[0;32m~/programs/miniconda3/envs/openfe/lib/python3.10/site-packages/gufe/protocols/protocoldag.py:399\u001b[0m, in \u001b[0;36mexecute_DAG\u001b[0;34m(protocoldag, shared, raise_error)\u001b[0m\n\u001b[1;32m    396\u001b[0m inputs \u001b[39m=\u001b[39m _pu_to_pur(unit\u001b[39m.\u001b[39minputs, results)\n\u001b[1;32m    398\u001b[0m \u001b[39m# execute\u001b[39;00m\n\u001b[0;32m--> 399\u001b[0m result \u001b[39m=\u001b[39m unit\u001b[39m.\u001b[39;49mexecute(shared\u001b[39m=\u001b[39;49mshared_, raise_error\u001b[39m=\u001b[39;49mraise_error, \u001b[39m*\u001b[39;49m\u001b[39m*\u001b[39;49minputs)\n\u001b[1;32m    401\u001b[0m \u001b[39m# attach result to this `ProtocolUnit`\u001b[39;00m\n\u001b[1;32m    402\u001b[0m results[unit\u001b[39m.\u001b[39mkey] \u001b[39m=\u001b[39m result\n",
      "File \u001b[0;32m~/programs/miniconda3/envs/openfe/lib/python3.10/site-packages/gufe/protocols/protocolunit.py:301\u001b[0m, in \u001b[0;36mProtocolUnit.execute\u001b[0;34m(self, shared, scratch, raise_error, **inputs)\u001b[0m\n\u001b[1;32m    297\u001b[0m context \u001b[39m=\u001b[39m Context(shared\u001b[39m=\u001b[39mshared,\n\u001b[1;32m    298\u001b[0m                   scratch\u001b[39m=\u001b[39mscratch_)\n\u001b[1;32m    300\u001b[0m \u001b[39mtry\u001b[39;00m:\n\u001b[0;32m--> 301\u001b[0m     outputs \u001b[39m=\u001b[39m \u001b[39mself\u001b[39;49m\u001b[39m.\u001b[39;49m_execute(context, \u001b[39m*\u001b[39;49m\u001b[39m*\u001b[39;49minputs)\n\u001b[1;32m    302\u001b[0m     result \u001b[39m=\u001b[39m ProtocolUnitResult(\n\u001b[1;32m    303\u001b[0m         name\u001b[39m=\u001b[39m\u001b[39mself\u001b[39m\u001b[39m.\u001b[39mname, source_key\u001b[39m=\u001b[39m\u001b[39mself\u001b[39m\u001b[39m.\u001b[39mkey, inputs\u001b[39m=\u001b[39minputs, outputs\u001b[39m=\u001b[39moutputs\n\u001b[1;32m    304\u001b[0m     )\n\u001b[1;32m    306\u001b[0m \u001b[39mexcept\u001b[39;00m \u001b[39mException\u001b[39;00m \u001b[39mas\u001b[39;00m e:\n",
      "File \u001b[0;32m~/programs/miniconda3/envs/openfe/lib/python3.10/site-packages/openfe/protocols/openmm_rbfe/equil_rbfe_methods.py:1166\u001b[0m, in \u001b[0;36mRelativeLigandProtocolUnit._execute\u001b[0;34m(self, ctx, **kwargs)\u001b[0m\n\u001b[1;32m   1163\u001b[0m mypath \u001b[39m=\u001b[39m pathlib\u001b[39m.\u001b[39mPath(os\u001b[39m.\u001b[39mpath\u001b[39m.\u001b[39mjoin(ctx\u001b[39m.\u001b[39mshared, \u001b[39mstr\u001b[39m(myid)))\n\u001b[1;32m   1164\u001b[0m mypath\u001b[39m.\u001b[39mmkdir(parents\u001b[39m=\u001b[39m\u001b[39mTrue\u001b[39;00m, exist_ok\u001b[39m=\u001b[39m\u001b[39mFalse\u001b[39;00m)\n\u001b[0;32m-> 1166\u001b[0m outputs \u001b[39m=\u001b[39m \u001b[39mself\u001b[39;49m\u001b[39m.\u001b[39;49mrun(basepath\u001b[39m=\u001b[39;49mmypath)\n\u001b[1;32m   1168\u001b[0m \u001b[39mreturn\u001b[39;00m {\n\u001b[1;32m   1169\u001b[0m     \u001b[39m'\u001b[39m\u001b[39mrepeat_id\u001b[39m\u001b[39m'\u001b[39m: \u001b[39mself\u001b[39m\u001b[39m.\u001b[39mrepeat_id,\n\u001b[1;32m   1170\u001b[0m     \u001b[39m'\u001b[39m\u001b[39mgeneration\u001b[39m\u001b[39m'\u001b[39m: \u001b[39mself\u001b[39m\u001b[39m.\u001b[39mgeneration,\n\u001b[1;32m   1171\u001b[0m     \u001b[39m*\u001b[39m\u001b[39m*\u001b[39moutputs\n\u001b[1;32m   1172\u001b[0m }\n",
      "File \u001b[0;32m~/programs/miniconda3/envs/openfe/lib/python3.10/site-packages/openfe/protocols/openmm_rbfe/equil_rbfe_methods.py:896\u001b[0m, in \u001b[0;36mRelativeLigandProtocolUnit.run\u001b[0;34m(self, dry, verbose, basepath)\u001b[0m\n\u001b[1;32m    893\u001b[0m     pos \u001b[39m=\u001b[39m stateA[\u001b[39m'\u001b[39m\u001b[39msolvent\u001b[39m\u001b[39m'\u001b[39m]\u001b[39m.\u001b[39mpositive_ion\n\u001b[1;32m    894\u001b[0m     neg \u001b[39m=\u001b[39m stateA[\u001b[39m'\u001b[39m\u001b[39msolvent\u001b[39m\u001b[39m'\u001b[39m]\u001b[39m.\u001b[39mnegative_ion\n\u001b[0;32m--> 896\u001b[0m     stateA_modeller\u001b[39m.\u001b[39;49maddSolvent(\n\u001b[1;32m    897\u001b[0m         omm_forcefield_stateA,\n\u001b[1;32m    898\u001b[0m         model\u001b[39m=\u001b[39;49msettings\u001b[39m.\u001b[39;49mtopology_settings\u001b[39m.\u001b[39;49msolvent_model,\n\u001b[1;32m    899\u001b[0m         padding\u001b[39m=\u001b[39;49mto_openmm(settings\u001b[39m.\u001b[39;49msolvent_padding),\n\u001b[1;32m    900\u001b[0m         positiveIon\u001b[39m=\u001b[39;49mpos, negativeIon\u001b[39m=\u001b[39;49mneg,\n\u001b[1;32m    901\u001b[0m         ionicStrength\u001b[39m=\u001b[39;49mto_openmm(conc),\n\u001b[1;32m    902\u001b[0m     )\n\u001b[1;32m    904\u001b[0m \u001b[39m# 5.  Create OpenMM system + topology + initial positions for \"A\" system\u001b[39;00m\n\u001b[1;32m    905\u001b[0m \u001b[39m#  a. Get nonbond method\u001b[39;00m\n\u001b[1;32m    906\u001b[0m nonbonded_method \u001b[39m=\u001b[39m {\n\u001b[1;32m    907\u001b[0m     \u001b[39m'\u001b[39m\u001b[39mpme\u001b[39m\u001b[39m'\u001b[39m: app\u001b[39m.\u001b[39mPME,\n\u001b[1;32m    908\u001b[0m     \u001b[39m'\u001b[39m\u001b[39mnocutoff\u001b[39m\u001b[39m'\u001b[39m: app\u001b[39m.\u001b[39mNoCutoff,\n\u001b[0;32m   (...)\u001b[0m\n\u001b[1;32m    911\u001b[0m     \u001b[39m'\u001b[39m\u001b[39mewald\u001b[39m\u001b[39m'\u001b[39m: app\u001b[39m.\u001b[39mEwald\n\u001b[1;32m    912\u001b[0m }[settings\u001b[39m.\u001b[39msystem_settings\u001b[39m.\u001b[39mnonbonded_method\u001b[39m.\u001b[39mlower()]\n",
      "File \u001b[0;32m~/programs/miniconda3/envs/openfe/lib/python3.10/site-packages/openmm/app/modeller.py:483\u001b[0m, in \u001b[0;36mModeller.addSolvent\u001b[0;34m(self, forcefield, model, boxSize, boxVectors, padding, numAdded, positiveIon, negativeIon, ionicStrength, neutralize)\u001b[0m\n\u001b[1;32m    479\u001b[0m         \u001b[39mraise\u001b[39;00m \u001b[39mValueError\u001b[39;00m(\u001b[39m'\u001b[39m\u001b[39mNeither the box size, box vectors, nor padding was specified, and the Topology does not define unit cell dimensions\u001b[39m\u001b[39m'\u001b[39m)\n\u001b[1;32m    481\u001b[0m \u001b[39m# Have the ForceField build a System for the solute from which we can determine van der Waals radii.\u001b[39;00m\n\u001b[0;32m--> 483\u001b[0m system \u001b[39m=\u001b[39m forcefield\u001b[39m.\u001b[39;49mcreateSystem(\u001b[39mself\u001b[39;49m\u001b[39m.\u001b[39;49mtopology)\n\u001b[1;32m    484\u001b[0m nonbonded \u001b[39m=\u001b[39m \u001b[39mNone\u001b[39;00m\n\u001b[1;32m    485\u001b[0m \u001b[39mfor\u001b[39;00m i \u001b[39min\u001b[39;00m \u001b[39mrange\u001b[39m(system\u001b[39m.\u001b[39mgetNumForces()):\n",
      "File \u001b[0;32m~/programs/miniconda3/envs/openfe/lib/python3.10/site-packages/openmm/app/forcefield.py:1212\u001b[0m, in \u001b[0;36mForceField.createSystem\u001b[0;34m(self, topology, nonbondedMethod, nonbondedCutoff, constraints, rigidWater, removeCMMotion, hydrogenMass, residueTemplates, ignoreExternalBonds, switchDistance, flexibleConstraints, drudeMass, **args)\u001b[0m\n\u001b[1;32m   1208\u001b[0m rigidResidue \u001b[39m=\u001b[39m [\u001b[39mFalse\u001b[39;00m]\u001b[39m*\u001b[39mtopology\u001b[39m.\u001b[39mgetNumResidues()\n\u001b[1;32m   1210\u001b[0m \u001b[39m# Find the template matching each residue and assign atom types.\u001b[39;00m\n\u001b[0;32m-> 1212\u001b[0m templateForResidue \u001b[39m=\u001b[39m \u001b[39mself\u001b[39;49m\u001b[39m.\u001b[39;49m_matchAllResiduesToTemplates(data, topology, residueTemplates, ignoreExternalBonds)\n\u001b[1;32m   1213\u001b[0m \u001b[39mfor\u001b[39;00m res \u001b[39min\u001b[39;00m topology\u001b[39m.\u001b[39mresidues():\n\u001b[1;32m   1214\u001b[0m     \u001b[39mif\u001b[39;00m res\u001b[39m.\u001b[39mname \u001b[39m==\u001b[39m \u001b[39m'\u001b[39m\u001b[39mHOH\u001b[39m\u001b[39m'\u001b[39m:\n\u001b[1;32m   1215\u001b[0m         \u001b[39m# Determine whether this should be a rigid water.\u001b[39;00m\n",
      "File \u001b[0;32m~/programs/miniconda3/envs/openfe/lib/python3.10/site-packages/openmm/app/forcefield.py:1417\u001b[0m, in \u001b[0;36mForceField._matchAllResiduesToTemplates\u001b[0;34m(self, data, topology, residueTemplates, ignoreExternalBonds, ignoreExtraParticles, recordParameters)\u001b[0m\n\u001b[1;32m   1414\u001b[0m \u001b[39mif\u001b[39;00m matches \u001b[39mis\u001b[39;00m \u001b[39mNone\u001b[39;00m:\n\u001b[1;32m   1415\u001b[0m     \u001b[39m# Try all generators.\u001b[39;00m\n\u001b[1;32m   1416\u001b[0m     \u001b[39mfor\u001b[39;00m generator \u001b[39min\u001b[39;00m \u001b[39mself\u001b[39m\u001b[39m.\u001b[39m_templateGenerators:\n\u001b[0;32m-> 1417\u001b[0m         \u001b[39mif\u001b[39;00m generator(\u001b[39mself\u001b[39;49m, res):\n\u001b[1;32m   1418\u001b[0m             \u001b[39m# This generator has registered a new residue template that should match.\u001b[39;00m\n\u001b[1;32m   1419\u001b[0m             [template, matches] \u001b[39m=\u001b[39m \u001b[39mself\u001b[39m\u001b[39m.\u001b[39m_getResidueTemplateMatches(res, data\u001b[39m.\u001b[39mbondedToAtom, ignoreExternalBonds\u001b[39m=\u001b[39mignoreExternalBonds, ignoreExtraParticles\u001b[39m=\u001b[39mignoreExtraParticles)\n\u001b[1;32m   1420\u001b[0m             \u001b[39mif\u001b[39;00m matches \u001b[39mis\u001b[39;00m \u001b[39mNone\u001b[39;00m:\n\u001b[1;32m   1421\u001b[0m                 \u001b[39m# Something went wrong because the generated template does not match the residue signature.\u001b[39;00m\n",
      "File \u001b[0;32m~/programs/miniconda3/envs/openfe/lib/python3.10/site-packages/openmmforcefields/generators/template_generators.py:314\u001b[0m, in \u001b[0;36mSmallMoleculeTemplateGenerator.generator\u001b[0;34m(self, forcefield, residue)\u001b[0m\n\u001b[1;32m    310\u001b[0m \u001b[39mfor\u001b[39;00m smiles, molecule \u001b[39min\u001b[39;00m \u001b[39mself\u001b[39m\u001b[39m.\u001b[39m_molecules\u001b[39m.\u001b[39mitems():\n\u001b[1;32m    311\u001b[0m     \u001b[39m# See if the template matches\u001b[39;00m\n\u001b[1;32m    312\u001b[0m     \u001b[39mif\u001b[39;00m \u001b[39mself\u001b[39m\u001b[39m.\u001b[39m_match_residue(residue, molecule):\n\u001b[1;32m    313\u001b[0m         \u001b[39m# Generate template and parameters.\u001b[39;00m\n\u001b[0;32m--> 314\u001b[0m         ffxml_contents \u001b[39m=\u001b[39m \u001b[39mself\u001b[39;49m\u001b[39m.\u001b[39;49mgenerate_residue_template(molecule)\n\u001b[1;32m    316\u001b[0m         \u001b[39m# Write to debug file if requested\u001b[39;00m\n\u001b[1;32m    317\u001b[0m         \u001b[39mif\u001b[39;00m \u001b[39mself\u001b[39m\u001b[39m.\u001b[39mdebug_ffxml_filename \u001b[39mis\u001b[39;00m \u001b[39mnot\u001b[39;00m \u001b[39mNone\u001b[39;00m:\n",
      "File \u001b[0;32m~/programs/miniconda3/envs/openfe/lib/python3.10/site-packages/openmmforcefields/generators/template_generators.py:1416\u001b[0m, in \u001b[0;36mSMIRNOFFTemplateGenerator.generate_residue_template\u001b[0;34m(self, molecule, residue_atoms)\u001b[0m\n\u001b[1;32m   1414\u001b[0m \u001b[39m# Parameterize molecule\u001b[39;00m\n\u001b[1;32m   1415\u001b[0m _logger\u001b[39m.\u001b[39mdebug(\u001b[39mf\u001b[39m\u001b[39m'\u001b[39m\u001b[39mGenerating parameters...\u001b[39m\u001b[39m'\u001b[39m)\n\u001b[0;32m-> 1416\u001b[0m system \u001b[39m=\u001b[39m \u001b[39mself\u001b[39;49m\u001b[39m.\u001b[39;49m_smirnoff_forcefield\u001b[39m.\u001b[39;49mcreate_openmm_system(molecule\u001b[39m.\u001b[39;49mto_topology(), charge_from_molecules\u001b[39m=\u001b[39;49mcharge_from_molecules)\n\u001b[1;32m   1417\u001b[0m \u001b[39mself\u001b[39m\u001b[39m.\u001b[39mcache_system(smiles, system)\n\u001b[1;32m   1419\u001b[0m \u001b[39m# Convert to ffxml\u001b[39;00m\n",
      "File \u001b[0;32m~/programs/miniconda3/envs/openfe/lib/python3.10/site-packages/openff/utilities/utilities.py:77\u001b[0m, in \u001b[0;36mrequires_package.<locals>.inner_decorator.<locals>.wrapper\u001b[0;34m(*args, **kwargs)\u001b[0m\n\u001b[1;32m     74\u001b[0m \u001b[39mexcept\u001b[39;00m \u001b[39mException\u001b[39;00m \u001b[39mas\u001b[39;00m e:\n\u001b[1;32m     75\u001b[0m     \u001b[39mraise\u001b[39;00m e\n\u001b[0;32m---> 77\u001b[0m \u001b[39mreturn\u001b[39;00m function(\u001b[39m*\u001b[39;49margs, \u001b[39m*\u001b[39;49m\u001b[39m*\u001b[39;49mkwargs)\n",
      "File \u001b[0;32m~/programs/miniconda3/envs/openfe/lib/python3.10/site-packages/openff/toolkit/typing/engines/smirnoff/forcefield.py:1120\u001b[0m, in \u001b[0;36mForceField.create_openmm_system\u001b[0;34m(self, topology, return_topology, toolkit_registry, charge_from_molecules, partial_bond_orders_from_molecules, allow_nonintegral_charges)\u001b[0m\n\u001b[1;32m   1078\u001b[0m \u001b[39m@requires_package\u001b[39m(\u001b[39m\"\u001b[39m\u001b[39mopenmm\u001b[39m\u001b[39m\"\u001b[39m)\n\u001b[1;32m   1079\u001b[0m \u001b[39mdef\u001b[39;00m \u001b[39mcreate_openmm_system\u001b[39m(\n\u001b[1;32m   1080\u001b[0m     \u001b[39mself\u001b[39m,\n\u001b[0;32m   (...)\u001b[0m\n\u001b[1;32m   1087\u001b[0m     allow_nonintegral_charges: \u001b[39mbool\u001b[39m \u001b[39m=\u001b[39m \u001b[39mFalse\u001b[39;00m,\n\u001b[1;32m   1088\u001b[0m ) \u001b[39m-\u001b[39m\u001b[39m>\u001b[39m Union[\u001b[39m\"\u001b[39m\u001b[39mopenmm.System\u001b[39m\u001b[39m\"\u001b[39m, Tuple[\u001b[39m\"\u001b[39m\u001b[39mopenmm.System\u001b[39m\u001b[39m\"\u001b[39m, \u001b[39m\"\u001b[39m\u001b[39mTopology\u001b[39m\u001b[39m\"\u001b[39m]]:\n\u001b[1;32m   1089\u001b[0m \u001b[39m    \u001b[39m\u001b[39m\"\"\"Create an OpenMM System from this ForceField and a Topology.\u001b[39;00m\n\u001b[1;32m   1090\u001b[0m \n\u001b[1;32m   1091\u001b[0m \u001b[39m    Parameters\u001b[39;00m\n\u001b[0;32m   (...)\u001b[0m\n\u001b[1;32m   1118\u001b[0m \u001b[39m        in a tuple along with the OpenMM system.\u001b[39;00m\n\u001b[1;32m   1119\u001b[0m \u001b[39m    \"\"\"\u001b[39;00m\n\u001b[0;32m-> 1120\u001b[0m     interchange \u001b[39m=\u001b[39m \u001b[39mself\u001b[39;49m\u001b[39m.\u001b[39;49mcreate_interchange(\n\u001b[1;32m   1121\u001b[0m         topology,\n\u001b[1;32m   1122\u001b[0m         toolkit_registry,\n\u001b[1;32m   1123\u001b[0m         charge_from_molecules\u001b[39m=\u001b[39;49mcharge_from_molecules,\n\u001b[1;32m   1124\u001b[0m         partial_bond_orders_from_molecules\u001b[39m=\u001b[39;49mpartial_bond_orders_from_molecules,\n\u001b[1;32m   1125\u001b[0m         allow_nonintegral_charges\u001b[39m=\u001b[39;49mallow_nonintegral_charges,\n\u001b[1;32m   1126\u001b[0m     )\n\u001b[1;32m   1128\u001b[0m     openmm_system \u001b[39m=\u001b[39m interchange\u001b[39m.\u001b[39mto_openmm(combine_nonbonded_forces\u001b[39m=\u001b[39m\u001b[39mTrue\u001b[39;00m)\n\u001b[1;32m   1130\u001b[0m     \u001b[39mif\u001b[39;00m \u001b[39mnot\u001b[39;00m return_topology:\n",
      "File \u001b[0;32m~/programs/miniconda3/envs/openfe/lib/python3.10/site-packages/openff/utilities/utilities.py:77\u001b[0m, in \u001b[0;36mrequires_package.<locals>.inner_decorator.<locals>.wrapper\u001b[0;34m(*args, **kwargs)\u001b[0m\n\u001b[1;32m     74\u001b[0m \u001b[39mexcept\u001b[39;00m \u001b[39mException\u001b[39;00m \u001b[39mas\u001b[39;00m e:\n\u001b[1;32m     75\u001b[0m     \u001b[39mraise\u001b[39;00m e\n\u001b[0;32m---> 77\u001b[0m \u001b[39mreturn\u001b[39;00m function(\u001b[39m*\u001b[39;49margs, \u001b[39m*\u001b[39;49m\u001b[39m*\u001b[39;49mkwargs)\n",
      "File \u001b[0;32m~/programs/miniconda3/envs/openfe/lib/python3.10/site-packages/openff/toolkit/typing/engines/smirnoff/forcefield.py:1194\u001b[0m, in \u001b[0;36mForceField.create_interchange\u001b[0;34m(self, topology, toolkit_registry, charge_from_molecules, partial_bond_orders_from_molecules, allow_nonintegral_charges)\u001b[0m\n\u001b[1;32m   1191\u001b[0m     used_registry \u001b[39m=\u001b[39m GLOBAL_TOOLKIT_REGISTRY\n\u001b[1;32m   1193\u001b[0m \u001b[39mwith\u001b[39;00m _toolkit_registry_manager(used_registry):\n\u001b[0;32m-> 1194\u001b[0m     \u001b[39mreturn\u001b[39;00m Interchange\u001b[39m.\u001b[39;49mfrom_smirnoff(\n\u001b[1;32m   1195\u001b[0m         force_field\u001b[39m=\u001b[39;49m\u001b[39mself\u001b[39;49m,\n\u001b[1;32m   1196\u001b[0m         topology\u001b[39m=\u001b[39;49mtopology,\n\u001b[1;32m   1197\u001b[0m         charge_from_molecules\u001b[39m=\u001b[39;49mcharge_from_molecules,\n\u001b[1;32m   1198\u001b[0m         partial_bond_orders_from_molecules\u001b[39m=\u001b[39;49mpartial_bond_orders_from_molecules,\n\u001b[1;32m   1199\u001b[0m         allow_nonintegral_charges\u001b[39m=\u001b[39;49mallow_nonintegral_charges,\n\u001b[1;32m   1200\u001b[0m     )\n",
      "File \u001b[0;32m~/programs/miniconda3/envs/openfe/lib/python3.10/site-packages/openff/interchange/components/interchange.py:385\u001b[0m, in \u001b[0;36mInterchange.from_smirnoff\u001b[0;34m(cls, force_field, topology, box, charge_from_molecules, partial_bond_orders_from_molecules, allow_nonintegral_charges)\u001b[0m\n\u001b[1;32m    383\u001b[0m     sys_out\u001b[39m.\u001b[39mhandlers\u001b[39m.\u001b[39mupdate({\u001b[39m\"\u001b[39m\u001b[39mConstraints\u001b[39m\u001b[39m\"\u001b[39m: constraints})\n\u001b[1;32m    384\u001b[0m \u001b[39melif\u001b[39;00m potential_handler_type \u001b[39m==\u001b[39m SMIRNOFFElectrostaticsHandler:\n\u001b[0;32m--> 385\u001b[0m     electrostatics_handler \u001b[39m=\u001b[39m SMIRNOFFElectrostaticsHandler\u001b[39m.\u001b[39;49m_from_toolkit(\n\u001b[1;32m    386\u001b[0m         parameter_handler\u001b[39m=\u001b[39;49mparameter_handlers,\n\u001b[1;32m    387\u001b[0m         topology\u001b[39m=\u001b[39;49msys_out\u001b[39m.\u001b[39;49mtopology,\n\u001b[1;32m    388\u001b[0m         charge_from_molecules\u001b[39m=\u001b[39;49mcharge_from_molecules,\n\u001b[1;32m    389\u001b[0m         allow_nonintegral_charges\u001b[39m=\u001b[39;49mallow_nonintegral_charges,\n\u001b[1;32m    390\u001b[0m     )\n\u001b[1;32m    391\u001b[0m     sys_out\u001b[39m.\u001b[39mhandlers\u001b[39m.\u001b[39mupdate({\u001b[39m\"\u001b[39m\u001b[39mElectrostatics\u001b[39m\u001b[39m\"\u001b[39m: electrostatics_handler})\n\u001b[1;32m    392\u001b[0m \u001b[39melif\u001b[39;00m potential_handler_type \u001b[39m==\u001b[39m SMIRNOFFVirtualSiteHandler:\n",
      "File \u001b[0;32m~/programs/miniconda3/envs/openfe/lib/python3.10/site-packages/openff/interchange/components/smirnoff.py:1109\u001b[0m, in \u001b[0;36mSMIRNOFFElectrostaticsHandler._from_toolkit\u001b[0;34m(cls, parameter_handler, topology, charge_from_molecules, allow_nonintegral_charges)\u001b[0m\n\u001b[1;32m   1094\u001b[0m toolkit_handler_with_metadata \u001b[39m=\u001b[39m [\n\u001b[1;32m   1095\u001b[0m     p \u001b[39mfor\u001b[39;00m p \u001b[39min\u001b[39;00m parameter_handlers \u001b[39mif\u001b[39;00m \u001b[39mtype\u001b[39m(p) \u001b[39m==\u001b[39m ElectrostaticsHandler\n\u001b[1;32m   1096\u001b[0m ][\u001b[39m0\u001b[39m]\n\u001b[1;32m   1098\u001b[0m handler \u001b[39m=\u001b[39m \u001b[39mcls\u001b[39m(\n\u001b[1;32m   1099\u001b[0m     \u001b[39mtype\u001b[39m\u001b[39m=\u001b[39mtoolkit_handler_with_metadata\u001b[39m.\u001b[39m_TAGNAME,\n\u001b[1;32m   1100\u001b[0m     scale_13\u001b[39m=\u001b[39mtoolkit_handler_with_metadata\u001b[39m.\u001b[39mscale13,\n\u001b[0;32m   (...)\u001b[0m\n\u001b[1;32m   1106\u001b[0m     exception_potential\u001b[39m=\u001b[39mtoolkit_handler_with_metadata\u001b[39m.\u001b[39mexception_potential,\n\u001b[1;32m   1107\u001b[0m )\n\u001b[0;32m-> 1109\u001b[0m handler\u001b[39m.\u001b[39;49mstore_matches(\n\u001b[1;32m   1110\u001b[0m     parameter_handlers,\n\u001b[1;32m   1111\u001b[0m     topology,\n\u001b[1;32m   1112\u001b[0m     charge_from_molecules\u001b[39m=\u001b[39;49mcharge_from_molecules,\n\u001b[1;32m   1113\u001b[0m     allow_nonintegral_charges\u001b[39m=\u001b[39;49mallow_nonintegral_charges,\n\u001b[1;32m   1114\u001b[0m )\n\u001b[1;32m   1116\u001b[0m \u001b[39mreturn\u001b[39;00m handler\n",
      "File \u001b[0;32m~/programs/miniconda3/envs/openfe/lib/python3.10/site-packages/openff/interchange/components/smirnoff.py:1577\u001b[0m, in \u001b[0;36mSMIRNOFFElectrostaticsHandler.store_matches\u001b[0;34m(self, parameter_handler, topology, charge_from_molecules, allow_nonintegral_charges)\u001b[0m\n\u001b[1;32m   1572\u001b[0m \u001b[39m# TODO: Here is where the toolkit calls self.check_charges_assigned(). Do we skip this\u001b[39;00m\n\u001b[1;32m   1573\u001b[0m \u001b[39m#       entirely given that we are not accepting `charge_from_molecules`?\u001b[39;00m\n\u001b[1;32m   1575\u001b[0m \u001b[39mif\u001b[39;00m \u001b[39mnot\u001b[39;00m flag:\n\u001b[1;32m   1576\u001b[0m     \u001b[39m# TODO: Rename this method to something like `_find_matches`\u001b[39;00m\n\u001b[0;32m-> 1577\u001b[0m     matches, potentials \u001b[39m=\u001b[39m \u001b[39mself\u001b[39;49m\u001b[39m.\u001b[39;49m_find_reference_matches(\n\u001b[1;32m   1578\u001b[0m         parameter_handlers,\n\u001b[1;32m   1579\u001b[0m         unique_molecule,\n\u001b[1;32m   1580\u001b[0m     )\n\u001b[1;32m   1582\u001b[0m \u001b[39mself\u001b[39m\u001b[39m.\u001b[39mpotentials\u001b[39m.\u001b[39mupdate(potentials)\n\u001b[1;32m   1584\u001b[0m \u001b[39mfor\u001b[39;00m unique_molecule_atom \u001b[39min\u001b[39;00m unique_molecule\u001b[39m.\u001b[39matoms:\n",
      "File \u001b[0;32m~/programs/miniconda3/envs/openfe/lib/python3.10/site-packages/openff/interchange/components/smirnoff.py:1430\u001b[0m, in \u001b[0;36mSMIRNOFFElectrostaticsHandler._find_reference_matches\u001b[0;34m(cls, parameter_handlers, unique_molecule)\u001b[0m\n\u001b[1;32m   1419\u001b[0m     slot_matches, slot_potentials \u001b[39m=\u001b[39m \u001b[39mcls\u001b[39m\u001b[39m.\u001b[39m_find_slot_matches(\n\u001b[1;32m   1420\u001b[0m         parameter_handler,\n\u001b[1;32m   1421\u001b[0m         unique_molecule,\n\u001b[1;32m   1422\u001b[0m     )\n\u001b[1;32m   1424\u001b[0m \u001b[39mif\u001b[39;00m handler_type \u001b[39min\u001b[39;00m [\u001b[39m\"\u001b[39m\u001b[39mToolkitAM1BCC\u001b[39m\u001b[39m\"\u001b[39m, \u001b[39m\"\u001b[39m\u001b[39mChargeIncrementModel\u001b[39m\u001b[39m\"\u001b[39m]:\n\u001b[1;32m   1426\u001b[0m     (\n\u001b[1;32m   1427\u001b[0m         partial_charge_method,\n\u001b[1;32m   1428\u001b[0m         am1_matches,\n\u001b[1;32m   1429\u001b[0m         am1_potentials,\n\u001b[0;32m-> 1430\u001b[0m     ) \u001b[39m=\u001b[39m \u001b[39mcls\u001b[39;49m\u001b[39m.\u001b[39;49m_find_charge_model_matches(\n\u001b[1;32m   1431\u001b[0m         parameter_handler,\n\u001b[1;32m   1432\u001b[0m         unique_molecule,\n\u001b[1;32m   1433\u001b[0m     )\n\u001b[1;32m   1435\u001b[0m \u001b[39mif\u001b[39;00m slot_matches \u001b[39mis\u001b[39;00m \u001b[39mNone\u001b[39;00m \u001b[39mand\u001b[39;00m am1_matches \u001b[39mis\u001b[39;00m \u001b[39mNone\u001b[39;00m:\n\u001b[1;32m   1436\u001b[0m     \u001b[39mraise\u001b[39;00m \u001b[39mNotImplementedError\u001b[39;00m()\n",
      "File \u001b[0;32m~/programs/miniconda3/envs/openfe/lib/python3.10/site-packages/openff/interchange/components/smirnoff.py:1368\u001b[0m, in \u001b[0;36mSMIRNOFFElectrostaticsHandler._find_charge_model_matches\u001b[0;34m(cls, parameter_handler, unique_molecule)\u001b[0m\n\u001b[1;32m   1362\u001b[0m \u001b[39melse\u001b[39;00m:\n\u001b[1;32m   1363\u001b[0m     \u001b[39mraise\u001b[39;00m InvalidParameterHandlerError(\n\u001b[1;32m   1364\u001b[0m         \u001b[39mf\u001b[39m\u001b[39m\"\u001b[39m\u001b[39mEncountered unknown handler of type \u001b[39m\u001b[39m{\u001b[39;00m\u001b[39mtype\u001b[39m(parameter_handler)\u001b[39m}\u001b[39;00m\u001b[39m where only \u001b[39m\u001b[39m\"\u001b[39m\n\u001b[1;32m   1365\u001b[0m         \u001b[39m\"\u001b[39m\u001b[39mToolkitAM1BCCHandler or ChargeIncrementModelHandler are expected.\u001b[39m\u001b[39m\"\u001b[39m\n\u001b[1;32m   1366\u001b[0m     )\n\u001b[0;32m-> 1368\u001b[0m partial_charges \u001b[39m=\u001b[39m \u001b[39mcls\u001b[39;49m\u001b[39m.\u001b[39;49m_compute_partial_charges(\n\u001b[1;32m   1369\u001b[0m     unique_molecule, method\u001b[39m=\u001b[39;49mpartial_charge_method\n\u001b[1;32m   1370\u001b[0m )\n\u001b[1;32m   1372\u001b[0m matches \u001b[39m=\u001b[39m {}\n\u001b[1;32m   1373\u001b[0m potentials \u001b[39m=\u001b[39m {}\n",
      "File \u001b[0;32m~/programs/miniconda3/envs/openfe/lib/python3.10/site-packages/openff/interchange/components/smirnoff.py:1194\u001b[0m, in \u001b[0;36mSMIRNOFFElectrostaticsHandler._compute_partial_charges\u001b[0;34m(cls, molecule, method)\u001b[0m\n\u001b[1;32m   1192\u001b[0m \u001b[39m\u001b[39m\u001b[39m\"\"\"Call out to the toolkit's toolkit wrappers to generate partial charges.\"\"\"\u001b[39;00m\n\u001b[1;32m   1193\u001b[0m molecule \u001b[39m=\u001b[39m copy\u001b[39m.\u001b[39mdeepcopy(molecule)\n\u001b[0;32m-> 1194\u001b[0m molecule\u001b[39m.\u001b[39;49massign_partial_charges(method)\n\u001b[1;32m   1196\u001b[0m \u001b[39mreturn\u001b[39;00m molecule\u001b[39m.\u001b[39mpartial_charges\n",
      "File \u001b[0;32m~/programs/miniconda3/envs/openfe/lib/python3.10/site-packages/openff/toolkit/topology/molecule.py:2516\u001b[0m, in \u001b[0;36mFrozenMolecule.assign_partial_charges\u001b[0;34m(self, partial_charge_method, strict_n_conformers, use_conformers, toolkit_registry, normalize_partial_charges)\u001b[0m\n\u001b[1;32m   2503\u001b[0m         warnings\u001b[39m.\u001b[39mwarn(\n\u001b[1;32m   2504\u001b[0m             \u001b[39mf\u001b[39m\u001b[39m\"\u001b[39m\u001b[39mWarning! Partial charge method \u001b[39m\u001b[39m'\u001b[39m\u001b[39m{\u001b[39;00mpartial_charge_method\u001b[39m}\u001b[39;00m\u001b[39m'\u001b[39m\u001b[39m is not designed \u001b[39m\u001b[39m\"\u001b[39m\n\u001b[1;32m   2505\u001b[0m             \u001b[39m\"\u001b[39m\u001b[39mfor use on large (i.e. > 150 atoms) molecules and may crash or take hours to \u001b[39m\u001b[39m\"\u001b[39m\n\u001b[0;32m   (...)\u001b[0m\n\u001b[1;32m   2508\u001b[0m             \u001b[39m\"\u001b[39m\u001b[39m#parameterizing-my-system-which-contains-a-large-molecule-is-taking-forever-whats-wrong\u001b[39m\u001b[39m\"\u001b[39m,\n\u001b[1;32m   2509\u001b[0m         )\n\u001b[1;32m   2511\u001b[0m \u001b[39mif\u001b[39;00m \u001b[39misinstance\u001b[39m(toolkit_registry, ToolkitRegistry):\n\u001b[1;32m   2512\u001b[0m     \u001b[39m# We may need to try several toolkitwrappers to find one\u001b[39;00m\n\u001b[1;32m   2513\u001b[0m     \u001b[39m# that supports the desired partial charge method, so we\u001b[39;00m\n\u001b[1;32m   2514\u001b[0m     \u001b[39m# tell the ToolkitRegistry to continue trying ToolkitWrappers\u001b[39;00m\n\u001b[1;32m   2515\u001b[0m     \u001b[39m# if one raises an error (raise_exception_types=[])\u001b[39;00m\n\u001b[0;32m-> 2516\u001b[0m     toolkit_registry\u001b[39m.\u001b[39;49mcall(\n\u001b[1;32m   2517\u001b[0m         \u001b[39m\"\u001b[39;49m\u001b[39massign_partial_charges\u001b[39;49m\u001b[39m\"\u001b[39;49m,\n\u001b[1;32m   2518\u001b[0m         molecule\u001b[39m=\u001b[39;49m\u001b[39mself\u001b[39;49m,\n\u001b[1;32m   2519\u001b[0m         partial_charge_method\u001b[39m=\u001b[39;49mpartial_charge_method,\n\u001b[1;32m   2520\u001b[0m         use_conformers\u001b[39m=\u001b[39;49muse_conformers,\n\u001b[1;32m   2521\u001b[0m         strict_n_conformers\u001b[39m=\u001b[39;49mstrict_n_conformers,\n\u001b[1;32m   2522\u001b[0m         normalize_partial_charges\u001b[39m=\u001b[39;49mnormalize_partial_charges,\n\u001b[1;32m   2523\u001b[0m         raise_exception_types\u001b[39m=\u001b[39;49m[],\n\u001b[1;32m   2524\u001b[0m         _cls\u001b[39m=\u001b[39;49m\u001b[39mself\u001b[39;49m\u001b[39m.\u001b[39;49m\u001b[39m__class__\u001b[39;49m,\n\u001b[1;32m   2525\u001b[0m     )\n\u001b[1;32m   2526\u001b[0m \u001b[39melif\u001b[39;00m \u001b[39misinstance\u001b[39m(toolkit_registry, ToolkitWrapper):\n\u001b[1;32m   2527\u001b[0m     toolkit_wrapper: ToolkitWrapper \u001b[39m=\u001b[39m toolkit_registry\n",
      "File \u001b[0;32m~/programs/miniconda3/envs/openfe/lib/python3.10/site-packages/openff/toolkit/utils/toolkit_registry.py:352\u001b[0m, in \u001b[0;36mToolkitRegistry.call\u001b[0;34m(self, method_name, raise_exception_types, *args, **kwargs)\u001b[0m\n\u001b[1;32m    350\u001b[0m method \u001b[39m=\u001b[39m \u001b[39mgetattr\u001b[39m(toolkit, method_name)\n\u001b[1;32m    351\u001b[0m \u001b[39mtry\u001b[39;00m:\n\u001b[0;32m--> 352\u001b[0m     \u001b[39mreturn\u001b[39;00m method(\u001b[39m*\u001b[39;49margs, \u001b[39m*\u001b[39;49m\u001b[39m*\u001b[39;49mkwargs)\n\u001b[1;32m    353\u001b[0m \u001b[39mexcept\u001b[39;00m \u001b[39mException\u001b[39;00m \u001b[39mas\u001b[39;00m e:\n\u001b[1;32m    354\u001b[0m     \u001b[39mfor\u001b[39;00m exception_type \u001b[39min\u001b[39;00m raise_exception_types:\n",
      "File \u001b[0;32m~/programs/miniconda3/envs/openfe/lib/python3.10/site-packages/openff/toolkit/utils/ambertools_wrapper.py:213\u001b[0m, in \u001b[0;36mAmberToolsToolkitWrapper.assign_partial_charges\u001b[0;34m(self, molecule, partial_charge_method, use_conformers, strict_n_conformers, normalize_partial_charges, _cls)\u001b[0m\n\u001b[1;32m    210\u001b[0m \u001b[39m# Compute desired charges\u001b[39;00m\n\u001b[1;32m    211\u001b[0m \u001b[39m# TODO: Add error handling if antechamber chokes\u001b[39;00m\n\u001b[1;32m    212\u001b[0m short_charge_method \u001b[39m=\u001b[39m charge_method[\u001b[39m\"\u001b[39m\u001b[39mantechamber_keyword\u001b[39m\u001b[39m\"\u001b[39m]\n\u001b[0;32m--> 213\u001b[0m subprocess\u001b[39m.\u001b[39;49mcheck_output(\n\u001b[1;32m    214\u001b[0m     [\n\u001b[1;32m    215\u001b[0m         \u001b[39m\"\u001b[39;49m\u001b[39mantechamber\u001b[39;49m\u001b[39m\"\u001b[39;49m,\n\u001b[1;32m    216\u001b[0m         \u001b[39m\"\u001b[39;49m\u001b[39m-i\u001b[39;49m\u001b[39m\"\u001b[39;49m,\n\u001b[1;32m    217\u001b[0m         \u001b[39m\"\u001b[39;49m\u001b[39mmolecule.sdf\u001b[39;49m\u001b[39m\"\u001b[39;49m,\n\u001b[1;32m    218\u001b[0m         \u001b[39m\"\u001b[39;49m\u001b[39m-fi\u001b[39;49m\u001b[39m\"\u001b[39;49m,\n\u001b[1;32m    219\u001b[0m         \u001b[39m\"\u001b[39;49m\u001b[39msdf\u001b[39;49m\u001b[39m\"\u001b[39;49m,\n\u001b[1;32m    220\u001b[0m         \u001b[39m\"\u001b[39;49m\u001b[39m-o\u001b[39;49m\u001b[39m\"\u001b[39;49m,\n\u001b[1;32m    221\u001b[0m         \u001b[39m\"\u001b[39;49m\u001b[39mcharged.mol2\u001b[39;49m\u001b[39m\"\u001b[39;49m,\n\u001b[1;32m    222\u001b[0m         \u001b[39m\"\u001b[39;49m\u001b[39m-fo\u001b[39;49m\u001b[39m\"\u001b[39;49m,\n\u001b[1;32m    223\u001b[0m         \u001b[39m\"\u001b[39;49m\u001b[39mmol2\u001b[39;49m\u001b[39m\"\u001b[39;49m,\n\u001b[1;32m    224\u001b[0m         \u001b[39m\"\u001b[39;49m\u001b[39m-pf\u001b[39;49m\u001b[39m\"\u001b[39;49m,\n\u001b[1;32m    225\u001b[0m         \u001b[39m\"\u001b[39;49m\u001b[39myes\u001b[39;49m\u001b[39m\"\u001b[39;49m,\n\u001b[1;32m    226\u001b[0m         \u001b[39m\"\u001b[39;49m\u001b[39m-dr\u001b[39;49m\u001b[39m\"\u001b[39;49m,\n\u001b[1;32m    227\u001b[0m         \u001b[39m\"\u001b[39;49m\u001b[39mn\u001b[39;49m\u001b[39m\"\u001b[39;49m,\n\u001b[1;32m    228\u001b[0m         \u001b[39m\"\u001b[39;49m\u001b[39m-c\u001b[39;49m\u001b[39m\"\u001b[39;49m,\n\u001b[1;32m    229\u001b[0m         short_charge_method,\n\u001b[1;32m    230\u001b[0m         \u001b[39m\"\u001b[39;49m\u001b[39m-nc\u001b[39;49m\u001b[39m\"\u001b[39;49m,\n\u001b[1;32m    231\u001b[0m         \u001b[39mstr\u001b[39;49m(net_charge),\n\u001b[1;32m    232\u001b[0m     ]\n\u001b[1;32m    233\u001b[0m )\n\u001b[1;32m    234\u001b[0m \u001b[39m# Write out just charges\u001b[39;00m\n\u001b[1;32m    235\u001b[0m subprocess\u001b[39m.\u001b[39mcheck_output(\n\u001b[1;32m    236\u001b[0m     [\n\u001b[1;32m    237\u001b[0m         \u001b[39m\"\u001b[39m\u001b[39mantechamber\u001b[39m\u001b[39m\"\u001b[39m,\n\u001b[0;32m   (...)\u001b[0m\n\u001b[1;32m    254\u001b[0m     ]\n\u001b[1;32m    255\u001b[0m )\n",
      "File \u001b[0;32m~/programs/miniconda3/envs/openfe/lib/python3.10/subprocess.py:421\u001b[0m, in \u001b[0;36mcheck_output\u001b[0;34m(timeout, *popenargs, **kwargs)\u001b[0m\n\u001b[1;32m    418\u001b[0m         empty \u001b[39m=\u001b[39m \u001b[39mb\u001b[39m\u001b[39m'\u001b[39m\u001b[39m'\u001b[39m\n\u001b[1;32m    419\u001b[0m     kwargs[\u001b[39m'\u001b[39m\u001b[39minput\u001b[39m\u001b[39m'\u001b[39m] \u001b[39m=\u001b[39m empty\n\u001b[0;32m--> 421\u001b[0m \u001b[39mreturn\u001b[39;00m run(\u001b[39m*\u001b[39;49mpopenargs, stdout\u001b[39m=\u001b[39;49mPIPE, timeout\u001b[39m=\u001b[39;49mtimeout, check\u001b[39m=\u001b[39;49m\u001b[39mTrue\u001b[39;49;00m,\n\u001b[1;32m    422\u001b[0m            \u001b[39m*\u001b[39;49m\u001b[39m*\u001b[39;49mkwargs)\u001b[39m.\u001b[39mstdout\n",
      "File \u001b[0;32m~/programs/miniconda3/envs/openfe/lib/python3.10/subprocess.py:505\u001b[0m, in \u001b[0;36mrun\u001b[0;34m(input, capture_output, timeout, check, *popenargs, **kwargs)\u001b[0m\n\u001b[1;32m    503\u001b[0m \u001b[39mwith\u001b[39;00m Popen(\u001b[39m*\u001b[39mpopenargs, \u001b[39m*\u001b[39m\u001b[39m*\u001b[39mkwargs) \u001b[39mas\u001b[39;00m process:\n\u001b[1;32m    504\u001b[0m     \u001b[39mtry\u001b[39;00m:\n\u001b[0;32m--> 505\u001b[0m         stdout, stderr \u001b[39m=\u001b[39m process\u001b[39m.\u001b[39;49mcommunicate(\u001b[39minput\u001b[39;49m, timeout\u001b[39m=\u001b[39;49mtimeout)\n\u001b[1;32m    506\u001b[0m     \u001b[39mexcept\u001b[39;00m TimeoutExpired \u001b[39mas\u001b[39;00m exc:\n\u001b[1;32m    507\u001b[0m         process\u001b[39m.\u001b[39mkill()\n",
      "File \u001b[0;32m~/programs/miniconda3/envs/openfe/lib/python3.10/subprocess.py:1141\u001b[0m, in \u001b[0;36mPopen.communicate\u001b[0;34m(self, input, timeout)\u001b[0m\n\u001b[1;32m   1139\u001b[0m     \u001b[39mself\u001b[39m\u001b[39m.\u001b[39m_stdin_write(\u001b[39minput\u001b[39m)\n\u001b[1;32m   1140\u001b[0m \u001b[39melif\u001b[39;00m \u001b[39mself\u001b[39m\u001b[39m.\u001b[39mstdout:\n\u001b[0;32m-> 1141\u001b[0m     stdout \u001b[39m=\u001b[39m \u001b[39mself\u001b[39;49m\u001b[39m.\u001b[39;49mstdout\u001b[39m.\u001b[39;49mread()\n\u001b[1;32m   1142\u001b[0m     \u001b[39mself\u001b[39m\u001b[39m.\u001b[39mstdout\u001b[39m.\u001b[39mclose()\n\u001b[1;32m   1143\u001b[0m \u001b[39melif\u001b[39;00m \u001b[39mself\u001b[39m\u001b[39m.\u001b[39mstderr:\n",
      "\u001b[0;31mKeyboardInterrupt\u001b[0m: "
     ]
    },
    {
     "name": "stderr",
     "output_type": "stream",
     "text": [
      "/home/bries/programs/miniconda3/envs/openfe/bin/wrapped_progs/antechamber: Fatal Error!\n",
      "Cannot open file (sqm.out) with mode (r).\n",
      "No such file or directory\n"
     ]
    }
   ],
   "source": [
    "from gufe.protocols.protocoldag import execute_DAG\n",
    "\n",
    "transformation_results = []\n",
    "for transformation in alchemical_network.edges:\n",
    "    \n",
    "    print(\"Running the simulations: \", transformation.name)\n",
    "    transformation_task_dag = transformation.create()\n",
    "    transformation_task_result = execute_DAG(transformation_task_dag)\n",
    "    transformation_result = transformation.protocol.gather([transformation_task_result])\n",
    "    transformation_results.append(transformation_result)\n",
    "print(\"Done\")"
   ]
  },
  {
   "cell_type": "markdown",
   "metadata": {},
   "source": [
    "## gather results:"
   ]
  },
  {
   "cell_type": "code",
   "execution_count": null,
   "metadata": {},
   "outputs": [],
   "source": [
    "for transformation_result in transformation_results:\n",
    "    if transformation_result.ok():\n",
    "        estimate = transformation_result.get_estimate()\n",
    "        uncertainty = transformation_result.get_uncertainty()\n",
    "    else:\n",
    "        estimate = uncertainty = None\n",
    "    print(\"Estimate: \", transformation_result.name, estimate, uncertainty)"
   ]
  },
  {
   "cell_type": "code",
   "execution_count": null,
   "metadata": {},
   "outputs": [],
   "source": []
  }
 ],
 "metadata": {
  "kernelspec": {
   "display_name": "openfe",
   "language": "python",
   "name": "python3"
  },
  "language_info": {
   "codemirror_mode": {
    "name": "ipython",
    "version": 3
   },
   "file_extension": ".py",
   "mimetype": "text/x-python",
   "name": "python",
   "nbconvert_exporter": "python",
   "pygments_lexer": "ipython3",
   "version": "3.10.8"
  },
  "orig_nbformat": 4
 },
 "nbformat": 4,
 "nbformat_minor": 2
}
