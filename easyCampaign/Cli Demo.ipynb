{
 "cells": [
  {
   "cell_type": "code",
   "execution_count": null,
   "id": "785f29f9-889f-43ea-93ed-824de546993b",
   "metadata": {
    "tags": []
   },
   "outputs": [],
   "source": [
    "# NBVAL_SKIP\n",
    "!pip install -q condacolab\n",
    "import condacolab\n",
    "condacolab.install_from_url(\"https://github.com/OpenFreeEnergy/ExampleNotebooks/releases/download/april-2023/OpenFEforge-0.7.4-Linux-x86_64.sh\")"
   ]
  },
  {
   "cell_type": "code",
   "execution_count": null,
   "id": "c23f5c0d-a36e-43f5-9f1e-1e3f3fba80ea",
   "metadata": {},
   "outputs": [],
   "source": [
    "# NBVAL_SKIP\n",
    "import condacolab\n",
    "condacolab.check()"
   ]
  },
  {
   "cell_type": "code",
   "execution_count": null,
   "id": "4a9a49bd-4520-4ca6-96e1-378559248ac4",
   "metadata": {},
   "outputs": [],
   "source": [
    "# NBVAL_SKIP\n",
    "from IPython.display import JSON\n",
    "from google.colab import output\n",
    "from subprocess import getoutput\n",
    "import os\n",
    "\n",
    "def shell(command):\n",
    "  if command.startswith('cd'):\n",
    "    path = command.strip().split(maxsplit=1)[1]\n",
    "    os.chdir(path)\n",
    "    return JSON([''])\n",
    "  return JSON([getoutput(command)])\n",
    "output.register_callback('shell', shell)"
   ]
  },
  {
   "cell_type": "code",
   "execution_count": null,
   "id": "cc0b6da8-b400-4795-8f31-10d00e941449",
   "metadata": {},
   "outputs": [],
   "source": [
    "# NBVAL_SKIP\n",
    "#@title Colab Shell\n",
    "%%html\n",
    "<div id=term_demo></div>\n",
    "<script src=\"https://code.jquery.com/jquery-latest.js\"></script>\n",
    "<script src=\"https://cdn.jsdelivr.net/npm/jquery.terminal/js/jquery.terminal.min.js\"></script>\n",
    "<link href=\"https://cdn.jsdelivr.net/npm/jquery.terminal/css/jquery.terminal.min.css\" rel=\"stylesheet\"/>\n",
    "<script>\n",
    "  $('#term_demo').terminal(async function(command) {\n",
    "      if (command !== '') {\n",
    "          try {\n",
    "              let res = await google.colab.kernel.invokeFunction('shell', [command])\n",
    "              let out = res.data['application/json'][0]\n",
    "              this.echo(new String(out))\n",
    "          } catch(e) {\n",
    "              this.error(new String(e));\n",
    "          }\n",
    "      } else {\n",
    "          this.echo('');\n",
    "      }\n",
    "  }, {\n",
    "      greetings: 'Welcome to Colab Shell',\n",
    "      name: 'colab_demo',\n",
    "      height: 500,\n",
    "      prompt: 'colab > '\n",
    "  });"
   ]
  }
 ],
 "metadata": {
  "kernelspec": {
   "display_name": "Python 3 (ipykernel)",
   "language": "python",
   "name": "python3"
  },
  "language_info": {
   "codemirror_mode": {
    "name": "ipython",
    "version": 3
   },
   "file_extension": ".py",
   "mimetype": "text/x-python",
   "name": "python",
   "nbconvert_exporter": "python",
   "pygments_lexer": "ipython3",
   "version": "3.10.10"
  }
 },
 "nbformat": 4,
 "nbformat_minor": 5
}
