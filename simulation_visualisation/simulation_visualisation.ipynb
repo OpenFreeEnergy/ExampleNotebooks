{
 "cells": [
  {
   "cell_type": "markdown",
   "id": "20a8d98a",
   "metadata": {},
   "source": [
    "# Extracting and visualising a free energy simulation\n",
    "\n",
    "This notebook provides a step-by-step guide to extract and visualise a free energy simulation trajectory from a ``simulation.nc`` file using [openfe-analysis](https://github.com/OpenFreeEnergy/openfe_analysis) and [MDAnalysis](https://github.com/MDAnalysis/mdanalysis). By the end, you should understand how to:\n",
    "\n",
    "1. Extract the trajectory of a ``replica`` or ``single lambda state`` from a ``simulation.nc`` file\n",
    "2. Centre the ligand in the simulation box using `MDAnalysis`\n",
    "3. Write out the trajectorie(s) using `MDAnalysis`\n",
    "\n",
    "## Downloading the example data\n",
    "\n",
    "First, download some example trajectory data. This may take a few minutes due to the size of the simulation file. Please skip this section if you have already done this!"
   ]
  },
  {
   "cell_type": "code",
   "execution_count": 1,
   "id": "be6317291bbf3804",
   "metadata": {},
   "outputs": [
    {
     "name": "stdout",
     "output_type": "stream",
     "text": [
      "--2025-09-05 10:31:50--  https://zenodo.org/records/15375081/files/simulation.nc\n",
      "Resolving zenodo.org (zenodo.org)... 2001:1458:d00:25::100:372, 2001:1458:d00:24::100:f6, 2001:1458:d00:61::100:2f3, ...\n",
      "Connecting to zenodo.org (zenodo.org)|2001:1458:d00:25::100:372|:443... connected.\n",
      "HTTP request sent, awaiting response... 200 OK\n",
      "Length: 516886878 (493M) [application/octet-stream]\n",
      "Saving to: ‘simulation.nc.1’\n",
      "\n",
      "simulation.nc.1     100%[===================>] 492.94M  12.2MB/s    in 62s     \n",
      "\n",
      "2025-09-05 10:32:53 (7.96 MB/s) - ‘simulation.nc.1’ saved [516886878/516886878]\n",
      "\n",
      "--2025-09-05 10:32:53--  https://zenodo.org/records/15375081/files/hybrid_system.pdb\n",
      "Resolving zenodo.org (zenodo.org)... 2001:1458:d00:24::100:f6, 2001:1458:d00:61::100:2f3, 2001:1458:d00:25::100:372, ...\n",
      "Connecting to zenodo.org (zenodo.org)|2001:1458:d00:24::100:f6|:443... connected.\n",
      "HTTP request sent, awaiting response... 200 OK\n",
      "Length: 388547 (379K) [application/octet-stream]\n",
      "Saving to: ‘hybrid_system.pdb.1’\n",
      "\n",
      "hybrid_system.pdb.1 100%[===================>] 379.44K  1.65MB/s    in 0.2s    \n",
      "\n",
      "2025-09-05 10:32:54 (1.65 MB/s) - ‘hybrid_system.pdb.1’ saved [388547/388547]\n",
      "\n"
     ]
    }
   ],
   "source": [
    "! wget https://zenodo.org/records/15375081/files/simulation.nc\n",
    "! wget https://zenodo.org/records/15375081/files/hybrid_system.pdb"
   ]
  },
  {
   "cell_type": "markdown",
   "id": "5d066221-0b8e-4b1b-a047-c989a5957cf7",
   "metadata": {},
   "source": [
    "## Extracting the trajectory with `MDAnalysis`\n",
    "\n",
    "The `openfe-analysis` package provides an `MDAnalysis` reader to help extract the trajectory data from the `simulation.nc` file. As the file contains multipule replicas simulated at different lambda states, we must choose which of these to load as a single trajectory. We have two options available to construct the trajectory:\n",
    "- `state_id`: will construct a trajectory which follows a single Hamiltonian lambda state at the specified value.\n",
    "- `recplica_id`: will construct a trajectory which follows a single replica at the specified value.\n",
    "\n",
    "In this example which uses a trajectory from a relative binding free energy calculation we will load the trajectory at `lambda=0` or the end state corresponding to Ligand A and visulaise the trajectory with `nglview`."
   ]
  },
  {
   "cell_type": "code",
   "execution_count": 6,
   "id": "05ba7dc7",
   "metadata": {},
   "outputs": [
    {
     "name": "stderr",
     "output_type": "stream",
     "text": [
      "/Users/joshua/mambaforge/envs/openfe_fast_set/lib/python3.12/site-packages/openfe_analysis/utils/multistate.py:41: UserWarning: This is an older NetCDF file that does not yet contain information about the write frequency of positions and velocities. We will assume that positions and velocities were written out at every iteration. \n",
      "  warnings.warn(wmsg)\n"
     ]
    },
    {
     "data": {
      "application/vnd.jupyter.widget-view+json": {
       "model_id": "ca7edee8791e482fa36a171ee3edb895",
       "version_major": 2,
       "version_minor": 0
      },
      "text/plain": [
       "NGLWidget(max_frame=500)"
      ]
     },
     "metadata": {},
     "output_type": "display_data"
    }
   ],
   "source": [
    "import MDAnalysis as mda\n",
    "from openfe_analysis import FEReader\n",
    "import nglview as nv\n",
    "\n",
    "u_0 = mda.Universe(\"hybrid_system.pdb\", \"simulation.nc\", format=FEReader, state_id=0)\n",
    "\n",
    "w = nv.show_mdanalysis(u_0)\n",
    "w"
   ]
  },
  {
   "cell_type": "markdown",
   "id": "f0e7b0e7-04b5-42c0-ab65-2202275288d4",
   "metadata": {},
   "source": [
    "<div class=\\\"alert alert-block alert-info\\\"> <b>Note:</b> The OpenFE relative binding free energy protocol does not save water positions by default, this can be changed via the <a href=\"https://docs.openfree.energy/en/latest/reference/api/openmm_protocol_settings.html#openfe.protocols.openmm_utils.omm_settings.MultiStateOutputSettings.output_indices\">output_indices</a> protocol setting. </div>\n",
    "\n",
    "\n",
    "To view the final state at `lambda=1` we can use negative indexing if we don't know the total number of lambda states."
   ]
  },
  {
   "cell_type": "code",
   "execution_count": 7,
   "id": "009a8ac7-0ca9-494c-bbd6-177e752b0d4f",
   "metadata": {},
   "outputs": [
    {
     "name": "stderr",
     "output_type": "stream",
     "text": [
      "/Users/joshua/mambaforge/envs/openfe_fast_set/lib/python3.12/site-packages/openfe_analysis/utils/multistate.py:41: UserWarning: This is an older NetCDF file that does not yet contain information about the write frequency of positions and velocities. We will assume that positions and velocities were written out at every iteration. \n",
      "  warnings.warn(wmsg)\n",
      "DEPRECATED: Please use 'center' method\n"
     ]
    },
    {
     "data": {
      "application/vnd.jupyter.widget-view+json": {
       "model_id": "18e16cf1a1144b228e6ab22a06d42002",
       "version_major": 2,
       "version_minor": 0
      },
      "text/plain": [
       "NGLWidget(max_frame=500)"
      ]
     },
     "metadata": {},
     "output_type": "display_data"
    }
   ],
   "source": [
    "u_1 = mda.Universe(\"hybrid_system.pdb\", \"simulation.nc\", format=FEReader, state_id=-1)\n",
    "\n",
    "w = nv.show_mdanalysis(u_1)\n",
    "w.center_view()\n",
    "w"
   ]
  },
  {
   "cell_type": "markdown",
   "id": "75602d58-6709-4d9b-8a52-9896fdc6a0af",
   "metadata": {},
   "source": [
    "## Centring the Ligand\n",
    "\n",
    "You may have noticed in the view above that the ligand seems to have drifted away from the protein, this is a visualisation artifact caused by the use of periodic boundary conditions and the way in which OpenMM tries to ensure that all particle positions are written into a single periodic box. We can fix this however, using transformations in `MDAnalysis` to centre the ligand and wrap the protein around it like so:"
   ]
  },
  {
   "cell_type": "code",
   "execution_count": 8,
   "id": "a5f16795-1b9c-4198-8694-6568eaba06c7",
   "metadata": {},
   "outputs": [
    {
     "data": {
      "application/vnd.jupyter.widget-view+json": {
       "model_id": "2f9fe1601d5a4c22954bdc2dd69ad482",
       "version_major": 2,
       "version_minor": 0
      },
      "text/plain": [
       "NGLWidget(max_frame=500)"
      ]
     },
     "metadata": {},
     "output_type": "display_data"
    }
   ],
   "source": [
    "import MDAnalysis.transformations as trans\n",
    "\n",
    "ligand = u_0.select_atoms(\"resname UNK\")\n",
    "protein = u_0.select_atoms(\"protein\")\n",
    "transforms = [\n",
    "    trans.center_in_box(ligand, wrap=True),\n",
    "    trans.wrap(protein),\n",
    "    trans.nojump.NoJump()\n",
    "]\n",
    "u_0.trajectory.add_transformations(*transforms)\n",
    "\n",
    "w = nv.show_mdanalysis(u_0)\n",
    "w"
   ]
  },
  {
   "cell_type": "markdown",
   "id": "7026738c-e4fe-461e-85ca-f726e9768a5e",
   "metadata": {},
   "source": [
    "## Saving the trajectory to file\n",
    "\n",
    "We can now use `MDAnalysis` to save our trajectory to a common file format:"
   ]
  },
  {
   "cell_type": "code",
   "execution_count": 9,
   "id": "6e410679",
   "metadata": {},
   "outputs": [],
   "source": [
    "with mda.Writer('out.xtc', n_atoms=len(u_0.atoms)) as w:\n",
    "    for ts in u_0.trajectory:\n",
    "        w.write(u_0.atoms)"
   ]
  }
 ],
 "metadata": {
  "kernelspec": {
   "display_name": "Python 3 (ipykernel)",
   "language": "python",
   "name": "python3"
  },
  "language_info": {
   "codemirror_mode": {
    "name": "ipython",
    "version": 3
   },
   "file_extension": ".py",
   "mimetype": "text/x-python",
   "name": "python",
   "nbconvert_exporter": "python",
   "pygments_lexer": "ipython3",
   "version": "3.12.11"
  }
 },
 "nbformat": 4,
 "nbformat_minor": 5
}
