{
 "cells": [
  {
   "cell_type": "markdown",
   "id": "f48f4932",
   "metadata": {},
   "source": [
    "This notebook demonstrates preparing a ligand-protein system for OpenMM using the OpenFF Sage forcefield for the ligand and Amber99SB for the protein. \n",
    "\n",
    "This is a stripped down version of the \"tookit_showcase\" from OpenFF Toolkit."
   ]
  },
  {
   "cell_type": "code",
   "execution_count": null,
   "id": "4abde019",
   "metadata": {},
   "outputs": [],
   "source": [
    "import openmm.app\n",
    "import openmm\n",
    "from openmmforcefields.generators import SMIRNOFFTemplateGenerator\n",
    "\n",
    "from openff.toolkit.topology import Molecule"
   ]
  },
  {
   "cell_type": "code",
   "execution_count": null,
   "id": "f2a4464e",
   "metadata": {},
   "outputs": [],
   "source": [
    "# load both the Protein and Ligand structures\n",
    "# OpenMM is used to correctly interpret the protein structure\n",
    "# OpenFF is used for the ligand to prepare for the upcoming forcefield parametrisation\n",
    "\n",
    "protein = openmm.app.PDBFile('3l9h_prepared.pdb')\n",
    "ligand = Molecule('./chembl_1078774.sdf')"
   ]
  },
  {
   "cell_type": "code",
   "execution_count": null,
   "id": "c1f70793",
   "metadata": {},
   "outputs": [],
   "source": [
    "# Load protein and water force field parameters\n",
    "omm_forcefield = openmm.app.ForceField(\"amber99sb.xml\", \"tip3p.xml\")\n",
    "# The TemplateGenerator caters for the missing parameters caused by the ligand molecule\n",
    "smirnoff = SMIRNOFFTemplateGenerator(forcefield=\"openff-2.0.0.offxml\", molecules=[ligand])\n",
    "omm_forcefield.registerTemplateGenerator(smirnoff.generator)"
   ]
  },
  {
   "cell_type": "code",
   "execution_count": null,
   "id": "628798e0",
   "metadata": {},
   "outputs": [],
   "source": [
    "# Combine structures and solvate\n",
    "modeller = openmm.app.Modeller(protein.topology, protein.positions)\n",
    "modeller.add(ligand.to_topology().to_openmm(), ligand.conformers[0])\n",
    "\n",
    "# solvate it in 0.15 M NaCl solution\n",
    "modeller.addSolvent(\n",
    "    omm_forcefield,\n",
    "    model=\"tip3p\",\n",
    "    padding=4.0 * openmm.unit.angstrom,  # 4.0 not enough, but works quickly\n",
    "    ionicStrength=0.15 * openmm.unit.molar,\n",
    ")"
   ]
  },
  {
   "cell_type": "code",
   "execution_count": null,
   "id": "2a824d39",
   "metadata": {},
   "outputs": [],
   "source": [
    "system = omm_forcefield.createSystem(\n",
    "    modeller.getTopology(),\n",
    "    nonbondedMethod=openmm.app.PME,\n",
    "    nonbondedCutoff=9 * openmm.unit.angstrom,\n",
    "    constraints=openmm.app.HBonds,\n",
    "    rigidWater=True,\n",
    ")"
   ]
  },
  {
   "cell_type": "code",
   "execution_count": null,
   "id": "96ef01a5",
   "metadata": {},
   "outputs": [],
   "source": [
    "# Create a Simulation from our newly prepared System\n",
    "# Construct and configure a Langevin integrator at 300 K with an appropriate friction constant and time-step\n",
    "integrator = openmm.LangevinIntegrator(\n",
    "    300 * openmm.unit.kelvin, 1 / openmm.unit.picosecond, 0.002 * openmm.unit.picoseconds\n",
    ")\n",
    "\n",
    "# Combine the topology, system, integrator and initial positions into a simulation\n",
    "simulation = openmm.app.Simulation(modeller.getTopology(), system, integrator)\n",
    "simulation.context.setPositions(modeller.getPositions())"
   ]
  }
 ],
 "metadata": {
  "kernelspec": {
   "display_name": "Python 3 (ipykernel)",
   "language": "python",
   "name": "python3"
  },
  "language_info": {
   "codemirror_mode": {
    "name": "ipython",
    "version": 3
   },
   "file_extension": ".py",
   "mimetype": "text/x-python",
   "name": "python",
   "nbconvert_exporter": "python",
   "pygments_lexer": "ipython3",
   "version": "3.8.12"
  }
 },
 "nbformat": 4,
 "nbformat_minor": 5
}
