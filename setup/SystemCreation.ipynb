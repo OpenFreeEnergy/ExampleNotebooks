{
 "cells": [
  {
   "cell_type": "markdown",
   "id": "f48f4932",
   "metadata": {},
   "source": [
    "This notebook demonstrates preparing a ligand-protein system for OpenMM using the OpenFF Sage forcefield for the ligand and Amber99SB for the protein. \n",
    "\n",
    "This is a stripped down version of the \"tookit_showcase\" from OpenFF Toolkit."
   ]
  },
  {
   "cell_type": "code",
   "execution_count": 1,
   "id": "4abde019",
   "metadata": {},
   "outputs": [],
   "source": [
    "import openmm.app\n",
    "import openmm\n",
    "from openmmforcefields.generators import SMIRNOFFTemplateGenerator\n",
    "\n",
    "from openff.toolkit.topology import Molecule\n",
    "from openff.units.openmm import ensure_quantity"
   ]
  },
  {
   "cell_type": "code",
   "execution_count": 2,
   "id": "f2a4464e",
   "metadata": {},
   "outputs": [],
   "source": [
    "# load both the Protein and Ligand structures\n",
    "# OpenMM is used to correctly interpret the protein structure\n",
    "# OpenFF is used for the ligand to prepare for the upcoming forcefield parametrisation\n",
    "\n",
    "protein = openmm.app.PDBFile('molecules/3l9h_prepared.pdb')\n",
    "ligand = Molecule('molecules/chembl_1078774.sdf')"
   ]
  },
  {
   "cell_type": "code",
   "execution_count": 3,
   "id": "c1f70793",
   "metadata": {},
   "outputs": [],
   "source": [
    "# Load protein and water force field parameters\n",
    "omm_forcefield = openmm.app.ForceField(\"amber99sb.xml\", \"tip3p.xml\")\n",
    "# The TemplateGenerator caters for the missing parameters caused by the ligand molecule\n",
    "smirnoff = SMIRNOFFTemplateGenerator(forcefield=\"openff-2.0.0.offxml\", molecules=[ligand])\n",
    "omm_forcefield.registerTemplateGenerator(smirnoff.generator)"
   ]
  },
  {
   "cell_type": "code",
   "execution_count": 4,
   "id": "c24016c8",
   "metadata": {},
   "outputs": [
    {
     "data": {
      "text/plain": [
       "[array([[ 12.81459999,   0.80800003,   0.0689    ],\n",
       "        [ 11.91940022,  -0.14740001,  -0.75419998],\n",
       "        [ 10.46850014,   0.366     ,  -0.77810001],\n",
       "        [ 12.47529984,  -0.2208    ,  -2.17810011],\n",
       "        [ 11.88860035,  -1.579     ,  -0.1851    ],\n",
       "        [ 10.85159969,  -2.45409989,  -0.54689997],\n",
       "        [ 10.79469967,  -3.74349999,  -0.055     ],\n",
       "        [ 11.81169987,  -4.20359993,   0.76440001],\n",
       "        [ 12.88070011,  -3.36919999,   1.1329    ],\n",
       "        [ 12.88199997,  -2.0552001 ,   0.67629999],\n",
       "        [ 14.02859974,  -3.87409997,   1.98640001],\n",
       "        [ 13.80760002,  -3.44849992,   3.33260012],\n",
       "        [ 14.87580013,  -3.7894001 ,   4.21649981],\n",
       "        [ 15.07149982,  -5.31809998,   4.25670004],\n",
       "        [ 15.23139954,  -5.90089989,   2.84360003],\n",
       "        [ 14.11810017,  -5.40789986,   1.8901    ],\n",
       "        [ 12.71850014,  -6.04879999,   2.12649989],\n",
       "        [ 12.76119995,  -7.5479002 ,   2.03509998],\n",
       "        [ 13.24530029,  -8.18929958,   0.8854    ],\n",
       "        [ 13.32120037,  -9.57759953,   0.82969999],\n",
       "        [ 12.92739964, -10.31200027,   1.94770002],\n",
       "        [ 12.97550011, -11.66499996,   2.09100008],\n",
       "        [ 12.43039989,  -9.66860008,   3.04439998],\n",
       "        [ 12.05770016, -10.44390011,   4.06949997],\n",
       "        [ 12.32260036,  -8.30210018,   3.12100005],\n",
       "        [ 11.74339962,  -5.53609991,   1.17820001],\n",
       "        [ 12.53250027,   0.88330001,   1.11500001],\n",
       "        [ 12.86839962,   1.81690001,  -0.3389    ],\n",
       "        [ 13.81429958,   0.41060001,   0.0939    ],\n",
       "        [ 10.13119984,   0.32910001,   0.2282    ],\n",
       "        [  9.78540039,  -0.19939999,  -1.39839995],\n",
       "        [ 10.29360008,   1.36450005,  -1.13310003],\n",
       "        [ 13.47259998,  -0.65890002,  -2.22469997],\n",
       "        [ 12.52509975,   0.73290002,  -2.6947999 ],\n",
       "        [ 11.78849983,  -0.8617    ,  -2.70530009],\n",
       "        [ 10.05770016,  -2.16400003,  -1.21179998],\n",
       "        [  9.96360016,  -4.37650013,  -0.32870001],\n",
       "        [ 13.71100044,  -1.43970001,   0.98470002],\n",
       "        [ 14.95680046,  -3.43969989,   1.60819995],\n",
       "        [ 15.79819965,  -3.31590009,   3.87330008],\n",
       "        [ 14.66450024,  -3.39910007,   5.2118001 ],\n",
       "        [ 15.94480038,  -5.56930017,   4.85820007],\n",
       "        [ 14.21319962,  -5.77799988,   4.74779987],\n",
       "        [ 16.20000076,  -5.6072998 ,   2.43330002],\n",
       "        [ 15.25450039,  -6.98859978,   2.89639997],\n",
       "        [ 14.43599987,  -5.62919998,   0.87050003],\n",
       "        [ 12.36260033,  -5.78329992,   3.12590003],\n",
       "        [ 13.56330013,  -7.58650017,   0.0421    ],\n",
       "        [ 13.69449997, -10.04459953,  -0.0712    ],\n",
       "        [ 13.16170025, -12.20320034,   1.31040001],\n",
       "        [ 11.93050003,  -7.84789991,   4.01690006],\n",
       "        [ 10.88700008,  -6.06949997,   1.10500002]]) <Unit('angstrom')>]"
      ]
     },
     "execution_count": 4,
     "metadata": {},
     "output_type": "execute_result"
    }
   ],
   "source": [
    "ligand.conformers"
   ]
  },
  {
   "cell_type": "code",
   "execution_count": 5,
   "id": "628798e0",
   "metadata": {},
   "outputs": [
    {
     "name": "stderr",
     "output_type": "stream",
     "text": [
      "Warning: Cannot perform Hydrogen sampling with GPU-Omega: GPU-Omega disabled.\n"
     ]
    }
   ],
   "source": [
    "# Combine structures and solvate\n",
    "modeller = openmm.app.Modeller(protein.topology, protein.positions)\n",
    "modeller.add(ligand.to_topology().to_openmm(),\n",
    "             ensure_quantity(ligand.conformers[0], 'openmm'))\n",
    "\n",
    "# solvate it in 0.15 M NaCl solution\n",
    "modeller.addSolvent(\n",
    "    omm_forcefield,\n",
    "    model=\"tip3p\",\n",
    "    padding=4.0 * openmm.unit.angstrom,  # 4.0 not enough, but works quickly\n",
    "    ionicStrength=0.15 * openmm.unit.molar,\n",
    ")"
   ]
  },
  {
   "cell_type": "code",
   "execution_count": 6,
   "id": "2a824d39",
   "metadata": {},
   "outputs": [],
   "source": [
    "system = omm_forcefield.createSystem(\n",
    "    modeller.getTopology(),\n",
    "    nonbondedMethod=openmm.app.PME,\n",
    "    nonbondedCutoff=9 * openmm.unit.angstrom,\n",
    "    constraints=openmm.app.HBonds,\n",
    "    rigidWater=True,\n",
    ")"
   ]
  },
  {
   "cell_type": "code",
   "execution_count": 7,
   "id": "96ef01a5",
   "metadata": {},
   "outputs": [],
   "source": [
    "# Create a Simulation from our newly prepared System\n",
    "# Construct and configure a Langevin integrator at 300 K with an appropriate friction constant and time-step\n",
    "integrator = openmm.LangevinIntegrator(\n",
    "    300 * openmm.unit.kelvin, 1 / openmm.unit.picosecond, 0.002 * openmm.unit.picoseconds\n",
    ")\n",
    "\n",
    "# Combine the topology, system, integrator and initial positions into a simulation\n",
    "simulation = openmm.app.Simulation(modeller.getTopology(), system, integrator)\n",
    "simulation.context.setPositions(modeller.getPositions())"
   ]
  }
 ],
 "metadata": {
  "kernelspec": {
   "display_name": "Python 3 (ipykernel)",
   "language": "python",
   "name": "python3"
  },
  "language_info": {
   "codemirror_mode": {
    "name": "ipython",
    "version": 3
   },
   "file_extension": ".py",
   "mimetype": "text/x-python",
   "name": "python",
   "nbconvert_exporter": "python",
   "pygments_lexer": "ipython3",
   "version": "3.9.12"
  }
 },
 "nbformat": 4,
 "nbformat_minor": 5
}
