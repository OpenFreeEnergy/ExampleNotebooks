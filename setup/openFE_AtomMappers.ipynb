{
 "cells": [
  {
   "cell_type": "markdown",
   "id": "c9ad0971-cfc0-4ee3-8b26-12c0aab052c3",
   "metadata": {},
   "source": [
    "# openFE Atom Mappers\n",
    "\n",
    "## Build test data:\n",
    "Initially start with some example data"
   ]
  },
  {
   "cell_type": "code",
   "execution_count": 1,
   "id": "5741762f-4200-4c20-898e-86535edcc70f",
   "metadata": {},
   "outputs": [
    {
     "name": "stderr",
     "output_type": "stream",
     "text": [
      "/home/riesbenj/Programs/miniconda3/envs/openfe/lib/python3.9/site-packages/numpy/core/getlimits.py:499: UserWarning: The value of the smallest subnormal for <class 'numpy.float64'> type is zero.\n",
      "  setattr(self, word, getattr(machar, word).flat[0])\n",
      "/home/riesbenj/Programs/miniconda3/envs/openfe/lib/python3.9/site-packages/numpy/core/getlimits.py:89: UserWarning: The value of the smallest subnormal for <class 'numpy.float64'> type is zero.\n",
      "  return self._float_to_str(self.smallest_subnormal)\n",
      "/home/riesbenj/Programs/miniconda3/envs/openfe/lib/python3.9/site-packages/numpy/core/getlimits.py:499: UserWarning: The value of the smallest subnormal for <class 'numpy.float32'> type is zero.\n",
      "  setattr(self, word, getattr(machar, word).flat[0])\n",
      "/home/riesbenj/Programs/miniconda3/envs/openfe/lib/python3.9/site-packages/numpy/core/getlimits.py:89: UserWarning: The value of the smallest subnormal for <class 'numpy.float32'> type is zero.\n",
      "  return self._float_to_str(self.smallest_subnormal)\n",
      "WARNING:root:Warning: importing 'simtk.openmm' is deprecated.  Import 'openmm' instead.\n"
     ]
    },
    {
     "data": {
      "text/plain": [
       "(SmallMoleculeComponent(name=toluene), SmallMoleculeComponent(name=catechol))"
      ]
     },
     "execution_count": 1,
     "metadata": {},
     "output_type": "execute_result"
    }
   ],
   "source": [
    "import openfe\n",
    "from openff.toolkit.topology import Molecule\n",
    "\n",
    "# First, create some molecules to work with\n",
    "benzene = Molecule.from_smiles('c1ccccc1')\n",
    "benzene.name = 'benzene'\n",
    "toluene = Molecule.from_smiles('c1ccccc1C')\n",
    "toluene.name = \"toluene\"\n",
    "phenol = Molecule.from_smiles('c1ccccc1O')\n",
    "phenol.name = 'phenol'\n",
    "catechol = Molecule.from_smiles('c1cccc(O)c1O')\n",
    "catechol.name = 'catechol'\n",
    "nitrobenzene = Molecule.from_smiles('C1=CC=C(C=C1)[N+](=O)[O-]')\n",
    "nitrobenzene.name = 'nitrobenzene'\n",
    "cyclohexane = Molecule.from_smiles('C1CCCCC1')\n",
    "cyclohexane.name = 'cyclohexane'\n",
    "\n",
    "mols = [benzene, toluene, phenol, catechol, nitrobenzene, cyclohexane]\n",
    "[x.generate_conformers() for x in mols]\n",
    "mols = list(map(lambda x: openfe.setup.SmallMoleculeComponent.from_openff(x, x.name), mols))\n",
    "\n",
    "molA = mols[1]\n",
    "molB = mols[3]\n",
    "\n",
    "molA, molB"
   ]
  },
  {
   "cell_type": "markdown",
   "id": "ae7c9bc1-3b8e-4943-a046-18fbb35ed6de",
   "metadata": {
    "tags": []
   },
   "source": [
    "# Atom Mappers\n",
    "## Lomap Mapper"
   ]
  },
  {
   "cell_type": "code",
   "execution_count": 2,
   "id": "8725e4e4-8dd4-4aa9-befc-f1d1c1e95646",
   "metadata": {},
   "outputs": [
    {
     "ename": "TypeError",
     "evalue": "__init__() got an unexpected keyword argument 'element_change'",
     "output_type": "error",
     "traceback": [
      "\u001b[0;31m---------------------------------------------------------------------------\u001b[0m",
      "\u001b[0;31mTypeError\u001b[0m                                 Traceback (most recent call last)",
      "Input \u001b[0;32mIn [2]\u001b[0m, in \u001b[0;36m<cell line: 7>\u001b[0;34m()\u001b[0m\n\u001b[1;32m      2\u001b[0m lomap_mapper \u001b[38;5;241m=\u001b[39m openfe\u001b[38;5;241m.\u001b[39msetup\u001b[38;5;241m.\u001b[39mLomapAtomMapper()\n\u001b[1;32m      5\u001b[0m \u001b[38;5;66;03m# mappers can return an *iterable* of mappings,\u001b[39;00m\n\u001b[1;32m      6\u001b[0m \u001b[38;5;66;03m# for our case just grab the first with `next()`\u001b[39;00m\n\u001b[0;32m----> 7\u001b[0m lomap_mapping \u001b[38;5;241m=\u001b[39m \u001b[38;5;28;43mnext\u001b[39;49m\u001b[43m(\u001b[49m\u001b[43mlomap_mapper\u001b[49m\u001b[38;5;241;43m.\u001b[39;49m\u001b[43msuggest_mappings\u001b[49m\u001b[43m(\u001b[49m\u001b[43mmolA\u001b[49m\u001b[43m,\u001b[49m\u001b[43m \u001b[49m\u001b[43mmolB\u001b[49m\u001b[43m)\u001b[49m\u001b[43m)\u001b[49m\n\u001b[1;32m      9\u001b[0m \u001b[38;5;66;03m#perses_scorer = openfe.setup.atom_mapping.perses_scorers.default_perses_scorer\u001b[39;00m\n\u001b[1;32m     10\u001b[0m lomap_scorer \u001b[38;5;241m=\u001b[39m openfe\u001b[38;5;241m.\u001b[39msetup\u001b[38;5;241m.\u001b[39mlomap_scorers\u001b[38;5;241m.\u001b[39mdefault_lomap_score\n",
      "File \u001b[0;32m~/Code/OpenFE/openfe/openfe/setup/atom_mapping/ligandatommapper.py:62\u001b[0m, in \u001b[0;36mLigandAtomMapper.suggest_mappings\u001b[0;34m(self, molA, molB)\u001b[0m\n\u001b[1;32m     44\u001b[0m \u001b[38;5;124;03m\"\"\"\u001b[39;00m\n\u001b[1;32m     45\u001b[0m \u001b[38;5;124;03mSuggest :class:`.LigandAtomMapping` options for the input molecules.\u001b[39;00m\n\u001b[1;32m     46\u001b[0m \n\u001b[0;32m   (...)\u001b[0m\n\u001b[1;32m     55\u001b[0m \u001b[38;5;124;03m    an iterable over proposed mappings\u001b[39;00m\n\u001b[1;32m     56\u001b[0m \u001b[38;5;124;03m\"\"\"\u001b[39;00m\n\u001b[1;32m     57\u001b[0m \u001b[38;5;66;03m# For this base class, implementation is redundant with\u001b[39;00m\n\u001b[1;32m     58\u001b[0m \u001b[38;5;66;03m# _mappings_generator. However, we keep it separate so that abstract\u001b[39;00m\n\u001b[1;32m     59\u001b[0m \u001b[38;5;66;03m# subclasses of this can customize suggest_mappings while always\u001b[39;00m\n\u001b[1;32m     60\u001b[0m \u001b[38;5;66;03m# maintaining the consistency that concrete implementations must\u001b[39;00m\n\u001b[1;32m     61\u001b[0m \u001b[38;5;66;03m# implement _mappings_generator.\u001b[39;00m\n\u001b[0;32m---> 62\u001b[0m \u001b[38;5;28;01mfor\u001b[39;00m map_dct \u001b[38;5;129;01min\u001b[39;00m \u001b[38;5;28mself\u001b[39m\u001b[38;5;241m.\u001b[39m_mappings_generator(molA, molB):\n\u001b[1;32m     63\u001b[0m     \u001b[38;5;28;01myield\u001b[39;00m LigandAtomMapping(molA, molB, map_dct)\n",
      "File \u001b[0;32m~/Code/OpenFE/openfe/openfe/setup/atom_mapping/lomap_mapper.py:46\u001b[0m, in \u001b[0;36mLomapAtomMapper._mappings_generator\u001b[0;34m(self, molA, molB)\u001b[0m\n\u001b[1;32m     44\u001b[0m \u001b[38;5;28;01mdef\u001b[39;00m \u001b[38;5;21m_mappings_generator\u001b[39m(\u001b[38;5;28mself\u001b[39m, molA, molB):\n\u001b[1;32m     45\u001b[0m     \u001b[38;5;28;01mtry\u001b[39;00m:\n\u001b[0;32m---> 46\u001b[0m         mcs \u001b[38;5;241m=\u001b[39m \u001b[43mlomap_mcs\u001b[49m\u001b[38;5;241;43m.\u001b[39;49m\u001b[43mMCS\u001b[49m\u001b[43m(\u001b[49m\u001b[43mmolA\u001b[49m\u001b[38;5;241;43m.\u001b[39;49m\u001b[43mto_rdkit\u001b[49m\u001b[43m(\u001b[49m\u001b[43m)\u001b[49m\u001b[43m,\u001b[49m\u001b[43m \u001b[49m\u001b[43mmolB\u001b[49m\u001b[38;5;241;43m.\u001b[39;49m\u001b[43mto_rdkit\u001b[49m\u001b[43m(\u001b[49m\u001b[43m)\u001b[49m\u001b[43m,\u001b[49m\n\u001b[1;32m     47\u001b[0m \u001b[43m                            \u001b[49m\u001b[43mtime\u001b[49m\u001b[38;5;241;43m=\u001b[39;49m\u001b[38;5;28;43mself\u001b[39;49m\u001b[38;5;241;43m.\u001b[39;49m\u001b[43mtime\u001b[49m\u001b[43m,\u001b[49m\n\u001b[1;32m     48\u001b[0m \u001b[43m                            \u001b[49m\u001b[43mthreed\u001b[49m\u001b[38;5;241;43m=\u001b[39;49m\u001b[38;5;28;43mself\u001b[39;49m\u001b[38;5;241;43m.\u001b[39;49m\u001b[43mthreed\u001b[49m\u001b[43m,\u001b[49m\u001b[43m \u001b[49m\u001b[43mmax3d\u001b[49m\u001b[38;5;241;43m=\u001b[39;49m\u001b[38;5;28;43mself\u001b[39;49m\u001b[38;5;241;43m.\u001b[39;49m\u001b[43mmax3d\u001b[49m\u001b[43m,\u001b[49m\n\u001b[1;32m     49\u001b[0m \u001b[43m                            \u001b[49m\u001b[43melement_change\u001b[49m\u001b[38;5;241;43m=\u001b[39;49m\u001b[38;5;28;43mself\u001b[39;49m\u001b[38;5;241;43m.\u001b[39;49m\u001b[43melement_change\u001b[49m\u001b[43m)\u001b[49m\n\u001b[1;32m     50\u001b[0m     \u001b[38;5;28;01mexcept\u001b[39;00m \u001b[38;5;167;01mValueError\u001b[39;00m:\n\u001b[1;32m     51\u001b[0m         \u001b[38;5;66;03m# if no match found, Lomap throws ValueError, so we just yield\u001b[39;00m\n\u001b[1;32m     52\u001b[0m         \u001b[38;5;66;03m# generator with no contents\u001b[39;00m\n\u001b[1;32m     53\u001b[0m         \u001b[38;5;28;01mreturn\u001b[39;00m\n",
      "\u001b[0;31mTypeError\u001b[0m: __init__() got an unexpected keyword argument 'element_change'"
     ]
    }
   ],
   "source": [
    "# LomapAtomMapper wraps the lomap.mcs.MCS object\n",
    "lomap_mapper = openfe.setup.LomapAtomMapper()\n",
    "\n",
    "        \n",
    "# mappers can return an *iterable* of mappings,\n",
    "# for our case just grab the first with `next()`\n",
    "lomap_mapping = next(lomap_mapper.suggest_mappings(molA, molB))\n",
    "\n",
    "#perses_scorer = openfe.setup.atom_mapping.perses_scorers.default_perses_scorer\n",
    "lomap_scorer = openfe.setup.lomap_scorers.default_lomap_score\n",
    "print(f\"Lomap-Score is {lomap_scorer(lomap_mapping)}\")\n",
    "#print(f\"Perses-Score is {perses_scorer(lomap_mapping)}\")\n",
    "\n",
    "lomap_mapping"
   ]
  },
  {
   "cell_type": "code",
   "execution_count": null,
   "id": "6df1ae47-0e89-459b-8e6d-b7e6717d85f6",
   "metadata": {},
   "outputs": [],
   "source": [
    "#Let s align a ton of molecueles :) \n",
    "# LomapAtomMapper wraps the lomap.mcs.MCS object\n",
    "lomap_mapper = openfe.setup.LomapAtomMapper()\n",
    "\n",
    "for molA in mols:\n",
    "    for molB in mols:        \n",
    "        if molA == molB:\n",
    "            continue\n",
    "        # mappers can return an *iterable* of mappings,\n",
    "        # for our case just grab the first with `next()`\n",
    "        lomap_mapping = next(lomap_mapper.suggest_mappings(molA, molB))\n",
    "\n",
    "        #perses_scorer = openfe.setup.atom_mapping.perses_scorers.default_perses_scorer\n",
    "        lomap_scorer = openfe.setup.lomap_scorers.default_lomap_score\n",
    "        print(f\"Lomap-Score is {lomap_scorer(lomap_mapping)}\")\n",
    "        #print(f\"Perses-Score is {perses_scorer(lomap_mapping)}\")\n",
    "\n",
    "        display(lomap_mapping)"
   ]
  },
  {
   "cell_type": "code",
   "execution_count": null,
   "id": "2f86e554-28d1-4f7e-b0e6-1e45905e81b2",
   "metadata": {},
   "outputs": [],
   "source": [
    "vars(lomap_mapping)(just a cursory review for now)(just a cursory review for now)"
   ]
  },
  {
   "cell_type": "markdown",
   "id": "24030a1a-68e3-4723-92c6-bd16cfdc237e",
   "metadata": {},
   "source": [
    "## Perses Mapper"
   ]
  },
  {
   "cell_type": "code",
   "execution_count": null,
   "id": "0af3a289-7710-4c9a-aade-cebc196bbd75",
   "metadata": {},
   "outputs": [],
   "source": [
    "# LomapAtomMapper wraps the lomap.mcs.MCS object\n",
    "perses_mapper = openfe.setup.atom_mapping.PersesAtomMapper()\n",
    "#perses_scorer = openfe.setup.PersesScorer\n",
    "\n",
    "# mappers can return an *iterable* of mappings,\n",
    "# for our case just grab the first with `next()`\n",
    "perses_mapping = next(perses_mapper.suggest_mappings(molA, molB))\n",
    "\n",
    "perses_scorer = openfe.setup.atom_mapping.perses_scorers.default_perses_scorer\n",
    "lomap_scorer = openfe.setup.atom_mapping.lomap_scorers.default_lomap_score\n",
    "print(f\"Lomap-Score is {lomap_scorer(perses_mapping)}\")\n",
    "print(f\"Perses-Score is {perses_scorer(perses_mapping)}\")\n",
    "\n",
    "perses_mapping"
   ]
  },
  {
   "cell_type": "markdown",
   "id": "f7a0827d-9a6b-4473-b6a4-dce176440282",
   "metadata": {},
   "source": [
    "## The Rdkit - Gowers Variant"
   ]
  },
  {
   "cell_type": "code",
   "execution_count": 5,
   "id": "a0f6cf8f-80a0-4101-ac2e-adf949cd3cf9",
   "metadata": {},
   "outputs": [
    {
     "name": "stdout",
     "output_type": "stream",
     "text": [
      "Lomap-Score is 0.1392920235749422\n",
      "Perses-Score is 0.9404761904761905\n"
     ]
    },
    {
     "data": {
      "image/png": "[encoded data removed]",
      "text/plain": [
       "<IPython.core.display.Image object>"
      ]
     },
     "metadata": {},
     "output_type": "display_data"
    }
   ],
   "source": [
    "# LomapAtomMapper wraps the lomap.mcs.MCS object\n",
    "rdfmcs_mapper = openfe.setup.atom_mapping.RDFMCSMapper()\n",
    "\n",
    "# mappers can return an *iterable* of mappings,\n",
    "# for our case just grab the first with `next()`\n",
    "rdfmcs_mapping = next(rdfmcs_mapper.suggest_mappings(molA, molB))\n",
    "\n",
    "perses_scorer = openfe.setup.atom_mapping.perses_scorers.default_perses_scorer\n",
    "lomap_scorer = openfe.setup.atom_mapping.lomap_scorers.default_lomap_score\n",
    "print(f\"Lomap-Score is {lomap_scorer(rdfmcs_mapping)}\")\n",
    "print(f\"Perses-Score is {perses_scorer(rdfmcs_mapping)}\")\n",
    "\n",
    "rdfmcs_mapping"
   ]
  },
  {
   "cell_type": "code",
   "execution_count": null,
   "id": "2d49f60a-4db8-4f6a-a7ff-eb5dbe3242c4",
   "metadata": {},
   "outputs": [],
   "source": []
  },
  {
   "cell_type": "code",
   "execution_count": null,
   "id": "f4c538e9-97cc-4f67-b201-a7b483f52197",
   "metadata": {},
   "outputs": [],
   "source": []
  },
  {
   "cell_type": "markdown",
   "id": "d451dad9-1c8c-4aa3-b273-fd3e9c3258fd",
   "metadata": {},
   "source": [
    "# Use of Atom Mappers as iterables"
   ]
  },
  {
   "cell_type": "code",
   "execution_count": null,
   "id": "514e0c0d-7ac7-4978-9483-b3f86e6761d6",
   "metadata": {},
   "outputs": [],
   "source": [
    "#Get multiple mappings\n",
    "from IPython.display import display\n",
    "\n",
    "perses_scorer = openfe.setup.atom_mapping.perses_scorers.default_perses_scorer\n",
    "lomap_scorer = openfe.setup.atom_mapping.lomap_scorers.default_lomap_score\n",
    "\n",
    "for x in perses_mapper.suggest_mappings(molA, molB):\n",
    "    display(x)\n",
    "\n",
    "    print(f\"Lomap-Score is {lomap_scorer(x)}\")\n",
    "    print(f\"Perses-Score is {perses_scorer(x, use_positions=True, normalize=False)}\")"
   ]
  },
  {
   "cell_type": "code",
   "execution_count": null,
   "id": "bac2fd4c-f313-419a-bbeb-97add1842070",
   "metadata": {},
   "outputs": [],
   "source": [
    "def lomap_basic_test_files_dir():\n",
    "    # for lomap, which wants the files in a directory\n",
    "    lomap_files = 'lomap_files' # tmpdir_factory.mktemp('lomap_files')\n",
    "    lomap_basic = 'openfe.tests.data.lomap_basic'\n",
    "\n",
    "    for f in importlib.resources.contents(lomap_basic):\n",
    "        if not f.endswith('mol2'):\n",
    "            continue\n",
    "        stuff = importlib.resources.read_binary(lomap_basic, f)\n",
    "\n",
    "        with open(str(lomap_files.join(f)), 'wb') as fout:\n",
    "            fout.write(stuff)\n",
    "\n",
    "    yield str(lomap_files)\n"
   ]
  },
  {
   "cell_type": "code",
   "execution_count": null,
   "id": "ca4a5c10-6785-4259-b7ab-e5c0dbbba103",
   "metadata": {},
   "outputs": [],
   "source": [
    "lomap_basic_test_files_dirs = lomap_basic_test_files_dir()"
   ]
  },
  {
   "cell_type": "code",
   "execution_count": null,
   "id": "5102b9bb-aea5-489f-b0f9-c8930c1d7ac5",
   "metadata": {},
   "outputs": [],
   "source": [
    "import importlib\n",
    "import string\n",
    "import pytest\n",
    "from importlib import resources\n",
    "from rdkit import Chem\n",
    "from openmm.app import PDBFile\n",
    "from gufe.smallmoleculecomponent import SmallMoleculeComponent\n",
    "\n",
    "def atom_mapping_basic_test_files():\n",
    "    # a dict of {filenames.strip(mol2): SmallMoleculeComponent} for a simple\n",
    "    # set of ligands\n",
    "    files = {}\n",
    "    for f in [\n",
    "        '1,3,7-trimethylnaphthalene',\n",
    "        '1-butyl-4-methylbenzene',\n",
    "        '2,6-dimethylnaphthalene',\n",
    "        '2-methyl-6-propylnaphthalene',\n",
    "        '2-methylnaphthalene',\n",
    "        '2-naftanol',\n",
    "        'methylcyclohexane',\n",
    "        'toluene']:\n",
    "        with importlib.resources.path('openfe.tests.data.lomap_basic',\n",
    "                                      f + '.mol2') as fn:\n",
    "            mol = Chem.MolFromMol2File(str(fn), removeHs=False)\n",
    "            files[f] = SmallMoleculeComponent(mol, name=f)\n",
    "\n",
    "    return files\n",
    "\n"
   ]
  },
  {
   "cell_type": "code",
   "execution_count": null,
   "id": "83201faa-d88f-47ca-aff1-19dddc3702cf",
   "metadata": {},
   "outputs": [],
   "source": [
    "mols = atom_mapping_basic_test_files()"
   ]
  },
  {
   "cell_type": "code",
   "execution_count": null,
   "id": "d7ccce4a-8b9b-4a28-8294-c74c4dd545a5",
   "metadata": {
    "tags": []
   },
   "outputs": [],
   "source": [
    "from lomap import mcs as lomap_mcs\n",
    "\n",
    "dbmols = lomap.DBMolecules('/home/riesbenj/Code/OpenFE/openfe/openfe/tests/data/lomap_basic')\n",
    "_,_ =dbmols.build_matrices()"
   ]
  },
  {
   "cell_type": "code",
   "execution_count": null,
   "id": "9915875d-ea7d-4682-b01c-ea7d20d1c6a8",
   "metadata": {},
   "outputs": [],
   "source": []
  },
  {
   "cell_type": "code",
   "execution_count": null,
   "id": "f25406cd-f7de-403e-93b2-2be34aebe33e",
   "metadata": {},
   "outputs": [],
   "source": [
    "a = {1:2, 2:3}"
   ]
  },
  {
   "cell_type": "code",
   "execution_count": null,
   "id": "11234bf7-a585-4b55-9e9a-9b3651f8d98b",
   "metadata": {},
   "outputs": [],
   "source": [
    "dbmols.mcs_map_store\n"
   ]
  },
  {
   "cell_type": "code",
   "execution_count": null,
   "id": "78615633-8ef0-49db-84f7-39158fcd3083",
   "metadata": {},
   "outputs": [],
   "source": [
    "dbmols.nums()"
   ]
  },
  {
   "cell_type": "code",
   "execution_count": null,
   "id": "1fd9d793-33dc-4606-9e34-c18d3a61bfcf",
   "metadata": {},
   "outputs": [],
   "source": [
    "import numpy as np"
   ]
  },
  {
   "cell_type": "code",
   "execution_count": null,
   "id": "678e66d1-29dd-4c34-b0bf-34acc0474b50",
   "metadata": {},
   "outputs": [],
   "source": [
    "np.sqrt(28)"
   ]
  },
  {
   "cell_type": "code",
   "execution_count": null,
   "id": "1aa12ff7-4572-48ee-b6ac-a38d28a2a13c",
   "metadata": {},
   "outputs": [],
   "source": [
    "np.max(list(dbmols.mcs_map_store.keys()))"
   ]
  },
  {
   "cell_type": "code",
   "execution_count": null,
   "id": "343411ed-3002-4ab7-9fd8-82cc46d77a18",
   "metadata": {},
   "outputs": [],
   "source": []
  },
  {
   "cell_type": "code",
   "execution_count": null,
   "id": "8db62890-526b-4dff-99c8-86b4c1762e53",
   "metadata": {},
   "outputs": [],
   "source": [
    "##"
   ]
  }
 ],
 "metadata": {
  "kernelspec": {
   "display_name": "Python openFE",
   "language": "python",
   "name": "openfe"
  },
  "language_info": {
   "codemirror_mode": {
    "name": "ipython",
    "version": 3
   },
   "file_extension": ".py",
   "mimetype": "text/x-python",
   "name": "python",
   "nbconvert_exporter": "python",
   "pygments_lexer": "ipython3",
   "version": "3.9.12"
  }
 },
 "nbformat": 4,
 "nbformat_minor": 5
}
