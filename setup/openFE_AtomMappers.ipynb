{
 "cells": [
  {
   "cell_type": "markdown",
   "id": "c9ad0971-cfc0-4ee3-8b26-12c0aab052c3",
   "metadata": {},
   "source": [
    "# openFE Atom Mappers\n",
    "\n",
    "## Build test data:\n",
    "Initially start with some example data"
   ]
  },
  {
   "cell_type": "code",
   "execution_count": null,
   "id": "5741762f-4200-4c20-898e-86535edcc70f",
   "metadata": {},
   "outputs": [],
   "source": [
    "import openfe\n",
    "from openff.toolkit.topology import Molecule\n",
    "\n",
    "# First, create some molecules to work with\n",
    "benzene = Molecule.from_smiles('c1ccccc1')\n",
    "benzene.name = 'benzene'\n",
    "toluene = Molecule.from_smiles('c1ccccc1C')\n",
    "toluene.name = \"toluene\"\n",
    "phenol = Molecule.from_smiles('c1ccccc1O')\n",
    "phenol.name = 'phenol'\n",
    "catechol = Molecule.from_smiles('c1cccc(O)c1O')\n",
    "catechol.name = 'catechol'\n",
    "nitrobenzene = Molecule.from_smiles('C1=CC=C(C=C1)[N+](=O)[O-]')\n",
    "nitrobenzene.name = 'nitrobenzene'\n",
    "cyclohexane = Molecule.from_smiles('C1CCCCC1')\n",
    "cyclohexane.name = 'cyclohexane'\n",
    "\n",
    "mols = [benzene, toluene, phenol, catechol, nitrobenzene, cyclohexane]\n",
    "[x.generate_conformers() for x in mols]\n",
    "mols = list(map(lambda x: openfe.setup.SmallMoleculeComponent.from_openff(x, x.name), mols))\n",
    "\n",
    "molA = mols[1]\n",
    "molB = mols[3]\n",
    "\n",
    "molA, molB"
   ]
  },
  {
   "cell_type": "markdown",
   "id": "ae7c9bc1-3b8e-4943-a046-18fbb35ed6de",
   "metadata": {
    "tags": []
   },
   "source": [
    "# Atom Mappers\n",
    "## Lomap Mapper"
   ]
  },
  {
   "cell_type": "code",
   "execution_count": null,
   "id": "8725e4e4-8dd4-4aa9-befc-f1d1c1e95646",
   "metadata": {},
   "outputs": [],
   "source": [
    "# LomapAtomMapper wraps the lomap.mcs.MCS object\n",
    "lomap_mapper = openfe.setup.LomapAtomMapper()\n",
    "\n",
    "        \n",
    "# mappers can return an *iterable* of mappings,\n",
    "# for our case just grab the first with `next()`\n",
    "lomap_mapping = next(lomap_mapper.suggest_mappings(molA, molB))\n",
    "\n",
    "#perses_scorer = openfe.setup.atom_mapping.perses_scorers.default_perses_scorer\n",
    "lomap_scorer = openfe.setup.lomap_scorers.default_lomap_score\n",
    "print(f\"Lomap-Score is {lomap_scorer(lomap_mapping)}\")\n",
    "#print(f\"Perses-Score is {perses_scorer(lomap_mapping)}\")\n",
    "\n",
    "lomap_mapping"
   ]
  },
  {
   "cell_type": "code",
   "execution_count": null,
   "id": "6df1ae47-0e89-459b-8e6d-b7e6717d85f6",
   "metadata": {},
   "outputs": [],
   "source": [
    "#Let s align a ton of molecueles :) \n",
    "# LomapAtomMapper wraps the lomap.mcs.MCS object\n",
    "lomap_mapper = openfe.setup.LomapAtomMapper()\n",
    "\n",
    "for molA in mols:\n",
    "    for molB in mols:        \n",
    "        if molA == molB:\n",
    "            continue\n",
    "        # mappers can return an *iterable* of mappings,\n",
    "        # for our case just grab the first with `next()`\n",
    "        lomap_mapping = next(lomap_mapper.suggest_mappings(molA, molB))\n",
    "\n",
    "        #perses_scorer = openfe.setup.atom_mapping.perses_scorers.default_perses_scorer\n",
    "        lomap_scorer = openfe.setup.lomap_scorers.default_lomap_score\n",
    "        print(f\"Lomap-Score is {lomap_scorer(lomap_mapping)}\")\n",
    "        #print(f\"Perses-Score is {perses_scorer(lomap_mapping)}\")\n",
    "\n",
    "        display(lomap_mapping)"
   ]
  },
  {
   "cell_type": "code",
   "execution_count": null,
   "id": "2f86e554-28d1-4f7e-b0e6-1e45905e81b2",
   "metadata": {},
   "outputs": [],
   "source": [
    "vars(lomap_mapping)(just a cursory review for now)(just a cursory review for now)"
   ]
  },
  {
   "cell_type": "markdown",
   "id": "24030a1a-68e3-4723-92c6-bd16cfdc237e",
   "metadata": {},
   "source": [
    "## Perses Mapper"
   ]
  },
  {
   "cell_type": "code",
   "execution_count": null,
   "id": "0af3a289-7710-4c9a-aade-cebc196bbd75",
   "metadata": {},
   "outputs": [],
   "source": [
    "# LomapAtomMapper wraps the lomap.mcs.MCS object\n",
    "perses_mapper = openfe.setup.atom_mapping.PersesAtomMapper()\n",
    "#perses_scorer = openfe.setup.PersesScorer\n",
    "\n",
    "# mappers can return an *iterable* of mappings,\n",
    "# for our case just grab the first with `next()`\n",
    "perses_mapping = next(perses_mapper.suggest_mappings(molA, molB))\n",
    "\n",
    "perses_scorer = openfe.setup.atom_mapping.perses_scorers.default_perses_scorer\n",
    "lomap_scorer = openfe.setup.atom_mapping.lomap_scorers.default_lomap_score\n",
    "print(f\"Lomap-Score is {lomap_scorer(perses_mapping)}\")\n",
    "print(f\"Perses-Score is {perses_scorer(perses_mapping)}\")\n",
    "\n",
    "perses_mapping"
   ]
  },
  {
   "cell_type": "markdown",
   "id": "f7a0827d-9a6b-4473-b6a4-dce176440282",
   "metadata": {},
   "source": [
    "## The Rdkit - Gowers Variant"
   ]
  },
  {
   "cell_type": "code",
   "execution_count": null,
   "id": "a0f6cf8f-80a0-4101-ac2e-adf949cd3cf9",
   "metadata": {},
   "outputs": [],
   "source": [
    "# LomapAtomMapper wraps the lomap.mcs.MCS object\n",
    "rdfmcs_mapper = openfe.setup.atom_mapping.RDFMCSMapper()\n",
    "\n",
    "# mappers can return an *iterable* of mappings,\n",
    "# for our case just grab the first with `next()`\n",
    "rdfmcs_mapping = next(rdfmcs_mapper.suggest_mappings(molA, molB))\n",
    "\n",
    "perses_scorer = openfe.setup.atom_mapping.perses_scorers.default_perses_scorer\n",
    "lomap_scorer = openfe.setup.atom_mapping.lomap_scorers.default_lomap_score\n",
    "print(f\"Lomap-Score is {lomap_scorer(rdfmcs_mapping)}\")\n",
    "print(f\"Perses-Score is {perses_scorer(rdfmcs_mapping)}\")\n",
    "\n",
    "rdfmcs_mapping"
   ]
  },
  {
   "cell_type": "code",
   "execution_count": null,
   "id": "2d49f60a-4db8-4f6a-a7ff-eb5dbe3242c4",
   "metadata": {},
   "outputs": [],
   "source": []
  },
  {
   "cell_type": "code",
   "execution_count": null,
   "id": "f4c538e9-97cc-4f67-b201-a7b483f52197",
   "metadata": {},
   "outputs": [],
   "source": []
  },
  {
   "cell_type": "markdown",
   "id": "d451dad9-1c8c-4aa3-b273-fd3e9c3258fd",
   "metadata": {},
   "source": [
    "# Use of Atom Mappers as iterables"
   ]
  },
  {
   "cell_type": "code",
   "execution_count": null,
   "id": "514e0c0d-7ac7-4978-9483-b3f86e6761d6",
   "metadata": {},
   "outputs": [],
   "source": [
    "#Get multiple mappings\n",
    "from IPython.display import display\n",
    "\n",
    "perses_scorer = openfe.setup.atom_mapping.perses_scorers.default_perses_scorer\n",
    "lomap_scorer = openfe.setup.atom_mapping.lomap_scorers.default_lomap_score\n",
    "\n",
    "for x in perses_mapper.suggest_mappings(molA, molB):\n",
    "    display(x)\n",
    "\n",
    "    print(f\"Lomap-Score is {lomap_scorer(x)}\")\n",
    "    print(f\"Perses-Score is {perses_scorer(x, use_positions=True, normalize=False)}\")"
   ]
  },
  {
   "cell_type": "code",
   "execution_count": null,
   "id": "bac2fd4c-f313-419a-bbeb-97add1842070",
   "metadata": {},
   "outputs": [],
   "source": [
    "def lomap_basic_test_files_dir():\n",
    "    # for lomap, which wants the files in a directory\n",
    "    lomap_files = 'lomap_files' # tmpdir_factory.mktemp('lomap_files')\n",
    "    lomap_basic = 'openfe.tests.data.lomap_basic'\n",
    "\n",
    "    for f in importlib.resources.contents(lomap_basic):\n",
    "        if not f.endswith('mol2'):\n",
    "            continue\n",
    "        stuff = importlib.resources.read_binary(lomap_basic, f)\n",
    "\n",
    "        with open(str(lomap_files.join(f)), 'wb') as fout:\n",
    "            fout.write(stuff)\n",
    "\n",
    "    yield str(lomap_files)\n"
   ]
  },
  {
   "cell_type": "code",
   "execution_count": null,
   "id": "ca4a5c10-6785-4259-b7ab-e5c0dbbba103",
   "metadata": {},
   "outputs": [],
   "source": [
    "lomap_basic_test_files_dirs = lomap_basic_test_files_dir()"
   ]
  },
  {
   "cell_type": "code",
   "execution_count": null,
   "id": "5102b9bb-aea5-489f-b0f9-c8930c1d7ac5",
   "metadata": {},
   "outputs": [],
   "source": [
    "import importlib\n",
    "import string\n",
    "import pytest\n",
    "from importlib import resources\n",
    "from rdkit import Chem\n",
    "from openmm.app import PDBFile\n",
    "from gufe.smallmoleculecomponent import SmallMoleculeComponent\n",
    "\n",
    "def atom_mapping_basic_test_files():\n",
    "    # a dict of {filenames.strip(mol2): SmallMoleculeComponent} for a simple\n",
    "    # set of ligands\n",
    "    files = {}\n",
    "    for f in [\n",
    "        '1,3,7-trimethylnaphthalene',\n",
    "        '1-butyl-4-methylbenzene',\n",
    "        '2,6-dimethylnaphthalene',\n",
    "        '2-methyl-6-propylnaphthalene',\n",
    "        '2-methylnaphthalene',\n",
    "        '2-naftanol',\n",
    "        'methylcyclohexane',\n",
    "        'toluene']:\n",
    "        with importlib.resources.path('openfe.tests.data.lomap_basic',\n",
    "                                      f + '.mol2') as fn:\n",
    "            mol = Chem.MolFromMol2File(str(fn), removeHs=False)\n",
    "            files[f] = SmallMoleculeComponent(mol, name=f)\n",
    "\n",
    "    return files\n",
    "\n"
   ]
  },
  {
   "cell_type": "code",
   "execution_count": null,
   "id": "83201faa-d88f-47ca-aff1-19dddc3702cf",
   "metadata": {},
   "outputs": [],
   "source": [
    "mols = atom_mapping_basic_test_files()"
   ]
  },
  {
   "cell_type": "code",
   "execution_count": null,
   "id": "d7ccce4a-8b9b-4a28-8294-c74c4dd545a5",
   "metadata": {
    "tags": []
   },
   "outputs": [],
   "source": [
    "from lomap import mcs as lomap_mcs\n",
    "\n",
    "dbmols = lomap.DBMolecules('/home/riesbenj/Code/OpenFE/openfe/openfe/tests/data/lomap_basic')\n",
    "_,_ =dbmols.build_matrices()"
   ]
  },
  {
   "cell_type": "code",
   "execution_count": null,
   "id": "9915875d-ea7d-4682-b01c-ea7d20d1c6a8",
   "metadata": {},
   "outputs": [],
   "source": []
  },
  {
   "cell_type": "code",
   "execution_count": null,
   "id": "f25406cd-f7de-403e-93b2-2be34aebe33e",
   "metadata": {},
   "outputs": [],
   "source": [
    "a = {1:2, 2:3}"
   ]
  },
  {
   "cell_type": "code",
   "execution_count": null,
   "id": "11234bf7-a585-4b55-9e9a-9b3651f8d98b",
   "metadata": {},
   "outputs": [],
   "source": [
    "dbmols.mcs_map_store\n"
   ]
  },
  {
   "cell_type": "code",
   "execution_count": null,
   "id": "78615633-8ef0-49db-84f7-39158fcd3083",
   "metadata": {},
   "outputs": [],
   "source": [
    "dbmols.nums()"
   ]
  },
  {
   "cell_type": "code",
   "execution_count": null,
   "id": "1fd9d793-33dc-4606-9e34-c18d3a61bfcf",
   "metadata": {},
   "outputs": [],
   "source": [
    "import numpy as np"
   ]
  },
  {
   "cell_type": "code",
   "execution_count": null,
   "id": "678e66d1-29dd-4c34-b0bf-34acc0474b50",
   "metadata": {},
   "outputs": [],
   "source": [
    "np.sqrt(28)"
   ]
  },
  {
   "cell_type": "code",
   "execution_count": null,
   "id": "1aa12ff7-4572-48ee-b6ac-a38d28a2a13c",
   "metadata": {},
   "outputs": [],
   "source": [
    "np.max(list(dbmols.mcs_map_store.keys()))"
   ]
  },
  {
   "cell_type": "code",
   "execution_count": null,
   "id": "343411ed-3002-4ab7-9fd8-82cc46d77a18",
   "metadata": {},
   "outputs": [],
   "source": []
  },
  {
   "cell_type": "code",
   "execution_count": null,
   "id": "8db62890-526b-4dff-99c8-86b4c1762e53",
   "metadata": {},
   "outputs": [],
   "source": [
    "##"
   ]
  }
 ],
 "metadata": {
  "kernelspec": {
   "display_name": "Python openFE",
   "language": "python",
   "name": "openfe"
  },
  "language_info": {
   "codemirror_mode": {
    "name": "ipython",
    "version": 3
   },
   "file_extension": ".py",
   "mimetype": "text/x-python",
   "name": "python",
   "nbconvert_exporter": "python",
   "pygments_lexer": "ipython3",
   "version": "3.9.12"
  }
 },
 "nbformat": 4,
 "nbformat_minor": 5
}
