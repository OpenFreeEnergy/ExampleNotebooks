{
 "cells": [
  {
   "cell_type": "markdown",
   "id": "cb0d308b-8f50-4ac9-a8a3-550d8a2e3feb",
   "metadata": {},
   "source": [
    "<!-- <img src=\"images/openfe_logo.png\" width=\"200\"> &emsp;&emsp;  -->\n",
    "<img src=\"images/OMSF-logo-horizontal-color.png\" width=\"300\"> \n",
    "\n",
    "# Open Free Energy: An Open Source Ecosystem for Calculating Free Energies"
   ]
  },
  {
   "cell_type": "markdown",
   "id": "8eea1a56-3241-4ccf-9d3a-88de6bbf0e0e",
   "metadata": {},
   "source": [
    "## The ``Hello, World!`` of Free Energy Calculations\n",
    "\n",
    "\n",
    "The OpenFE ecosystem is an open-source framework for calculating alchemical free energies.\n",
    "\n",
    "In this demo, we will demonstrate how you can use OpenFE to execute physics-based simulations and predict the relative binding free energy (RBFE) of a ligand binding to a protein.\n",
    "\n",
    "Specifically, we will be predicting which ligand from a set of candidates binds best to a target protein. We will be using TYK2 (Tyrosine kinase 2) as our target protein, which can be thought of as the \"Hello, World\" of free energy calculations.\n",
    "\n",
    "For convenience, a prepared (capped and protonated) PDB structure of the\n",
    "TYK2 protein is provided under `inputs/tyk2_protein.pdb`:\n",
    "<figure>\n",
    "    <img src=\"images/tyk2.png\" width=\"200\" alt=\"TYK2 protein\">\n",
    "    <!-- <figcaption align=\"top\"> TYK2 protein</figcaption> -->\n",
    "</figure>"
   ]
  },
  {
   "cell_type": "markdown",
   "id": "a7006905-ca5e-4d2a-93be-815b029f56eb",
   "metadata": {
    "jp-MarkdownHeadingCollapsed": true
   },
   "source": [
    "## Overview\n",
    "RBFE calculations can be thought of as 3 distinct steps:\n",
    "\n",
    " 1. **Setup**: construct a graph relating the ligands\n",
    " 2. **Run**: execute a simulation using OpenMM\n",
    " 3. **Gather**: compute meaningful metrics from the simulation data\n",
    "\n",
    "Each stage is supported by the OpenFE software packages, but everything can be accessed from the base **openfe** package.\n",
    "\n",
    "<img src=\"images/ecosystem.png\" width=\"400\">\n",
    "\n",
    "**NOTE**: OpenFE also provides protocols for running [Absolute Hydration Free Energy Calculations](https://docs.openfree.energy/en/latest/tutorials/ahfe_tutorial.html) and [Molecular Dynamics (MD) simulations](https://docs.openfree.energy/en/latest/tutorials/md_tutorial.html). \n",
    "Also, see our [tutorials](https://docs.openfree.energy/en/stable/tutorials/index.html) for step-by-step guides."
   ]
  },
  {
   "cell_type": "markdown",
   "id": "28f40a29-4ddd-4f25-8c08-154bb3139bb3",
   "metadata": {
    "jp-MarkdownHeadingCollapsed": true
   },
   "source": [
    "## Outline\n",
    "\n",
    "0. Setup for Google Colab  \n",
    "1. Quick Start: Relative Free Energies with the OpenFE CLI\n",
    "2. Setup  \n",
    "    2.1. Loading Ligands and Defining Ligand Atom Mappings  \n",
    "    2.2. Creating a ligand network  \n",
    "    2.3. Defining ChemicalSystems  \n",
    "    2.4. Defining the RBFE simulation settings and protocol  \n",
    "3. Running a Relative Ligand Binding Free Energy Calculation  \n",
    "    3.1. Using the Python API  \n",
    "    3.2. Using the CLI \n",
    "4. Gather & Analysis"
   ]
  },
  {
   "cell_type": "markdown",
   "id": "AUgaKFN7eCt5",
   "metadata": {
    "id": "AUgaKFN7eCt5",
    "jp-MarkdownHeadingCollapsed": true,
    "nbsphinx": "hidden"
   },
   "source": [
    "# 0. Setup for Google Colab\n",
    "\n",
    "If you are running this example in Google Colab, run the following cells to setup the environment.\\\n",
    "If you are running this notebook locally, skip down to `1. Quick Start`"
   ]
  },
  {
   "cell_type": "code",
   "execution_count": 1,
   "id": "-jX9udRGehD3",
   "metadata": {
    "colab": {
     "base_uri": "https://localhost:8080/"
    },
    "id": "-jX9udRGehD3",
    "nbsphinx": "hidden",
    "outputId": "78a0d40d-a6d2-4a93-a041-406a8cb551b9",
    "tags": []
   },
   "outputs": [],
   "source": [
    "# NBVAL_SKIP\n",
    "# Only run this cell if on google colab\n",
    "import os\n",
    "locale.getpreferredencoding = lambda: \"UTF-8\"  # hack for google colab, not needed for local execution\n",
    "\n",
    "if \"COLAB_RELEASE_TAG\" in os.environ:\n",
    "    !pip install -q condacolab\n",
    "    import condacolab\n",
    "    condacolab.install_from_url(\"https://github.com/OpenFreeEnergy/openfe/releases/download/v1.6.0/OpenFEforge-1.6.0-Linux-x86_64.sh\")"
   ]
  },
  {
   "cell_type": "code",
   "execution_count": 2,
   "id": "dlCARZ2_fAI4",
   "metadata": {
    "colab": {
     "base_uri": "https://localhost:8080/"
    },
    "id": "dlCARZ2_fAI4",
    "nbsphinx": "hidden",
    "outputId": "d528f4dc-5105-4288-ea08-9b2e75d442ff",
    "tags": []
   },
   "outputs": [],
   "source": [
    "# NBVAL_SKIP\n",
    "# Only run this cell if on google colab\n",
    "import os\n",
    "if \"COLAB_RELEASE_TAG\" in os.environ:\n",
    "    import condacolab\n",
    "    import locale\n",
    "    locale.getpreferredencoding = lambda: \"UTF-8\"\n",
    "    !mkdir inputs && cd inputs && openfe fetch rbfe-tutorial\n",
    "    for _ in range(3):\n",
    "      # Sometimes we have to re-run the check\n",
    "      try:\n",
    "        condacolab.check()\n",
    "      except:\n",
    "        pass\n",
    "      else:\n",
    "        break"
   ]
  },
  {
   "cell_type": "markdown",
   "id": "524015c7-6c42-4b84-98b9-361c17945fbe",
   "metadata": {
    "jp-MarkdownHeadingCollapsed": true
   },
   "source": [
    "# 1. Relative Binding Free Energies with the **openfe** CLI"
   ]
  },
  {
   "cell_type": "markdown",
   "id": "11074a41-2827-48c5-9493-e0e4e2d94838",
   "metadata": {},
   "source": [
    "First, we'll show how you can run a basic RBFE campaign with no Python at all!\n",
    "\n",
    "The 3 stages described above each correspond to a CLI command:\n",
    "\n",
    "**1. setup**:``openfe plan-rbfe-network``\n",
    "\n",
    "**2. run** ``openfe quickrun``\n",
    "\n",
    "**3. gather** ``openfe gather``\n",
    "\n",
    "All you need is your target protein in `.pdb` format, and your candidate ligands in `.sdf` format."
   ]
  },
  {
   "cell_type": "markdown",
   "id": "68cc5f26-71e2-4135-b72b-6c5a4a1d4072",
   "metadata": {},
   "source": [
    "## 1.1 Setup\n",
    "\n",
    "The `openfe plan-rbfe-network` command plans a relative binding free energy network and saves it as a series of JSON files for the `openfe quickrun` command to process.\n",
    "\n",
    "Since the CLI tool is a wrapper intended for the simplest cases, it chooses pratical defaults so that you don't have to define them. \n",
    "<!-- # TODO: add link to defaults -->\n",
    "\n",
    "These choices can be customized by creating a settings yaml file, which is\n",
    "passed in via the ``-s settings.yaml`` option. For more details, please visit our user guide section about [Customising CLI planning with yaml settings](https://docs.openfree.energy/en/latest/guide/cli/cli_yaml.html)"
   ]
  },
  {
   "cell_type": "code",
   "execution_count": 3,
   "id": "adab478b-ec1a-4c9c-a110-3d1ba5bfa7c6",
   "metadata": {},
   "outputs": [
    {
     "name": "stdout",
     "output_type": "stream",
     "text": [
      "RBFE-NETWORK PLANNER\n",
      "______________________\n",
      "\n",
      "Parsing in Files: \n",
      "\tGot input: \n",
      "\t\tSmall Molecules: SmallMoleculeComponent(name=lig_ejm_31) SmallMoleculeComponent(name=lig_ejm_42) SmallMoleculeComponent(name=lig_ejm_46) SmallMoleculeComponent(name=lig_ejm_43) SmallMoleculeComponent(name=lig_ejm_47) SmallMoleculeComponent(name=lig_ejm_50) SmallMoleculeComponent(name=lig_jmc_23) SmallMoleculeComponent(name=lig_ejm_48) SmallMoleculeComponent(name=lig_jmc_27) SmallMoleculeComponent(name=lig_jmc_28)\n",
      "\t\tProtein: ProteinComponent(name=)\n",
      "\t\tCofactors: []\n",
      "\t\tSolvent: SolventComponent(name=O, Na+, Cl-)\n",
      "\n",
      "Using Options:\n",
      "\tMapper: <LomapAtomMapper (time=20, threed=True, max3d=1.0, element_change=True, seed='', shift=False)>\n",
      "\tMapping Scorer: <function default_lomap_score at 0x17b8fcf40>\n",
      "\tNetwork Generation: <function generate_minimal_spanning_network at 0x17c99c360>\n",
      "\tPartial Charge Generation: am1bcc\n",
      "\n",
      "\tn_protocol_repeats=3 (3 simulation repeat(s) per transformation)\n",
      "\n",
      "Planning RBFE-Campaign:\n",
      "assigning ligand partial charges -- this may be slow\n",
      "Generating charges: 100%|██████████████████████| 10/10 [00:00<00:00, 344.16it/s]\n",
      "\tDone\n",
      "\n",
      "Output:\n",
      "\tSaving to: /Users/atravitz/software/OpenFE_ExampleNotebooks/showcase/tyk2_campaign\n",
      "\t\t- tyk2_campaign.json\n",
      "\t\t- ligand_network.graphml\n",
      "\t\t\t\t- rbfe_lig_jmc_23_solvent_lig_jmc_28_solvent.json\n",
      "\t\t\t\t- rbfe_lig_jmc_27_solvent_lig_jmc_28_solvent.json\n",
      "\t\t\t\t- rbfe_lig_ejm_31_complex_lig_ejm_46_complex.json\n",
      "\t\t\t\t- rbfe_lig_ejm_31_complex_lig_ejm_47_complex.json\n",
      "\t\t\t\t- rbfe_lig_jmc_23_complex_lig_jmc_28_complex.json\n",
      "\t\t\t\t- rbfe_lig_ejm_31_solvent_lig_ejm_47_solvent.json\n",
      "\t\t\t\t- rbfe_lig_ejm_42_solvent_lig_ejm_43_solvent.json\n",
      "\t\t\t\t- rbfe_lig_ejm_42_complex_lig_ejm_43_complex.json\n",
      "\t\t\t\t- rbfe_lig_ejm_31_complex_lig_ejm_48_complex.json\n",
      "\t\t\t\t- rbfe_lig_ejm_42_solvent_lig_ejm_50_solvent.json\n",
      "\t\t\t\t- rbfe_lig_ejm_46_solvent_lig_jmc_28_solvent.json\n",
      "\t\t\t\t- rbfe_lig_ejm_31_solvent_lig_ejm_50_solvent.json\n",
      "\t\t\t\t- rbfe_lig_ejm_31_complex_lig_ejm_50_complex.json\n",
      "\t\t\t\t- rbfe_lig_ejm_31_solvent_lig_ejm_46_solvent.json\n",
      "\t\t\t\t- rbfe_lig_jmc_27_complex_lig_jmc_28_complex.json\n",
      "\t\t\t\t- rbfe_lig_ejm_46_complex_lig_jmc_28_complex.json\n",
      "\t\t\t\t- rbfe_lig_ejm_31_solvent_lig_ejm_48_solvent.json\n",
      "\t\t\t\t- rbfe_lig_ejm_42_complex_lig_ejm_50_complex.json\n",
      "\tDuration: 0:00:04.448693\n",
      "\n"
     ]
    }
   ],
   "source": [
    "# note, we use ligands with charges already assigned to speed up this step, but this is optional\n",
    "! openfe plan-rbfe-network -M inputs/tyk2_ligands_charged.sdf -p inputs/tyk2_protein.pdb -o tyk2_campaign"
   ]
  },
  {
   "cell_type": "markdown",
   "id": "5846fc42-a9db-4e3c-ae43-44a1b46ffb7c",
   "metadata": {},
   "source": [
    "### visualizing the network\n",
    "\n",
    "We can visualize the network using the `openfe view-ligand-network` command:"
   ]
  },
  {
   "cell_type": "code",
   "execution_count": 4,
   "id": "b2a267ce-af88-4d2f-85fa-86ee555d7acd",
   "metadata": {},
   "outputs": [
    {
     "name": "stdout",
     "output_type": "stream",
     "text": [
      "ligand_network.graphml \u001b[1m\u001b[36mtransformations\u001b[m\u001b[m        tyk2_campaign.json\n"
     ]
    }
   ],
   "source": [
    "! ls tyk2_campaign/"
   ]
  },
  {
   "cell_type": "code",
   "execution_count": 5,
   "id": "6301d1b8-f7f1-4812-bf45-84311757fe81",
   "metadata": {},
   "outputs": [],
   "source": [
    "!openfe view-ligand-network tyk2_campaign/ligand_network.graphml"
   ]
  },
  {
   "cell_type": "code",
   "execution_count": 6,
   "id": "b399caea-2753-49f7-aa5c-94288859bbf1",
   "metadata": {},
   "outputs": [
    {
     "name": "stdout",
     "output_type": "stream",
     "text": [
      "rbfe_lig_ejm_31_complex_lig_ejm_46_complex.json\n",
      "rbfe_lig_ejm_31_complex_lig_ejm_47_complex.json\n",
      "rbfe_lig_ejm_31_complex_lig_ejm_48_complex.json\n",
      "rbfe_lig_ejm_31_complex_lig_ejm_50_complex.json\n",
      "rbfe_lig_ejm_31_solvent_lig_ejm_46_solvent.json\n",
      "rbfe_lig_ejm_31_solvent_lig_ejm_47_solvent.json\n",
      "rbfe_lig_ejm_31_solvent_lig_ejm_48_solvent.json\n",
      "rbfe_lig_ejm_31_solvent_lig_ejm_50_solvent.json\n",
      "rbfe_lig_ejm_42_complex_lig_ejm_43_complex.json\n",
      "rbfe_lig_ejm_42_complex_lig_ejm_50_complex.json\n",
      "rbfe_lig_ejm_42_solvent_lig_ejm_43_solvent.json\n",
      "rbfe_lig_ejm_42_solvent_lig_ejm_50_solvent.json\n",
      "rbfe_lig_ejm_46_complex_lig_jmc_28_complex.json\n",
      "rbfe_lig_ejm_46_solvent_lig_jmc_28_solvent.json\n",
      "rbfe_lig_jmc_23_complex_lig_jmc_28_complex.json\n",
      "rbfe_lig_jmc_23_solvent_lig_jmc_28_solvent.json\n",
      "rbfe_lig_jmc_27_complex_lig_jmc_28_complex.json\n",
      "rbfe_lig_jmc_27_solvent_lig_jmc_28_solvent.json\n"
     ]
    }
   ],
   "source": [
    "! ls tyk2_campaign/transformations/"
   ]
  },
  {
   "cell_type": "markdown",
   "id": "26fef157-6989-406d-b719-0ed597ef820e",
   "metadata": {},
   "source": [
    "## 1.2 Run\n",
    "\n",
    "You can run each leg individually by using the `openfe quickrun` command. It takes a transformation JSON as input, and the flags `-o` to give the final output JSON file and `-d` for the directory where simulation results should be stored. For example,\n",
    "\n",
    "```bash\n",
    "openfe quickrun tyk2_json/lig_ejm_31_lig_ejm_47_complex.json -o results_complex.json -d working-directory\n",
    "openfe quickrun tyk2_json/lig_ejm_31_lig_ejm_47_solvent.json -o results_solvent.json -d working-directory\n",
    "```"
   ]
  },
  {
   "cell_type": "code",
   "execution_count": 7,
   "id": "57967b12-ac89-402a-9387-b016bf9e3c5e",
   "metadata": {},
   "outputs": [
    {
     "name": "stdout",
     "output_type": "stream",
     "text": [
      "Fetching /Users/atravitz/micromamba/envs/openfe_conda/lib/python3.13/site-packages/openfecli/tests/data/rbfe_results.tar.gz\n"
     ]
    }
   ],
   "source": [
    "!openfe fetch rbfe-tutorial-results\n",
    "!tar xzf rbfe_results.tar.gz"
   ]
  },
  {
   "cell_type": "markdown",
   "id": "2c2cd9c7-123c-4568-849c-084f1838d147",
   "metadata": {},
   "source": [
    "## 1.3 Gather\n",
    "\n",
    "`openfe gather`"
   ]
  },
  {
   "cell_type": "markdown",
   "id": "84120c93-71a8-41c1-956d-893d6feb807c",
   "metadata": {},
   "source": [
    "First we will download some TYK2 transformations we already ran. These results are from an entire TYK2 network and not a single edge. "
   ]
  },
  {
   "cell_type": "code",
   "execution_count": 9,
   "id": "059068d3-d9e2-4923-80ca-c2989a559d1f",
   "metadata": {},
   "outputs": [
    {
     "name": "stdout",
     "output_type": "stream",
     "text": [
      "Fetching /Users/atravitz/micromamba/envs/openfe_conda/lib/python3.13/site-packages/openfecli/tests/data/rbfe_results.tar.gz\n"
     ]
    }
   ],
   "source": [
    "# Results from our cli tutorial\n",
    "!openfe fetch rbfe-tutorial-results\n",
    "# Extract results\n",
    "!tar -xf rbfe_results.tar.gz"
   ]
  },
  {
   "cell_type": "markdown",
   "id": "87f7d89b-4a99-4f3b-bf10-411591730922",
   "metadata": {},
   "source": [
    "Now we can use the `openfe gather` command to look at the results (see section 5.3 for more details)"
   ]
  },
  {
   "cell_type": "code",
   "execution_count": 10,
   "id": "ab9f2cca-8458-4515-a64a-20370151e1a5",
   "metadata": {},
   "outputs": [
    {
     "name": "stdout",
     "output_type": "stream",
     "text": [
      "writing dg output to 'final_results.tsv'\n",
      "ligand\tDG(MLE) (kcal/mol)\tuncertainty (kcal/mol)\n",
      "lig_ejm_31\t-0.09\t0.05\n",
      "lig_ejm_42\t0.7\t0.1\n",
      "lig_ejm_46\t-0.98\t0.05\n",
      "lig_ejm_47\t-0.1\t0.1\n",
      "lig_ejm_48\t0.53\t0.09\n",
      "lig_ejm_50\t0.91\t0.06\n",
      "lig_ejm_43\t2.0\t0.2\n",
      "lig_jmc_23\t-0.68\t0.09\n",
      "lig_jmc_27\t-1.1\t0.1\n",
      "lig_jmc_28\t-1.25\t0.08\n"
     ]
    }
   ],
   "source": [
    "!openfe gather results/ --report dg -o final_results.tsv\n",
    "!cat final_results.tsv"
   ]
  },
  {
   "cell_type": "code",
   "execution_count": 11,
   "id": "b117bae2-6a68-4e67-8971-e44f4f862d10",
   "metadata": {},
   "outputs": [
    {
     "name": "stdout",
     "output_type": "stream",
     "text": [
      "┌────────────┬────────────────────┬────────────────────────┐\n",
      "│\u001b[1m \u001b[0m\u001b[1mligand    \u001b[0m\u001b[1m \u001b[0m│\u001b[1m \u001b[0m\u001b[1mDG(MLE) (kcal/mol)\u001b[0m\u001b[1m \u001b[0m│\u001b[1m \u001b[0m\u001b[1muncertainty (kcal/mol)\u001b[0m\u001b[1m \u001b[0m│\n",
      "├────────────┼────────────────────┼────────────────────────┤\n",
      "│ lig_ejm_31 │ -0.09              │ 0.05                   │\n",
      "│ lig_ejm_42 │ 0.7                │ 0.1                    │\n",
      "│ lig_ejm_46 │ -0.98              │ 0.05                   │\n",
      "│ lig_ejm_47 │ -0.1               │ 0.1                    │\n",
      "│ lig_ejm_48 │ 0.53               │ 0.09                   │\n",
      "│ lig_ejm_50 │ 0.91               │ 0.06                   │\n",
      "│ lig_ejm_43 │ 2.0                │ 0.2                    │\n",
      "│ lig_jmc_23 │ -0.68              │ 0.09                   │\n",
      "│ lig_jmc_27 │ -1.1               │ 0.1                    │\n",
      "│ lig_jmc_28 │ -1.25              │ 0.08                   │\n",
      "└────────────┴────────────────────┴────────────────────────┘\n"
     ]
    }
   ],
   "source": [
    "!openfe gather results/ --report dg"
   ]
  },
  {
   "cell_type": "code",
   "execution_count": 12,
   "id": "bfe1d4c9-9e7c-4a54-839a-4c8aa93b22ac",
   "metadata": {},
   "outputs": [
    {
     "name": "stdout",
     "output_type": "stream",
     "text": [
      "┌────────────┬────────────┬──────────────────────┬────────────────────────┐\n",
      "│\u001b[1m \u001b[0m\u001b[1mligand_i  \u001b[0m\u001b[1m \u001b[0m│\u001b[1m \u001b[0m\u001b[1mligand_j  \u001b[0m\u001b[1m \u001b[0m│\u001b[1m \u001b[0m\u001b[1mDDG(i->j) (kcal/mol)\u001b[0m\u001b[1m \u001b[0m│\u001b[1m \u001b[0m\u001b[1muncertainty (kcal/mol)\u001b[0m\u001b[1m \u001b[0m│\n",
      "├────────────┼────────────┼──────────────────────┼────────────────────────┤\n",
      "│ lig_ejm_31 │ lig_ejm_42 │ 0.8                  │ 0.1                    │\n",
      "│ lig_ejm_31 │ lig_ejm_46 │ -0.89                │ 0.06                   │\n",
      "│ lig_ejm_31 │ lig_ejm_47 │ 0.0                  │ 0.1                    │\n",
      "│ lig_ejm_31 │ lig_ejm_48 │ 0.61                 │ 0.09                   │\n",
      "│ lig_ejm_31 │ lig_ejm_50 │ 1.00                 │ 0.04                   │\n",
      "│ lig_ejm_42 │ lig_ejm_43 │ 1.4                  │ 0.2                    │\n",
      "│ lig_ejm_46 │ lig_jmc_23 │ 0.29                 │ 0.09                   │\n",
      "│ lig_ejm_46 │ lig_jmc_27 │ -0.1                 │ 0.1                    │\n",
      "│ lig_ejm_46 │ lig_jmc_28 │ -0.27                │ 0.06                   │\n",
      "└────────────┴────────────┴──────────────────────┴────────────────────────┘\n"
     ]
    }
   ],
   "source": [
    "!openfe gather results/ --report ddg"
   ]
  },
  {
   "cell_type": "markdown",
   "id": "14ade1f0",
   "metadata": {
    "id": "14ade1f0"
   },
   "source": [
    "# 2. Now Let's Do It Again - In Python!"
   ]
  },
  {
   "cell_type": "markdown",
   "id": "0870f84e",
   "metadata": {
    "id": "0870f84e"
   },
   "source": [
    "\n",
    "Here is what we will achieve in this notebook and what software toolchains are\n",
    "used along the way.\n",
    " \n",
    "\n",
    "| **Actions**                    | **Software**                                                |\n",
    "|:------------------------------|:-----------------------------------------------------------|\n",
    "| Create OpenFE Molecules        | OpenFE  RDKit                                            |\n",
    "| Create Network                 | OpenFE  Lomap, Networkx                                  |\n",
    "| Visualize Network              | OpenFE  NetworkX, RDKit, Matplotlib                      |\n",
    "| Create ligand topologies       | OpenFE interface - OpenFF tk                             |\n",
    "| Create Hybrid OpenMM topology  | OpenFE interface - OpenMMTools (eventually - ex Perses)  |\n",
    "| Create Lambda Protocol         | OpenFE interface - OpenMMTools (eventually - ex Perses)  |\n",
    "| Set up and run RBFE calculations | OpenFE interface - OpenMM + OpenMMTools                  |\n",
    "| Analyze RBFE calculations      | OpenFE interface - PyMBAR + OpenMMTools                  |"
   ]
  },
  {
   "cell_type": "markdown",
   "id": "5962dec2-d9ef-475d-8086-ee15954e81f6",
   "metadata": {},
   "source": [
    "## 2.1: Setup\n"
   ]
  },
  {
   "cell_type": "markdown",
   "id": "4b57734f-dde7-4e5c-a61c-f3e9d275c5de",
   "metadata": {
    "jp-MarkdownHeadingCollapsed": true
   },
   "source": [
    "### 2.1.1: Loading Ligands and Defining Ligand Atom Mappings"
   ]
  },
  {
   "cell_type": "markdown",
   "id": "2f7e5f37-3efb-4aa7-b893-eb1411b65082",
   "metadata": {
    "jp-MarkdownHeadingCollapsed": true
   },
   "source": [
    "#### Creating OpenFE SmallMoleculeComponents\n",
    "\n",
    "To keep track of the various inputs being passed through the OpenFE\n",
    "toolkit, OpenFE implements a set of Components which define the proteins,\n",
    "small molecules, and solvent components which a system may contain. Here we\n",
    "use the [SmallMoleculeComponent](https://github.com/OpenFreeEnergy/gufe/blob/main/gufe/components/smallmoleculecomponent.py)\n",
    "which takes in either [RDKit molecules](https://www.rdkit.org/docs/source/rdkit.Chem.rdmolfiles.html)\n",
    "or [OpenFF molecules](https://open-forcefield-toolkit.readthedocs.io/en/0.9.2/api/generated/openff.toolkit.topology.Molecule.html).\n",
    "\n",
    "In the backend, OpenFE treats the RDKit molecules as the central representation\n",
    "of the ligands, and uses the OpenFF toolkit to convert between objects from\n",
    "various toolchains (for example OpenEye's OEMol).\n",
    "\n",
    "Here we demonstrate how to load the ligands from `inputs/tyk2_ligands.sdf` into a\n",
    "list of OpenFE `SmallMoleculeComponent`s for further processing."
   ]
  },
  {
   "cell_type": "markdown",
   "id": "fbc94d04-5d68-4123-82b2-97a1b8872375",
   "metadata": {},
   "source": [
    "<u>Load ligands using RDKit:</u>"
   ]
  },
  {
   "cell_type": "code",
   "execution_count": null,
   "id": "4096ce97",
   "metadata": {
    "id": "4096ce97"
   },
   "outputs": [],
   "source": [
    "import locale\n",
    "locale.getpreferredencoding = lambda _: 'UTF-8'  # hack for google colab, not needed for local execution\n",
    "from openfe import SmallMoleculeComponent\n",
    "\n",
    "# Load ligands using RDKit\n",
    "ligands_sdf = Chem.SDMolSupplier('inputs/tyk2_ligands.sdf', removeHs=False)\n",
    "\n",
    "# Now pass these to form a list of Molecules\n",
    "ligand_mols = [SmallMoleculeComponent(sdf) for sdf in ligands_sdf]"
   ]
  },
  {
   "cell_type": "markdown",
   "id": "044045af-020c-4926-b295-0c9db5bd6a0c",
   "metadata": {},
   "source": [
    "<u>Load ligands using the OpenFF toolkit:</u>"
   ]
  },
  {
   "cell_type": "code",
   "execution_count": null,
   "id": "b5e5b538-4847-42f5-b29e-6e1f25bbbeed",
   "metadata": {},
   "outputs": [],
   "source": [
    "from openff.toolkit import Molecule\n",
    "from openfe import SmallMoleculeComponent\n",
    "\n",
    "# Load ligands using OpenFF toolkit\n",
    "ligands_sdf = Molecule.from_file('inputs/tyk2_ligands.sdf')\n",
    "\n",
    "# Now pass these to form a list of Molecules\n",
    "ligand_mols = [SmallMoleculeComponent.from_openff(sdf) for sdf in ligands_sdf]"
   ]
  },
  {
   "cell_type": "markdown",
   "id": "3a8d5433",
   "metadata": {
    "id": "3a8d5433"
   },
   "source": [
    "OpenFE `SmallMoleculeComponent`s have some useful built-in attributes and methods.\n",
    "\n",
    "For example, the molecule's name (as defined by the SDF file) can be accessed:"
   ]
  },
  {
   "cell_type": "code",
   "execution_count": null,
   "id": "faacbebb",
   "metadata": {
    "colab": {
     "base_uri": "https://localhost:8080/"
    },
    "id": "faacbebb",
    "outputId": "bc0ad1d9-72ad-49d0-e322-61b2a87d5301"
   },
   "outputs": [],
   "source": [
    "print(\"name: \", ligand_mols[0].name)"
   ]
  },
  {
   "cell_type": "markdown",
   "id": "b24a3ffa",
   "metadata": {
    "id": "b24a3ffa"
   },
   "source": [
    "As previously stated, `SmallMoleculeComponent`s also use the OpenFF backend to allow conversion between different object types. For example, it's possible to obtain an OpenFF Molecule:"
   ]
  },
  {
   "cell_type": "code",
   "execution_count": null,
   "id": "29b7c68a",
   "metadata": {
    "colab": {
     "base_uri": "https://localhost:8080/"
    },
    "id": "29b7c68a",
    "outputId": "39e7a77a-d2b8-49d2-8f70-fd8118845a99"
   },
   "outputs": [],
   "source": [
    "type(ligand_mols[0].to_openff())"
   ]
  },
  {
   "cell_type": "markdown",
   "id": "9e72bee2-bcb3-466f-86e7-8b51c8932aa7",
   "metadata": {
    "jp-MarkdownHeadingCollapsed": true
   },
   "source": [
    "### 2.1.2: Ligand Atom Mapping"
   ]
  },
  {
   "cell_type": "markdown",
   "id": "3128085c-db8a-4a70-89ef-0fde956fdb40",
   "metadata": {},
   "source": [
    "In the [hybrid topology RBFE protocol](https://docs.openfree.energy/en/latest/guide/protocols/relativehybridtopology.html) , an atom mapping defines which atoms are mutated during the alchemical transformation.\n",
    "The user can choose between two different atom mappers:\n",
    "1. `LomapAtomMapper`\n",
    "    * based on the maximum common substructure (MCS)\n",
    "2. `KartografAtomMapper`\n",
    "    * based on the 3D geometries of the ligands\n",
    "\n",
    "While we use the defaults here, please note that the various supported arguments of\n",
    "Lomap and Kartograf can be passed to the atom mapper."
   ]
  },
  {
   "cell_type": "markdown",
   "id": "1eec9783-4620-43ff-8ef7-a647fd6f54ac",
   "metadata": {},
   "source": [
    "**1. `LomapAtomMapper`**"
   ]
  },
  {
   "cell_type": "code",
   "execution_count": null,
   "id": "01384f2a-99ce-400d-a988-82fd393c4ee5",
   "metadata": {},
   "outputs": [],
   "source": [
    "from openfe.setup import LomapAtomMapper\n",
    "mapper = LomapAtomMapper()\n",
    "lomap_mapping = next(mapper.suggest_mappings(ligand_mols[0], ligand_mols[4]))"
   ]
  },
  {
   "cell_type": "markdown",
   "id": "140f4e46-a58b-425d-b9cf-ab62078fc050",
   "metadata": {},
   "source": [
    "We can also visualize the atom mappings by invoking the individual OpenFE `AtomMapping` objects directly.\n",
    "\n",
    "Unique atoms between each mapping are shown in red, and atoms which are mapped but undergo element changes are shown in blue. Bonds which either involve atoms that are unique or undergo element changes are highlighted in red."
   ]
  },
  {
   "cell_type": "code",
   "execution_count": null,
   "id": "00fb84d6-9fa7-4114-96e5-c656ad6f3a3f",
   "metadata": {},
   "outputs": [],
   "source": [
    "# We can display the atom mapping in 2D by calling it\n",
    "lomap_mapping"
   ]
  },
  {
   "cell_type": "markdown",
   "id": "d3f10c24-e50c-46da-b8d5-8de1f3efae90",
   "metadata": {},
   "source": [
    "It is also possible to visualize the mapping in 3D using py3dmol:\n",
    "\n",
    "Here, the ``visualization_3D`` method displays the two end state molecules (left and right), in addition to the hybrid molecule (middle).\n",
    "\n",
    "Atoms that have the same sphere color in both end states are mapped (i.e. will be interpolated between each other), whilst those that do not have a coloured sphere are unmapped (i.e. will be transformed into dummy atoms in the opposite end state)."
   ]
  },
  {
   "cell_type": "code",
   "execution_count": null,
   "id": "bbcfd2e2-a50e-4398-85d1-f80b01597720",
   "metadata": {},
   "outputs": [],
   "source": [
    "# Visualize the mapping in 3D\n",
    "from openfe.utils import visualization_3D\n",
    "\n",
    "visualization_3D.view_mapping_3d(lomap_mapping, show_atomIDs=True)"
   ]
  },
  {
   "cell_type": "markdown",
   "id": "f21bf9e5-6cb8-41c1-b0fd-e70ee2e71852",
   "metadata": {},
   "source": [
    "**2. `KartografAtomMapper`**\n",
    "\n",
    "We can also use the `KartografAtomMapper` which is based on the 3D geometries of the ligands."
   ]
  },
  {
   "cell_type": "code",
   "execution_count": null,
   "id": "c710a20e-2098-461f-8fa6-5e44b19ad6aa",
   "metadata": {},
   "outputs": [],
   "source": [
    "from kartograf import KartografAtomMapper\n",
    "# Build Kartograf Atom Mapper\n",
    "mapper = KartografAtomMapper(atom_map_hydrogens=True)\n",
    "\n",
    "# Get Mapping\n",
    "kartograf_mapping = next(mapper.suggest_mappings(ligand_mols[0], ligand_mols[4]))"
   ]
  },
  {
   "cell_type": "code",
   "execution_count": null,
   "id": "56117a03-6503-4317-9364-27e343a4911e",
   "metadata": {},
   "outputs": [],
   "source": [
    "# We can display the atom mapping in 2D by calling it\n",
    "kartograf_mapping"
   ]
  },
  {
   "cell_type": "markdown",
   "id": "de4592a7",
   "metadata": {
    "id": "de4592a7"
   },
   "source": [
    "### 2.1.3: Creating a ligand network"
   ]
  },
  {
   "cell_type": "markdown",
   "id": "58bede1f-853e-455b-b1f3-b8c9cfca2346",
   "metadata": {},
   "source": [
    "\n",
    "A `LigandNetwork` is a set of `SmallMoleculeComponent`s that are connected by `AtomMapping`s of two small molecules. \n",
    "\n",
    "The user can choose between multiple different network topologies:\n",
    "* Minimial spanning tree (MST)\n",
    "* LOMAP network\n",
    "* Radial (star) network\n",
    "* Loading in networks from external software (FEP+ or Orion)\n",
    "* Loading in a user-defined network\n",
    "\n",
    "In this section, we will create and visualize the MST, LOMAP, and radial networks for the TYK2 dataset.\n",
    "\n",
    "Here, we will be using the `LomapAtomMapper` as the atom mapper for all networks."
   ]
  },
  {
   "cell_type": "code",
   "execution_count": 13,
   "id": "5b89da93",
   "metadata": {
    "id": "5b89da93",
    "scrolled": true
   },
   "outputs": [
    {
     "ename": "NameError",
     "evalue": "name 'ligand_mols' is not defined",
     "output_type": "error",
     "traceback": [
      "\u001b[31m---------------------------------------------------------------------------\u001b[39m",
      "\u001b[31mNameError\u001b[39m                                 Traceback (most recent call last)",
      "\u001b[36mCell\u001b[39m\u001b[36m \u001b[39m\u001b[32mIn[13]\u001b[39m\u001b[32m, line 10\u001b[39m\n\u001b[32m      6\u001b[39m \u001b[38;5;28;01mfrom\u001b[39;00m\u001b[38;5;250m \u001b[39m\u001b[34;01mopenfe\u001b[39;00m\u001b[34;01m.\u001b[39;00m\u001b[34;01msetup\u001b[39;00m\u001b[38;5;250m \u001b[39m\u001b[38;5;28;01mimport\u001b[39;00m LomapAtomMapper\n\u001b[32m      8\u001b[39m \u001b[38;5;66;03m# Create an MST network\u001b[39;00m\n\u001b[32m      9\u001b[39m mst_network = generate_minimal_spanning_network(\n\u001b[32m---> \u001b[39m\u001b[32m10\u001b[39m     ligands=\u001b[43mligand_mols\u001b[49m,\n\u001b[32m     11\u001b[39m     scorer=openfe.lomap_scorers.default_lomap_score,\n\u001b[32m     12\u001b[39m     mappers=[LomapAtomMapper(),])\n\u001b[32m     14\u001b[39m \u001b[38;5;66;03m# Create a LOMAP network\u001b[39;00m\n\u001b[32m     15\u001b[39m lomap_network = generate_lomap_network(\n\u001b[32m     16\u001b[39m     molecules=ligand_mols,\n\u001b[32m     17\u001b[39m     scorer=openfe.lomap_scorers.default_lomap_score,\n\u001b[32m     18\u001b[39m     mappers=[LomapAtomMapper(),])\n",
      "\u001b[31mNameError\u001b[39m: name 'ligand_mols' is not defined"
     ]
    }
   ],
   "source": [
    "# Create network from the two molecules\n",
    "import openfe\n",
    "from openfe.setup.ligand_network_planning import generate_radial_network\n",
    "from openfe.setup.ligand_network_planning import generate_minimal_spanning_network\n",
    "from openfe.setup.ligand_network_planning import generate_lomap_network\n",
    "from openfe.setup import LomapAtomMapper\n",
    "\n",
    "# Create an MST network\n",
    "mst_network = generate_minimal_spanning_network(\n",
    "    ligands=ligand_mols,\n",
    "    scorer=openfe.lomap_scorers.default_lomap_score,\n",
    "    mappers=[LomapAtomMapper(),])\n",
    "\n",
    "# Create a LOMAP network\n",
    "lomap_network = generate_lomap_network(\n",
    "    molecules=ligand_mols,\n",
    "    scorer=openfe.lomap_scorers.default_lomap_score,\n",
    "    mappers=[LomapAtomMapper(),])\n",
    "\n",
    "# Create a radial, choosing the first ligand as central ligand\n",
    "radial_network = generate_radial_network(\n",
    "    ligands=ligand_mols[1:],\n",
    "    central_ligand=ligand_mols[0],\n",
    "    mappers=[LomapAtomMapper(),])"
   ]
  },
  {
   "cell_type": "markdown",
   "id": "41cd9718-0c2e-4b59-86ee-8dc429915de1",
   "metadata": {},
   "source": [
    "We can plot out the different networks to visualize their structure and to see how ligands are being tranformed."
   ]
  },
  {
   "cell_type": "code",
   "execution_count": null,
   "id": "f4e3ac10-236b-4ff4-a69e-600706288164",
   "metadata": {},
   "outputs": [],
   "source": [
    "# Visualize the MST network\n",
    "from openfe.utils.atommapping_network_plotting import plot_atommapping_network\n",
    "\n",
    "plot_atommapping_network(mst_network)"
   ]
  },
  {
   "cell_type": "code",
   "execution_count": null,
   "id": "3335c478-ce7c-41a4-b36f-2e4c79581050",
   "metadata": {},
   "outputs": [],
   "source": [
    "# Visualize the LOMAP network\n",
    "from openfe.utils.atommapping_network_plotting import plot_atommapping_network\n",
    "\n",
    "plot_atommapping_network(lomap_network)"
   ]
  },
  {
   "cell_type": "code",
   "execution_count": null,
   "id": "e1c09036-efc7-4bc4-9851-ac16992bf041",
   "metadata": {},
   "outputs": [],
   "source": [
    "# Visualize the radial network\n",
    "from openfe.utils.atommapping_network_plotting import plot_atommapping_network\n",
    "\n",
    "plot_atommapping_network(radial_network)"
   ]
  },
  {
   "cell_type": "code",
   "execution_count": null,
   "id": "711d73bc-519f-4b81-9daf-c7594c7bbf8f",
   "metadata": {},
   "outputs": [],
   "source": [
    "from rdkit import Chem\n",
    "from rdkit.Chem import AllChem\n",
    "from rdkit.Chem import Draw\n",
    "\n",
    "# Extract the contents of the sdf file and visualise it\n",
    "ligands_rdmol = [mol for mol in\n",
    "                 Chem.SDMolSupplier('inputs/tyk2_ligands.sdf', removeHs=False)]\n",
    "\n",
    "for ligand in ligands_rdmol:\n",
    "    AllChem.Compute2DCoords(ligand)\n",
    "\n",
    "Chem.Draw.MolsToGridImage(ligands_rdmol, molsPerRow=5)"
   ]
  },
  {
   "cell_type": "markdown",
   "id": "2a280ffb-0a71-48ad-b4ec-9374f4460c80",
   "metadata": {},
   "source": [
    "Edges along the network can be accessed to recover the individual molecules involved in a given alchemical tranformation and the atom mapping between the two ligands. \n",
    "\n",
    "**Note: as can be seen in the example below, transformations are defined within OpenFE as going from componentA to componentB**"
   ]
  },
  {
   "cell_type": "code",
   "execution_count": null,
   "id": "ad80c243-82d7-4599-a4a6-5d651c662f24",
   "metadata": {},
   "outputs": [],
   "source": [
    "mst_edges = [edge for edge in mst_network.edges]\n",
    "\n",
    "# Pick an edge\n",
    "edge = mst_edges[1]\n",
    "\n",
    "# Print the smiles of the molecules and the mapping\n",
    "print(\"molecule A smiles: \", edge.componentA.smiles)\n",
    "print(\"molecule B smiles: \", edge.componentB.smiles)\n",
    "print(\"map between molecule A and B: \", edge.componentA_to_componentB)"
   ]
  },
  {
   "cell_type": "code",
   "execution_count": 18,
   "id": "9f92262f",
   "metadata": {
    "colab": {
     "base_uri": "https://localhost:8080/",
     "height": 317
    },
    "id": "9f92262f",
    "outputId": "d8dc47c7-c487-4f78-9e19-c388ef6a7c51"
   },
   "outputs": [
    {
     "data": {
      "image/png": "[encoded data removed]",
      "text/plain": [
       "<IPython.core.display.Image object>"
      ]
     },
     "metadata": {},
     "output_type": "display_data"
    }
   ],
   "source": [
    "# We can display the atom mapping of an edge by calling it\n",
    "edge"
   ]
  },
  {
   "cell_type": "code",
   "execution_count": 19,
   "id": "66dd7d32",
   "metadata": {
    "colab": {
     "base_uri": "https://localhost:8080/",
     "height": 317
    },
    "id": "66dd7d32",
    "outputId": "13a421f2-ce17-49c6-aac0-e3c157d59a91"
   },
   "outputs": [
    {
     "data": {
      "image/png": "[encoded data removed]",
      "text/plain": [
       "<IPython.core.display.Image object>"
      ]
     },
     "execution_count": 19,
     "metadata": {},
     "output_type": "execute_result"
    }
   ],
   "source": [
    "from IPython.display import Image\n",
    "\n",
    "# mappings can also be saved to file if required\n",
    "edge.draw_to_file('tyk2_edge.png')\n",
    "\n",
    "# load it back for visualisation\n",
    "Image(\"tyk2_edge.png\")"
   ]
  },
  {
   "cell_type": "markdown",
   "id": "8e119e3e",
   "metadata": {
    "id": "8e119e3e"
   },
   "source": [
    "### Storing the ligand network\n",
    "\n",
    "Created networks can easily be converted to (and also loaded from) a GraphML representation.\n",
    "\n",
    "This can allow users of OpenFE to store the network to disk for later use."
   ]
  },
  {
   "cell_type": "code",
   "execution_count": 20,
   "id": "0be4c1f4",
   "metadata": {
    "id": "0be4c1f4"
   },
   "outputs": [],
   "source": [
    "# Convert to graphml\n",
    "with open(\"network_store.graphml\", \"w\") as writer:\n",
    "    writer.write(mst_network.to_graphml())"
   ]
  },
  {
   "cell_type": "markdown",
   "id": "feb4d54a-01a8-4bbe-ac13-1a15cdb79254",
   "metadata": {
    "jp-MarkdownHeadingCollapsed": true
   },
   "source": [
    "### 2.1.4: Defining the Chemical Systems"
   ]
  },
  {
   "cell_type": "markdown",
   "id": "cc80f3fb",
   "metadata": {
    "id": "cc80f3fb"
   },
   "source": [
    "`ChemicalSystems` are OpenFE containers which define the various components\n",
    "in a system of interest. You can consider `ChemicalSystems` to be the nodes\n",
    "along an alchemical network which are connected by edges which carry out\n",
    "calculations along Alchemical states to get free energies.\n",
    "\n",
    "`ChemicalSystems` take in:\n",
    "\n",
    "1. A dictionary of the chemical components (e.g. `SmallMoleculeComponent`,\n",
    "   `ProteinComponent`, `SolventComponent`) defining the system.\n",
    "\n",
    "2. An identifier name (optional), for the `ChemicalSystem`. This is used as part\n",
    "   of the hash identifier of the `ChemicalSystem`, and can help distinguish between\n",
    "   otherwise comparable systems."
   ]
  },
  {
   "cell_type": "markdown",
   "id": "f5506f1a",
   "metadata": {
    "id": "f5506f1a"
   },
   "source": [
    "In the case of a relative ligand binding free energy calculation for `lig_ejm_31` -> `lig_ejm_47`,\n",
    "four `ChemicalSystems` must be defined:\n",
    "\n",
    "1. `lig_ejm_31` in complex with TYK2 in a box of water\n",
    "\n",
    "\n",
    "2. `lig_ejm_47` in complex with TYK2 in a box of water\n",
    "\n",
    "\n",
    "3. `lig_ejm_31` in a box of water\n",
    "\n",
    "\n",
    "4. `lig_ejm_47` in a box of water\n",
    "\n",
    "\n",
    "Here we will be passing the previously defined `SmallMoleculeComponents` for `lig_ejm_31`\n",
    "and `lig_ejm_47`. We will also pass a `ProteinComponent` generated from the PDB file\n",
    "present under `inputs/tyk2_protein.pdb`. Finally, instead of passing\n",
    "in a specific box of water, we will define a `SolventComponent` which will contain\n",
    "the necessary information for OpenMM's `Modeller` class to add water and 0.15 M NaCl\n",
    "around the solute when creating the OpenMM simulation objects."
   ]
  },
  {
   "cell_type": "code",
   "execution_count": 21,
   "id": "0b6c9ec3",
   "metadata": {
    "id": "0b6c9ec3"
   },
   "outputs": [],
   "source": [
    "# First let's define the Protein and Solvent Components which we will be using\n",
    "from openfe import SolventComponent, ProteinComponent\n",
    "from openff.units import unit\n",
    "\n",
    "protein = ProteinComponent.from_pdb_file('inputs/tyk2_protein.pdb')\n",
    "\n",
    "# Note: the distance from the solute to add water is not defined here but in the\n",
    "# the relevant RBFE solver method\n",
    "solvent = SolventComponent(positive_ion='Na', negative_ion='Cl',\n",
    "                           neutralize=True, ion_concentration=0.15*unit.molar)"
   ]
  },
  {
   "cell_type": "code",
   "execution_count": 22,
   "id": "8c6d6504",
   "metadata": {
    "colab": {
     "base_uri": "https://localhost:8080/",
     "height": 317
    },
    "id": "8c6d6504",
    "outputId": "47026705-938a-4e62-f1af-66e9c50334aa"
   },
   "outputs": [
    {
     "data": {
      "image/png": "[encoded data removed]",
      "text/plain": [
       "<IPython.core.display.Image object>"
      ]
     },
     "metadata": {},
     "output_type": "display_data"
    }
   ],
   "source": [
    "# Extract the relevant edge for the lig_ejm_31 -> lig_ejm_47 transform in the radial graph\n",
    "ejm_31_to_ejm_47 = [edge for edge in mst_network.edges if edge.componentB.name == \"lig_ejm_47\"][0]\n",
    "\n",
    "ejm_31_to_ejm_47"
   ]
  },
  {
   "cell_type": "code",
   "execution_count": 23,
   "id": "23b778d6",
   "metadata": {
    "id": "23b778d6"
   },
   "outputs": [],
   "source": [
    "# Let's create the four ChemicalSystems\n",
    "from openfe import ChemicalSystem\n",
    "\n",
    "ejm_31_complex = ChemicalSystem({'ligand': ejm_31_to_ejm_47.componentA,\n",
    "                                  'solvent': solvent,\n",
    "                                  'protein': protein,},\n",
    "                               name=ejm_31_to_ejm_47.componentA.name)\n",
    "ejm_31_solvent = ChemicalSystem({'ligand': ejm_31_to_ejm_47.componentA,\n",
    "                                  'solvent': solvent,},\n",
    "                               name=ejm_31_to_ejm_47.componentA.name)\n",
    "\n",
    "ejm_47_complex = ChemicalSystem({'ligand': ejm_31_to_ejm_47.componentB,\n",
    "                                 'solvent': solvent,\n",
    "                                 'protein': protein,},\n",
    "                               name=ejm_31_to_ejm_47.componentB.name)\n",
    "ejm_47_solvent = ChemicalSystem({'ligand': ejm_31_to_ejm_47.componentB,\n",
    "                                 'solvent': solvent,},\n",
    "                               name=ejm_31_to_ejm_47.componentB.name)"
   ]
  },
  {
   "cell_type": "markdown",
   "id": "1702be9c-a30d-43dc-a291-fefab56a4433",
   "metadata": {
    "jp-MarkdownHeadingCollapsed": true
   },
   "source": [
    "### 2.1.5 Defining the RBFE simulation settings and protocol"
   ]
  },
  {
   "cell_type": "markdown",
   "id": "d795f993",
   "metadata": {
    "id": "d795f993"
   },
   "source": [
    "Now that we have a set of atom mappings defined, we know which atoms should\n",
    "undergo alchemical transformations to capture the free energy cost of\n",
    "transforming from one ligand to another.\n",
    "\n",
    "To simulate this transformation, we use the equilibrium RBFE protocol\n",
    "implemented in OpenFE. This uses OpenMM to run a Perses-like relative\n",
    "ligand binding free energy calculation using a single topology approach.\n",
    "\n",
    "To achieve this simulation, the following steps need to happen:\n",
    "\n",
    "1. Create OpenMM systems of both end states\n",
    "\n",
    "\n",
    "2. Create a hybrid topology based on these defined end states\n",
    "\n",
    "\n",
    "3. Set an appropriate Lambda schedule\n",
    "\n",
    "\n",
    "4. Set a MultiState reporter to write out appropriate coordinates and energies\n",
    "\n",
    "\n",
    "5. Create an OpenMM sampler (in this case we will be using a replica exchange sampler)\n",
    "\n",
    "\n",
    "6. Carry out the necessary simulation steps (minimization, equilibration, and production)\n",
    "\n",
    "\n",
    "The `RelativeHybridTopologyProtocol` class in `openfe.protocols.openmm_rfe`\n",
    "implements a means to achieve all the above with minimal intervention.\n",
    "\n",
    "Here we work through its usage for the `lig_ejm_31` -> `lig_ejm_47` binding free energy\n",
    "test case. As this involves both a relative binding free energy in solvent\n",
    "and complex phases, `RelativeHybridTopologyProtocol` will\n",
    "be used to build two separate `ProtocolDAG` (directed-acyclic-graph) classes, one for each phase.\n",
    "These `DAG`s (which contain the necessary individual simulations), are then executed to yield\n",
    "the desired free energy results.\n",
    "\n",
    "**Note: the underlying components used for the creation of OpenMM hybrid\n",
    "topologies and samplers is still in flux, originating mostly from Perses.\n",
    "Please consider these to be in beta.**"
   ]
  },
  {
   "cell_type": "markdown",
   "id": "fdfc694f",
   "metadata": {
    "id": "fdfc694f"
   },
   "source": [
    "### Defining the RBFE simulation settings\n",
    "\n",
    "There are various parameters which can be set to determine\n",
    "how the RBFE simulation will take place. To allow for maximum user flexibility, these are defined as a series of settings objects which control the following:\n",
    "\n",
    "1. `protocol_repeats`: The number of completely independent repeats of the entire sampling process.\n",
    "\n",
    "2. `simulation_settings`: Parameters controling the simulation plan and the alchemical sampler, including the number of minimization steps, lengths of equilibration and production runs, the sampler method (e.g. Hamiltonian replica exchange, `repex`), and the time interval at which to perform an analysis of the free energies.\n",
    "\n",
    "3. `output_settings`: Simulation output control settings, including the frequency to write a checkpoint file, the selection string for which part of the system to write coordinates for, and the paths to the trajectory and output structure storage files.\n",
    "\n",
    "4. `alchemical_settings`: Parameters controlling the creation of the hybrid topology system. This includes various parameters ranging from softcore parameters, through to whether or not to apply an explicit charge correction for systems with net charge changes.\n",
    "\n",
    "5. `engine_settings`: Parameters determining how the OpenMM engine will execute the simulation. This controls the compute platform which will be used to carry out the simulation.\n",
    "\n",
    "6. `integrator_settings`: Parameters controlling the `LangevinSplittingDynamicsMove` integrator used for simulation.\n",
    "\n",
    "7. `lambda_settings`: Lambda protocol settings, including number of lambda windows and lambda functions.\n",
    "\n",
    "8. `forcefield_settings`: Parameters to set up the force field with OpenMM Force Fields, including the general force fields, the small molecule force field, the nonbonded method, and the nonbonded cutoff.\n",
    "\n",
    "9. `thermo_settings`: Settings for thermodynamic parameters, such as the temperature and the pressure of the system.\n",
    "\n",
    "10. `solvation_settings`: Settings for solvating the system, including the solvent model and the solvent padding.\n",
    "\n",
    "11. `partial_charge_settings`: Settings for assigning partial charges to small molecules, including the partial charge method (e.g. `am1bcc`) and the OpenFF toolkit backend (e.g. `ambertools` or `openeye`)."
   ]
  },
  {
   "cell_type": "markdown",
   "id": "d7c8ab9e-0185-40d7-a441-7a4cd948dda9",
   "metadata": {},
   "source": [
    "The `RelativeHybridTopologyProtocol` class can directly populate the above set of default\n",
    "settings through its `default_settings` method.\n",
    "Parameters can be overriden after creation.\n",
    "In this case, we'll reduce the equilibration length to 0.01 * nanosecond\n",
    "and the production to 0.05 * nanosecond in order to reduce the costs of\n",
    "running this notebook (in practice, values of 1 and 5 nanoseconds,\n",
    "respectively, would be most appropriate)."
   ]
  },
  {
   "cell_type": "code",
   "execution_count": 24,
   "id": "309c059b-85c7-4911-a417-69889a474fe1",
   "metadata": {},
   "outputs": [
    {
     "name": "stdout",
     "output_type": "stream",
     "text": [
      "{'early_termination_target_error': <Quantity(0.0, 'kilocalorie_per_mole')>,\n",
      " 'equilibration_length': <Quantity(0.01, 'nanosecond')>,\n",
      " 'minimization_steps': 5000,\n",
      " 'n_replicas': 11,\n",
      " 'production_length': <Quantity(0.05, 'nanosecond')>,\n",
      " 'real_time_analysis_interval': <Quantity(250, 'picosecond')>,\n",
      " 'real_time_analysis_minimum_time': <Quantity(500, 'picosecond')>,\n",
      " 'sampler_method': 'repex',\n",
      " 'sams_flatness_criteria': 'logZ-flatness',\n",
      " 'sams_gamma0': 1.0,\n",
      " 'time_per_iteration': <Quantity(1, 'picosecond')>}\n"
     ]
    }
   ],
   "source": [
    "from openfe.protocols.openmm_rfe import RelativeHybridTopologyProtocol\n",
    "from openff.units import unit\n",
    "\n",
    "# Create the default settings\n",
    "rbfe_settings = RelativeHybridTopologyProtocol.default_settings()\n",
    "\n",
    "rbfe_settings.simulation_settings.equilibration_length = 10 * unit.picosecond # Reduce equilibration length to 10 picoseconds\n",
    "rbfe_settings.simulation_settings.production_length = 50 * unit.picosecond # Reduce prodution length to 50 picoseconds\n",
    "\n",
    "rbfe_settings.simulation_settings"
   ]
  },
  {
   "cell_type": "markdown",
   "id": "ab0eaea9",
   "metadata": {
    "id": "ab0eaea9"
   },
   "source": [
    "### Creating the RFE Protocol\n",
    "\n",
    "With the Settings inspected and adjusted, we can provide these to the Protocol.\n",
    "This Protocol defines the procedure to estimate a free energy difference between two chemical systems,\n",
    "with the details of the two end states yet to be defined."
   ]
  },
  {
   "cell_type": "code",
   "execution_count": 25,
   "id": "d1829ab6",
   "metadata": {
    "id": "d1829ab6"
   },
   "outputs": [],
   "source": [
    "# Create RBFE Protocol class\n",
    "rbfe_protocol = RelativeHybridTopologyProtocol(\n",
    "    settings=rbfe_settings\n",
    ")"
   ]
  },
  {
   "cell_type": "markdown",
   "id": "075cad59-5b65-42cf-a900-1df5a2de67f1",
   "metadata": {},
   "source": [
    "## 2.2: Running a Relative Ligand Binding Free Energy Calculation"
   ]
  },
  {
   "cell_type": "markdown",
   "id": "06d9d8a4-d570-42ea-9936-222b5e1728b2",
   "metadata": {},
   "source": [
    "## 3.0 Creating the Transformations\n",
    "\n",
    "Once we have the ChemicalSystems and the Protocol, we can create the Transformation.\n",
    "\n",
    "The `Transformation` requires as input:\n",
    "\n",
    "* the two `ChemicalSystem` objects defining either end of the alchemical transformation (`stateA` and `stateB`)\n",
    "* a mapping between the two systems\n",
    "* the protocol\n",
    "* a name (optional)\n",
    "\n",
    "As previously detailed, we create two sets of transformations for the complex and the solvent legs of the thermodynamic cycle."
   ]
  },
  {
   "cell_type": "code",
   "execution_count": 26,
   "id": "853d6eef-e716-4284-b02f-8b06f2beb916",
   "metadata": {},
   "outputs": [],
   "source": [
    "transformation_complex = openfe.Transformation(\n",
    "            stateA=ejm_31_complex,\n",
    "            stateB=ejm_47_complex,\n",
    "            mapping=ejm_31_to_ejm_47,\n",
    "            protocol=rbfe_protocol,  # use protocol created above\n",
    "            name=f\"{ejm_31_complex.name}_{ejm_47_complex.name}_complex\"\n",
    "        )\n",
    "transformation_solvent = openfe.Transformation(\n",
    "            stateA=ejm_31_solvent,\n",
    "            stateB=ejm_47_solvent,\n",
    "            mapping=ejm_31_to_ejm_47,\n",
    "            protocol=rbfe_protocol,  # use protocol created above\n",
    "            name=f\"{ejm_31_solvent.name}_{ejm_47_solvent.name}_solvent\"\n",
    "        )"
   ]
  },
  {
   "cell_type": "markdown",
   "id": "026ad9fc-635f-44d2-937c-bbc58edf64da",
   "metadata": {},
   "source": [
    "## 3.1. Using the Python API"
   ]
  },
  {
   "cell_type": "markdown",
   "id": "7fd71a0e-7bf6-4529-961b-be8dfa7bbbce",
   "metadata": {},
   "source": [
    "### Creating the `ProtocolDAG`"
   ]
  },
  {
   "cell_type": "markdown",
   "id": "0e2e7d25-5bb6-4344-963d-8cf5298982b4",
   "metadata": {},
   "source": [
    "With the `Transformation` defined, we can move onto creating the `ProtocolDAG`.\n",
    "\n",
    "The `Transformation.create()` method creates a directed-acyclic-graph (DAG) of computational tasks necessary for creating an estimate of the free energy difference between the two chemical systems."
   ]
  },
  {
   "cell_type": "code",
   "execution_count": 27,
   "id": "77e72e9a-bac0-4059-b0bf-96c15c9b2696",
   "metadata": {},
   "outputs": [],
   "source": [
    "complex_dag = transformation_complex.create()\n",
    "\n",
    "solvent_dag = transformation_solvent.create()"
   ]
  },
  {
   "cell_type": "markdown",
   "id": "051fb438-1ab0-4d3f-9615-4b2caff9a9b2",
   "metadata": {},
   "source": [
    "The individual pieces of computational work are called Units. In this particular Protocol, the Units defined are three independent repeats of the alchemical transformation.\n",
    "\n",
    "For other Protocols, for example non-equilibrium sampling routines, there might be dependencies between the tasks."
   ]
  },
  {
   "cell_type": "markdown",
   "id": "7f5c142d",
   "metadata": {
    "id": "7f5c142d"
   },
   "source": [
    "### Simulating the RelativeLigandTransforms\n",
    "\n",
    "Individual Units can then be executed by calling the `.execute()` method.\n",
    "\n",
    "In the first instance we do a dry-run (which does everything but\n",
    "starting the simulation) to make sure that the\n",
    "hybrid OpenMM system can be constructed without any issues.\n",
    "Note: A successful call to `.run()` will return an empty Dictionary."
   ]
  },
  {
   "cell_type": "code",
   "execution_count": 28,
   "id": "981cde0c",
   "metadata": {
    "colab": {
     "base_uri": "https://localhost:8080/"
    },
    "id": "981cde0c",
    "outputId": "812389bc-3730-416b-8154-79e0e1fb4346",
    "scrolled": true
   },
   "outputs": [
    {
     "name": "stderr",
     "output_type": "stream",
     "text": [
      "INFO:\tPreparing the hybrid topology simulation\n",
      "INFO:\tParameterizing molecules\n",
      "INFO:\tRequested to generate parameters for residue <Residue 0 (UNK) of chain 0>\n",
      "INFO:\tRequested to generate parameters for residue <Residue 0 (UNK) of chain 0>\n",
      "INFO:\tCreating hybrid system\n",
      "INFO:\tSetting force field terms\n",
      "INFO:\tAdding forces\n",
      "INFO:\tHybrid system created\n",
      "WARNING:\tWarning: The openmmtools.multistate API is experimental and may change in future releases\n",
      "/Users/users_name/miniforge3/envs/openfe_env/lib/python3.12/site-packages/mdtraj/core/topology.py:84: UserWarning: atom_indices are not monotonically increasing\n",
      "  warnings.warn(\"atom_indices are not monotonically increasing\")\n",
      "/Users/users_name/miniforge3/envs/openfe_env/lib/python3.12/site-packages/openfe/protocols/openmm_rfe/_rfe_utils/compute.py:56: UserWarning: Non-GPU platform selected: CPU, this may significantly impact simulation performance\n",
      "  warnings.warn(wmsg)\n",
      "WARNING:\tNon-GPU platform selected: CPU, this may significantly impact simulation performance\n",
      "INFO:\tCreating and setting up the sampler\n",
      "WARNING:\tWarning: The openmmtools.multistate API is experimental and may change in future releases\n"
     ]
    },
    {
     "name": "stdout",
     "output_type": "stream",
     "text": [
      "Please cite the following:\n",
      "\n",
      "        Friedrichs MS, Eastman P, Vaidyanathan V, Houston M, LeGrand S, Beberg AL, Ensign DL, Bruns CM, and Pande VS. Accelerating molecular dynamic simulations on graphics processing unit. J. Comput. Chem. 30:864, 2009. DOI: 10.1002/jcc.21209\n",
      "        Eastman P and Pande VS. OpenMM: A hardware-independent framework for molecular simulations. Comput. Sci. Eng. 12:34, 2010. DOI: 10.1109/MCSE.2010.27\n",
      "        Eastman P and Pande VS. Efficient nonbonded interactions for molecular dynamics on a graphics processing unit. J. Comput. Chem. 31:1268, 2010. DOI: 10.1002/jcc.21413\n",
      "        Eastman P and Pande VS. Constant constraint matrix approximation: A robust, parallelizable constraint method for molecular simulations. J. Chem. Theor. Comput. 6:434, 2010. DOI: 10.1021/ct900463w\n",
      "        Chodera JD and Shirts MR. Replica exchange and expanded ensemble simulations as Gibbs multistate: Simple improvements for enhanced mixing. J. Chem. Phys., 135:194110, 2011. DOI:10.1063/1.3660669\n",
      "        \n"
     ]
    },
    {
     "data": {
      "text/plain": [
       "{'debug': {'sampler': <instance of HybridRepexSampler>}}"
      ]
     },
     "execution_count": 28,
     "metadata": {},
     "output_type": "execute_result"
    }
   ],
   "source": [
    "# complex dry-run\n",
    "complex_unit = list(complex_dag.protocol_units)[0]\n",
    "\n",
    "complex_unit.run(dry=True, verbose=True)"
   ]
  },
  {
   "cell_type": "code",
   "execution_count": 29,
   "id": "77accb06",
   "metadata": {
    "colab": {
     "base_uri": "https://localhost:8080/"
    },
    "id": "77accb06",
    "outputId": "e0b977c0-7e72-4a49-d3ea-eb0cdb85ed5d",
    "scrolled": true
   },
   "outputs": [
    {
     "name": "stderr",
     "output_type": "stream",
     "text": [
      "INFO:\tPreparing the hybrid topology simulation\n",
      "INFO:\tParameterizing molecules\n",
      "INFO:\tRequested to generate parameters for residue <Residue 0 (UNK) of chain 0>\n",
      "INFO:\tRequested to generate parameters for residue <Residue 0 (UNK) of chain 0>\n",
      "INFO:\tCreating hybrid system\n",
      "INFO:\tSetting force field terms\n",
      "INFO:\tAdding forces\n",
      "INFO:\tHybrid system created\n",
      "WARNING:\tWarning: The openmmtools.multistate API is experimental and may change in future releases\n",
      "/Users/users_name/miniforge3/envs/openfe_env/lib/python3.12/site-packages/mdtraj/core/topology.py:84: UserWarning: atom_indices are not monotonically increasing\n",
      "  warnings.warn(\"atom_indices are not monotonically increasing\")\n",
      "/Users/users_name/miniforge3/envs/openfe_env/lib/python3.12/site-packages/openfe/protocols/openmm_rfe/_rfe_utils/compute.py:56: UserWarning: Non-GPU platform selected: CPU, this may significantly impact simulation performance\n",
      "  warnings.warn(wmsg)\n",
      "WARNING:\tNon-GPU platform selected: CPU, this may significantly impact simulation performance\n",
      "INFO:\tCreating and setting up the sampler\n",
      "WARNING:\tWarning: The openmmtools.multistate API is experimental and may change in future releases\n"
     ]
    },
    {
     "name": "stdout",
     "output_type": "stream",
     "text": [
      "Please cite the following:\n",
      "\n",
      "        Friedrichs MS, Eastman P, Vaidyanathan V, Houston M, LeGrand S, Beberg AL, Ensign DL, Bruns CM, and Pande VS. Accelerating molecular dynamic simulations on graphics processing unit. J. Comput. Chem. 30:864, 2009. DOI: 10.1002/jcc.21209\n",
      "        Eastman P and Pande VS. OpenMM: A hardware-independent framework for molecular simulations. Comput. Sci. Eng. 12:34, 2010. DOI: 10.1109/MCSE.2010.27\n",
      "        Eastman P and Pande VS. Efficient nonbonded interactions for molecular dynamics on a graphics processing unit. J. Comput. Chem. 31:1268, 2010. DOI: 10.1002/jcc.21413\n",
      "        Eastman P and Pande VS. Constant constraint matrix approximation: A robust, parallelizable constraint method for molecular simulations. J. Chem. Theor. Comput. 6:434, 2010. DOI: 10.1021/ct900463w\n",
      "        Chodera JD and Shirts MR. Replica exchange and expanded ensemble simulations as Gibbs multistate: Simple improvements for enhanced mixing. J. Chem. Phys., 135:194110, 2011. DOI:10.1063/1.3660669\n",
      "        \n"
     ]
    },
    {
     "data": {
      "text/plain": [
       "{'debug': {'sampler': <instance of HybridRepexSampler>}}"
      ]
     },
     "execution_count": 29,
     "metadata": {},
     "output_type": "execute_result"
    }
   ],
   "source": [
    "# solvent dry-run\n",
    "solvent_unit = list(solvent_dag.protocol_units)[0]\n",
    "\n",
    "solvent_unit.run(dry=True, verbose=True)"
   ]
  },
  {
   "cell_type": "markdown",
   "id": "ceba2266-8ad5-4205-96df-4b6403fc3b50",
   "metadata": {},
   "source": [
    "## 3.2. Using the CLI\n",
    "\n",
    "Even when using the Python API to set up the RBFE calculations, you can dump all `Transformation`s to a JSON file and run the calculations using the `openfe quickrun` command. Here, we will show you how to save the `Transformation`s to the JSON file."
   ]
  },
  {
   "cell_type": "markdown",
   "id": "043672e9-20e5-4b2c-8977-cca0e2ddf23e",
   "metadata": {},
   "source": [
    "We’ll write out the transformation to disk, so that it can be run using the `openfe quickrun` command:"
   ]
  },
  {
   "cell_type": "code",
   "execution_count": 30,
   "id": "12d35b4c-b737-4c3c-9fda-dc387aaa6915",
   "metadata": {},
   "outputs": [],
   "source": [
    "import pathlib\n",
    "# first we create the directory\n",
    "transformation_dir = pathlib.Path(\"tyk2_json\")\n",
    "transformation_dir.mkdir(exist_ok=True)\n",
    "\n",
    "# then we write out the transformations\n",
    "transformation_complex.dump(transformation_dir / f\"{transformation_complex.name}.json\")\n",
    "transformation_solvent.dump(transformation_dir / f\"{transformation_solvent.name}.json\")"
   ]
  },
  {
   "cell_type": "markdown",
   "id": "05d4c16c-1d16-4ef1-a1b3-2eec6275c778",
   "metadata": {},
   "source": [
    "You can run the RBFE simulations from the CLI by using the `openfe quickrun` command, as described in Section 5. below."
   ]
  },
  {
   "cell_type": "markdown",
   "id": "e07d1e29",
   "metadata": {
    "id": "e07d1e29",
    "jp-MarkdownHeadingCollapsed": true
   },
   "source": [
    "## 2.3: Gather (and other analysis)"
   ]
  },
  {
   "cell_type": "markdown",
   "id": "2accbbd1",
   "metadata": {
    "id": "2accbbd1"
   },
   "source": [
    "Finally now that we've \"run\" our simulations, let's go ahead and gather the free energies for both phases. \n",
    "First we will take a look at the way to do this using our python api, then we will show how to use our `openfe gather` command on pre-computed results.\n",
    "\n",
    "### 2.3.1 Analysis - Python API\n",
    "\n",
    "We can use the python API to gather the free energies for both phases by passing the results of executing the DAGs and calling the `gather()` methods of `RelativeLigandTransform`.\n",
    "This takes a **list** of completed DAG results, catering for when simulations have been extended."
   ]
  },
  {
   "cell_type": "markdown",
   "id": "f69eb5cb-88ce-4e11-b05e-5591a2ed66c2",
   "metadata": {
    "colab": {
     "base_uri": "https://localhost:8080/"
    },
    "id": "fd1332db",
    "outputId": "5b7d8379-d10d-4bf7-eb32-527998843e91",
    "tags": [
     "nbval-skip"
    ]
   },
   "source": [
    "For production use we recommend saving the transformations to disk and using `openfe quickrun` to run them in an HPC environment, but for completeness, below is a python snippet that will run the transformations we defined earlier and then analyze the results. \n",
    "\n",
    "``` python\n",
    "# Finally we can run the simulations\n",
    "complex_path = pathlib.Path('./complex')\n",
    "complex_path.mkdir()\n",
    "\n",
    "# First the complex transformation\n",
    "complex_dag_results = execute_DAG(complex_dag, scratch_basedir=complex_path, shared_basedir=complex_path)\n",
    "\n",
    "# Next the solvent state transformation\n",
    "solvent_path = pathlib.Path('./solvent')\n",
    "solvent_path.mkdir()\n",
    "\n",
    "solvent_dag_results = execute_DAG(solvent_dag, scratch_basedir=solvent_path, shared_basedir=solvent_path)\n",
    "\n",
    "# Get the complex and solvent results\n",
    "complex_results = rbfe_protocol.gather([complex_dag_results])\n",
    "solvent_results = rbfe_protocol.gather([solvent_dag_results])\n",
    "\n",
    "print(f\"Complex dG: {complex_results.get_estimate()}, err {complex_results.get_uncertainty()}\")\n",
    "print(f\"Solvent dG: {solvent_results.get_estimate()}, err {solvent_results.get_uncertainty()}\")\n",
    "```"
   ]
  },
  {
   "cell_type": "markdown",
   "id": "c3a26c6b-c958-4607-a191-f84c626d2db1",
   "metadata": {},
   "source": [
    "# 3. Useful References for Exploring OpenFE Further"
   ]
  },
  {
   "cell_type": "markdown",
   "id": "2dc92d40-5a28-404f-bbff-5081cec5f995",
   "metadata": {},
   "source": [
    "In our [documentation](https://docs.openfree.energy/en/latest/index.html), \n",
    "we provide tutorials for ever protocol to walk you through setup, execution and analysis step by step.\n",
    "\n",
    "* [RBFE CLI tutorial](https://docs.openfree.energy/en/latest/tutorials/rbfe_cli_tutorial.html)\n",
    "* [RBFE Python tutorial](https://docs.openfree.energy/en/latest/tutorials/rbfe_python_tutorial.html)\n",
    "* [AHFE tutorial](https://docs.openfree.energy/en/latest/tutorials/ahfe_tutorial.html)\n",
    "* [MD tutorial](https://docs.openfree.energy/en/latest/tutorials/md_tutorial.html)\n",
    "\n",
    "In addition to the tutorials, you can find [cookbooks](https://docs.openfree.energy/en/latest/cookbook/index.html), written as How-to guides on how to utilize different components of the toolkit, as well as a [User Guide](https://docs.openfree.energy/en/latest/guide/index.html) that goes into the underlying concepts of the OpenFE toolkit.\n",
    "\n",
    "For details about the toolkit's core methods and classes, please visit our [API Reference](https://docs.openfree.energy/en/latest/reference/index.html) or our [Github page](https://github.com/OpenFreeEnergy/openfe).\n",
    "\n",
    "To learn more about the project, our team and how you can get involved, please visit our [Homepage](https://openfree.energy/) or get in touch at OpenFreeEnergy@omsf.io."
   ]
  }
 ],
 "metadata": {
  "accelerator": "GPU",
  "colab": {
   "gpuType": "T4",
   "provenance": []
  },
  "kernelspec": {
   "display_name": "Python 3 (ipykernel)",
   "language": "python",
   "name": "python3"
  },
  "language_info": {
   "codemirror_mode": {
    "name": "ipython",
    "version": 3
   },
   "file_extension": ".py",
   "mimetype": "text/x-python",
   "name": "python",
   "nbconvert_exporter": "python",
   "pygments_lexer": "ipython3",
   "version": "3.13.7"
  }
 },
 "nbformat": 4,
 "nbformat_minor": 5
}
