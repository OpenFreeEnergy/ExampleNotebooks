{
 "cells": [
  {
   "cell_type": "markdown",
   "id": "3bae4c80d0f2",
   "metadata": {
    "id": "3bae4c80d0f2"
   },
   "source": [
    "# OpenFE Showcase: Relative Binding Free Energy of T4 Lysozyme\n"
   ]
  },
  {
   "cell_type": "markdown",
   "id": "8eea1a56-3241-4ccf-9d3a-88de6bbf0e0e",
   "metadata": {},
   "source": [
    "# Intro\n",
    "\n",
    "* OpenFE lets you mix and match stuff -- in this notebook we focus on showing off everything you can do\n",
    "* See [links] for tutorial style notebooks\n"
   ]
  },
  {
   "cell_type": "markdown",
   "id": "AUgaKFN7eCt5",
   "metadata": {
    "id": "AUgaKFN7eCt5",
    "nbsphinx": "hidden"
   },
   "source": [
    "## 0. Setup for Google Colab\n",
    "TODO:  Clean this up and see if we can make it clean + hide it\n",
    "\n",
    "If you are running this example in Google Colab, run the following cells to setup the environment. If you are running this notebook locally, skip down to `1. Overview`"
   ]
  },
  {
   "cell_type": "code",
   "execution_count": 1,
   "id": "-jX9udRGehD3",
   "metadata": {
    "colab": {
     "base_uri": "https://localhost:8080/"
    },
    "id": "-jX9udRGehD3",
    "nbsphinx": "hidden",
    "outputId": "78a0d40d-a6d2-4a93-a041-406a8cb551b9",
    "tags": []
   },
   "outputs": [
    {
     "name": "stdout",
     "output_type": "stream",
     "text": [
      "⏬ Downloading https://github.com/OpenFreeEnergy/ExampleNotebooks/releases/download/april-2023/OpenFEforge-June-2023-Linux-x86_64.sh...\n",
      "📦 Installing...\n",
      "📌 Adjusting configuration...\n",
      "🩹 Patching environment...\n",
      "⏲ Done in 0:01:32\n",
      "🔁 Restarting kernel...\n"
     ]
    }
   ],
   "source": [
    "# NBVAL_SKIP\n",
    "# Only run this cell if on google colab\n",
    "import os\n",
    "if \"COLAB_RELEASE_TAG\" in os.environ:\n",
    "    !pip install -q condacolab\n",
    "    import condacolab\n",
    "    condacolab.install_from_url(\"https://github.com/OpenFreeEnergy/ExampleNotebooks/releases/download/april-2023/OpenFEforge-June-2023-Linux-x86_64.sh\")"
   ]
  },
  {
   "cell_type": "code",
   "execution_count": 1,
   "id": "dlCARZ2_fAI4",
   "metadata": {
    "colab": {
     "base_uri": "https://localhost:8080/"
    },
    "id": "dlCARZ2_fAI4",
    "nbsphinx": "hidden",
    "outputId": "d528f4dc-5105-4288-ea08-9b2e75d442ff",
    "tags": []
   },
   "outputs": [
    {
     "name": "stdout",
     "output_type": "stream",
     "text": [
      "Fetching https://raw.githubusercontent.com/OpenFreeEnergy/ExampleNotebooks/main/openmm_rbfe/inputs/181L_mod_capped_protonated.pdb\n",
      "Fetching https://raw.githubusercontent.com/OpenFreeEnergy/ExampleNotebooks/main/openmm_rbfe/inputs/Jnk1_ligands.sdf\n",
      "Fetching https://raw.githubusercontent.com/OpenFreeEnergy/ExampleNotebooks/main/openmm_rbfe/inputs/benzene.sdf\n",
      "Fetching https://raw.githubusercontent.com/OpenFreeEnergy/ExampleNotebooks/main/openmm_rbfe/inputs/ligands.sdf\n",
      "Fetching https://raw.githubusercontent.com/OpenFreeEnergy/ExampleNotebooks/main/openmm_rbfe/inputs/styrene.sdf\n",
      "✨🍰✨ Everything looks OK!\n"
     ]
    }
   ],
   "source": [
    "# NBVAL_SKIP\n",
    "# Only run this cell if on google colab\n",
    "import os\n",
    "if \"COLAB_RELEASE_TAG\" in os.environ:\n",
    "    import condacolab\n",
    "    import locale\n",
    "    locale.getpreferredencoding = lambda: \"UTF-8\"\n",
    "    !mkdir inputs && cd inputs && openfe fetch rbfe-showcase\n",
    "    for _ in range(3):\n",
    "      # Sometimes we have to re-run the check\n",
    "      try:\n",
    "        condacolab.check()\n",
    "      except:\n",
    "        pass\n",
    "      else:\n",
    "        break"
   ]
  },
  {
   "cell_type": "markdown",
   "id": "0eaea8f6",
   "metadata": {
    "id": "0eaea8f6"
   },
   "source": [
    "## 1. Overview\n",
    "\n",
    "introduce tyk2 system "
   ]
  },
  {
   "cell_type": "markdown",
   "id": "e9a7f137",
   "metadata": {
    "id": "e9a7f137"
   },
   "source": [
    "### Alchemical transformations of tyk2 ligands\n",
    "\n",
    "use our tools to load and viz ligands"
   ]
  },
  {
   "cell_type": "markdown",
   "id": "0870f84e",
   "metadata": {
    "id": "0870f84e"
   },
   "source": [
    "### The plan\n",
    "\n",
    "Here is what we will achieve in this notebook and what software toolchains are\n",
    "used along the way.\n",
    "\n",
    "TODO Update this to include cinnabun \n",
    "\n",
    "| **Actions**                    | **Software**                                                |\n",
    "|:------------------------------:|:-----------------------------------------------------------:|\n",
    "| Create OpenFE Molecules        | OpenFE  RDKit                                            |\n",
    "| Create Radial Network          | OpenFE  Lomap, Networkx                                  |\n",
    "| Visualise Network              | OpenFE  NetworkX, RDKit, Matplotlib                      |\n",
    "| Create ligand topologies       | OpenFE interface - OpenFF tk                             |\n",
    "| Create hybrid OpenMM topology  | OpenFE interface - OpenMMTools (eventually - ex Perses)  |\n",
    "| Create Lambda Protocol         | OpenFE interface - OpenMMTools (eventually - ex Perses)  |\n",
    "| Setup and run RBFE calculation | OpenFE interface - OpenMM + OpenMMTools                  |\n",
    "| Analysis RBFE calculation      | OpenFE interface - PyMBAR + OpenMMTools                  |\n",
    "\n",
    "\n",
    "A complete overview of the setup and simulation process starting from initial SDF and PDB files can be found [in this diagram](./assets/RBFE_workflow.drawio.pdf)."
   ]
  },
  {
   "cell_type": "markdown",
   "id": "14ade1f0",
   "metadata": {
    "id": "14ade1f0"
   },
   "source": [
    "## 2. Creating a transformation network"
   ]
  },
  {
   "cell_type": "markdown",
   "id": "f734578f",
   "metadata": {
    "id": "f734578f"
   },
   "source": [
    "### Creating OpenFE SmallMoleculeComponents\n",
    "\n",
    "In order to keep track of the various inputs being passed through the OpenFE\n",
    "toolkit, OpenFE implements a set of Components which define the proteins,\n",
    "small molecules and solvent components which a system may contain. Here we\n",
    "use the [SmallMoleculeComponent](https://github.com/OpenFreeEnergy/gufe/blob/main/gufe/smallmoleculecomponent.py)\n",
    "which takes in either [RDKit molecules](https://www.rdkit.org/docs/source/rdkit.Chem.rdmolfiles.html)\n",
    "or [OpenFF molecules](https://open-forcefield-toolkit.readthedocs.io/en/0.9.2/api/generated/openff.toolkit.topology.Molecule.html).\n",
    "\n",
    "In the backend, OpenFE treats the RDKit molecules as the central representation\n",
    "of the ligands, and uses the OpenFF toolkit to convert between objects from\n",
    "various toolchains (for example OpenEye's OEMol).\n",
    "\n",
    "Here we demonstrate how to load the ligands from `inputs/ligands.sdf` into a\n",
    "list of OpenFE SmallMoleculeComponents for further processing.\n",
    "\n",
    "TODO: Show loading molecule using openff tk "
   ]
  },
  {
   "cell_type": "code",
   "execution_count": 2,
   "id": "4096ce97",
   "metadata": {
    "id": "4096ce97"
   },
   "outputs": [],
   "source": [
    "from openfe import SmallMoleculeComponent\n",
    "\n",
    "# Create and SDF supplier\n",
    "# Extract the contents of the sdf file and visualise it\n",
    "ligands_sdf = Chem.SDMolSupplier('inputs/ligands.sdf', removeHs=False)\n",
    "\n",
    "# Now pass these to form a list of Molecules\n",
    "ligand_mols = [SmallMoleculeComponent(sdf) for sdf in ligands_sdf]"
   ]
  },
  {
   "cell_type": "markdown",
   "id": "3a8d5433",
   "metadata": {
    "id": "3a8d5433"
   },
   "source": [
    "OpenFE SmallMoleculeComponents have some useful built in attributes and methods.\n",
    "\n",
    "For example the molecule's name (as defined by the SDF file) can be accessed"
   ]
  },
  {
   "cell_type": "code",
   "execution_count": 3,
   "id": "faacbebb",
   "metadata": {
    "colab": {
     "base_uri": "https://localhost:8080/"
    },
    "id": "faacbebb",
    "outputId": "bc0ad1d9-72ad-49d0-e322-61b2a87d5301"
   },
   "outputs": [
    {
     "name": "stdout",
     "output_type": "stream",
     "text": [
      "name:  benzene\n"
     ]
    }
   ],
   "source": [
    "print(\"name: \", ligand_mols[0].name)"
   ]
  },
  {
   "cell_type": "markdown",
   "id": "b24a3ffa",
   "metadata": {
    "id": "b24a3ffa"
   },
   "source": [
    "As previously stated SmallMoleculeComponents also use the OpenFF backend to allow conversion between different object types. For example it's possible to obtain an openff Molecule:"
   ]
  },
  {
   "cell_type": "code",
   "execution_count": 5,
   "id": "29b7c68a",
   "metadata": {
    "colab": {
     "base_uri": "https://localhost:8080/"
    },
    "id": "29b7c68a",
    "outputId": "39e7a77a-d2b8-49d2-8f70-fd8118845a99"
   },
   "outputs": [
    {
     "data": {
      "text/plain": [
       "openff.toolkit.topology.molecule.Molecule"
      ]
     },
     "execution_count": 5,
     "metadata": {},
     "output_type": "execute_result"
    }
   ],
   "source": [
    "type(ligand_mols[0].to_openff())"
   ]
  },
  {
   "cell_type": "markdown",
   "id": "de4592a7",
   "metadata": {
    "id": "de4592a7"
   },
   "source": [
    "### Creating a network\n",
    "\n",
    "From these SmallMoleculeComponents we can quickly create a star map network which centers\n",
    "around the first ligand in our sdf file (benzene) using\n",
    "`openfe.setup.ligand_network_planning.generate_radial_network`.\n",
    "\n",
    "Here we use Lomap (via the OpenFE interface LomapAtomMapper) to define the atom mappings between the various ligands and the central benzene structure. Whilst\n",
    "we use the defaults here, please note that the various supported arguments of\n",
    "Lomap can be passed to LomapAtomMapper.\n",
    "\n",
    "Note: LomapAtomMapper is one of three currently implemented Mappers in OpenFE,\n",
    "the other two being the Kartograf atom mapper and the rjmc mapper from Perses. Long term, users will be able to pass serveral\n",
    "mappers and atom mapping scoring methods on network generation.\n",
    "\n",
    "TODO show off different network types\n",
    "\n",
    "TODO add karto-graph-o"
   ]
  },
  {
   "cell_type": "code",
   "execution_count": 6,
   "id": "5b89da93",
   "metadata": {
    "id": "5b89da93"
   },
   "outputs": [],
   "source": [
    "# Create network from the two molecules\n",
    "from openfe.setup.ligand_network_planning import generate_radial_network\n",
    "from openfe.setup import LomapAtomMapper\n",
    "\n",
    "network = generate_radial_network(ligands=ligand_mols[1:],\n",
    "                                  central_ligand=ligand_mols[0],\n",
    "                                  mappers=[LomapAtomMapper(threed=True, element_change=False),])"
   ]
  },
  {
   "cell_type": "code",
   "execution_count": 7,
   "id": "9f92262f",
   "metadata": {
    "colab": {
     "base_uri": "https://localhost:8080/",
     "height": 317
    },
    "id": "9f92262f",
    "outputId": "d8dc47c7-c487-4f78-9e19-c388ef6a7c51"
   },
   "outputs": [
    {
     "data": {
      "image/png": "[encoded data removed]",
      "text/plain": [
       "<IPython.core.display.Image object>"
      ]
     },
     "metadata": {},
     "output_type": "display_data"
    }
   ],
   "source": [
    "edges = [edge for edge in network.edges]\n",
    "edge = edges[0]\n",
    "edge"
   ]
  },
  {
   "cell_type": "markdown",
   "id": "3098268e",
   "metadata": {
    "id": "3098268e"
   },
   "source": [
    "This network contains a set of 6 edges centered around the benzene molecule\n",
    "which define the various atom mappings between the the transformation pairs.\n"
   ]
  },
  {
   "cell_type": "markdown",
   "id": "c0154dad",
   "metadata": {
    "id": "c0154dad"
   },
   "source": [
    "Edges along the network can be accessed to recover the invidual molecules\n",
    "involved in that given alchemical tranformation, and the atom mapping between\n",
    "the two ligands.\n",
    "\n",
    "**Note: as can be seen in the example below, transformations are defined within OpenFE as going from componentA to componentB**"
   ]
  },
  {
   "cell_type": "code",
   "execution_count": 8,
   "id": "ce9c2525",
   "metadata": {
    "colab": {
     "base_uri": "https://localhost:8080/"
    },
    "id": "ce9c2525",
    "outputId": "191c98a6-d97e-4de0-9537-ccddf41b1e4c"
   },
   "outputs": [
    {
     "name": "stdout",
     "output_type": "stream",
     "text": [
      "molecule A smiles:  c1ccccc1\n",
      "molecule B smiles:  O=Cc1ccccc1\n",
      "map between molecule A and B:  {0: 3, 1: 4, 2: 5, 3: 6, 4: 7, 5: 8, 6: 9, 7: 10, 8: 11, 9: 12, 11: 13}\n"
     ]
    }
   ],
   "source": [
    "transform_edges = [edge for edge in network.edges]\n",
    "print(\"molecule A smiles: \", transform_edges[0].componentA.smiles)\n",
    "print(\"molecule B smiles: \", transform_edges[0].componentB.smiles)\n",
    "print(\"map between molecule A and B: \", transform_edges[0].componentA_to_componentB)"
   ]
  },
  {
   "cell_type": "markdown",
   "id": "ee0b19b7",
   "metadata": {
    "id": "ee0b19b7"
   },
   "source": [
    "We can also visualise the atom mappings by invoking the individual OpenFE\n",
    "AtomMapping objects directly.\n",
    "\n",
    "Here we show how to draw two mappings for benzene -> phenol and benzene -> anisole.\n",
    "\n",
    "Unique atoms between each mapping are shown in red, and atoms which are mapped\n",
    "but undergo element changes are shown in blue. Bonds which either involve atoms that are unique or undergo element changes are highlighted in red."
   ]
  },
  {
   "cell_type": "code",
   "execution_count": 9,
   "id": "0c0aee78",
   "metadata": {
    "colab": {
     "base_uri": "https://localhost:8080/",
     "height": 317
    },
    "id": "0c0aee78",
    "outputId": "6e2f6497-8d17-4054-e319-4886b3383533"
   },
   "outputs": [
    {
     "data": {
      "image/png": "[encoded data removed]",
      "text/plain": [
       "<IPython.core.display.Image object>"
      ]
     },
     "metadata": {},
     "output_type": "display_data"
    }
   ],
   "source": [
    "# Get the edge with phenol\n",
    "edge = [edge for edge in network.edges if edge.componentB.name == \"phenol\"][0]\n",
    "edge"
   ]
  },
  {
   "cell_type": "code",
   "execution_count": 10,
   "id": "cdcfae45",
   "metadata": {
    "colab": {
     "base_uri": "https://localhost:8080/",
     "height": 317
    },
    "id": "cdcfae45",
    "outputId": "c9037679-60ff-4085-80ec-acbe28a68077"
   },
   "outputs": [
    {
     "data": {
      "image/png": "[encoded data removed]",
      "text/plain": [
       "<IPython.core.display.Image object>"
      ]
     },
     "metadata": {},
     "output_type": "display_data"
    }
   ],
   "source": [
    "# Get edge for anisole\n",
    "edge = [edge for edge in network.edges if edge.componentB.name == \"anisole\"][0]\n",
    "edge"
   ]
  },
  {
   "cell_type": "code",
   "execution_count": 11,
   "id": "66dd7d32",
   "metadata": {
    "colab": {
     "base_uri": "https://localhost:8080/",
     "height": 317
    },
    "id": "66dd7d32",
    "outputId": "13a421f2-ce17-49c6-aac0-e3c157d59a91"
   },
   "outputs": [
    {
     "data": {
      "image/png": "[encoded data removed]",
      "text/plain": [
       "<IPython.core.display.Image object>"
      ]
     },
     "execution_count": 11,
     "metadata": {},
     "output_type": "execute_result"
    }
   ],
   "source": [
    "from IPython.display import Image\n",
    "\n",
    "# mappings can also be saved to file if required\n",
    "edge = [edge for edge in network.edges if edge.componentB.name == \"anisole\"][0]\n",
    "edge.draw_to_file('benzene-to-anisole.png')\n",
    "\n",
    "# load it back for visualisation\n",
    "Image(\"benzene-to-anisole.png\")"
   ]
  },
  {
   "cell_type": "markdown",
   "id": "8e119e3e",
   "metadata": {
    "id": "8e119e3e"
   },
   "source": [
    "### Storing the network\n",
    "\n",
    "Created networks can easily be converted to (and also loaded from) as a GraphML representation.\n",
    "\n",
    "This can allow users of OpenFE to store the network to disk for later use.\n",
    "\n",
    "MMH: I think keeping that you can store the network is fine but we don't need more than this + the small code snnipit "
   ]
  },
  {
   "cell_type": "code",
   "execution_count": 14,
   "id": "0be4c1f4",
   "metadata": {
    "id": "0be4c1f4"
   },
   "outputs": [],
   "source": [
    "# Convert to graphml\n",
    "with open(\"network_store.graphml\", \"w\") as writer:\n",
    "    writer.write(network.to_graphml())"
   ]
  },
  {
   "cell_type": "markdown",
   "id": "ac41ea4d",
   "metadata": {
    "id": "ac41ea4d"
   },
   "source": [
    "### The OpenFE CLI\n",
    "\n",
    "The OpenFE toolkit also has a command line interface which we plan to add several convenience methods to.\n",
    "\n",
    "For now functionality is limited to atom mapping, but it will be expanded upon as the project grows.\n",
    "\n",
    "TODO: How about we move the CLI to the end and say \"you can do x, y, and z\" with the CLI (Or just say \"Oh we also have a CLI tool and it can do everything you just read about in this notebook) "
   ]
  },
  {
   "cell_type": "code",
   "execution_count": 17,
   "id": "eecd0fea",
   "metadata": {
    "colab": {
     "base_uri": "https://localhost:8080/"
    },
    "id": "eecd0fea",
    "outputId": "c64ee46e-aada-49f0-f8e7-05c3aaa48b9d"
   },
   "outputs": [
    {
     "name": "stdout",
     "output_type": "stream",
     "text": [
      "Usage: openfe [OPTIONS] COMMAND [ARGS]...\n",
      "\n",
      "  This is the command line tool to provide easy access to functionality from\n",
      "  the OpenFE Python library.\n",
      "\n",
      "Options:\n",
      "  --version   Show the version and exit.\n",
      "  --log PATH  logging configuration file\n",
      "  -h, --help  Show this message and exit.\n",
      "\n",
      "Network Planning Commands:\n",
      "  view-ligand-network  Visualize a ligand network\n",
      "  plan-rhfe-network    Plan a relative hydration free energy network, saved as\n",
      "                       JSON files for the quickrun command.\n",
      "  plan-rbfe-network    Plan a relative binding free energy network, saved as\n",
      "                       JSON files for the quickrun command.\n",
      "\n",
      "Quickrun Executor Commands:\n",
      "  gather    Gather result jsons for network of RFE results into a TSV file\n",
      "  quickrun  Run a given transformation, saved as a JSON file\n",
      "\n",
      "Miscellaneous Commands:\n",
      "  test   Run the OpenFE test suite\n",
      "  fetch  Fetch tutorial or other resource.\n"
     ]
    }
   ],
   "source": [
    "# Call help on the OpenFE CLI\n",
    "!openfe --help"
   ]
  },
  {
   "cell_type": "markdown",
   "id": "5d609a0a",
   "metadata": {
    "id": "5d609a0a"
   },
   "source": [
    "## 3. Running a Relative Ligand Binding Free Energy Calculation"
   ]
  },
  {
   "cell_type": "markdown",
   "id": "d795f993",
   "metadata": {
    "id": "d795f993"
   },
   "source": [
    "Now that we have a set of atom mappings defined, we know which atoms should\n",
    "undergo alchemical transformations to capture the free energy cost of\n",
    "transforming from one ligand to another.\n",
    "\n",
    "To simulate this transformation we use the equilibrium RBFE protocol\n",
    "implemented in OpenFE. This uses OpenMM to run a Perses-like relative\n",
    "ligand binding free energy calculation using a single topology approach.\n",
    "\n",
    "To achieve this simulation, the following steps need to happen:\n",
    "\n",
    "1. Create OpenMM systems of both end states\n",
    "\n",
    "\n",
    "2. Create a hybrid topology based on these defined endstates\n",
    "\n",
    "\n",
    "3. Set an appropriate Lambda schedule\n",
    "\n",
    "\n",
    "4. Set a MultiState reporter to write out appropriate coordinates and energies\n",
    "\n",
    "\n",
    "5. Create an OpenMM sampler (in this case we will be using a replica exchange sampler)\n",
    "\n",
    "\n",
    "6. Carry out the necessary simulation steps (minimization, equilibration, and production)\n",
    "\n",
    "\n",
    "The `RelativeHybridTopologyProtocol` class in `openfe.protocols.openmm_rfe`\n",
    "implements a means to achieve all the above with minimal intervention.\n",
    "\n",
    "Here we work through its usage for the benzene -> phenol binding free energy\n",
    "test case. As this involves both a relative binding free energy in solvent\n",
    "and complex phases, the `RelativeHybridTopologyProtocol` Protocol will\n",
    "be used to build two separate `ProtocolDAG` (directed-acyclic-graph) classes, one for each phase.\n",
    "These `DAG`s (which contain the necessary individual simulations), are then executed to yield\n",
    "the desired free energy results.\n",
    "\n",
    "**Note: the underlying components used for the creation of OpenMM hybrid\n",
    "topologies and samplers is still in flux, originating mostly from Perses.\n",
    "Please consider these to be in beta.**"
   ]
  },
  {
   "cell_type": "markdown",
   "id": "cc80f3fb",
   "metadata": {
    "id": "cc80f3fb"
   },
   "source": [
    "### Defining the ChemicalSystems\n",
    "\n",
    "`ChemicalSystems` are OpenFE containers which define the various components\n",
    "which exist in a system of interest. You can consider these to be the nodes\n",
    "along an alchemical network which are connected by edges which carry out\n",
    "calculations along Alchemical states to get free energies.\n",
    "\n",
    "`ChemicalSystems` take in three different things:\n",
    "\n",
    "1. A dictionary of the chemical components (e.g. `SmallMoleculeComponent`,\n",
    "   `ProteinComponent`, `SolventComponent`) defining the system.\n",
    "\n",
    "\n",
    "2. Box vectors (optional), defining the shape and size of the unit cell of the\n",
    "   system.\n",
    "\n",
    "\n",
    "3. An identifier name (optional), for the `ChemicalSystem`. This is used as part\n",
    "   of the hash identifier of the `ChemicalSystem`, and can help distinguish between\n",
    "   otherwise comparable systems."
   ]
  },
  {
   "cell_type": "markdown",
   "id": "f5506f1a",
   "metadata": {
    "id": "f5506f1a"
   },
   "source": [
    "In the case of a relative ligand binding free energy calculation for benzene -> phenol,\n",
    "four `ChemicalSystems` must be defined:\n",
    "\n",
    "1. Benzene in complex with T4 lysozyme in a box of water\n",
    "\n",
    "\n",
    "2. Phenol in complex with T4 lysozyme in a box of water\n",
    "\n",
    "\n",
    "3. Benzene in a box of water\n",
    "\n",
    "\n",
    "4. Phenol in a box of water\n",
    "\n",
    "\n",
    "Here we will be passing the previously defined `SmallMoleculeComponents` for benzene\n",
    "and phenol. We will also pass a `ProteinComponent` generated from the PDB file\n",
    "present under `inputs/181L_mod_capped_protonated.pdb`. Finally, instead of passing\n",
    "in a specific box of water, we will define a `SolventComponent` which will contain\n",
    "the necessary information for OpenMM's `Modeller` class to add water and 0.15 M NaCl\n",
    "around the solute when creating the OpenMM simulation objects."
   ]
  },
  {
   "cell_type": "code",
   "execution_count": 20,
   "id": "0b6c9ec3",
   "metadata": {
    "id": "0b6c9ec3"
   },
   "outputs": [],
   "source": [
    "# First let's define the Protein and Solvent Components which we will be using\n",
    "from openfe import SolventComponent, ProteinComponent\n",
    "from openff.units import unit\n",
    "\n",
    "protein = ProteinComponent.from_pdb_file('inputs/181L_mod_capped_protonated.pdb')\n",
    "\n",
    "# Note: the distance from the solute to add water is not defined here but in the\n",
    "# the relevant RBFE solver method\n",
    "solvent = SolventComponent(positive_ion='Na', negative_ion='Cl',\n",
    "                           neutralize=True, ion_concentration=0.15*unit.molar)"
   ]
  },
  {
   "cell_type": "code",
   "execution_count": 21,
   "id": "8c6d6504",
   "metadata": {
    "colab": {
     "base_uri": "https://localhost:8080/",
     "height": 317
    },
    "id": "8c6d6504",
    "outputId": "47026705-938a-4e62-f1af-66e9c50334aa"
   },
   "outputs": [
    {
     "data": {
      "image/png": "[encoded data removed]",
      "text/plain": [
       "<IPython.core.display.Image object>"
      ]
     },
     "metadata": {},
     "output_type": "display_data"
    }
   ],
   "source": [
    "# Extract the relevant edge for the benzene -> phenol transform in the radial graph\n",
    "benz_to_phenol = [edge for edge in network.edges if edge.componentB.name == \"phenol\"][0]\n",
    "\n",
    "benz_to_phenol"
   ]
  },
  {
   "cell_type": "code",
   "execution_count": 22,
   "id": "23b778d6",
   "metadata": {
    "id": "23b778d6"
   },
   "outputs": [],
   "source": [
    "# Let's create the four ChemicalSystems\n",
    "from openfe import ChemicalSystem\n",
    "\n",
    "benzene_complex = ChemicalSystem({'ligand': benz_to_phenol.componentA,\n",
    "                                  'solvent': solvent,\n",
    "                                  'protein': protein,})\n",
    "benzene_solvent = ChemicalSystem({'ligand': benz_to_phenol.componentA,\n",
    "                                  'solvent': solvent,})\n",
    "\n",
    "phenol_complex = ChemicalSystem({'ligand': benz_to_phenol.componentB,\n",
    "                                 'solvent': solvent,\n",
    "                                 'protein': protein,})\n",
    "phenol_solvent = ChemicalSystem({'ligand': benz_to_phenol.componentB,\n",
    "                                 'solvent': solvent,})"
   ]
  },
  {
   "cell_type": "markdown",
   "id": "fdfc694f",
   "metadata": {
    "id": "fdfc694f"
   },
   "source": [
    "### Defining the RBFE simulation settings\n",
    "\n",
    "TODO: replace this with \"we provide reasonable defaults and they are easy to modify\"\n",
    "\n",
    "\n",
    "\n",
    "1. `protocol_repeats`: The number of completely independent repeats of the entire sampling process.\n",
    "\n",
    "2. `simulation_settings`: Parameters controling the simulation plan and the alchemical sampler, including the number of minimization steps, lengths of equilibration and production runs, the sampler method (e.g. Hamiltonian replica exchange, `repex`), and the time interval at which to perform an analysis of the free energies.\n",
    "\n",
    "3. `output_settings`: Simulation output control settings, including the frequency to write a checkpoint file, the selection string for which part of the system to write coordinates for, and the paths to the trajectory and output structure storage files.\n",
    "\n",
    "4. `alchemical_settings`: Parameters controlling the creation of the hybrid topology system. This includes various parameters ranging from softcore parameters, through to whether or not to apply an explicit charge correction for systems with net charge changes.\n",
    "\n",
    "5. `engine_settings`: Parameters determining how the OpenMM engine will execute the simulation. This controls the compute platform which will be used to carry out the simulation.\n",
    "\n",
    "6. `integrator_settings`: Parameters controlling the `LangevinSplittingDynamicsMove` integrator used for simulation.\n",
    "\n",
    "7. `lambda_settings`: Lambda protocol settings, including number of lambda windows and lambda functions.\n",
    "\n",
    "8. `forcefield_settings`: Parameters to set up the force field with OpenMM Force Fields, including the general forcefields, the small molecule forcefield, the nonbonded method, and the nonbonded cutoff.\n",
    "\n",
    "9. `thermo_settings`: Settings for thermodynamic parameters, such as the temperature and the pressure of the system.\n",
    "\n",
    "10. `solvation_settings`: Settings for solvating the system, including the solvent model and the solvent padding.\n",
    "\n",
    "11. `partial_charge_settings`: Settings for assigning partial charges to small molecules, including the partial charge method (e.g. `am1bcc`) and the openff toolkit backend (e.g. `ambertools` or `openeye`)."
   ]
  },
  {
   "cell_type": "code",
   "execution_count": 1,
   "id": "7d9fe95a",
   "metadata": {
    "id": "7d9fe95a"
   },
   "outputs": [],
   "source": [
    "# Show importing default and change 1 or 2 settings"
   ]
  },
  {
   "cell_type": "markdown",
   "id": "ab0eaea9",
   "metadata": {
    "id": "ab0eaea9"
   },
   "source": [
    "### Creating the RelativeLigandTransform Protocol\n",
    "\n",
    "With the Settings inspected and adjusted, we can provide these to the Protocol.\n",
    "This Protocol defines the procedure to estimate a free energy difference between two chemical systems,\n",
    "with the details of the two end states yet to be defined."
   ]
  },
  {
   "cell_type": "code",
   "execution_count": 31,
   "id": "d1829ab6",
   "metadata": {
    "id": "d1829ab6"
   },
   "outputs": [],
   "source": [
    "# Create RBFE Protocol class\n",
    "rbfe_transform = RelativeHybridTopologyProtocol(\n",
    "    settings=rbfe_settings\n",
    ")"
   ]
  },
  {
   "cell_type": "markdown",
   "id": "7f5c142d",
   "metadata": {
    "id": "7f5c142d"
   },
   "source": [
    "### Simulating the RelativeLigandTransforms\n",
    "\n",
    "Individual Units can then be executed by calling the `.execute()` method.\n",
    "\n",
    "In the first instance we do a dry-run (which does everything but\n",
    "starting the simulation) to make sure that the\n",
    "hybrid openmm system can be constructed without any issues.\n",
    "Note: A successful call to `.run()` will return an empty Dictionary."
   ]
  },
  {
   "cell_type": "code",
   "execution_count": null,
   "id": "981cde0c",
   "metadata": {
    "colab": {
     "base_uri": "https://localhost:8080/"
    },
    "id": "981cde0c",
    "outputId": "812389bc-3730-416b-8154-79e0e1fb4346",
    "scrolled": true
   },
   "outputs": [],
   "source": [
    "# complex dry-run\n",
    "complex_unit = list(complex_dag.protocol_units)[0]\n",
    "\n",
    "complex_unit.run(dry=True, verbose=True)"
   ]
  },
  {
   "cell_type": "code",
   "execution_count": null,
   "id": "77accb06",
   "metadata": {
    "colab": {
     "base_uri": "https://localhost:8080/"
    },
    "id": "77accb06",
    "outputId": "e0b977c0-7e72-4a49-d3ea-eb0cdb85ed5d",
    "scrolled": true
   },
   "outputs": [],
   "source": [
    "# solvent dry-run\n",
    "solvent_unit = list(solvent_dag.protocol_units)[0]\n",
    "\n",
    "solvent_unit.run(dry=True, verbose=True)"
   ]
  },
  {
   "cell_type": "markdown",
   "id": "be9629de",
   "metadata": {
    "id": "be9629de"
   },
   "source": [
    "### Executing the simulations.\n",
    "\n",
    "TODO: explain here there are 4 ways to run sims, quick run, exorcist, alchemiscale, python API"
   ]
  },
  {
   "cell_type": "markdown",
   "id": "e07d1e29",
   "metadata": {
    "id": "e07d1e29"
   },
   "source": [
    "## 4. Analysis"
   ]
  },
  {
   "cell_type": "markdown",
   "id": "2accbbd1",
   "metadata": {
    "id": "2accbbd1"
   },
   "source": [
    "Finally now that we've run our simulations, let's go ahead and gather the free\n",
    "energies for both phases.\n",
    "\n",
    "This can be achieved by passing the results of executing the DAGs calling the `gather()` methods of `RelativeLigandTransform`.\n",
    "This takes a **list** of completed DAG results, catering for when simulations have been extended.\n",
    "\n",
    "TODO: add cinnabar"
   ]
  },
  {
   "cell_type": "code",
   "execution_count": 39,
   "id": "fd1332db",
   "metadata": {
    "colab": {
     "base_uri": "https://localhost:8080/"
    },
    "id": "fd1332db",
    "outputId": "5b7d8379-d10d-4bf7-eb32-527998843e91",
    "tags": [
     "nbval-skip"
    ]
   },
   "outputs": [
    {
     "name": "stdout",
     "output_type": "stream",
     "text": [
      "Complex dG: 3.8428725693840384 kilocalorie / mole, err 0.21918456914295942 kilocalorie / mole\n",
      "Solvent dG: 1.206767244454323 kilocalorie / mole, err 0.32073333466272824 kilocalorie / mole\n"
     ]
    }
   ],
   "source": [
    "# Get the complex and solvent results\n",
    "complex_results = rbfe_transform.gather([complex_dag_results])\n",
    "solvent_results = rbfe_transform.gather([solvent_dag_results])\n",
    "\n",
    "print(f\"Complex dG: {complex_results.get_estimate()}, err {complex_results.get_uncertainty()}\")\n",
    "print(f\"Solvent dG: {solvent_results.get_estimate()}, err {solvent_results.get_uncertainty()}\")"
   ]
  }
 ],
 "metadata": {
  "accelerator": "GPU",
  "colab": {
   "gpuType": "T4",
   "provenance": []
  },
  "kernelspec": {
   "display_name": "Python 3 (ipykernel)",
   "language": "python",
   "name": "python3"
  },
  "language_info": {
   "codemirror_mode": {
    "name": "ipython",
    "version": 3
   },
   "file_extension": ".py",
   "mimetype": "text/x-python",
   "name": "python",
   "nbconvert_exporter": "python",
   "pygments_lexer": "ipython3",
   "version": "3.11.8"
  }
 },
 "nbformat": 4,
 "nbformat_minor": 5
}
