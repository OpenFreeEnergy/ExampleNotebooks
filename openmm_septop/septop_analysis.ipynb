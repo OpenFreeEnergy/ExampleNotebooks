{
 "cells": [
  {
   "cell_type": "code",
   "execution_count": 1,
   "id": "7fbf1482-25ca-427b-a881-af88a983461c",
   "metadata": {},
   "outputs": [],
   "source": [
    "import numpy as np\n",
    "import glob\n",
    "import json\n",
    "import csv\n",
    "from gufe.tokenization import JSON_HANDLER"
   ]
  },
  {
   "cell_type": "code",
   "execution_count": 2,
   "id": "ac321210-9974-46e1-ab85-e1a2f0eaa721",
   "metadata": {},
   "outputs": [],
   "source": [
    "def load_results(f):\n",
    "    # path to deserialized results\n",
    "    with open(f, \"r\") as fd:\n",
    "        result = json.load(fd, cls=JSON_HANDLER.decoder)\n",
    "    return result"
   ]
  },
  {
   "cell_type": "code",
   "execution_count": 3,
   "id": "d6ea9187-6a47-4438-9e2b-2a06c9c7c657",
   "metadata": {},
   "outputs": [],
   "source": [
    "def extract(results_0, results_1, results_2, output):\n",
    "    files_0 = glob.glob(f\"{results_0}/*.json\")\n",
    "    files_1 = glob.glob(f\"{results_1}/*.json\")\n",
    "    files_2 = glob.glob(f\"{results_2}/*.json\")\n",
    "    with open(output, 'w', newline='') as csvfile:\n",
    "        writer = csv.writer(\n",
    "            csvfile,\n",
    "            delimiter=\"\\t\",\n",
    "            lineterminator=\"\\n\",  # to exactly reproduce previous, prefer \"\\r\\n\"\n",
    "        )\n",
    "        writer.writerow([\"ligand\", \"DG(i->j) (kcal/mol)\",\n",
    "                         \"uncertainty (kcal/mol)\"])\n",
    "        for file in files_0:\n",
    "            json_0 = load_results(file)\n",
    "            dg_0 = json_0[\"estimate\"].magnitude\n",
    "            try:\n",
    "                file_1 = f\"{results_1}/{file.split(\"/\")[-1]}\"\n",
    "                file_2 = f\"{results_2}/{file.split(\"/\")[-1]}\"\n",
    "                json_1 = load_results(file_1)\n",
    "                json_2 = load_results(file_2)\n",
    "                dg_1 = json_1[\"estimate\"].magnitude\n",
    "                dg_2 = json_2[\"estimate\"].magnitude\n",
    "                dgs = [dg_0, dg_1, dg_2]\n",
    "                dg = np.mean(dgs)\n",
    "                dg_error = np.std(dgs)\n",
    "                writer.writerow([file.split('/')[-1].split('.')[0], round(dg, 2), round(dg_error, 2)])\n",
    "            except FileNotFoundError:\n",
    "                continue"
   ]
  },
  {
   "cell_type": "code",
   "execution_count": null,
   "id": "6d553fd5-3f4a-4a2d-ad7d-542b31b4f9fa",
   "metadata": {},
   "outputs": [
    {
     "name": "stderr",
     "output_type": "stream",
     "text": [
      "/Users/hannahbaumann/miniforge3/envs/septop/lib/python3.12/site-packages/Bio/Application/__init__.py:39: BiopythonDeprecationWarning: The Bio.Application modules and modules relying on it have been deprecated.\n",
      "\n",
      "Due to the on going maintenance burden of keeping command line application\n",
      "wrappers up to date, we have decided to deprecate and eventually remove these\n",
      "modules.\n",
      "\n",
      "We instead now recommend building your command line and invoking it directly\n",
      "with the subprocess module.\n",
      "  warnings.warn(\n"
     ]
    }
   ],
   "source": [
    "extract('results_0', 'results_1', 'results_2', 'ddg.tsv')"
   ]
  },
  {
   "cell_type": "code",
   "execution_count": null,
   "id": "9cb87ef5-eca0-42bd-9265-e8b4d3d9f7a0",
   "metadata": {},
   "outputs": [],
   "source": []
  }
 ],
 "metadata": {
  "kernelspec": {
   "display_name": "Python 3 (ipykernel)",
   "language": "python",
   "name": "python3"
  },
  "language_info": {
   "codemirror_mode": {
    "name": "ipython",
    "version": 3
   },
   "file_extension": ".py",
   "mimetype": "text/x-python",
   "name": "python",
   "nbconvert_exporter": "python",
   "pygments_lexer": "ipython3",
   "version": "3.12.10"
  }
 },
 "nbformat": 4,
 "nbformat_minor": 5
}
