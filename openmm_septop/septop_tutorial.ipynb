{
 "cells": [
  {
   "cell_type": "markdown",
   "id": "35354229",
   "metadata": {},
   "source": [
    "# Running a SepTop RBFE calculation\n",
    "\n",
    "This tutorial gives a step-by-step process to set up a relative binding free energy (RBFE) simulation campaign using the [Separated Topologies Protocol](https://pubs.acs.org/doi/10.1021/acs.jctc.3c00282) in OpenFE.\n",
    "In this tutorial we are performing a relative binding free energy calculation of two ligands binding to TYK2.\n",
    "\n",
    "The relative binding free energy is obtained through a thermodynamic cycle. The ligands are transformed into each other both in solvent, giving \n",
    "$\\Delta\\Delta G$ (solvent) and in the complex, giving $\\Delta\\Delta G$ (complex), which allows calculation of the relative binding free energy, $\\Delta\\Delta G$. \n",
    "Each ligand is represented with its own set of coordinates, meaning that the interactions of all atoms of one ligand are turned off while simultaneously turning on the interactions of all atoms of the other ligand. Therefore, restraints are required: \n",
    "Ligands are restrained to the protein in the complex states using orientational (Boresch-style) restraints; in the solvent states ligands are restrained to remain apart from each other using a single harmonic distance restraint between the ligands. Restraints are not depicted in the thermodynamic cycle below for simplicity.\n",
    "\n",
    "**Note:** In this `Protocol`, the coulombic interactions of the molecule are fully turned off (annihilated), while the Lennard-Jones interactions are decoupled, meaning the intermolecular interactions are turned off, while keeping the intramolecular Lennard-Jones interactions."
   ]
  },
  {
   "cell_type": "markdown",
   "id": "23881797-0bd3-408b-9212-ac206d46cd39",
   "metadata": {},
   "source": [
    "<img src=\"septop_cycle.png\" width=\"600\">"
   ]
  },
  {
   "cell_type": "markdown",
   "id": "4df1661a",
   "metadata": {},
   "source": [
    "## 0. Setup for Google Colab\n",
    "\n",
    "If you are running this example in Google Colab, run the following cells to setup the environment. If you are running this notebook locally, skip down to `1. Loading the ligands`"
   ]
  },
  {
   "cell_type": "code",
   "execution_count": null,
   "id": "e178d4d3",
   "metadata": {},
   "outputs": [],
   "source": [
    "# NBVAL_SKIP\n",
    "# Only run this cell if on google colab\n",
    "import os\n",
    "if \"COLAB_RELEASE_TAG\" in os.environ:\n",
    "    !pip install -q condacolab\n",
    "    import condacolab\n",
    "    condacolab.install_from_url(\"https://github.com/OpenFreeEnergy/ExampleNotebooks/releases/download/april-2025/OpenFEforge-1.5.0a0-Linux-x86_64.sh\")"
   ]
  },
  {
   "cell_type": "code",
   "execution_count": null,
   "id": "111a9e15",
   "metadata": {},
   "outputs": [],
   "source": [
    "# NBVAL_SKIP\n",
    "# Only run this cell if on google colab\n",
    "import os\n",
    "if \"COLAB_RELEASE_TAG\" in os.environ:\n",
    "    import condacolab\n",
    "    import locale\n",
    "    locale.getpreferredencoding = lambda: \"UTF-8\"\n",
    "    !mkdir inputs && cd inputs && openfe fetch rbfe-tutorial\n",
    "    for _ in range(3):\n",
    "      # Sometimes we have to re-run the check\n",
    "      try:\n",
    "        condacolab.check()\n",
    "      except:\n",
    "        pass\n",
    "      else:\n",
    "        break"
   ]
  },
  {
   "cell_type": "markdown",
   "id": "2fea29c3",
   "metadata": {},
   "source": [
    "## 1. Loading the ligands\n",
    "\n",
    "First we must load the chemical models between which we wish to calculate free energies.\n",
    "In this example these are initially stored in a molfile (`.sdf`) containing multiple molecules.\n",
    "This can be loaded using the `SDMolSupplier` class from rdkit and passed to openfe."
   ]
  },
  {
   "cell_type": "code",
   "execution_count": 1,
   "id": "fc97de03",
   "metadata": {},
   "outputs": [],
   "source": [
    "%matplotlib inline\n",
    "import openfe"
   ]
  },
  {
   "cell_type": "code",
   "execution_count": 2,
   "id": "41cf8be7",
   "metadata": {},
   "outputs": [],
   "source": [
    "from rdkit import Chem\n",
    "supp = Chem.SDMolSupplier(\"tyk2_ligands.sdf\", removeHs=False)\n",
    "ligands = [openfe.SmallMoleculeComponent.from_rdkit(mol) for mol in supp]"
   ]
  },
  {
   "cell_type": "markdown",
   "id": "8e5de19a",
   "metadata": {},
   "source": [
    "## 2. Charging the ligands\n",
    "\n",
    "It is recommended to use a single set of charges for each ligand to ensure reproducibility between repeats or consistent charges between different legs of a calculation involving the same ligand, like a relative binding affinity calculation for example. \n",
    "\n",
    "Here we will use some utility functions from OpenFE which can assign partial charges to a series of molecules with a variety of methods which can be configured via the `OpenFFPartialChargeSettings` class. In this example \n",
    "we will charge the ligands using the `am1bcc` method from `ambertools` which is the default charge scheme used by OpenFE."
   ]
  },
  {
   "cell_type": "code",
   "execution_count": 3,
   "id": "5219106c",
   "metadata": {},
   "outputs": [
    {
     "name": "stderr",
     "output_type": "stream",
     "text": [
      "Generating charges: 100%|███████████████████████| 10/10 [02:54<00:00, 17.43s/it]\n"
     ]
    }
   ],
   "source": [
    "from openfe.protocols.openmm_utils.omm_settings import OpenFFPartialChargeSettings\n",
    "from openfe.protocols.openmm_utils.charge_generation import bulk_assign_partial_charges\n",
    "\n",
    "charge_settings = OpenFFPartialChargeSettings(partial_charge_method=\"am1bcc\", off_toolkit_backend=\"ambertools\")\n",
    "\n",
    "charged_ligands = bulk_assign_partial_charges(\n",
    "    molecules=ligands,\n",
    "    overwrite=False,  \n",
    "    method=charge_settings.partial_charge_method,\n",
    "    toolkit_backend=charge_settings.off_toolkit_backend,\n",
    "    generate_n_conformers=charge_settings.number_of_conformers,\n",
    "    nagl_model=charge_settings.nagl_model,\n",
    "    processors=1\n",
    ")"
   ]
  },
  {
   "cell_type": "markdown",
   "id": "6963be83",
   "metadata": {},
   "source": [
    "## 3. Creating the `LigandNetwork`\n",
    "\n",
    "The first step is to create a `LigandNetwork`. Here, we will be using the same process as in the relative hybrid topology `Protocol`, including the use of a mapper which is required by the scorer. **The mappings will not be used in the `Protocol`.** This is a temporary solution until we have developed a scorer specifically for the `SepTopProtocol`. Alternatively, the user can also manually define the edges they want to run when creating the transformations below, without creating a `LigandNetwork` first.\n",
    "\n",
    "The pipeline for creating a `LigandNetwork` can involve three components:\n",
    "\n",
    "1. **Atom Mapper**: Proposes potential atom mappings (descriptions of the alchemical change) for pairs of ligands. We will use the `LomapAtomMapper`. *The atom mapping will only be used to score the potential edges, the atom mapping is not used outside of the scorer*.\n",
    "2. **Scorer**: Given an atom mapping, provides an estimate of the quality of that mapping (higher scores are better). We will use `default_lomap_scorer`.\n",
    "3. **Network Planner**: Creates the actual `LigandNetwork`; different network planners provide different strategies. We will create a minimal spanning network with the `generate_minimal_spanning_network` method.\n",
    "\n",
    "Each of these components could be replaced by other options."
   ]
  },
  {
   "cell_type": "code",
   "execution_count": 4,
   "id": "5a3cf244",
   "metadata": {},
   "outputs": [],
   "source": [
    "mapper = openfe.LomapAtomMapper(max3d=1.0, element_change=False)\n",
    "scorer = openfe.lomap_scorers.default_lomap_score\n",
    "network_planner = openfe.ligand_network_planning.generate_minimal_spanning_network"
   ]
  },
  {
   "cell_type": "markdown",
   "id": "acc13581",
   "metadata": {},
   "source": [
    "The exact call signature depends on the network planner: a minimal spanning network requires a score, whereas that is optional for a radial network (but a radial network needs the central ligand to be provided)."
   ]
  },
  {
   "cell_type": "code",
   "execution_count": 5,
   "id": "f6e7bce5",
   "metadata": {},
   "outputs": [],
   "source": [
    "ligand_network = network_planner(\n",
    "    ligands=charged_ligands,\n",
    "    mappers=[mapper],\n",
    "    scorer=scorer\n",
    ")"
   ]
  },
  {
   "cell_type": "markdown",
   "id": "b7492637",
   "metadata": {},
   "source": [
    "Now we can look at the overall structure of the `LigandNetwork`:"
   ]
  },
  {
   "cell_type": "code",
   "execution_count": 6,
   "id": "e6ca6131",
   "metadata": {},
   "outputs": [
    {
     "data": {
      "image/png": "[encoded data removed]",
      "text/plain": [
       "<Figure size 800x800 with 1 Axes>"
      ]
     },
     "execution_count": 6,
     "metadata": {},
     "output_type": "execute_result"
    }
   ],
   "source": [
    "from openfe.utils.atommapping_network_plotting import plot_atommapping_network\n",
    "plot_atommapping_network(ligand_network)"
   ]
  },
  {
   "cell_type": "markdown",
   "id": "30b276b6",
   "metadata": {},
   "source": [
    "You can output the ligand network to the same `graphml` format as we saw in the CLI tutorial with the following:"
   ]
  },
  {
   "cell_type": "code",
   "execution_count": 7,
   "id": "2263838f",
   "metadata": {},
   "outputs": [],
   "source": [
    "with open(\"ligand_network.graphml\", mode='w') as f:\n",
    "    f.write(ligand_network.to_graphml())"
   ]
  },
  {
   "cell_type": "markdown",
   "id": "056924a3",
   "metadata": {},
   "source": [
    "## 4. Creating a single `Transformation`\n",
    "\n",
    "The `LigandNetwork` only knows about the small molecules and the alchemical connections between them. It doesn't know anything about environment (e.g., solvent) or about the `Protocol` that will be used during the simulation.\n",
    "\n",
    "That information in included in a `Transformation`. Each of these transformations corresponds to a thermodynamic cycle of one ligand transformation, including the complex and the solvent leg.\n",
    "\n",
    "In practice, this will be done for each edge of the `LigandNetwork` in a loop, but for illustrative purposes we'll dive into the details of creating a single transformation."
   ]
  },
  {
   "cell_type": "markdown",
   "id": "d0cb1329",
   "metadata": {},
   "source": [
    "### Creating `ChemicalSystem`s\n",
    "\n",
    "OpenFE describes complex molecular systems as being composed of `Component`s. For example, we have `SmallMoleculeComponent` for each small molecule in the `LigandNetwork`. We'll create a `SolventComponent` to describe the solvent, and a `ProteinComponent` for the protein.\n",
    "\n",
    "The `Component`s are joined in a `ChemicalSystem` to define the entire system.\n",
    "\n",
    "In state A of the `SepTopProtocol`, the ligand A is fully interacting in the complex and the ChemicalSystem contains the ligand A, the protein, and the solvent. Ligand B is fully decoupled in this state. In the other endstate, state B, ligand B is fully interacting in the complex while ligand A is decoupled. Therefore, the ChemicalSystem in state B only contains the ligand B, protein and the solvent.\n",
    "\n",
    "Note that for SepTop simulations, we are not separately defining the end states of the solvent leg, but the `Protocol` creates that based on the complex states."
   ]
  },
  {
   "cell_type": "code",
   "execution_count": 8,
   "id": "9d2fbc22",
   "metadata": {},
   "outputs": [],
   "source": [
    "# defaults are water with NaCl at 0.15 M\n",
    "solvent = openfe.SolventComponent()"
   ]
  },
  {
   "cell_type": "code",
   "execution_count": 9,
   "id": "3f1706ee",
   "metadata": {},
   "outputs": [],
   "source": [
    "protein = openfe.ProteinComponent.from_pdb_file(\"./tyk2_protein.pdb\")"
   ]
  },
  {
   "cell_type": "code",
   "execution_count": 10,
   "id": "710285ca",
   "metadata": {},
   "outputs": [],
   "source": [
    "systemA = openfe.ChemicalSystem({\n",
    "    'ligand': charged_ligands[0],\n",
    "    'solvent': solvent,\n",
    "    'protein': protein\n",
    "})\n",
    "systemB = openfe.ChemicalSystem({\n",
    "    'ligand': charged_ligands[1],\n",
    "    'solvent': solvent,\n",
    "    'protein': protein    \n",
    "})"
   ]
  },
  {
   "cell_type": "markdown",
   "id": "340d1a6e",
   "metadata": {},
   "source": [
    "### Creating a `Protocol`\n",
    "\n",
    "The actual simulation is performed by a `Protocol`. We'll use an OpenMM-based separated topologies relative free energy `Protocol`."
   ]
  },
  {
   "cell_type": "code",
   "execution_count": 11,
   "id": "3f394a0d",
   "metadata": {
    "scrolled": true
   },
   "outputs": [
    {
     "name": "stderr",
     "output_type": "stream",
     "text": [
      "/Users/hannahbaumann/miniforge3/envs/septop/lib/python3.12/site-packages/Bio/Application/__init__.py:39: BiopythonDeprecationWarning: The Bio.Application modules and modules relying on it have been deprecated.\n",
      "\n",
      "Due to the on going maintenance burden of keeping command line application\n",
      "wrappers up to date, we have decided to deprecate and eventually remove these\n",
      "modules.\n",
      "\n",
      "We instead now recommend building your command line and invoking it directly\n",
      "with the subprocess module.\n",
      "  warnings.warn(\n"
     ]
    }
   ],
   "source": [
    "from openfe.protocols.openmm_septop import SepTopProtocol"
   ]
  },
  {
   "cell_type": "markdown",
   "id": "56658a3a",
   "metadata": {},
   "source": [
    "There are various different parameters which can be set to determine how the SepTop simulation will take place.\n",
    "\n",
    "The easiest way to customize protocol settings is to start with the default settings, and modify them. Many settings carry units with them."
   ]
  },
  {
   "cell_type": "code",
   "execution_count": 12,
   "id": "c2b3de6d-1f11-432d-82f3-9deff16c78dc",
   "metadata": {},
   "outputs": [],
   "source": [
    "from openff.units import unit\n",
    "settings = SepTopProtocol.default_settings()\n",
    "\n",
    "# Run only a single repeat\n",
    "settings.protocol_repeats = 1\n",
    "# Change the min and max distance between protein and ligand atoms for Boresch restraints to avoid periodicity issues\n",
    "settings.complex_restraint_settings.host_min_distance = 0.5 * unit.nanometer\n",
    "settings.complex_restraint_settings.host_max_distance = 1.5 * unit.nanometer\n",
    "# Set the equilibration time to 2 ns (which is also the default)\n",
    "settings.solvent_simulation_settings.equilibration_length = 2000 * unit.picosecond\n",
    "settings.complex_simulation_settings.equilibration_length = 2000 * unit.picosecond"
   ]
  },
  {
   "cell_type": "code",
   "execution_count": 13,
   "id": "7adf42d6",
   "metadata": {},
   "outputs": [],
   "source": [
    "protocol = SepTopProtocol(settings)"
   ]
  },
  {
   "cell_type": "markdown",
   "id": "318ff872",
   "metadata": {},
   "source": [
    "### Creating the `Transformation`\n",
    "\n",
    "Once we have the mapping, the two `ChemicalSystem`s, and the `Protocol`, creating the `Transformation` is easy:"
   ]
  },
  {
   "cell_type": "code",
   "execution_count": 14,
   "id": "44ba94ca",
   "metadata": {},
   "outputs": [],
   "source": [
    "transformation = openfe.Transformation(\n",
    "    systemA,\n",
    "    systemB,\n",
    "    protocol,\n",
    "    mapping=None,\n",
    ")"
   ]
  },
  {
   "cell_type": "markdown",
   "id": "4283dfe4",
   "metadata": {},
   "source": [
    "To summarize, this `Transformation` contains:\n",
    "- chemical models of both sides of the alchemical transformation in `systemA` and `systemB`\n",
    "- a description of the exact computational algorithm to use to perform the estimate in `Protocol`\n",
    "\n",
    "**The `mapping` is set to `None` since no atoms are mapped in the SepTop protocol.**"
   ]
  },
  {
   "cell_type": "markdown",
   "id": "1e29d1c8",
   "metadata": {},
   "source": [
    "## 5. Creating the `AlchemicalNetwork`\n",
    "\n",
    "The `AlchemicalNetwork` contains all the information needed to run the entire campaign. It consists of a `Transformation` for each edge of the campaign. We'll loop over all the edges to make each transformation."
   ]
  },
  {
   "cell_type": "code",
   "execution_count": 15,
   "id": "66666a80",
   "metadata": {},
   "outputs": [],
   "source": [
    "transformations = []\n",
    "for edge in ligand_network.edges:\n",
    "    # use the solvent and protein created above\n",
    "    sysA_dict = {'ligand': edge.componentA,\n",
    "                 'protein': protein,\n",
    "                 'solvent': solvent}\n",
    "    sysB_dict = {'ligand': edge.componentB,\n",
    "                 'protein': protein,\n",
    "                 'solvent': solvent}\n",
    "    \n",
    "    # we don't have to name objects, but it can make things (like filenames) more convenient\n",
    "    sysA = openfe.ChemicalSystem(sysA_dict, name=f\"{edge.componentA.name}\")\n",
    "    sysB = openfe.ChemicalSystem(sysB_dict, name=f\"{edge.componentB.name}\")\n",
    "    \n",
    "    prefix = \"rbfe_\"  # prefix is only to exactly reproduce CLI\n",
    "    \n",
    "    transformation = openfe.Transformation(\n",
    "        stateA=sysA,\n",
    "        stateB=sysB,\n",
    "        mapping=None,\n",
    "        protocol=protocol,  # use protocol created above\n",
    "        name=f\"{prefix}{sysA.name}_{sysB.name}\"\n",
    "    )\n",
    "    transformations.append(transformation)\n",
    "\n",
    "network = openfe.AlchemicalNetwork(transformations)"
   ]
  },
  {
   "cell_type": "markdown",
   "id": "6c61fe36",
   "metadata": {},
   "source": [
    "## 6. Running the SepTop simulations using the OpenFE CLI\n",
    "\n",
    "We'll write out each transformation to disk, so that they can be run independently using the `openfe quickrun` command:"
   ]
  },
  {
   "cell_type": "code",
   "execution_count": 16,
   "id": "d6cebd9a",
   "metadata": {},
   "outputs": [
    {
     "name": "stderr",
     "output_type": "stream",
     "text": [
      "/Users/hannahbaumann/miniforge3/envs/septop/lib/python3.12/site-packages/gufe/transformations/transformation.py:124: DeprecationWarning: use of this method is deprecated; instead use `to_json`\n",
      "  warnings.warn(\n",
      "/Users/hannahbaumann/miniforge3/envs/septop/lib/python3.12/site-packages/gufe/transformations/transformation.py:124: DeprecationWarning: use of this method is deprecated; instead use `to_json`\n",
      "  warnings.warn(\n",
      "/Users/hannahbaumann/miniforge3/envs/septop/lib/python3.12/site-packages/gufe/transformations/transformation.py:124: DeprecationWarning: use of this method is deprecated; instead use `to_json`\n",
      "  warnings.warn(\n",
      "/Users/hannahbaumann/miniforge3/envs/septop/lib/python3.12/site-packages/gufe/transformations/transformation.py:124: DeprecationWarning: use of this method is deprecated; instead use `to_json`\n",
      "  warnings.warn(\n",
      "/Users/hannahbaumann/miniforge3/envs/septop/lib/python3.12/site-packages/gufe/transformations/transformation.py:124: DeprecationWarning: use of this method is deprecated; instead use `to_json`\n",
      "  warnings.warn(\n",
      "/Users/hannahbaumann/miniforge3/envs/septop/lib/python3.12/site-packages/gufe/transformations/transformation.py:124: DeprecationWarning: use of this method is deprecated; instead use `to_json`\n",
      "  warnings.warn(\n",
      "/Users/hannahbaumann/miniforge3/envs/septop/lib/python3.12/site-packages/gufe/transformations/transformation.py:124: DeprecationWarning: use of this method is deprecated; instead use `to_json`\n",
      "  warnings.warn(\n",
      "/Users/hannahbaumann/miniforge3/envs/septop/lib/python3.12/site-packages/gufe/transformations/transformation.py:124: DeprecationWarning: use of this method is deprecated; instead use `to_json`\n",
      "  warnings.warn(\n",
      "/Users/hannahbaumann/miniforge3/envs/septop/lib/python3.12/site-packages/gufe/transformations/transformation.py:124: DeprecationWarning: use of this method is deprecated; instead use `to_json`\n",
      "  warnings.warn(\n"
     ]
    }
   ],
   "source": [
    "import pathlib\n",
    "# first we create the directory\n",
    "transformation_dir = pathlib.Path(\"transformations\")\n",
    "transformation_dir.mkdir(exist_ok=True)\n",
    "\n",
    "# then we write out each transformation\n",
    "for transformation in network.edges:\n",
    "    transformation.dump(transformation_dir / f\"{transformation.name}.json\")"
   ]
  },
  {
   "cell_type": "code",
   "execution_count": 17,
   "id": "b96b57a9",
   "metadata": {},
   "outputs": [
    {
     "name": "stdout",
     "output_type": "stream",
     "text": [
      "rbfe_lig_ejm_31_lig_ejm_42.json rbfe_lig_ejm_42_lig_ejm_43.json\n",
      "rbfe_lig_ejm_31_lig_ejm_46.json rbfe_lig_ejm_46_lig_jmc_23.json\n",
      "rbfe_lig_ejm_31_lig_ejm_47.json rbfe_lig_ejm_46_lig_jmc_27.json\n",
      "rbfe_lig_ejm_31_lig_ejm_48.json rbfe_lig_ejm_46_lig_jmc_28.json\n",
      "rbfe_lig_ejm_31_lig_ejm_50.json\n"
     ]
    },
    {
     "name": "stderr",
     "output_type": "stream",
     "text": [
      "/Users/hannahbaumann/miniforge3/envs/septop/lib/python3.12/pty.py:95: DeprecationWarning: This process (pid=26930) is multi-threaded, use of forkpty() may lead to deadlocks in the child.\n",
      "  pid, fd = os.forkpty()\n"
     ]
    }
   ],
   "source": [
    "!ls transformations/"
   ]
  },
  {
   "cell_type": "markdown",
   "id": "c30e8ae2",
   "metadata": {},
   "source": [
    "Each of these individual `.json` files contains a `Transformation`, which contains all the information to run the calculation.  These could be farmed out as individual jobs on a HPC cluster."
   ]
  },
  {
   "cell_type": "markdown",
   "id": "32178871-7539-4042-9861-4d37b5ba497b",
   "metadata": {},
   "source": [
    "You can run the SepTop simulation from the CLI by using the `openfe quickrun` command. It takes a transformation JSON as input, and the flags -o to give the final output JSON file and -d for the directory where simulation results should be stored. For example,\n",
    "\n",
    "`openfe quickrun path/to/transformation.json -o results.json -d working-directory`\n",
    "\n",
    "where path/to/transformation.json is the path to one of the files created above."
   ]
  },
  {
   "cell_type": "markdown",
   "id": "a0968657-7b60-4b10-ab3b-5303cf08caa1",
   "metadata": {},
   "source": [
    "## 7. Analysis"
   ]
  },
  {
   "cell_type": "markdown",
   "id": "4c7cd90f-c0e5-4191-b959-70918f50297e",
   "metadata": {},
   "source": [
    "Finally now that we've run our simulations, let's go ahead and gather the free energies for both phases.\n",
    "If you ran the simulation using the CLI (i.e. by calling openfe quickrun ) you will end up with a JSON output file for each transformation. To get your simulation results you can load them back into Python in the following manner:"
   ]
  },
  {
   "cell_type": "code",
   "execution_count": 18,
   "id": "de7d7920-b171-42fe-9b82-5ff5694d26e5",
   "metadata": {},
   "outputs": [],
   "source": [
    "import gzip\n",
    "import json\n",
    "import gufe\n",
    "\n",
    "outfile = \"results/rbfe_lig_ejm_31_lig_ejm_42.json\"\n",
    "with open(outfile) as stream:\n",
    "    results = json.load(stream)\n",
    "    estimate = results['estimate']\n",
    "    uncertainty = results['uncertainty']"
   ]
  },
  {
   "cell_type": "code",
   "execution_count": 19,
   "id": "0e2e0727-2c4a-4b60-947c-44504aed2eee",
   "metadata": {},
   "outputs": [
    {
     "data": {
      "text/plain": [
       "{'magnitude': -1.0343272142162547,\n",
       " 'unit': 'kilocalorie_per_mole',\n",
       " ':is_custom:': True,\n",
       " 'pint_unit_registry': 'openff_units'}"
      ]
     },
     "execution_count": 19,
     "metadata": {},
     "output_type": "execute_result"
    }
   ],
   "source": [
    "estimate"
   ]
  }
 ],
 "metadata": {
  "kernelspec": {
   "display_name": "Python 3 (ipykernel)",
   "language": "python",
   "name": "python3"
  },
  "language_info": {
   "codemirror_mode": {
    "name": "ipython",
    "version": 3
   },
   "file_extension": ".py",
   "mimetype": "text/x-python",
   "name": "python",
   "nbconvert_exporter": "python",
   "pygments_lexer": "ipython3",
   "version": "3.13.8"
  }
 },
 "nbformat": 4,
 "nbformat_minor": 5
}
